{
 "cells": [
  {
   "cell_type": "code",
   "execution_count": 1,
   "metadata": {
    "ExecuteTime": {
     "end_time": "2020-07-09T18:30:29.905971Z",
     "start_time": "2020-07-09T18:30:28.165937Z"
    }
   },
   "outputs": [],
   "source": [
    "import numpy as np\n",
    "import pandas as pd\n",
    "import re"
   ]
  },
  {
   "cell_type": "code",
   "execution_count": 2,
   "metadata": {
    "ExecuteTime": {
     "end_time": "2020-07-09T18:30:34.229989Z",
     "start_time": "2020-07-09T18:30:29.905971Z"
    }
   },
   "outputs": [
    {
     "data": {
      "text/html": [
       "        <script type=\"text/javascript\">\n",
       "        window.PlotlyConfig = {MathJaxConfig: 'local'};\n",
       "        if (window.MathJax) {MathJax.Hub.Config({SVG: {font: \"STIX-Web\"}});}\n",
       "        if (typeof require !== 'undefined') {\n",
       "        require.undef(\"plotly\");\n",
       "        requirejs.config({\n",
       "            paths: {\n",
       "                'plotly': ['https://cdn.plot.ly/plotly-latest.min']\n",
       "            }\n",
       "        });\n",
       "        require(['plotly'], function(Plotly) {\n",
       "            window._Plotly = Plotly;\n",
       "        });\n",
       "        }\n",
       "        </script>\n",
       "        "
      ]
     },
     "metadata": {},
     "output_type": "display_data"
    }
   ],
   "source": [
    "import cufflinks as cf\n",
    "import plotly.offline\n",
    "cf.go_offline()\n",
    "cf.set_config_file(offline=False, world_readable=True)"
   ]
  },
  {
   "cell_type": "code",
   "execution_count": 3,
   "metadata": {
    "ExecuteTime": {
     "end_time": "2020-07-09T18:30:34.245996Z",
     "start_time": "2020-07-09T18:30:34.233980Z"
    }
   },
   "outputs": [],
   "source": [
    "keys = ['iter', 'mAp',\n",
    "        'R @ 20', 'R @ 50', 'R @ 100',\n",
    "        'ngR @ 20', 'ngR @ 50', 'ngR @ 100',\n",
    "        'zR @ 20', 'zR @ 50', 'zR @ 100',\n",
    "        'mR @ 20', 'mR @ 50', 'mR @ 100',\n",
    "        'A @ 20', 'A @ 50', 'A @ 100',\n",
    "       ]\n",
    "patern_str_measure = 'mAp=([\\d\\.]+)(?:.|\\n)+?R @ 20: ([\\d\\.]+);   R @ 50: ([\\d\\.]+);   R @ 100: ([\\d\\.]+)(?:.|\\n)+?.+?@ 20: ([\\d\\.]+); .+?@ 50: ([\\d\\.]+); .+?@ 100: ([\\d\\.]+)(?:.|\\n)+?.+?@ 20: ([\\d\\.]+); .+?@ 50: ([\\d\\.]+); .+?@ 100: ([\\d\\.]+)(?:.|\\n)+?.+?@ 20: ([\\d\\.]+); .+?@ 50: ([\\d\\.]+); .+?@ 100: ([\\d\\.]+)(?:.|\\n)+?.+?@ 20: ([\\d\\.]+); .+?@ 50: ([\\d\\.]+); .+?@ 100: ([\\d\\.]+)'\n",
    "patern_str_validation = 'iter: (\\d+)(?:(?!iter).)*'+patern_str_measure\n",
    "patern_str_test =   'iteration (\\d+)(?:(?!iter).)*'+patern_str_measure\n",
    "\n",
    "# patern_compiled_patern_str_validation = re.compile(patern_str_validation, re.MULTILINE | re.DOTALL)"
   ]
  },
  {
   "cell_type": "code",
   "execution_count": 4,
   "metadata": {
    "ExecuteTime": {
     "end_time": "2020-07-09T18:30:34.301946Z",
     "start_time": "2020-07-09T18:30:34.249946Z"
    }
   },
   "outputs": [
    {
     "data": {
      "text/plain": [
       "{'': './checkpoint/motif-precls-exmp/log.txt',\n",
       " 'dist1-TDE': './checkpoint/precls-CausalAnalysisPredictor-motifs-dist1-TDE/log.txt',\n",
       " 'dist2-TDE': './checkpoint/precls-CausalAnalysisPredictor-motifs-dist2-TDE/log.txt',\n",
       " 'gate-TDE': './checkpoint/precls-CausalAnalysisPredictor-motifs-gate-TDE/log.txt',\n",
       " 'mfb1-TDE': './checkpoint/precls-CausalAnalysisPredictor-motifs-mfb1-TDE/log.txt',\n",
       " 'mfb2-TDE': './checkpoint/precls-CausalAnalysisPredictor-motifs-mfb2-TDE/log.txt',\n",
       " 'mfb3-TDE': './checkpoint/precls-CausalAnalysisPredictor-motifs-mfb3-TDE/log.txt',\n",
       " 'mfb4-TDE': './checkpoint/precls-CausalAnalysisPredictor-motifs-mfb4-TDE/log.txt',\n",
       " 'mfb5-TDE': './checkpoint/precls-CausalAnalysisPredictor-motifs-mfb5-TDE/log.txt',\n",
       " 'mfb7-TDE': './checkpoint/precls-CausalAnalysisPredictor-motifs-mfb7-TDE/log.txt',\n",
       " 'sum-TDE': './checkpoint/precls-CausalAnalysisPredictor-motifs-sum-TDE/log.txt'}"
      ]
     },
     "execution_count": 4,
     "metadata": {},
     "output_type": "execute_result"
    }
   ],
   "source": [
    "\n",
    "import os\n",
    "import os.path\n",
    "\n",
    "log_files = {}\n",
    "for dirpath, dirnames, filenames in os.walk(\"./checkpoint/\"):\n",
    "    for filename in [f for f in filenames if f==\"log.txt\"]:\n",
    "        #print(os.path.join(dirpath, filename))\n",
    "        #print(dirpath, filename)\n",
    "        log_files[dirpath[51:]] =  dirpath+'/'+filename\n",
    "log_files"
   ]
  },
  {
   "cell_type": "code",
   "execution_count": 5,
   "metadata": {
    "ExecuteTime": {
     "end_time": "2020-07-09T18:30:34.337939Z",
     "start_time": "2020-07-09T18:30:34.309946Z"
    }
   },
   "outputs": [],
   "source": [
    "def matches_to_array(matches, _default_dict = {\"label\": None, \"eval_set\":\"validation\"}):\n",
    "    arr = []\n",
    "    for match in matches:\n",
    "        _dict = _default_dict\n",
    "        for key,val in zip(keys,match):\n",
    "            _dict[key] = val\n",
    "        arr.append(_dict. copy())\n",
    "        #print(_dict)\n",
    "    return arr\n",
    "\n",
    "\n",
    "def log_to_array(Tx: str, label=None):\n",
    "    matches = re.findall(patern_str_validation, Tx,  re.MULTILINE | re.DOTALL)\n",
    "    arr = matches_to_array(matches, _default_dict = {\"label\": label, \"eval_set\":\"validation\"})\n",
    "    \n",
    "    matches = re.findall(patern_str_test, Tx,  re.MULTILINE | re.DOTALL)\n",
    "    arr2 = matches_to_array(matches, _default_dict = {\"label\": label, \"eval_set\":\"test\"})\n",
    "\n",
    "    return arr + arr2"
   ]
  },
  {
   "cell_type": "code",
   "execution_count": 6,
   "metadata": {
    "ExecuteTime": {
     "end_time": "2020-07-09T18:30:35.073945Z",
     "start_time": "2020-07-09T18:30:34.345947Z"
    }
   },
   "outputs": [
    {
     "data": {
      "text/html": [
       "<div>\n",
       "<style scoped>\n",
       "    .dataframe tbody tr th:only-of-type {\n",
       "        vertical-align: middle;\n",
       "    }\n",
       "\n",
       "    .dataframe tbody tr th {\n",
       "        vertical-align: top;\n",
       "    }\n",
       "\n",
       "    .dataframe thead th {\n",
       "        text-align: right;\n",
       "    }\n",
       "</style>\n",
       "<table border=\"1\" class=\"dataframe\">\n",
       "  <thead>\n",
       "    <tr style=\"text-align: right;\">\n",
       "      <th></th>\n",
       "      <th>label</th>\n",
       "      <th>eval_set</th>\n",
       "      <th>iter</th>\n",
       "      <th>mAp</th>\n",
       "      <th>R @ 20</th>\n",
       "      <th>R @ 50</th>\n",
       "      <th>R @ 100</th>\n",
       "      <th>ngR @ 20</th>\n",
       "      <th>ngR @ 50</th>\n",
       "      <th>ngR @ 100</th>\n",
       "      <th>zR @ 20</th>\n",
       "      <th>zR @ 50</th>\n",
       "      <th>zR @ 100</th>\n",
       "      <th>mR @ 20</th>\n",
       "      <th>mR @ 50</th>\n",
       "      <th>mR @ 100</th>\n",
       "      <th>A @ 20</th>\n",
       "      <th>A @ 50</th>\n",
       "      <th>A @ 100</th>\n",
       "    </tr>\n",
       "  </thead>\n",
       "  <tbody>\n",
       "    <tr>\n",
       "      <th>0</th>\n",
       "      <td></td>\n",
       "      <td>validation</td>\n",
       "      <td>2000</td>\n",
       "      <td>0.9999</td>\n",
       "      <td>0.6015</td>\n",
       "      <td>0.6554</td>\n",
       "      <td>0.6722</td>\n",
       "      <td>0.6856</td>\n",
       "      <td>0.8146</td>\n",
       "      <td>0.8774</td>\n",
       "      <td>0.0133</td>\n",
       "      <td>0.0178</td>\n",
       "      <td>0.0356</td>\n",
       "      <td>0.1162</td>\n",
       "      <td>0.1411</td>\n",
       "      <td>0.1516</td>\n",
       "      <td>0.6970</td>\n",
       "      <td>0.7018</td>\n",
       "      <td>0.7018</td>\n",
       "    </tr>\n",
       "    <tr>\n",
       "      <th>1</th>\n",
       "      <td></td>\n",
       "      <td>validation</td>\n",
       "      <td>4000</td>\n",
       "      <td>0.9999</td>\n",
       "      <td>0.6032</td>\n",
       "      <td>0.6590</td>\n",
       "      <td>0.6737</td>\n",
       "      <td>0.6913</td>\n",
       "      <td>0.8168</td>\n",
       "      <td>0.8828</td>\n",
       "      <td>0.0133</td>\n",
       "      <td>0.0289</td>\n",
       "      <td>0.0467</td>\n",
       "      <td>0.1218</td>\n",
       "      <td>0.1520</td>\n",
       "      <td>0.1610</td>\n",
       "      <td>0.6985</td>\n",
       "      <td>0.7033</td>\n",
       "      <td>0.7033</td>\n",
       "    </tr>\n",
       "    <tr>\n",
       "      <th>2</th>\n",
       "      <td></td>\n",
       "      <td>validation</td>\n",
       "      <td>6000</td>\n",
       "      <td>0.9999</td>\n",
       "      <td>0.6023</td>\n",
       "      <td>0.6577</td>\n",
       "      <td>0.6736</td>\n",
       "      <td>0.6929</td>\n",
       "      <td>0.8186</td>\n",
       "      <td>0.8849</td>\n",
       "      <td>0.0089</td>\n",
       "      <td>0.0222</td>\n",
       "      <td>0.0267</td>\n",
       "      <td>0.1286</td>\n",
       "      <td>0.1578</td>\n",
       "      <td>0.1680</td>\n",
       "      <td>0.7001</td>\n",
       "      <td>0.7047</td>\n",
       "      <td>0.7047</td>\n",
       "    </tr>\n",
       "    <tr>\n",
       "      <th>3</th>\n",
       "      <td></td>\n",
       "      <td>validation</td>\n",
       "      <td>8000</td>\n",
       "      <td>0.9999</td>\n",
       "      <td>0.6083</td>\n",
       "      <td>0.6601</td>\n",
       "      <td>0.6759</td>\n",
       "      <td>0.6957</td>\n",
       "      <td>0.8224</td>\n",
       "      <td>0.8873</td>\n",
       "      <td>0.0133</td>\n",
       "      <td>0.0267</td>\n",
       "      <td>0.0400</td>\n",
       "      <td>0.1140</td>\n",
       "      <td>0.1395</td>\n",
       "      <td>0.1489</td>\n",
       "      <td>0.7014</td>\n",
       "      <td>0.7062</td>\n",
       "      <td>0.7062</td>\n",
       "    </tr>\n",
       "    <tr>\n",
       "      <th>4</th>\n",
       "      <td></td>\n",
       "      <td>validation</td>\n",
       "      <td>9600</td>\n",
       "      <td>0.9999</td>\n",
       "      <td>0.6082</td>\n",
       "      <td>0.6603</td>\n",
       "      <td>0.6760</td>\n",
       "      <td>0.6954</td>\n",
       "      <td>0.8225</td>\n",
       "      <td>0.8873</td>\n",
       "      <td>0.0133</td>\n",
       "      <td>0.0267</td>\n",
       "      <td>0.0400</td>\n",
       "      <td>0.1140</td>\n",
       "      <td>0.1396</td>\n",
       "      <td>0.1486</td>\n",
       "      <td>0.7016</td>\n",
       "      <td>0.7063</td>\n",
       "      <td>0.7063</td>\n",
       "    </tr>\n",
       "    <tr>\n",
       "      <th>...</th>\n",
       "      <td>...</td>\n",
       "      <td>...</td>\n",
       "      <td>...</td>\n",
       "      <td>...</td>\n",
       "      <td>...</td>\n",
       "      <td>...</td>\n",
       "      <td>...</td>\n",
       "      <td>...</td>\n",
       "      <td>...</td>\n",
       "      <td>...</td>\n",
       "      <td>...</td>\n",
       "      <td>...</td>\n",
       "      <td>...</td>\n",
       "      <td>...</td>\n",
       "      <td>...</td>\n",
       "      <td>...</td>\n",
       "      <td>...</td>\n",
       "      <td>...</td>\n",
       "      <td>...</td>\n",
       "    </tr>\n",
       "    <tr>\n",
       "      <th>72</th>\n",
       "      <td>sum-TDE</td>\n",
       "      <td>validation</td>\n",
       "      <td>16000</td>\n",
       "      <td>0.9999</td>\n",
       "      <td>0.2278</td>\n",
       "      <td>0.3229</td>\n",
       "      <td>0.3872</td>\n",
       "      <td>0.2807</td>\n",
       "      <td>0.4605</td>\n",
       "      <td>0.6130</td>\n",
       "      <td>0.0941</td>\n",
       "      <td>0.1593</td>\n",
       "      <td>0.1807</td>\n",
       "      <td>0.1924</td>\n",
       "      <td>0.2588</td>\n",
       "      <td>0.2962</td>\n",
       "      <td>0.4654</td>\n",
       "      <td>0.4698</td>\n",
       "      <td>0.4698</td>\n",
       "    </tr>\n",
       "    <tr>\n",
       "      <th>73</th>\n",
       "      <td>sum-TDE</td>\n",
       "      <td>validation</td>\n",
       "      <td>18000</td>\n",
       "      <td>0.9999</td>\n",
       "      <td>0.2346</td>\n",
       "      <td>0.3335</td>\n",
       "      <td>0.3897</td>\n",
       "      <td>0.2832</td>\n",
       "      <td>0.4650</td>\n",
       "      <td>0.6124</td>\n",
       "      <td>0.1030</td>\n",
       "      <td>0.1585</td>\n",
       "      <td>0.1896</td>\n",
       "      <td>0.2040</td>\n",
       "      <td>0.2676</td>\n",
       "      <td>0.3052</td>\n",
       "      <td>0.4567</td>\n",
       "      <td>0.4613</td>\n",
       "      <td>0.4613</td>\n",
       "    </tr>\n",
       "    <tr>\n",
       "      <th>74</th>\n",
       "      <td>sum-TDE</td>\n",
       "      <td>validation</td>\n",
       "      <td>20000</td>\n",
       "      <td>0.9999</td>\n",
       "      <td>0.2133</td>\n",
       "      <td>0.3144</td>\n",
       "      <td>0.3778</td>\n",
       "      <td>0.2614</td>\n",
       "      <td>0.4384</td>\n",
       "      <td>0.5939</td>\n",
       "      <td>0.1178</td>\n",
       "      <td>0.1756</td>\n",
       "      <td>0.1978</td>\n",
       "      <td>0.1913</td>\n",
       "      <td>0.2603</td>\n",
       "      <td>0.3006</td>\n",
       "      <td>0.4512</td>\n",
       "      <td>0.4549</td>\n",
       "      <td>0.4549</td>\n",
       "    </tr>\n",
       "    <tr>\n",
       "      <th>75</th>\n",
       "      <td>sum-TDE</td>\n",
       "      <td>validation</td>\n",
       "      <td>22000</td>\n",
       "      <td>0.9999</td>\n",
       "      <td>0.2198</td>\n",
       "      <td>0.3194</td>\n",
       "      <td>0.3815</td>\n",
       "      <td>0.2645</td>\n",
       "      <td>0.4354</td>\n",
       "      <td>0.5853</td>\n",
       "      <td>0.1222</td>\n",
       "      <td>0.1637</td>\n",
       "      <td>0.1874</td>\n",
       "      <td>0.1922</td>\n",
       "      <td>0.2617</td>\n",
       "      <td>0.3048</td>\n",
       "      <td>0.4544</td>\n",
       "      <td>0.4585</td>\n",
       "      <td>0.4585</td>\n",
       "    </tr>\n",
       "    <tr>\n",
       "      <th>76</th>\n",
       "      <td>sum-TDE</td>\n",
       "      <td>test</td>\n",
       "      <td>22000</td>\n",
       "      <td>0.9995</td>\n",
       "      <td>0.2503</td>\n",
       "      <td>0.3583</td>\n",
       "      <td>0.4147</td>\n",
       "      <td>0.2947</td>\n",
       "      <td>0.4774</td>\n",
       "      <td>0.6148</td>\n",
       "      <td>0.0765</td>\n",
       "      <td>0.1217</td>\n",
       "      <td>0.1507</td>\n",
       "      <td>0.1735</td>\n",
       "      <td>0.2466</td>\n",
       "      <td>0.2881</td>\n",
       "      <td>0.4617</td>\n",
       "      <td>0.4634</td>\n",
       "      <td>0.4634</td>\n",
       "    </tr>\n",
       "  </tbody>\n",
       "</table>\n",
       "<p>77 rows × 19 columns</p>\n",
       "</div>"
      ],
      "text/plain": [
       "      label    eval_set   iter     mAp  R @ 20  R @ 50 R @ 100 ngR @ 20  \\\n",
       "0            validation   2000  0.9999  0.6015  0.6554  0.6722   0.6856   \n",
       "1            validation   4000  0.9999  0.6032  0.6590  0.6737   0.6913   \n",
       "2            validation   6000  0.9999  0.6023  0.6577  0.6736   0.6929   \n",
       "3            validation   8000  0.9999  0.6083  0.6601  0.6759   0.6957   \n",
       "4            validation   9600  0.9999  0.6082  0.6603  0.6760   0.6954   \n",
       "..      ...         ...    ...     ...     ...     ...     ...      ...   \n",
       "72  sum-TDE  validation  16000  0.9999  0.2278  0.3229  0.3872   0.2807   \n",
       "73  sum-TDE  validation  18000  0.9999  0.2346  0.3335  0.3897   0.2832   \n",
       "74  sum-TDE  validation  20000  0.9999  0.2133  0.3144  0.3778   0.2614   \n",
       "75  sum-TDE  validation  22000  0.9999  0.2198  0.3194  0.3815   0.2645   \n",
       "76  sum-TDE        test  22000  0.9995  0.2503  0.3583  0.4147   0.2947   \n",
       "\n",
       "   ngR @ 50 ngR @ 100 zR @ 20 zR @ 50 zR @ 100 mR @ 20 mR @ 50 mR @ 100  \\\n",
       "0    0.8146    0.8774  0.0133  0.0178   0.0356  0.1162  0.1411   0.1516   \n",
       "1    0.8168    0.8828  0.0133  0.0289   0.0467  0.1218  0.1520   0.1610   \n",
       "2    0.8186    0.8849  0.0089  0.0222   0.0267  0.1286  0.1578   0.1680   \n",
       "3    0.8224    0.8873  0.0133  0.0267   0.0400  0.1140  0.1395   0.1489   \n",
       "4    0.8225    0.8873  0.0133  0.0267   0.0400  0.1140  0.1396   0.1486   \n",
       "..      ...       ...     ...     ...      ...     ...     ...      ...   \n",
       "72   0.4605    0.6130  0.0941  0.1593   0.1807  0.1924  0.2588   0.2962   \n",
       "73   0.4650    0.6124  0.1030  0.1585   0.1896  0.2040  0.2676   0.3052   \n",
       "74   0.4384    0.5939  0.1178  0.1756   0.1978  0.1913  0.2603   0.3006   \n",
       "75   0.4354    0.5853  0.1222  0.1637   0.1874  0.1922  0.2617   0.3048   \n",
       "76   0.4774    0.6148  0.0765  0.1217   0.1507  0.1735  0.2466   0.2881   \n",
       "\n",
       "    A @ 20  A @ 50 A @ 100  \n",
       "0   0.6970  0.7018  0.7018  \n",
       "1   0.6985  0.7033  0.7033  \n",
       "2   0.7001  0.7047  0.7047  \n",
       "3   0.7014  0.7062  0.7062  \n",
       "4   0.7016  0.7063  0.7063  \n",
       "..     ...     ...     ...  \n",
       "72  0.4654  0.4698  0.4698  \n",
       "73  0.4567  0.4613  0.4613  \n",
       "74  0.4512  0.4549  0.4549  \n",
       "75  0.4544  0.4585  0.4585  \n",
       "76  0.4617  0.4634  0.4634  \n",
       "\n",
       "[77 rows x 19 columns]"
      ]
     },
     "execution_count": 6,
     "metadata": {},
     "output_type": "execute_result"
    }
   ],
   "source": [
    "arr = []\n",
    "for label,log_file in log_files.items():\n",
    "    #log_files = r'C:\\Inn\\Github\\SGG\\checkpoint\\precls-CausalAnalysisPredictor-motifs-dist2-TDE\\log.txt'\n",
    "    f = open(log_file,mode='r') \n",
    "    Tx = f.read()\n",
    "    f.close()\n",
    "\n",
    "    arr += log_to_array(Tx, label=label)\n",
    "\n",
    "df = pd.DataFrame(data=arr)#, columns=keys\n",
    "df"
   ]
  },
  {
   "cell_type": "code",
   "execution_count": 7,
   "metadata": {
    "ExecuteTime": {
     "end_time": "2020-07-09T18:30:35.089947Z",
     "start_time": "2020-07-09T18:30:35.077946Z"
    }
   },
   "outputs": [
    {
     "data": {
      "text/plain": [
       "Index(['label', 'eval_set', 'iter', 'mAp', 'R @ 20', 'R @ 50', 'R @ 100',\n",
       "       'ngR @ 20', 'ngR @ 50', 'ngR @ 100', 'zR @ 20', 'zR @ 50', 'zR @ 100',\n",
       "       'mR @ 20', 'mR @ 50', 'mR @ 100', 'A @ 20', 'A @ 50', 'A @ 100'],\n",
       "      dtype='object')"
      ]
     },
     "execution_count": 7,
     "metadata": {},
     "output_type": "execute_result"
    }
   ],
   "source": [
    "df.columns"
   ]
  },
  {
   "cell_type": "code",
   "execution_count": 8,
   "metadata": {
    "ExecuteTime": {
     "end_time": "2020-07-09T18:30:35.193945Z",
     "start_time": "2020-07-09T18:30:35.097948Z"
    }
   },
   "outputs": [
    {
     "data": {
      "text/html": [
       "<div>\n",
       "<style scoped>\n",
       "    .dataframe tbody tr th:only-of-type {\n",
       "        vertical-align: middle;\n",
       "    }\n",
       "\n",
       "    .dataframe tbody tr th {\n",
       "        vertical-align: top;\n",
       "    }\n",
       "\n",
       "    .dataframe thead th {\n",
       "        text-align: right;\n",
       "    }\n",
       "</style>\n",
       "<table border=\"1\" class=\"dataframe\">\n",
       "  <thead>\n",
       "    <tr style=\"text-align: right;\">\n",
       "      <th></th>\n",
       "      <th>label</th>\n",
       "      <th>eval_set</th>\n",
       "      <th>iter</th>\n",
       "      <th>mAp</th>\n",
       "      <th>R @ 20</th>\n",
       "      <th>R @ 50</th>\n",
       "      <th>R @ 100</th>\n",
       "      <th>ngR @ 20</th>\n",
       "      <th>ngR @ 50</th>\n",
       "      <th>ngR @ 100</th>\n",
       "      <th>zR @ 20</th>\n",
       "      <th>zR @ 50</th>\n",
       "      <th>zR @ 100</th>\n",
       "      <th>mR @ 20</th>\n",
       "      <th>mR @ 50</th>\n",
       "      <th>mR @ 100</th>\n",
       "      <th>A @ 20</th>\n",
       "      <th>A @ 50</th>\n",
       "      <th>A @ 100</th>\n",
       "    </tr>\n",
       "  </thead>\n",
       "  <tbody>\n",
       "    <tr>\n",
       "      <th>42</th>\n",
       "      <td>mfb7-TDE</td>\n",
       "      <td>validation</td>\n",
       "      <td>2000</td>\n",
       "      <td>0.9999</td>\n",
       "      <td>0.2988</td>\n",
       "      <td>0.3581</td>\n",
       "      <td>0.3775</td>\n",
       "      <td>0.3911</td>\n",
       "      <td>0.5480</td>\n",
       "      <td>0.6469</td>\n",
       "      <td>0.0911</td>\n",
       "      <td>0.1474</td>\n",
       "      <td>0.1785</td>\n",
       "      <td>0.1478</td>\n",
       "      <td>0.1747</td>\n",
       "      <td>0.1821</td>\n",
       "      <td>0.3755</td>\n",
       "      <td>0.3778</td>\n",
       "      <td>0.3778</td>\n",
       "    </tr>\n",
       "    <tr>\n",
       "      <th>43</th>\n",
       "      <td>mfb7-TDE</td>\n",
       "      <td>validation</td>\n",
       "      <td>4000</td>\n",
       "      <td>0.9999</td>\n",
       "      <td>0.2786</td>\n",
       "      <td>0.3434</td>\n",
       "      <td>0.3668</td>\n",
       "      <td>0.3650</td>\n",
       "      <td>0.5460</td>\n",
       "      <td>0.6643</td>\n",
       "      <td>0.0978</td>\n",
       "      <td>0.1785</td>\n",
       "      <td>0.2119</td>\n",
       "      <td>0.1609</td>\n",
       "      <td>0.1889</td>\n",
       "      <td>0.1979</td>\n",
       "      <td>0.3645</td>\n",
       "      <td>0.3672</td>\n",
       "      <td>0.3672</td>\n",
       "    </tr>\n",
       "    <tr>\n",
       "      <th>44</th>\n",
       "      <td>mfb7-TDE</td>\n",
       "      <td>validation</td>\n",
       "      <td>6000</td>\n",
       "      <td>0.9999</td>\n",
       "      <td>0.2802</td>\n",
       "      <td>0.3460</td>\n",
       "      <td>0.3675</td>\n",
       "      <td>0.3710</td>\n",
       "      <td>0.5495</td>\n",
       "      <td>0.6648</td>\n",
       "      <td>0.1104</td>\n",
       "      <td>0.1637</td>\n",
       "      <td>0.1963</td>\n",
       "      <td>0.1467</td>\n",
       "      <td>0.1703</td>\n",
       "      <td>0.1819</td>\n",
       "      <td>0.3618</td>\n",
       "      <td>0.3653</td>\n",
       "      <td>0.3653</td>\n",
       "    </tr>\n",
       "    <tr>\n",
       "      <th>45</th>\n",
       "      <td>mfb7-TDE</td>\n",
       "      <td>validation</td>\n",
       "      <td>8000</td>\n",
       "      <td>0.9999</td>\n",
       "      <td>0.3029</td>\n",
       "      <td>0.3680</td>\n",
       "      <td>0.3892</td>\n",
       "      <td>0.3976</td>\n",
       "      <td>0.5803</td>\n",
       "      <td>0.6954</td>\n",
       "      <td>0.1126</td>\n",
       "      <td>0.1652</td>\n",
       "      <td>0.1830</td>\n",
       "      <td>0.1650</td>\n",
       "      <td>0.1916</td>\n",
       "      <td>0.2038</td>\n",
       "      <td>0.3915</td>\n",
       "      <td>0.3958</td>\n",
       "      <td>0.3958</td>\n",
       "    </tr>\n",
       "    <tr>\n",
       "      <th>46</th>\n",
       "      <td>mfb7-TDE</td>\n",
       "      <td>validation</td>\n",
       "      <td>10000</td>\n",
       "      <td>0.9999</td>\n",
       "      <td>0.3201</td>\n",
       "      <td>0.4006</td>\n",
       "      <td>0.4213</td>\n",
       "      <td>0.4415</td>\n",
       "      <td>0.6873</td>\n",
       "      <td>0.7998</td>\n",
       "      <td>0.1119</td>\n",
       "      <td>0.1600</td>\n",
       "      <td>0.1793</td>\n",
       "      <td>0.1615</td>\n",
       "      <td>0.1887</td>\n",
       "      <td>0.2002</td>\n",
       "      <td>0.4391</td>\n",
       "      <td>0.4437</td>\n",
       "      <td>0.4437</td>\n",
       "    </tr>\n",
       "    <tr>\n",
       "      <th>47</th>\n",
       "      <td>mfb7-TDE</td>\n",
       "      <td>validation</td>\n",
       "      <td>12000</td>\n",
       "      <td>0.9999</td>\n",
       "      <td>0.3424</td>\n",
       "      <td>0.4269</td>\n",
       "      <td>0.4441</td>\n",
       "      <td>0.4851</td>\n",
       "      <td>0.7329</td>\n",
       "      <td>0.8111</td>\n",
       "      <td>0.1089</td>\n",
       "      <td>0.1652</td>\n",
       "      <td>0.1919</td>\n",
       "      <td>0.1553</td>\n",
       "      <td>0.1840</td>\n",
       "      <td>0.1934</td>\n",
       "      <td>0.4747</td>\n",
       "      <td>0.4796</td>\n",
       "      <td>0.4796</td>\n",
       "    </tr>\n",
       "    <tr>\n",
       "      <th>48</th>\n",
       "      <td>mfb7-TDE</td>\n",
       "      <td>validation</td>\n",
       "      <td>14000</td>\n",
       "      <td>0.9999</td>\n",
       "      <td>0.3843</td>\n",
       "      <td>0.4690</td>\n",
       "      <td>0.4839</td>\n",
       "      <td>0.5332</td>\n",
       "      <td>0.7493</td>\n",
       "      <td>0.8043</td>\n",
       "      <td>0.1104</td>\n",
       "      <td>0.1704</td>\n",
       "      <td>0.1985</td>\n",
       "      <td>0.1522</td>\n",
       "      <td>0.1781</td>\n",
       "      <td>0.1896</td>\n",
       "      <td>0.5271</td>\n",
       "      <td>0.5320</td>\n",
       "      <td>0.5320</td>\n",
       "    </tr>\n",
       "    <tr>\n",
       "      <th>49</th>\n",
       "      <td>mfb7-TDE</td>\n",
       "      <td>validation</td>\n",
       "      <td>16000</td>\n",
       "      <td>0.9999</td>\n",
       "      <td>0.3767</td>\n",
       "      <td>0.4675</td>\n",
       "      <td>0.4853</td>\n",
       "      <td>0.5044</td>\n",
       "      <td>0.7160</td>\n",
       "      <td>0.7778</td>\n",
       "      <td>0.1222</td>\n",
       "      <td>0.1911</td>\n",
       "      <td>0.2185</td>\n",
       "      <td>0.1571</td>\n",
       "      <td>0.1868</td>\n",
       "      <td>0.1999</td>\n",
       "      <td>0.5241</td>\n",
       "      <td>0.5288</td>\n",
       "      <td>0.5288</td>\n",
       "    </tr>\n",
       "    <tr>\n",
       "      <th>50</th>\n",
       "      <td>mfb7-TDE</td>\n",
       "      <td>validation</td>\n",
       "      <td>18000</td>\n",
       "      <td>0.9999</td>\n",
       "      <td>0.0077</td>\n",
       "      <td>0.0135</td>\n",
       "      <td>0.0182</td>\n",
       "      <td>0.0065</td>\n",
       "      <td>0.0284</td>\n",
       "      <td>0.0642</td>\n",
       "      <td>0.0311</td>\n",
       "      <td>0.0422</td>\n",
       "      <td>0.0556</td>\n",
       "      <td>0.0059</td>\n",
       "      <td>0.0100</td>\n",
       "      <td>0.0138</td>\n",
       "      <td>0.0242</td>\n",
       "      <td>0.0242</td>\n",
       "      <td>0.0242</td>\n",
       "    </tr>\n",
       "    <tr>\n",
       "      <th>51</th>\n",
       "      <td>mfb7-TDE</td>\n",
       "      <td>validation</td>\n",
       "      <td>20000</td>\n",
       "      <td>0.9999</td>\n",
       "      <td>0.0753</td>\n",
       "      <td>0.1061</td>\n",
       "      <td>0.1214</td>\n",
       "      <td>0.0830</td>\n",
       "      <td>0.1107</td>\n",
       "      <td>0.1549</td>\n",
       "      <td>0.0778</td>\n",
       "      <td>0.1044</td>\n",
       "      <td>0.1356</td>\n",
       "      <td>0.0503</td>\n",
       "      <td>0.0862</td>\n",
       "      <td>0.1070</td>\n",
       "      <td>0.1231</td>\n",
       "      <td>0.1238</td>\n",
       "      <td>0.1238</td>\n",
       "    </tr>\n",
       "    <tr>\n",
       "      <th>52</th>\n",
       "      <td>mfb7-TDE</td>\n",
       "      <td>validation</td>\n",
       "      <td>22000</td>\n",
       "      <td>0.9999</td>\n",
       "      <td>0.2193</td>\n",
       "      <td>0.2701</td>\n",
       "      <td>0.2922</td>\n",
       "      <td>0.3001</td>\n",
       "      <td>0.4199</td>\n",
       "      <td>0.5020</td>\n",
       "      <td>0.1007</td>\n",
       "      <td>0.1474</td>\n",
       "      <td>0.1741</td>\n",
       "      <td>0.0913</td>\n",
       "      <td>0.1167</td>\n",
       "      <td>0.1290</td>\n",
       "      <td>0.3002</td>\n",
       "      <td>0.3027</td>\n",
       "      <td>0.3027</td>\n",
       "    </tr>\n",
       "    <tr>\n",
       "      <th>53</th>\n",
       "      <td>mfb7-TDE</td>\n",
       "      <td>validation</td>\n",
       "      <td>24000</td>\n",
       "      <td>0.9999</td>\n",
       "      <td>0.2401</td>\n",
       "      <td>0.2977</td>\n",
       "      <td>0.3165</td>\n",
       "      <td>0.3465</td>\n",
       "      <td>0.5107</td>\n",
       "      <td>0.6183</td>\n",
       "      <td>0.1119</td>\n",
       "      <td>0.1585</td>\n",
       "      <td>0.1837</td>\n",
       "      <td>0.1201</td>\n",
       "      <td>0.1470</td>\n",
       "      <td>0.1600</td>\n",
       "      <td>0.3088</td>\n",
       "      <td>0.3119</td>\n",
       "      <td>0.3119</td>\n",
       "    </tr>\n",
       "    <tr>\n",
       "      <th>54</th>\n",
       "      <td>mfb7-TDE</td>\n",
       "      <td>validation</td>\n",
       "      <td>26000</td>\n",
       "      <td>0.9999</td>\n",
       "      <td>0.2742</td>\n",
       "      <td>0.3391</td>\n",
       "      <td>0.3611</td>\n",
       "      <td>0.3891</td>\n",
       "      <td>0.5852</td>\n",
       "      <td>0.6958</td>\n",
       "      <td>0.0985</td>\n",
       "      <td>0.1496</td>\n",
       "      <td>0.1896</td>\n",
       "      <td>0.1192</td>\n",
       "      <td>0.1446</td>\n",
       "      <td>0.1585</td>\n",
       "      <td>0.3595</td>\n",
       "      <td>0.3623</td>\n",
       "      <td>0.3623</td>\n",
       "    </tr>\n",
       "    <tr>\n",
       "      <th>55</th>\n",
       "      <td>mfb7-TDE</td>\n",
       "      <td>validation</td>\n",
       "      <td>28000</td>\n",
       "      <td>0.9999</td>\n",
       "      <td>0.2149</td>\n",
       "      <td>0.2793</td>\n",
       "      <td>0.3047</td>\n",
       "      <td>0.3184</td>\n",
       "      <td>0.4955</td>\n",
       "      <td>0.6225</td>\n",
       "      <td>0.1222</td>\n",
       "      <td>0.1674</td>\n",
       "      <td>0.1807</td>\n",
       "      <td>0.1251</td>\n",
       "      <td>0.1491</td>\n",
       "      <td>0.1601</td>\n",
       "      <td>0.2888</td>\n",
       "      <td>0.2916</td>\n",
       "      <td>0.2916</td>\n",
       "    </tr>\n",
       "    <tr>\n",
       "      <th>56</th>\n",
       "      <td>mfb7-TDE</td>\n",
       "      <td>validation</td>\n",
       "      <td>30000</td>\n",
       "      <td>0.9999</td>\n",
       "      <td>0.2507</td>\n",
       "      <td>0.3170</td>\n",
       "      <td>0.3397</td>\n",
       "      <td>0.3451</td>\n",
       "      <td>0.5249</td>\n",
       "      <td>0.6407</td>\n",
       "      <td>0.1170</td>\n",
       "      <td>0.1607</td>\n",
       "      <td>0.1756</td>\n",
       "      <td>0.1278</td>\n",
       "      <td>0.1527</td>\n",
       "      <td>0.1641</td>\n",
       "      <td>0.3394</td>\n",
       "      <td>0.3425</td>\n",
       "      <td>0.3425</td>\n",
       "    </tr>\n",
       "    <tr>\n",
       "      <th>57</th>\n",
       "      <td>mfb7-TDE</td>\n",
       "      <td>validation</td>\n",
       "      <td>32000</td>\n",
       "      <td>0.9999</td>\n",
       "      <td>0.2786</td>\n",
       "      <td>0.3461</td>\n",
       "      <td>0.3657</td>\n",
       "      <td>0.3833</td>\n",
       "      <td>0.5599</td>\n",
       "      <td>0.6517</td>\n",
       "      <td>0.1407</td>\n",
       "      <td>0.1896</td>\n",
       "      <td>0.1963</td>\n",
       "      <td>0.1447</td>\n",
       "      <td>0.1699</td>\n",
       "      <td>0.1789</td>\n",
       "      <td>0.3628</td>\n",
       "      <td>0.3658</td>\n",
       "      <td>0.3658</td>\n",
       "    </tr>\n",
       "    <tr>\n",
       "      <th>58</th>\n",
       "      <td>mfb7-TDE</td>\n",
       "      <td>validation</td>\n",
       "      <td>34000</td>\n",
       "      <td>0.9999</td>\n",
       "      <td>0.2864</td>\n",
       "      <td>0.3577</td>\n",
       "      <td>0.3807</td>\n",
       "      <td>0.3801</td>\n",
       "      <td>0.5386</td>\n",
       "      <td>0.6198</td>\n",
       "      <td>0.1430</td>\n",
       "      <td>0.1852</td>\n",
       "      <td>0.1896</td>\n",
       "      <td>0.1368</td>\n",
       "      <td>0.1632</td>\n",
       "      <td>0.1772</td>\n",
       "      <td>0.3800</td>\n",
       "      <td>0.3829</td>\n",
       "      <td>0.3829</td>\n",
       "    </tr>\n",
       "    <tr>\n",
       "      <th>59</th>\n",
       "      <td>mfb7-TDE</td>\n",
       "      <td>validation</td>\n",
       "      <td>36000</td>\n",
       "      <td>0.9999</td>\n",
       "      <td>0.2843</td>\n",
       "      <td>0.3555</td>\n",
       "      <td>0.3773</td>\n",
       "      <td>0.3778</td>\n",
       "      <td>0.5203</td>\n",
       "      <td>0.5880</td>\n",
       "      <td>0.1385</td>\n",
       "      <td>0.1756</td>\n",
       "      <td>0.1881</td>\n",
       "      <td>0.1377</td>\n",
       "      <td>0.1621</td>\n",
       "      <td>0.1723</td>\n",
       "      <td>0.3862</td>\n",
       "      <td>0.3890</td>\n",
       "      <td>0.3890</td>\n",
       "    </tr>\n",
       "    <tr>\n",
       "      <th>60</th>\n",
       "      <td>mfb7-TDE</td>\n",
       "      <td>validation</td>\n",
       "      <td>38000</td>\n",
       "      <td>0.9999</td>\n",
       "      <td>0.2875</td>\n",
       "      <td>0.3447</td>\n",
       "      <td>0.3586</td>\n",
       "      <td>0.3834</td>\n",
       "      <td>0.4981</td>\n",
       "      <td>0.5453</td>\n",
       "      <td>0.1141</td>\n",
       "      <td>0.1289</td>\n",
       "      <td>0.1348</td>\n",
       "      <td>0.1297</td>\n",
       "      <td>0.1543</td>\n",
       "      <td>0.1650</td>\n",
       "      <td>0.3604</td>\n",
       "      <td>0.3620</td>\n",
       "      <td>0.3620</td>\n",
       "    </tr>\n",
       "    <tr>\n",
       "      <th>61</th>\n",
       "      <td>mfb7-TDE</td>\n",
       "      <td>validation</td>\n",
       "      <td>40000</td>\n",
       "      <td>0.9995</td>\n",
       "      <td>0.3186</td>\n",
       "      <td>0.3705</td>\n",
       "      <td>0.3785</td>\n",
       "      <td>0.3899</td>\n",
       "      <td>0.4881</td>\n",
       "      <td>0.5236</td>\n",
       "      <td>0.0963</td>\n",
       "      <td>0.1334</td>\n",
       "      <td>0.1467</td>\n",
       "      <td>0.1298</td>\n",
       "      <td>0.1531</td>\n",
       "      <td>0.1627</td>\n",
       "      <td>0.3728</td>\n",
       "      <td>0.3732</td>\n",
       "      <td>0.3732</td>\n",
       "    </tr>\n",
       "    <tr>\n",
       "      <th>62</th>\n",
       "      <td>mfb7-TDE</td>\n",
       "      <td>test</td>\n",
       "      <td>40000</td>\n",
       "      <td>0.9995</td>\n",
       "      <td>0.4856</td>\n",
       "      <td>0.5935</td>\n",
       "      <td>0.6386</td>\n",
       "      <td>0.5314</td>\n",
       "      <td>0.6987</td>\n",
       "      <td>0.7996</td>\n",
       "      <td>0.0010</td>\n",
       "      <td>0.0032</td>\n",
       "      <td>0.0044</td>\n",
       "      <td>0.0833</td>\n",
       "      <td>0.1281</td>\n",
       "      <td>0.1555</td>\n",
       "      <td>0.6775</td>\n",
       "      <td>0.6801</td>\n",
       "      <td>0.6801</td>\n",
       "    </tr>\n",
       "  </tbody>\n",
       "</table>\n",
       "</div>"
      ],
      "text/plain": [
       "       label    eval_set   iter     mAp  R @ 20  R @ 50 R @ 100 ngR @ 20  \\\n",
       "42  mfb7-TDE  validation   2000  0.9999  0.2988  0.3581  0.3775   0.3911   \n",
       "43  mfb7-TDE  validation   4000  0.9999  0.2786  0.3434  0.3668   0.3650   \n",
       "44  mfb7-TDE  validation   6000  0.9999  0.2802  0.3460  0.3675   0.3710   \n",
       "45  mfb7-TDE  validation   8000  0.9999  0.3029  0.3680  0.3892   0.3976   \n",
       "46  mfb7-TDE  validation  10000  0.9999  0.3201  0.4006  0.4213   0.4415   \n",
       "47  mfb7-TDE  validation  12000  0.9999  0.3424  0.4269  0.4441   0.4851   \n",
       "48  mfb7-TDE  validation  14000  0.9999  0.3843  0.4690  0.4839   0.5332   \n",
       "49  mfb7-TDE  validation  16000  0.9999  0.3767  0.4675  0.4853   0.5044   \n",
       "50  mfb7-TDE  validation  18000  0.9999  0.0077  0.0135  0.0182   0.0065   \n",
       "51  mfb7-TDE  validation  20000  0.9999  0.0753  0.1061  0.1214   0.0830   \n",
       "52  mfb7-TDE  validation  22000  0.9999  0.2193  0.2701  0.2922   0.3001   \n",
       "53  mfb7-TDE  validation  24000  0.9999  0.2401  0.2977  0.3165   0.3465   \n",
       "54  mfb7-TDE  validation  26000  0.9999  0.2742  0.3391  0.3611   0.3891   \n",
       "55  mfb7-TDE  validation  28000  0.9999  0.2149  0.2793  0.3047   0.3184   \n",
       "56  mfb7-TDE  validation  30000  0.9999  0.2507  0.3170  0.3397   0.3451   \n",
       "57  mfb7-TDE  validation  32000  0.9999  0.2786  0.3461  0.3657   0.3833   \n",
       "58  mfb7-TDE  validation  34000  0.9999  0.2864  0.3577  0.3807   0.3801   \n",
       "59  mfb7-TDE  validation  36000  0.9999  0.2843  0.3555  0.3773   0.3778   \n",
       "60  mfb7-TDE  validation  38000  0.9999  0.2875  0.3447  0.3586   0.3834   \n",
       "61  mfb7-TDE  validation  40000  0.9995  0.3186  0.3705  0.3785   0.3899   \n",
       "62  mfb7-TDE        test  40000  0.9995  0.4856  0.5935  0.6386   0.5314   \n",
       "\n",
       "   ngR @ 50 ngR @ 100 zR @ 20 zR @ 50 zR @ 100 mR @ 20 mR @ 50 mR @ 100  \\\n",
       "42   0.5480    0.6469  0.0911  0.1474   0.1785  0.1478  0.1747   0.1821   \n",
       "43   0.5460    0.6643  0.0978  0.1785   0.2119  0.1609  0.1889   0.1979   \n",
       "44   0.5495    0.6648  0.1104  0.1637   0.1963  0.1467  0.1703   0.1819   \n",
       "45   0.5803    0.6954  0.1126  0.1652   0.1830  0.1650  0.1916   0.2038   \n",
       "46   0.6873    0.7998  0.1119  0.1600   0.1793  0.1615  0.1887   0.2002   \n",
       "47   0.7329    0.8111  0.1089  0.1652   0.1919  0.1553  0.1840   0.1934   \n",
       "48   0.7493    0.8043  0.1104  0.1704   0.1985  0.1522  0.1781   0.1896   \n",
       "49   0.7160    0.7778  0.1222  0.1911   0.2185  0.1571  0.1868   0.1999   \n",
       "50   0.0284    0.0642  0.0311  0.0422   0.0556  0.0059  0.0100   0.0138   \n",
       "51   0.1107    0.1549  0.0778  0.1044   0.1356  0.0503  0.0862   0.1070   \n",
       "52   0.4199    0.5020  0.1007  0.1474   0.1741  0.0913  0.1167   0.1290   \n",
       "53   0.5107    0.6183  0.1119  0.1585   0.1837  0.1201  0.1470   0.1600   \n",
       "54   0.5852    0.6958  0.0985  0.1496   0.1896  0.1192  0.1446   0.1585   \n",
       "55   0.4955    0.6225  0.1222  0.1674   0.1807  0.1251  0.1491   0.1601   \n",
       "56   0.5249    0.6407  0.1170  0.1607   0.1756  0.1278  0.1527   0.1641   \n",
       "57   0.5599    0.6517  0.1407  0.1896   0.1963  0.1447  0.1699   0.1789   \n",
       "58   0.5386    0.6198  0.1430  0.1852   0.1896  0.1368  0.1632   0.1772   \n",
       "59   0.5203    0.5880  0.1385  0.1756   0.1881  0.1377  0.1621   0.1723   \n",
       "60   0.4981    0.5453  0.1141  0.1289   0.1348  0.1297  0.1543   0.1650   \n",
       "61   0.4881    0.5236  0.0963  0.1334   0.1467  0.1298  0.1531   0.1627   \n",
       "62   0.6987    0.7996  0.0010  0.0032   0.0044  0.0833  0.1281   0.1555   \n",
       "\n",
       "    A @ 20  A @ 50 A @ 100  \n",
       "42  0.3755  0.3778  0.3778  \n",
       "43  0.3645  0.3672  0.3672  \n",
       "44  0.3618  0.3653  0.3653  \n",
       "45  0.3915  0.3958  0.3958  \n",
       "46  0.4391  0.4437  0.4437  \n",
       "47  0.4747  0.4796  0.4796  \n",
       "48  0.5271  0.5320  0.5320  \n",
       "49  0.5241  0.5288  0.5288  \n",
       "50  0.0242  0.0242  0.0242  \n",
       "51  0.1231  0.1238  0.1238  \n",
       "52  0.3002  0.3027  0.3027  \n",
       "53  0.3088  0.3119  0.3119  \n",
       "54  0.3595  0.3623  0.3623  \n",
       "55  0.2888  0.2916  0.2916  \n",
       "56  0.3394  0.3425  0.3425  \n",
       "57  0.3628  0.3658  0.3658  \n",
       "58  0.3800  0.3829  0.3829  \n",
       "59  0.3862  0.3890  0.3890  \n",
       "60  0.3604  0.3620  0.3620  \n",
       "61  0.3728  0.3732  0.3732  \n",
       "62  0.6775  0.6801  0.6801  "
      ]
     },
     "execution_count": 8,
     "metadata": {},
     "output_type": "execute_result"
    }
   ],
   "source": [
    "df[df[\"label\"]==\"mfb7-TDE\"]"
   ]
  },
  {
   "cell_type": "code",
   "execution_count": 9,
   "metadata": {
    "ExecuteTime": {
     "end_time": "2020-07-09T18:30:36.589983Z",
     "start_time": "2020-07-09T18:30:35.197947Z"
    },
    "collapsed": true,
    "deletable": false,
    "editable": false,
    "run_control": {
     "frozen": true
    }
   },
   "outputs": [
    {
     "ename": "TypeError",
     "evalue": "no numeric data to plot",
     "output_type": "error",
     "traceback": [
      "\u001b[1;31m---------------------------------------------------------------------------\u001b[0m",
      "\u001b[1;31mTypeError\u001b[0m                                 Traceback (most recent call last)",
      "\u001b[1;32m<ipython-input-9-544cd0a5daf1>\u001b[0m in \u001b[0;36m<module>\u001b[1;34m\u001b[0m\n\u001b[0;32m      3\u001b[0m df[df[\"label\"]==\"mfb7-TDE\"].plot( x='iter', y=['mAp', 'R @ 20', 'R @ 50', 'R @ 100',\n\u001b[0;32m      4\u001b[0m        \u001b[1;34m'ngR @ 20'\u001b[0m\u001b[1;33m,\u001b[0m \u001b[1;34m'ngR @ 50'\u001b[0m\u001b[1;33m,\u001b[0m \u001b[1;34m'ngR @ 100'\u001b[0m\u001b[1;33m,\u001b[0m \u001b[1;34m'zR @ 20'\u001b[0m\u001b[1;33m,\u001b[0m \u001b[1;34m'zR @ 50'\u001b[0m\u001b[1;33m,\u001b[0m \u001b[1;34m'zR @ 100'\u001b[0m\u001b[1;33m,\u001b[0m\u001b[1;33m\u001b[0m\u001b[1;33m\u001b[0m\u001b[0m\n\u001b[1;32m----> 5\u001b[1;33m        'mR @ 20', 'mR @ 50', 'mR @ 100', 'A @ 20', 'A @ 50', 'A @ 100'])\n\u001b[0m",
      "\u001b[1;32mC:\\ProgramData\\Anaconda3\\envs\\tensor-env\\lib\\site-packages\\pandas\\plotting\\_core.py\u001b[0m in \u001b[0;36m__call__\u001b[1;34m(self, *args, **kwargs)\u001b[0m\n\u001b[0;32m    845\u001b[0m                     \u001b[0mdata\u001b[0m\u001b[1;33m.\u001b[0m\u001b[0mcolumns\u001b[0m \u001b[1;33m=\u001b[0m \u001b[0mlabel_name\u001b[0m\u001b[1;33m\u001b[0m\u001b[1;33m\u001b[0m\u001b[0m\n\u001b[0;32m    846\u001b[0m \u001b[1;33m\u001b[0m\u001b[0m\n\u001b[1;32m--> 847\u001b[1;33m         \u001b[1;32mreturn\u001b[0m \u001b[0mplot_backend\u001b[0m\u001b[1;33m.\u001b[0m\u001b[0mplot\u001b[0m\u001b[1;33m(\u001b[0m\u001b[0mdata\u001b[0m\u001b[1;33m,\u001b[0m \u001b[0mkind\u001b[0m\u001b[1;33m=\u001b[0m\u001b[0mkind\u001b[0m\u001b[1;33m,\u001b[0m \u001b[1;33m**\u001b[0m\u001b[0mkwargs\u001b[0m\u001b[1;33m)\u001b[0m\u001b[1;33m\u001b[0m\u001b[1;33m\u001b[0m\u001b[0m\n\u001b[0m\u001b[0;32m    848\u001b[0m \u001b[1;33m\u001b[0m\u001b[0m\n\u001b[0;32m    849\u001b[0m     \u001b[0m__call__\u001b[0m\u001b[1;33m.\u001b[0m\u001b[0m__doc__\u001b[0m \u001b[1;33m=\u001b[0m \u001b[0m__doc__\u001b[0m\u001b[1;33m\u001b[0m\u001b[1;33m\u001b[0m\u001b[0m\n",
      "\u001b[1;32mC:\\ProgramData\\Anaconda3\\envs\\tensor-env\\lib\\site-packages\\pandas\\plotting\\_matplotlib\\__init__.py\u001b[0m in \u001b[0;36mplot\u001b[1;34m(data, kind, **kwargs)\u001b[0m\n\u001b[0;32m     59\u001b[0m             \u001b[0mkwargs\u001b[0m\u001b[1;33m[\u001b[0m\u001b[1;34m\"ax\"\u001b[0m\u001b[1;33m]\u001b[0m \u001b[1;33m=\u001b[0m \u001b[0mgetattr\u001b[0m\u001b[1;33m(\u001b[0m\u001b[0max\u001b[0m\u001b[1;33m,\u001b[0m \u001b[1;34m\"left_ax\"\u001b[0m\u001b[1;33m,\u001b[0m \u001b[0max\u001b[0m\u001b[1;33m)\u001b[0m\u001b[1;33m\u001b[0m\u001b[1;33m\u001b[0m\u001b[0m\n\u001b[0;32m     60\u001b[0m     \u001b[0mplot_obj\u001b[0m \u001b[1;33m=\u001b[0m \u001b[0mPLOT_CLASSES\u001b[0m\u001b[1;33m[\u001b[0m\u001b[0mkind\u001b[0m\u001b[1;33m]\u001b[0m\u001b[1;33m(\u001b[0m\u001b[0mdata\u001b[0m\u001b[1;33m,\u001b[0m \u001b[1;33m**\u001b[0m\u001b[0mkwargs\u001b[0m\u001b[1;33m)\u001b[0m\u001b[1;33m\u001b[0m\u001b[1;33m\u001b[0m\u001b[0m\n\u001b[1;32m---> 61\u001b[1;33m     \u001b[0mplot_obj\u001b[0m\u001b[1;33m.\u001b[0m\u001b[0mgenerate\u001b[0m\u001b[1;33m(\u001b[0m\u001b[1;33m)\u001b[0m\u001b[1;33m\u001b[0m\u001b[1;33m\u001b[0m\u001b[0m\n\u001b[0m\u001b[0;32m     62\u001b[0m     \u001b[0mplot_obj\u001b[0m\u001b[1;33m.\u001b[0m\u001b[0mdraw\u001b[0m\u001b[1;33m(\u001b[0m\u001b[1;33m)\u001b[0m\u001b[1;33m\u001b[0m\u001b[1;33m\u001b[0m\u001b[0m\n\u001b[0;32m     63\u001b[0m     \u001b[1;32mreturn\u001b[0m \u001b[0mplot_obj\u001b[0m\u001b[1;33m.\u001b[0m\u001b[0mresult\u001b[0m\u001b[1;33m\u001b[0m\u001b[1;33m\u001b[0m\u001b[0m\n",
      "\u001b[1;32mC:\\ProgramData\\Anaconda3\\envs\\tensor-env\\lib\\site-packages\\pandas\\plotting\\_matplotlib\\core.py\u001b[0m in \u001b[0;36mgenerate\u001b[1;34m(self)\u001b[0m\n\u001b[0;32m    259\u001b[0m     \u001b[1;32mdef\u001b[0m \u001b[0mgenerate\u001b[0m\u001b[1;33m(\u001b[0m\u001b[0mself\u001b[0m\u001b[1;33m)\u001b[0m\u001b[1;33m:\u001b[0m\u001b[1;33m\u001b[0m\u001b[1;33m\u001b[0m\u001b[0m\n\u001b[0;32m    260\u001b[0m         \u001b[0mself\u001b[0m\u001b[1;33m.\u001b[0m\u001b[0m_args_adjust\u001b[0m\u001b[1;33m(\u001b[0m\u001b[1;33m)\u001b[0m\u001b[1;33m\u001b[0m\u001b[1;33m\u001b[0m\u001b[0m\n\u001b[1;32m--> 261\u001b[1;33m         \u001b[0mself\u001b[0m\u001b[1;33m.\u001b[0m\u001b[0m_compute_plot_data\u001b[0m\u001b[1;33m(\u001b[0m\u001b[1;33m)\u001b[0m\u001b[1;33m\u001b[0m\u001b[1;33m\u001b[0m\u001b[0m\n\u001b[0m\u001b[0;32m    262\u001b[0m         \u001b[0mself\u001b[0m\u001b[1;33m.\u001b[0m\u001b[0m_setup_subplots\u001b[0m\u001b[1;33m(\u001b[0m\u001b[1;33m)\u001b[0m\u001b[1;33m\u001b[0m\u001b[1;33m\u001b[0m\u001b[0m\n\u001b[0;32m    263\u001b[0m         \u001b[0mself\u001b[0m\u001b[1;33m.\u001b[0m\u001b[0m_make_plot\u001b[0m\u001b[1;33m(\u001b[0m\u001b[1;33m)\u001b[0m\u001b[1;33m\u001b[0m\u001b[1;33m\u001b[0m\u001b[0m\n",
      "\u001b[1;32mC:\\ProgramData\\Anaconda3\\envs\\tensor-env\\lib\\site-packages\\pandas\\plotting\\_matplotlib\\core.py\u001b[0m in \u001b[0;36m_compute_plot_data\u001b[1;34m(self)\u001b[0m\n\u001b[0;32m    408\u001b[0m         \u001b[1;31m# no non-numeric frames or series allowed\u001b[0m\u001b[1;33m\u001b[0m\u001b[1;33m\u001b[0m\u001b[1;33m\u001b[0m\u001b[0m\n\u001b[0;32m    409\u001b[0m         \u001b[1;32mif\u001b[0m \u001b[0mis_empty\u001b[0m\u001b[1;33m:\u001b[0m\u001b[1;33m\u001b[0m\u001b[1;33m\u001b[0m\u001b[0m\n\u001b[1;32m--> 410\u001b[1;33m             \u001b[1;32mraise\u001b[0m \u001b[0mTypeError\u001b[0m\u001b[1;33m(\u001b[0m\u001b[1;34m\"no numeric data to plot\"\u001b[0m\u001b[1;33m)\u001b[0m\u001b[1;33m\u001b[0m\u001b[1;33m\u001b[0m\u001b[0m\n\u001b[0m\u001b[0;32m    411\u001b[0m \u001b[1;33m\u001b[0m\u001b[0m\n\u001b[0;32m    412\u001b[0m         \u001b[1;31m# GH25587: cast ExtensionArray of pandas (IntegerArray, etc.) to\u001b[0m\u001b[1;33m\u001b[0m\u001b[1;33m\u001b[0m\u001b[1;33m\u001b[0m\u001b[0m\n",
      "\u001b[1;31mTypeError\u001b[0m: no numeric data to plot"
     ]
    }
   ],
   "source": [
    "import matplotlib.pyplot as plt\n",
    "plt.figure();\n",
    "df[df[\"label\"]==\"mfb7-TDE\"].plot( x='iter', y=['mAp', 'R @ 20', 'R @ 50', 'R @ 100',\n",
    "       'ngR @ 20', 'ngR @ 50', 'ngR @ 100', 'zR @ 20', 'zR @ 50', 'zR @ 100',\n",
    "       'mR @ 20', 'mR @ 50', 'mR @ 100', 'A @ 20', 'A @ 50', 'A @ 100'])"
   ]
  },
  {
   "cell_type": "code",
   "execution_count": 10,
   "metadata": {
    "ExecuteTime": {
     "end_time": "2020-07-09T18:32:00.580971Z",
     "start_time": "2020-07-09T18:31:56.088931Z"
    }
   },
   "outputs": [
    {
     "data": {
      "application/vnd.plotly.v1+json": {
       "config": {
        "linkText": "Export to plot.ly",
        "plotlyServerURL": "https://plot.ly",
        "showLink": true
       },
       "data": [
        {
         "line": {
          "color": "rgba(255, 153, 51, 1.0)",
          "dash": "solid",
          "shape": "linear",
          "width": 1.3
         },
         "mode": "lines",
         "name": "label",
         "text": "",
         "type": "scatter",
         "x": [
          "2000",
          "4000",
          "6000",
          "8000",
          "10000",
          "12000",
          "14000",
          "16000",
          "18000",
          "20000",
          "22000",
          "24000",
          "26000",
          "28000",
          "30000",
          "32000",
          "34000",
          "36000",
          "38000",
          "40000",
          "40000"
         ],
         "y": [
          "mfb7-TDE",
          "mfb7-TDE",
          "mfb7-TDE",
          "mfb7-TDE",
          "mfb7-TDE",
          "mfb7-TDE",
          "mfb7-TDE",
          "mfb7-TDE",
          "mfb7-TDE",
          "mfb7-TDE",
          "mfb7-TDE",
          "mfb7-TDE",
          "mfb7-TDE",
          "mfb7-TDE",
          "mfb7-TDE",
          "mfb7-TDE",
          "mfb7-TDE",
          "mfb7-TDE",
          "mfb7-TDE",
          "mfb7-TDE",
          "mfb7-TDE"
         ]
        },
        {
         "line": {
          "color": "rgba(55, 128, 191, 1.0)",
          "dash": "solid",
          "shape": "linear",
          "width": 1.3
         },
         "mode": "lines",
         "name": "eval_set",
         "text": "",
         "type": "scatter",
         "x": [
          "2000",
          "4000",
          "6000",
          "8000",
          "10000",
          "12000",
          "14000",
          "16000",
          "18000",
          "20000",
          "22000",
          "24000",
          "26000",
          "28000",
          "30000",
          "32000",
          "34000",
          "36000",
          "38000",
          "40000",
          "40000"
         ],
         "y": [
          "validation",
          "validation",
          "validation",
          "validation",
          "validation",
          "validation",
          "validation",
          "validation",
          "validation",
          "validation",
          "validation",
          "validation",
          "validation",
          "validation",
          "validation",
          "validation",
          "validation",
          "validation",
          "validation",
          "validation",
          "test"
         ]
        },
        {
         "line": {
          "color": "rgba(50, 171, 96, 1.0)",
          "dash": "solid",
          "shape": "linear",
          "width": 1.3
         },
         "mode": "lines",
         "name": "mAp",
         "text": "",
         "type": "scatter",
         "x": [
          "2000",
          "4000",
          "6000",
          "8000",
          "10000",
          "12000",
          "14000",
          "16000",
          "18000",
          "20000",
          "22000",
          "24000",
          "26000",
          "28000",
          "30000",
          "32000",
          "34000",
          "36000",
          "38000",
          "40000",
          "40000"
         ],
         "y": [
          "0.9999",
          "0.9999",
          "0.9999",
          "0.9999",
          "0.9999",
          "0.9999",
          "0.9999",
          "0.9999",
          "0.9999",
          "0.9999",
          "0.9999",
          "0.9999",
          "0.9999",
          "0.9999",
          "0.9999",
          "0.9999",
          "0.9999",
          "0.9999",
          "0.9999",
          "0.9995",
          "0.9995"
         ]
        },
        {
         "line": {
          "color": "rgba(128, 0, 128, 1.0)",
          "dash": "solid",
          "shape": "linear",
          "width": 1.3
         },
         "mode": "lines",
         "name": "R @ 20",
         "text": "",
         "type": "scatter",
         "x": [
          "2000",
          "4000",
          "6000",
          "8000",
          "10000",
          "12000",
          "14000",
          "16000",
          "18000",
          "20000",
          "22000",
          "24000",
          "26000",
          "28000",
          "30000",
          "32000",
          "34000",
          "36000",
          "38000",
          "40000",
          "40000"
         ],
         "y": [
          "0.2988",
          "0.2786",
          "0.2802",
          "0.3029",
          "0.3201",
          "0.3424",
          "0.3843",
          "0.3767",
          "0.0077",
          "0.0753",
          "0.2193",
          "0.2401",
          "0.2742",
          "0.2149",
          "0.2507",
          "0.2786",
          "0.2864",
          "0.2843",
          "0.2875",
          "0.3186",
          "0.4856"
         ]
        },
        {
         "line": {
          "color": "rgba(219, 64, 82, 1.0)",
          "dash": "solid",
          "shape": "linear",
          "width": 1.3
         },
         "mode": "lines",
         "name": "R @ 50",
         "text": "",
         "type": "scatter",
         "x": [
          "2000",
          "4000",
          "6000",
          "8000",
          "10000",
          "12000",
          "14000",
          "16000",
          "18000",
          "20000",
          "22000",
          "24000",
          "26000",
          "28000",
          "30000",
          "32000",
          "34000",
          "36000",
          "38000",
          "40000",
          "40000"
         ],
         "y": [
          "0.3581",
          "0.3434",
          "0.3460",
          "0.3680",
          "0.4006",
          "0.4269",
          "0.4690",
          "0.4675",
          "0.0135",
          "0.1061",
          "0.2701",
          "0.2977",
          "0.3391",
          "0.2793",
          "0.3170",
          "0.3461",
          "0.3577",
          "0.3555",
          "0.3447",
          "0.3705",
          "0.5935"
         ]
        },
        {
         "line": {
          "color": "rgba(0, 128, 128, 1.0)",
          "dash": "solid",
          "shape": "linear",
          "width": 1.3
         },
         "mode": "lines",
         "name": "R @ 100",
         "text": "",
         "type": "scatter",
         "x": [
          "2000",
          "4000",
          "6000",
          "8000",
          "10000",
          "12000",
          "14000",
          "16000",
          "18000",
          "20000",
          "22000",
          "24000",
          "26000",
          "28000",
          "30000",
          "32000",
          "34000",
          "36000",
          "38000",
          "40000",
          "40000"
         ],
         "y": [
          "0.3775",
          "0.3668",
          "0.3675",
          "0.3892",
          "0.4213",
          "0.4441",
          "0.4839",
          "0.4853",
          "0.0182",
          "0.1214",
          "0.2922",
          "0.3165",
          "0.3611",
          "0.3047",
          "0.3397",
          "0.3657",
          "0.3807",
          "0.3773",
          "0.3586",
          "0.3785",
          "0.6386"
         ]
        },
        {
         "line": {
          "color": "rgba(255, 255, 51, 1.0)",
          "dash": "solid",
          "shape": "linear",
          "width": 1.3
         },
         "mode": "lines",
         "name": "ngR @ 20",
         "text": "",
         "type": "scatter",
         "x": [
          "2000",
          "4000",
          "6000",
          "8000",
          "10000",
          "12000",
          "14000",
          "16000",
          "18000",
          "20000",
          "22000",
          "24000",
          "26000",
          "28000",
          "30000",
          "32000",
          "34000",
          "36000",
          "38000",
          "40000",
          "40000"
         ],
         "y": [
          "0.3911",
          "0.3650",
          "0.3710",
          "0.3976",
          "0.4415",
          "0.4851",
          "0.5332",
          "0.5044",
          "0.0065",
          "0.0830",
          "0.3001",
          "0.3465",
          "0.3891",
          "0.3184",
          "0.3451",
          "0.3833",
          "0.3801",
          "0.3778",
          "0.3834",
          "0.3899",
          "0.5314"
         ]
        },
        {
         "line": {
          "color": "rgba(128, 128, 0, 1.0)",
          "dash": "solid",
          "shape": "linear",
          "width": 1.3
         },
         "mode": "lines",
         "name": "ngR @ 50",
         "text": "",
         "type": "scatter",
         "x": [
          "2000",
          "4000",
          "6000",
          "8000",
          "10000",
          "12000",
          "14000",
          "16000",
          "18000",
          "20000",
          "22000",
          "24000",
          "26000",
          "28000",
          "30000",
          "32000",
          "34000",
          "36000",
          "38000",
          "40000",
          "40000"
         ],
         "y": [
          "0.5480",
          "0.5460",
          "0.5495",
          "0.5803",
          "0.6873",
          "0.7329",
          "0.7493",
          "0.7160",
          "0.0284",
          "0.1107",
          "0.4199",
          "0.5107",
          "0.5852",
          "0.4955",
          "0.5249",
          "0.5599",
          "0.5386",
          "0.5203",
          "0.4981",
          "0.4881",
          "0.6987"
         ]
        },
        {
         "line": {
          "color": "rgba(251, 128, 114, 1.0)",
          "dash": "solid",
          "shape": "linear",
          "width": 1.3
         },
         "mode": "lines",
         "name": "ngR @ 100",
         "text": "",
         "type": "scatter",
         "x": [
          "2000",
          "4000",
          "6000",
          "8000",
          "10000",
          "12000",
          "14000",
          "16000",
          "18000",
          "20000",
          "22000",
          "24000",
          "26000",
          "28000",
          "30000",
          "32000",
          "34000",
          "36000",
          "38000",
          "40000",
          "40000"
         ],
         "y": [
          "0.6469",
          "0.6643",
          "0.6648",
          "0.6954",
          "0.7998",
          "0.8111",
          "0.8043",
          "0.7778",
          "0.0642",
          "0.1549",
          "0.5020",
          "0.6183",
          "0.6958",
          "0.6225",
          "0.6407",
          "0.6517",
          "0.6198",
          "0.5880",
          "0.5453",
          "0.5236",
          "0.7996"
         ]
        },
        {
         "line": {
          "color": "rgba(128, 177, 211, 1.0)",
          "dash": "solid",
          "shape": "linear",
          "width": 1.3
         },
         "mode": "lines",
         "name": "zR @ 20",
         "text": "",
         "type": "scatter",
         "x": [
          "2000",
          "4000",
          "6000",
          "8000",
          "10000",
          "12000",
          "14000",
          "16000",
          "18000",
          "20000",
          "22000",
          "24000",
          "26000",
          "28000",
          "30000",
          "32000",
          "34000",
          "36000",
          "38000",
          "40000",
          "40000"
         ],
         "y": [
          "0.0911",
          "0.0978",
          "0.1104",
          "0.1126",
          "0.1119",
          "0.1089",
          "0.1104",
          "0.1222",
          "0.0311",
          "0.0778",
          "0.1007",
          "0.1119",
          "0.0985",
          "0.1222",
          "0.1170",
          "0.1407",
          "0.1430",
          "0.1385",
          "0.1141",
          "0.0963",
          "0.0010"
         ]
        },
        {
         "line": {
          "color": "rgba(128, 177, 211, 0.8999999999999999)",
          "dash": "solid",
          "shape": "linear",
          "width": 1.3
         },
         "mode": "lines",
         "name": "zR @ 50",
         "text": "",
         "type": "scatter",
         "x": [
          "2000",
          "4000",
          "6000",
          "8000",
          "10000",
          "12000",
          "14000",
          "16000",
          "18000",
          "20000",
          "22000",
          "24000",
          "26000",
          "28000",
          "30000",
          "32000",
          "34000",
          "36000",
          "38000",
          "40000",
          "40000"
         ],
         "y": [
          "0.1474",
          "0.1785",
          "0.1637",
          "0.1652",
          "0.1600",
          "0.1652",
          "0.1704",
          "0.1911",
          "0.0422",
          "0.1044",
          "0.1474",
          "0.1585",
          "0.1496",
          "0.1674",
          "0.1607",
          "0.1896",
          "0.1852",
          "0.1756",
          "0.1289",
          "0.1334",
          "0.0032"
         ]
        },
        {
         "line": {
          "color": "rgba(255, 153, 51, 0.8999999999999999)",
          "dash": "solid",
          "shape": "linear",
          "width": 1.3
         },
         "mode": "lines",
         "name": "zR @ 100",
         "text": "",
         "type": "scatter",
         "x": [
          "2000",
          "4000",
          "6000",
          "8000",
          "10000",
          "12000",
          "14000",
          "16000",
          "18000",
          "20000",
          "22000",
          "24000",
          "26000",
          "28000",
          "30000",
          "32000",
          "34000",
          "36000",
          "38000",
          "40000",
          "40000"
         ],
         "y": [
          "0.1785",
          "0.2119",
          "0.1963",
          "0.1830",
          "0.1793",
          "0.1919",
          "0.1985",
          "0.2185",
          "0.0556",
          "0.1356",
          "0.1741",
          "0.1837",
          "0.1896",
          "0.1807",
          "0.1756",
          "0.1963",
          "0.1896",
          "0.1881",
          "0.1348",
          "0.1467",
          "0.0044"
         ]
        },
        {
         "line": {
          "color": "rgba(55, 128, 191, 0.8999999999999999)",
          "dash": "solid",
          "shape": "linear",
          "width": 1.3
         },
         "mode": "lines",
         "name": "mR @ 20",
         "text": "",
         "type": "scatter",
         "x": [
          "2000",
          "4000",
          "6000",
          "8000",
          "10000",
          "12000",
          "14000",
          "16000",
          "18000",
          "20000",
          "22000",
          "24000",
          "26000",
          "28000",
          "30000",
          "32000",
          "34000",
          "36000",
          "38000",
          "40000",
          "40000"
         ],
         "y": [
          "0.1478",
          "0.1609",
          "0.1467",
          "0.1650",
          "0.1615",
          "0.1553",
          "0.1522",
          "0.1571",
          "0.0059",
          "0.0503",
          "0.0913",
          "0.1201",
          "0.1192",
          "0.1251",
          "0.1278",
          "0.1447",
          "0.1368",
          "0.1377",
          "0.1297",
          "0.1298",
          "0.0833"
         ]
        },
        {
         "line": {
          "color": "rgba(50, 171, 96, 0.8999999999999999)",
          "dash": "solid",
          "shape": "linear",
          "width": 1.3
         },
         "mode": "lines",
         "name": "mR @ 50",
         "text": "",
         "type": "scatter",
         "x": [
          "2000",
          "4000",
          "6000",
          "8000",
          "10000",
          "12000",
          "14000",
          "16000",
          "18000",
          "20000",
          "22000",
          "24000",
          "26000",
          "28000",
          "30000",
          "32000",
          "34000",
          "36000",
          "38000",
          "40000",
          "40000"
         ],
         "y": [
          "0.1747",
          "0.1889",
          "0.1703",
          "0.1916",
          "0.1887",
          "0.1840",
          "0.1781",
          "0.1868",
          "0.0100",
          "0.0862",
          "0.1167",
          "0.1470",
          "0.1446",
          "0.1491",
          "0.1527",
          "0.1699",
          "0.1632",
          "0.1621",
          "0.1543",
          "0.1531",
          "0.1281"
         ]
        },
        {
         "line": {
          "color": "rgba(128, 0, 128, 0.8999999999999999)",
          "dash": "solid",
          "shape": "linear",
          "width": 1.3
         },
         "mode": "lines",
         "name": "mR @ 100",
         "text": "",
         "type": "scatter",
         "x": [
          "2000",
          "4000",
          "6000",
          "8000",
          "10000",
          "12000",
          "14000",
          "16000",
          "18000",
          "20000",
          "22000",
          "24000",
          "26000",
          "28000",
          "30000",
          "32000",
          "34000",
          "36000",
          "38000",
          "40000",
          "40000"
         ],
         "y": [
          "0.1821",
          "0.1979",
          "0.1819",
          "0.2038",
          "0.2002",
          "0.1934",
          "0.1896",
          "0.1999",
          "0.0138",
          "0.1070",
          "0.1290",
          "0.1600",
          "0.1585",
          "0.1601",
          "0.1641",
          "0.1789",
          "0.1772",
          "0.1723",
          "0.1650",
          "0.1627",
          "0.1555"
         ]
        },
        {
         "line": {
          "color": "rgba(219, 64, 82, 0.8999999999999999)",
          "dash": "solid",
          "shape": "linear",
          "width": 1.3
         },
         "mode": "lines",
         "name": "A @ 20",
         "text": "",
         "type": "scatter",
         "x": [
          "2000",
          "4000",
          "6000",
          "8000",
          "10000",
          "12000",
          "14000",
          "16000",
          "18000",
          "20000",
          "22000",
          "24000",
          "26000",
          "28000",
          "30000",
          "32000",
          "34000",
          "36000",
          "38000",
          "40000",
          "40000"
         ],
         "y": [
          "0.3755",
          "0.3645",
          "0.3618",
          "0.3915",
          "0.4391",
          "0.4747",
          "0.5271",
          "0.5241",
          "0.0242",
          "0.1231",
          "0.3002",
          "0.3088",
          "0.3595",
          "0.2888",
          "0.3394",
          "0.3628",
          "0.3800",
          "0.3862",
          "0.3604",
          "0.3728",
          "0.6775"
         ]
        },
        {
         "line": {
          "color": "rgba(0, 128, 128, 0.8999999999999999)",
          "dash": "solid",
          "shape": "linear",
          "width": 1.3
         },
         "mode": "lines",
         "name": "A @ 50",
         "text": "",
         "type": "scatter",
         "x": [
          "2000",
          "4000",
          "6000",
          "8000",
          "10000",
          "12000",
          "14000",
          "16000",
          "18000",
          "20000",
          "22000",
          "24000",
          "26000",
          "28000",
          "30000",
          "32000",
          "34000",
          "36000",
          "38000",
          "40000",
          "40000"
         ],
         "y": [
          "0.3778",
          "0.3672",
          "0.3653",
          "0.3958",
          "0.4437",
          "0.4796",
          "0.5320",
          "0.5288",
          "0.0242",
          "0.1238",
          "0.3027",
          "0.3119",
          "0.3623",
          "0.2916",
          "0.3425",
          "0.3658",
          "0.3829",
          "0.3890",
          "0.3620",
          "0.3732",
          "0.6801"
         ]
        },
        {
         "line": {
          "color": "rgba(255, 255, 51, 0.8999999999999999)",
          "dash": "solid",
          "shape": "linear",
          "width": 1.3
         },
         "mode": "lines",
         "name": "A @ 100",
         "text": "",
         "type": "scatter",
         "x": [
          "2000",
          "4000",
          "6000",
          "8000",
          "10000",
          "12000",
          "14000",
          "16000",
          "18000",
          "20000",
          "22000",
          "24000",
          "26000",
          "28000",
          "30000",
          "32000",
          "34000",
          "36000",
          "38000",
          "40000",
          "40000"
         ],
         "y": [
          "0.3778",
          "0.3672",
          "0.3653",
          "0.3958",
          "0.4437",
          "0.4796",
          "0.5320",
          "0.5288",
          "0.0242",
          "0.1238",
          "0.3027",
          "0.3119",
          "0.3623",
          "0.2916",
          "0.3425",
          "0.3658",
          "0.3829",
          "0.3890",
          "0.3620",
          "0.3732",
          "0.6801"
         ]
        }
       ],
       "layout": {
        "legend": {
         "bgcolor": "#F5F6F9",
         "font": {
          "color": "#4D5663"
         }
        },
        "paper_bgcolor": "#F5F6F9",
        "plot_bgcolor": "#F5F6F9",
        "template": {
         "data": {
          "bar": [
           {
            "error_x": {
             "color": "#2a3f5f"
            },
            "error_y": {
             "color": "#2a3f5f"
            },
            "marker": {
             "line": {
              "color": "#E5ECF6",
              "width": 0.5
             }
            },
            "type": "bar"
           }
          ],
          "barpolar": [
           {
            "marker": {
             "line": {
              "color": "#E5ECF6",
              "width": 0.5
             }
            },
            "type": "barpolar"
           }
          ],
          "carpet": [
           {
            "aaxis": {
             "endlinecolor": "#2a3f5f",
             "gridcolor": "white",
             "linecolor": "white",
             "minorgridcolor": "white",
             "startlinecolor": "#2a3f5f"
            },
            "baxis": {
             "endlinecolor": "#2a3f5f",
             "gridcolor": "white",
             "linecolor": "white",
             "minorgridcolor": "white",
             "startlinecolor": "#2a3f5f"
            },
            "type": "carpet"
           }
          ],
          "choropleth": [
           {
            "colorbar": {
             "outlinewidth": 0,
             "ticks": ""
            },
            "type": "choropleth"
           }
          ],
          "contour": [
           {
            "colorbar": {
             "outlinewidth": 0,
             "ticks": ""
            },
            "colorscale": [
             [
              0,
              "#0d0887"
             ],
             [
              0.1111111111111111,
              "#46039f"
             ],
             [
              0.2222222222222222,
              "#7201a8"
             ],
             [
              0.3333333333333333,
              "#9c179e"
             ],
             [
              0.4444444444444444,
              "#bd3786"
             ],
             [
              0.5555555555555556,
              "#d8576b"
             ],
             [
              0.6666666666666666,
              "#ed7953"
             ],
             [
              0.7777777777777778,
              "#fb9f3a"
             ],
             [
              0.8888888888888888,
              "#fdca26"
             ],
             [
              1,
              "#f0f921"
             ]
            ],
            "type": "contour"
           }
          ],
          "contourcarpet": [
           {
            "colorbar": {
             "outlinewidth": 0,
             "ticks": ""
            },
            "type": "contourcarpet"
           }
          ],
          "heatmap": [
           {
            "colorbar": {
             "outlinewidth": 0,
             "ticks": ""
            },
            "colorscale": [
             [
              0,
              "#0d0887"
             ],
             [
              0.1111111111111111,
              "#46039f"
             ],
             [
              0.2222222222222222,
              "#7201a8"
             ],
             [
              0.3333333333333333,
              "#9c179e"
             ],
             [
              0.4444444444444444,
              "#bd3786"
             ],
             [
              0.5555555555555556,
              "#d8576b"
             ],
             [
              0.6666666666666666,
              "#ed7953"
             ],
             [
              0.7777777777777778,
              "#fb9f3a"
             ],
             [
              0.8888888888888888,
              "#fdca26"
             ],
             [
              1,
              "#f0f921"
             ]
            ],
            "type": "heatmap"
           }
          ],
          "heatmapgl": [
           {
            "colorbar": {
             "outlinewidth": 0,
             "ticks": ""
            },
            "colorscale": [
             [
              0,
              "#0d0887"
             ],
             [
              0.1111111111111111,
              "#46039f"
             ],
             [
              0.2222222222222222,
              "#7201a8"
             ],
             [
              0.3333333333333333,
              "#9c179e"
             ],
             [
              0.4444444444444444,
              "#bd3786"
             ],
             [
              0.5555555555555556,
              "#d8576b"
             ],
             [
              0.6666666666666666,
              "#ed7953"
             ],
             [
              0.7777777777777778,
              "#fb9f3a"
             ],
             [
              0.8888888888888888,
              "#fdca26"
             ],
             [
              1,
              "#f0f921"
             ]
            ],
            "type": "heatmapgl"
           }
          ],
          "histogram": [
           {
            "marker": {
             "colorbar": {
              "outlinewidth": 0,
              "ticks": ""
             }
            },
            "type": "histogram"
           }
          ],
          "histogram2d": [
           {
            "colorbar": {
             "outlinewidth": 0,
             "ticks": ""
            },
            "colorscale": [
             [
              0,
              "#0d0887"
             ],
             [
              0.1111111111111111,
              "#46039f"
             ],
             [
              0.2222222222222222,
              "#7201a8"
             ],
             [
              0.3333333333333333,
              "#9c179e"
             ],
             [
              0.4444444444444444,
              "#bd3786"
             ],
             [
              0.5555555555555556,
              "#d8576b"
             ],
             [
              0.6666666666666666,
              "#ed7953"
             ],
             [
              0.7777777777777778,
              "#fb9f3a"
             ],
             [
              0.8888888888888888,
              "#fdca26"
             ],
             [
              1,
              "#f0f921"
             ]
            ],
            "type": "histogram2d"
           }
          ],
          "histogram2dcontour": [
           {
            "colorbar": {
             "outlinewidth": 0,
             "ticks": ""
            },
            "colorscale": [
             [
              0,
              "#0d0887"
             ],
             [
              0.1111111111111111,
              "#46039f"
             ],
             [
              0.2222222222222222,
              "#7201a8"
             ],
             [
              0.3333333333333333,
              "#9c179e"
             ],
             [
              0.4444444444444444,
              "#bd3786"
             ],
             [
              0.5555555555555556,
              "#d8576b"
             ],
             [
              0.6666666666666666,
              "#ed7953"
             ],
             [
              0.7777777777777778,
              "#fb9f3a"
             ],
             [
              0.8888888888888888,
              "#fdca26"
             ],
             [
              1,
              "#f0f921"
             ]
            ],
            "type": "histogram2dcontour"
           }
          ],
          "mesh3d": [
           {
            "colorbar": {
             "outlinewidth": 0,
             "ticks": ""
            },
            "type": "mesh3d"
           }
          ],
          "parcoords": [
           {
            "line": {
             "colorbar": {
              "outlinewidth": 0,
              "ticks": ""
             }
            },
            "type": "parcoords"
           }
          ],
          "pie": [
           {
            "automargin": true,
            "type": "pie"
           }
          ],
          "scatter": [
           {
            "marker": {
             "colorbar": {
              "outlinewidth": 0,
              "ticks": ""
             }
            },
            "type": "scatter"
           }
          ],
          "scatter3d": [
           {
            "line": {
             "colorbar": {
              "outlinewidth": 0,
              "ticks": ""
             }
            },
            "marker": {
             "colorbar": {
              "outlinewidth": 0,
              "ticks": ""
             }
            },
            "type": "scatter3d"
           }
          ],
          "scattercarpet": [
           {
            "marker": {
             "colorbar": {
              "outlinewidth": 0,
              "ticks": ""
             }
            },
            "type": "scattercarpet"
           }
          ],
          "scattergeo": [
           {
            "marker": {
             "colorbar": {
              "outlinewidth": 0,
              "ticks": ""
             }
            },
            "type": "scattergeo"
           }
          ],
          "scattergl": [
           {
            "marker": {
             "colorbar": {
              "outlinewidth": 0,
              "ticks": ""
             }
            },
            "type": "scattergl"
           }
          ],
          "scattermapbox": [
           {
            "marker": {
             "colorbar": {
              "outlinewidth": 0,
              "ticks": ""
             }
            },
            "type": "scattermapbox"
           }
          ],
          "scatterpolar": [
           {
            "marker": {
             "colorbar": {
              "outlinewidth": 0,
              "ticks": ""
             }
            },
            "type": "scatterpolar"
           }
          ],
          "scatterpolargl": [
           {
            "marker": {
             "colorbar": {
              "outlinewidth": 0,
              "ticks": ""
             }
            },
            "type": "scatterpolargl"
           }
          ],
          "scatterternary": [
           {
            "marker": {
             "colorbar": {
              "outlinewidth": 0,
              "ticks": ""
             }
            },
            "type": "scatterternary"
           }
          ],
          "surface": [
           {
            "colorbar": {
             "outlinewidth": 0,
             "ticks": ""
            },
            "colorscale": [
             [
              0,
              "#0d0887"
             ],
             [
              0.1111111111111111,
              "#46039f"
             ],
             [
              0.2222222222222222,
              "#7201a8"
             ],
             [
              0.3333333333333333,
              "#9c179e"
             ],
             [
              0.4444444444444444,
              "#bd3786"
             ],
             [
              0.5555555555555556,
              "#d8576b"
             ],
             [
              0.6666666666666666,
              "#ed7953"
             ],
             [
              0.7777777777777778,
              "#fb9f3a"
             ],
             [
              0.8888888888888888,
              "#fdca26"
             ],
             [
              1,
              "#f0f921"
             ]
            ],
            "type": "surface"
           }
          ],
          "table": [
           {
            "cells": {
             "fill": {
              "color": "#EBF0F8"
             },
             "line": {
              "color": "white"
             }
            },
            "header": {
             "fill": {
              "color": "#C8D4E3"
             },
             "line": {
              "color": "white"
             }
            },
            "type": "table"
           }
          ]
         },
         "layout": {
          "annotationdefaults": {
           "arrowcolor": "#2a3f5f",
           "arrowhead": 0,
           "arrowwidth": 1
          },
          "coloraxis": {
           "colorbar": {
            "outlinewidth": 0,
            "ticks": ""
           }
          },
          "colorscale": {
           "diverging": [
            [
             0,
             "#8e0152"
            ],
            [
             0.1,
             "#c51b7d"
            ],
            [
             0.2,
             "#de77ae"
            ],
            [
             0.3,
             "#f1b6da"
            ],
            [
             0.4,
             "#fde0ef"
            ],
            [
             0.5,
             "#f7f7f7"
            ],
            [
             0.6,
             "#e6f5d0"
            ],
            [
             0.7,
             "#b8e186"
            ],
            [
             0.8,
             "#7fbc41"
            ],
            [
             0.9,
             "#4d9221"
            ],
            [
             1,
             "#276419"
            ]
           ],
           "sequential": [
            [
             0,
             "#0d0887"
            ],
            [
             0.1111111111111111,
             "#46039f"
            ],
            [
             0.2222222222222222,
             "#7201a8"
            ],
            [
             0.3333333333333333,
             "#9c179e"
            ],
            [
             0.4444444444444444,
             "#bd3786"
            ],
            [
             0.5555555555555556,
             "#d8576b"
            ],
            [
             0.6666666666666666,
             "#ed7953"
            ],
            [
             0.7777777777777778,
             "#fb9f3a"
            ],
            [
             0.8888888888888888,
             "#fdca26"
            ],
            [
             1,
             "#f0f921"
            ]
           ],
           "sequentialminus": [
            [
             0,
             "#0d0887"
            ],
            [
             0.1111111111111111,
             "#46039f"
            ],
            [
             0.2222222222222222,
             "#7201a8"
            ],
            [
             0.3333333333333333,
             "#9c179e"
            ],
            [
             0.4444444444444444,
             "#bd3786"
            ],
            [
             0.5555555555555556,
             "#d8576b"
            ],
            [
             0.6666666666666666,
             "#ed7953"
            ],
            [
             0.7777777777777778,
             "#fb9f3a"
            ],
            [
             0.8888888888888888,
             "#fdca26"
            ],
            [
             1,
             "#f0f921"
            ]
           ]
          },
          "colorway": [
           "#636efa",
           "#EF553B",
           "#00cc96",
           "#ab63fa",
           "#FFA15A",
           "#19d3f3",
           "#FF6692",
           "#B6E880",
           "#FF97FF",
           "#FECB52"
          ],
          "font": {
           "color": "#2a3f5f"
          },
          "geo": {
           "bgcolor": "white",
           "lakecolor": "white",
           "landcolor": "#E5ECF6",
           "showlakes": true,
           "showland": true,
           "subunitcolor": "white"
          },
          "hoverlabel": {
           "align": "left"
          },
          "hovermode": "closest",
          "mapbox": {
           "style": "light"
          },
          "paper_bgcolor": "white",
          "plot_bgcolor": "#E5ECF6",
          "polar": {
           "angularaxis": {
            "gridcolor": "white",
            "linecolor": "white",
            "ticks": ""
           },
           "bgcolor": "#E5ECF6",
           "radialaxis": {
            "gridcolor": "white",
            "linecolor": "white",
            "ticks": ""
           }
          },
          "scene": {
           "xaxis": {
            "backgroundcolor": "#E5ECF6",
            "gridcolor": "white",
            "gridwidth": 2,
            "linecolor": "white",
            "showbackground": true,
            "ticks": "",
            "zerolinecolor": "white"
           },
           "yaxis": {
            "backgroundcolor": "#E5ECF6",
            "gridcolor": "white",
            "gridwidth": 2,
            "linecolor": "white",
            "showbackground": true,
            "ticks": "",
            "zerolinecolor": "white"
           },
           "zaxis": {
            "backgroundcolor": "#E5ECF6",
            "gridcolor": "white",
            "gridwidth": 2,
            "linecolor": "white",
            "showbackground": true,
            "ticks": "",
            "zerolinecolor": "white"
           }
          },
          "shapedefaults": {
           "line": {
            "color": "#2a3f5f"
           }
          },
          "ternary": {
           "aaxis": {
            "gridcolor": "white",
            "linecolor": "white",
            "ticks": ""
           },
           "baxis": {
            "gridcolor": "white",
            "linecolor": "white",
            "ticks": ""
           },
           "bgcolor": "#E5ECF6",
           "caxis": {
            "gridcolor": "white",
            "linecolor": "white",
            "ticks": ""
           }
          },
          "title": {
           "x": 0.05
          },
          "xaxis": {
           "automargin": true,
           "gridcolor": "white",
           "linecolor": "white",
           "ticks": "",
           "title": {
            "standoff": 15
           },
           "zerolinecolor": "white",
           "zerolinewidth": 2
          },
          "yaxis": {
           "automargin": true,
           "gridcolor": "white",
           "linecolor": "white",
           "ticks": "",
           "title": {
            "standoff": 15
           },
           "zerolinecolor": "white",
           "zerolinewidth": 2
          }
         }
        },
        "title": {
         "font": {
          "color": "#4D5663"
         }
        },
        "xaxis": {
         "gridcolor": "#E1E5ED",
         "showgrid": true,
         "tickfont": {
          "color": "#4D5663"
         },
         "title": {
          "font": {
           "color": "#4D5663"
          },
          "text": ""
         },
         "zerolinecolor": "#E1E5ED"
        },
        "yaxis": {
         "gridcolor": "#E1E5ED",
         "showgrid": true,
         "tickfont": {
          "color": "#4D5663"
         },
         "title": {
          "font": {
           "color": "#4D5663"
          },
          "text": ""
         },
         "zerolinecolor": "#E1E5ED"
        }
       }
      },
      "text/html": [
       "<div>\n",
       "        \n",
       "        \n",
       "            <div id=\"d1f7ae3d-f0ab-4c14-9ecc-34fb0d221ad1\" class=\"plotly-graph-div\" style=\"height:525px; width:100%;\"></div>\n",
       "            <script type=\"text/javascript\">\n",
       "                require([\"plotly\"], function(Plotly) {\n",
       "                    window.PLOTLYENV=window.PLOTLYENV || {};\n",
       "                    window.PLOTLYENV.BASE_URL='https://plot.ly';\n",
       "                    \n",
       "                if (document.getElementById(\"d1f7ae3d-f0ab-4c14-9ecc-34fb0d221ad1\")) {\n",
       "                    Plotly.newPlot(\n",
       "                        'd1f7ae3d-f0ab-4c14-9ecc-34fb0d221ad1',\n",
       "                        [{\"line\": {\"color\": \"rgba(255, 153, 51, 1.0)\", \"dash\": \"solid\", \"shape\": \"linear\", \"width\": 1.3}, \"mode\": \"lines\", \"name\": \"label\", \"text\": \"\", \"type\": \"scatter\", \"x\": [\"2000\", \"4000\", \"6000\", \"8000\", \"10000\", \"12000\", \"14000\", \"16000\", \"18000\", \"20000\", \"22000\", \"24000\", \"26000\", \"28000\", \"30000\", \"32000\", \"34000\", \"36000\", \"38000\", \"40000\", \"40000\"], \"y\": [\"mfb7-TDE\", \"mfb7-TDE\", \"mfb7-TDE\", \"mfb7-TDE\", \"mfb7-TDE\", \"mfb7-TDE\", \"mfb7-TDE\", \"mfb7-TDE\", \"mfb7-TDE\", \"mfb7-TDE\", \"mfb7-TDE\", \"mfb7-TDE\", \"mfb7-TDE\", \"mfb7-TDE\", \"mfb7-TDE\", \"mfb7-TDE\", \"mfb7-TDE\", \"mfb7-TDE\", \"mfb7-TDE\", \"mfb7-TDE\", \"mfb7-TDE\"]}, {\"line\": {\"color\": \"rgba(55, 128, 191, 1.0)\", \"dash\": \"solid\", \"shape\": \"linear\", \"width\": 1.3}, \"mode\": \"lines\", \"name\": \"eval_set\", \"text\": \"\", \"type\": \"scatter\", \"x\": [\"2000\", \"4000\", \"6000\", \"8000\", \"10000\", \"12000\", \"14000\", \"16000\", \"18000\", \"20000\", \"22000\", \"24000\", \"26000\", \"28000\", \"30000\", \"32000\", \"34000\", \"36000\", \"38000\", \"40000\", \"40000\"], \"y\": [\"validation\", \"validation\", \"validation\", \"validation\", \"validation\", \"validation\", \"validation\", \"validation\", \"validation\", \"validation\", \"validation\", \"validation\", \"validation\", \"validation\", \"validation\", \"validation\", \"validation\", \"validation\", \"validation\", \"validation\", \"test\"]}, {\"line\": {\"color\": \"rgba(50, 171, 96, 1.0)\", \"dash\": \"solid\", \"shape\": \"linear\", \"width\": 1.3}, \"mode\": \"lines\", \"name\": \"mAp\", \"text\": \"\", \"type\": \"scatter\", \"x\": [\"2000\", \"4000\", \"6000\", \"8000\", \"10000\", \"12000\", \"14000\", \"16000\", \"18000\", \"20000\", \"22000\", \"24000\", \"26000\", \"28000\", \"30000\", \"32000\", \"34000\", \"36000\", \"38000\", \"40000\", \"40000\"], \"y\": [\"0.9999\", \"0.9999\", \"0.9999\", \"0.9999\", \"0.9999\", \"0.9999\", \"0.9999\", \"0.9999\", \"0.9999\", \"0.9999\", \"0.9999\", \"0.9999\", \"0.9999\", \"0.9999\", \"0.9999\", \"0.9999\", \"0.9999\", \"0.9999\", \"0.9999\", \"0.9995\", \"0.9995\"]}, {\"line\": {\"color\": \"rgba(128, 0, 128, 1.0)\", \"dash\": \"solid\", \"shape\": \"linear\", \"width\": 1.3}, \"mode\": \"lines\", \"name\": \"R @ 20\", \"text\": \"\", \"type\": \"scatter\", \"x\": [\"2000\", \"4000\", \"6000\", \"8000\", \"10000\", \"12000\", \"14000\", \"16000\", \"18000\", \"20000\", \"22000\", \"24000\", \"26000\", \"28000\", \"30000\", \"32000\", \"34000\", \"36000\", \"38000\", \"40000\", \"40000\"], \"y\": [\"0.2988\", \"0.2786\", \"0.2802\", \"0.3029\", \"0.3201\", \"0.3424\", \"0.3843\", \"0.3767\", \"0.0077\", \"0.0753\", \"0.2193\", \"0.2401\", \"0.2742\", \"0.2149\", \"0.2507\", \"0.2786\", \"0.2864\", \"0.2843\", \"0.2875\", \"0.3186\", \"0.4856\"]}, {\"line\": {\"color\": \"rgba(219, 64, 82, 1.0)\", \"dash\": \"solid\", \"shape\": \"linear\", \"width\": 1.3}, \"mode\": \"lines\", \"name\": \"R @ 50\", \"text\": \"\", \"type\": \"scatter\", \"x\": [\"2000\", \"4000\", \"6000\", \"8000\", \"10000\", \"12000\", \"14000\", \"16000\", \"18000\", \"20000\", \"22000\", \"24000\", \"26000\", \"28000\", \"30000\", \"32000\", \"34000\", \"36000\", \"38000\", \"40000\", \"40000\"], \"y\": [\"0.3581\", \"0.3434\", \"0.3460\", \"0.3680\", \"0.4006\", \"0.4269\", \"0.4690\", \"0.4675\", \"0.0135\", \"0.1061\", \"0.2701\", \"0.2977\", \"0.3391\", \"0.2793\", \"0.3170\", \"0.3461\", \"0.3577\", \"0.3555\", \"0.3447\", \"0.3705\", \"0.5935\"]}, {\"line\": {\"color\": \"rgba(0, 128, 128, 1.0)\", \"dash\": \"solid\", \"shape\": \"linear\", \"width\": 1.3}, \"mode\": \"lines\", \"name\": \"R @ 100\", \"text\": \"\", \"type\": \"scatter\", \"x\": [\"2000\", \"4000\", \"6000\", \"8000\", \"10000\", \"12000\", \"14000\", \"16000\", \"18000\", \"20000\", \"22000\", \"24000\", \"26000\", \"28000\", \"30000\", \"32000\", \"34000\", \"36000\", \"38000\", \"40000\", \"40000\"], \"y\": [\"0.3775\", \"0.3668\", \"0.3675\", \"0.3892\", \"0.4213\", \"0.4441\", \"0.4839\", \"0.4853\", \"0.0182\", \"0.1214\", \"0.2922\", \"0.3165\", \"0.3611\", \"0.3047\", \"0.3397\", \"0.3657\", \"0.3807\", \"0.3773\", \"0.3586\", \"0.3785\", \"0.6386\"]}, {\"line\": {\"color\": \"rgba(255, 255, 51, 1.0)\", \"dash\": \"solid\", \"shape\": \"linear\", \"width\": 1.3}, \"mode\": \"lines\", \"name\": \"ngR @ 20\", \"text\": \"\", \"type\": \"scatter\", \"x\": [\"2000\", \"4000\", \"6000\", \"8000\", \"10000\", \"12000\", \"14000\", \"16000\", \"18000\", \"20000\", \"22000\", \"24000\", \"26000\", \"28000\", \"30000\", \"32000\", \"34000\", \"36000\", \"38000\", \"40000\", \"40000\"], \"y\": [\"0.3911\", \"0.3650\", \"0.3710\", \"0.3976\", \"0.4415\", \"0.4851\", \"0.5332\", \"0.5044\", \"0.0065\", \"0.0830\", \"0.3001\", \"0.3465\", \"0.3891\", \"0.3184\", \"0.3451\", \"0.3833\", \"0.3801\", \"0.3778\", \"0.3834\", \"0.3899\", \"0.5314\"]}, {\"line\": {\"color\": \"rgba(128, 128, 0, 1.0)\", \"dash\": \"solid\", \"shape\": \"linear\", \"width\": 1.3}, \"mode\": \"lines\", \"name\": \"ngR @ 50\", \"text\": \"\", \"type\": \"scatter\", \"x\": [\"2000\", \"4000\", \"6000\", \"8000\", \"10000\", \"12000\", \"14000\", \"16000\", \"18000\", \"20000\", \"22000\", \"24000\", \"26000\", \"28000\", \"30000\", \"32000\", \"34000\", \"36000\", \"38000\", \"40000\", \"40000\"], \"y\": [\"0.5480\", \"0.5460\", \"0.5495\", \"0.5803\", \"0.6873\", \"0.7329\", \"0.7493\", \"0.7160\", \"0.0284\", \"0.1107\", \"0.4199\", \"0.5107\", \"0.5852\", \"0.4955\", \"0.5249\", \"0.5599\", \"0.5386\", \"0.5203\", \"0.4981\", \"0.4881\", \"0.6987\"]}, {\"line\": {\"color\": \"rgba(251, 128, 114, 1.0)\", \"dash\": \"solid\", \"shape\": \"linear\", \"width\": 1.3}, \"mode\": \"lines\", \"name\": \"ngR @ 100\", \"text\": \"\", \"type\": \"scatter\", \"x\": [\"2000\", \"4000\", \"6000\", \"8000\", \"10000\", \"12000\", \"14000\", \"16000\", \"18000\", \"20000\", \"22000\", \"24000\", \"26000\", \"28000\", \"30000\", \"32000\", \"34000\", \"36000\", \"38000\", \"40000\", \"40000\"], \"y\": [\"0.6469\", \"0.6643\", \"0.6648\", \"0.6954\", \"0.7998\", \"0.8111\", \"0.8043\", \"0.7778\", \"0.0642\", \"0.1549\", \"0.5020\", \"0.6183\", \"0.6958\", \"0.6225\", \"0.6407\", \"0.6517\", \"0.6198\", \"0.5880\", \"0.5453\", \"0.5236\", \"0.7996\"]}, {\"line\": {\"color\": \"rgba(128, 177, 211, 1.0)\", \"dash\": \"solid\", \"shape\": \"linear\", \"width\": 1.3}, \"mode\": \"lines\", \"name\": \"zR @ 20\", \"text\": \"\", \"type\": \"scatter\", \"x\": [\"2000\", \"4000\", \"6000\", \"8000\", \"10000\", \"12000\", \"14000\", \"16000\", \"18000\", \"20000\", \"22000\", \"24000\", \"26000\", \"28000\", \"30000\", \"32000\", \"34000\", \"36000\", \"38000\", \"40000\", \"40000\"], \"y\": [\"0.0911\", \"0.0978\", \"0.1104\", \"0.1126\", \"0.1119\", \"0.1089\", \"0.1104\", \"0.1222\", \"0.0311\", \"0.0778\", \"0.1007\", \"0.1119\", \"0.0985\", \"0.1222\", \"0.1170\", \"0.1407\", \"0.1430\", \"0.1385\", \"0.1141\", \"0.0963\", \"0.0010\"]}, {\"line\": {\"color\": \"rgba(128, 177, 211, 0.8999999999999999)\", \"dash\": \"solid\", \"shape\": \"linear\", \"width\": 1.3}, \"mode\": \"lines\", \"name\": \"zR @ 50\", \"text\": \"\", \"type\": \"scatter\", \"x\": [\"2000\", \"4000\", \"6000\", \"8000\", \"10000\", \"12000\", \"14000\", \"16000\", \"18000\", \"20000\", \"22000\", \"24000\", \"26000\", \"28000\", \"30000\", \"32000\", \"34000\", \"36000\", \"38000\", \"40000\", \"40000\"], \"y\": [\"0.1474\", \"0.1785\", \"0.1637\", \"0.1652\", \"0.1600\", \"0.1652\", \"0.1704\", \"0.1911\", \"0.0422\", \"0.1044\", \"0.1474\", \"0.1585\", \"0.1496\", \"0.1674\", \"0.1607\", \"0.1896\", \"0.1852\", \"0.1756\", \"0.1289\", \"0.1334\", \"0.0032\"]}, {\"line\": {\"color\": \"rgba(255, 153, 51, 0.8999999999999999)\", \"dash\": \"solid\", \"shape\": \"linear\", \"width\": 1.3}, \"mode\": \"lines\", \"name\": \"zR @ 100\", \"text\": \"\", \"type\": \"scatter\", \"x\": [\"2000\", \"4000\", \"6000\", \"8000\", \"10000\", \"12000\", \"14000\", \"16000\", \"18000\", \"20000\", \"22000\", \"24000\", \"26000\", \"28000\", \"30000\", \"32000\", \"34000\", \"36000\", \"38000\", \"40000\", \"40000\"], \"y\": [\"0.1785\", \"0.2119\", \"0.1963\", \"0.1830\", \"0.1793\", \"0.1919\", \"0.1985\", \"0.2185\", \"0.0556\", \"0.1356\", \"0.1741\", \"0.1837\", \"0.1896\", \"0.1807\", \"0.1756\", \"0.1963\", \"0.1896\", \"0.1881\", \"0.1348\", \"0.1467\", \"0.0044\"]}, {\"line\": {\"color\": \"rgba(55, 128, 191, 0.8999999999999999)\", \"dash\": \"solid\", \"shape\": \"linear\", \"width\": 1.3}, \"mode\": \"lines\", \"name\": \"mR @ 20\", \"text\": \"\", \"type\": \"scatter\", \"x\": [\"2000\", \"4000\", \"6000\", \"8000\", \"10000\", \"12000\", \"14000\", \"16000\", \"18000\", \"20000\", \"22000\", \"24000\", \"26000\", \"28000\", \"30000\", \"32000\", \"34000\", \"36000\", \"38000\", \"40000\", \"40000\"], \"y\": [\"0.1478\", \"0.1609\", \"0.1467\", \"0.1650\", \"0.1615\", \"0.1553\", \"0.1522\", \"0.1571\", \"0.0059\", \"0.0503\", \"0.0913\", \"0.1201\", \"0.1192\", \"0.1251\", \"0.1278\", \"0.1447\", \"0.1368\", \"0.1377\", \"0.1297\", \"0.1298\", \"0.0833\"]}, {\"line\": {\"color\": \"rgba(50, 171, 96, 0.8999999999999999)\", \"dash\": \"solid\", \"shape\": \"linear\", \"width\": 1.3}, \"mode\": \"lines\", \"name\": \"mR @ 50\", \"text\": \"\", \"type\": \"scatter\", \"x\": [\"2000\", \"4000\", \"6000\", \"8000\", \"10000\", \"12000\", \"14000\", \"16000\", \"18000\", \"20000\", \"22000\", \"24000\", \"26000\", \"28000\", \"30000\", \"32000\", \"34000\", \"36000\", \"38000\", \"40000\", \"40000\"], \"y\": [\"0.1747\", \"0.1889\", \"0.1703\", \"0.1916\", \"0.1887\", \"0.1840\", \"0.1781\", \"0.1868\", \"0.0100\", \"0.0862\", \"0.1167\", \"0.1470\", \"0.1446\", \"0.1491\", \"0.1527\", \"0.1699\", \"0.1632\", \"0.1621\", \"0.1543\", \"0.1531\", \"0.1281\"]}, {\"line\": {\"color\": \"rgba(128, 0, 128, 0.8999999999999999)\", \"dash\": \"solid\", \"shape\": \"linear\", \"width\": 1.3}, \"mode\": \"lines\", \"name\": \"mR @ 100\", \"text\": \"\", \"type\": \"scatter\", \"x\": [\"2000\", \"4000\", \"6000\", \"8000\", \"10000\", \"12000\", \"14000\", \"16000\", \"18000\", \"20000\", \"22000\", \"24000\", \"26000\", \"28000\", \"30000\", \"32000\", \"34000\", \"36000\", \"38000\", \"40000\", \"40000\"], \"y\": [\"0.1821\", \"0.1979\", \"0.1819\", \"0.2038\", \"0.2002\", \"0.1934\", \"0.1896\", \"0.1999\", \"0.0138\", \"0.1070\", \"0.1290\", \"0.1600\", \"0.1585\", \"0.1601\", \"0.1641\", \"0.1789\", \"0.1772\", \"0.1723\", \"0.1650\", \"0.1627\", \"0.1555\"]}, {\"line\": {\"color\": \"rgba(219, 64, 82, 0.8999999999999999)\", \"dash\": \"solid\", \"shape\": \"linear\", \"width\": 1.3}, \"mode\": \"lines\", \"name\": \"A @ 20\", \"text\": \"\", \"type\": \"scatter\", \"x\": [\"2000\", \"4000\", \"6000\", \"8000\", \"10000\", \"12000\", \"14000\", \"16000\", \"18000\", \"20000\", \"22000\", \"24000\", \"26000\", \"28000\", \"30000\", \"32000\", \"34000\", \"36000\", \"38000\", \"40000\", \"40000\"], \"y\": [\"0.3755\", \"0.3645\", \"0.3618\", \"0.3915\", \"0.4391\", \"0.4747\", \"0.5271\", \"0.5241\", \"0.0242\", \"0.1231\", \"0.3002\", \"0.3088\", \"0.3595\", \"0.2888\", \"0.3394\", \"0.3628\", \"0.3800\", \"0.3862\", \"0.3604\", \"0.3728\", \"0.6775\"]}, {\"line\": {\"color\": \"rgba(0, 128, 128, 0.8999999999999999)\", \"dash\": \"solid\", \"shape\": \"linear\", \"width\": 1.3}, \"mode\": \"lines\", \"name\": \"A @ 50\", \"text\": \"\", \"type\": \"scatter\", \"x\": [\"2000\", \"4000\", \"6000\", \"8000\", \"10000\", \"12000\", \"14000\", \"16000\", \"18000\", \"20000\", \"22000\", \"24000\", \"26000\", \"28000\", \"30000\", \"32000\", \"34000\", \"36000\", \"38000\", \"40000\", \"40000\"], \"y\": [\"0.3778\", \"0.3672\", \"0.3653\", \"0.3958\", \"0.4437\", \"0.4796\", \"0.5320\", \"0.5288\", \"0.0242\", \"0.1238\", \"0.3027\", \"0.3119\", \"0.3623\", \"0.2916\", \"0.3425\", \"0.3658\", \"0.3829\", \"0.3890\", \"0.3620\", \"0.3732\", \"0.6801\"]}, {\"line\": {\"color\": \"rgba(255, 255, 51, 0.8999999999999999)\", \"dash\": \"solid\", \"shape\": \"linear\", \"width\": 1.3}, \"mode\": \"lines\", \"name\": \"A @ 100\", \"text\": \"\", \"type\": \"scatter\", \"x\": [\"2000\", \"4000\", \"6000\", \"8000\", \"10000\", \"12000\", \"14000\", \"16000\", \"18000\", \"20000\", \"22000\", \"24000\", \"26000\", \"28000\", \"30000\", \"32000\", \"34000\", \"36000\", \"38000\", \"40000\", \"40000\"], \"y\": [\"0.3778\", \"0.3672\", \"0.3653\", \"0.3958\", \"0.4437\", \"0.4796\", \"0.5320\", \"0.5288\", \"0.0242\", \"0.1238\", \"0.3027\", \"0.3119\", \"0.3623\", \"0.2916\", \"0.3425\", \"0.3658\", \"0.3829\", \"0.3890\", \"0.3620\", \"0.3732\", \"0.6801\"]}],\n",
       "                        {\"legend\": {\"bgcolor\": \"#F5F6F9\", \"font\": {\"color\": \"#4D5663\"}}, \"paper_bgcolor\": \"#F5F6F9\", \"plot_bgcolor\": \"#F5F6F9\", \"template\": {\"data\": {\"bar\": [{\"error_x\": {\"color\": \"#2a3f5f\"}, \"error_y\": {\"color\": \"#2a3f5f\"}, \"marker\": {\"line\": {\"color\": \"#E5ECF6\", \"width\": 0.5}}, \"type\": \"bar\"}], \"barpolar\": [{\"marker\": {\"line\": {\"color\": \"#E5ECF6\", \"width\": 0.5}}, \"type\": \"barpolar\"}], \"carpet\": [{\"aaxis\": {\"endlinecolor\": \"#2a3f5f\", \"gridcolor\": \"white\", \"linecolor\": \"white\", \"minorgridcolor\": \"white\", \"startlinecolor\": \"#2a3f5f\"}, \"baxis\": {\"endlinecolor\": \"#2a3f5f\", \"gridcolor\": \"white\", \"linecolor\": \"white\", \"minorgridcolor\": \"white\", \"startlinecolor\": \"#2a3f5f\"}, \"type\": \"carpet\"}], \"choropleth\": [{\"colorbar\": {\"outlinewidth\": 0, \"ticks\": \"\"}, \"type\": \"choropleth\"}], \"contour\": [{\"colorbar\": {\"outlinewidth\": 0, \"ticks\": \"\"}, \"colorscale\": [[0.0, \"#0d0887\"], [0.1111111111111111, \"#46039f\"], [0.2222222222222222, \"#7201a8\"], [0.3333333333333333, \"#9c179e\"], [0.4444444444444444, \"#bd3786\"], [0.5555555555555556, \"#d8576b\"], [0.6666666666666666, \"#ed7953\"], [0.7777777777777778, \"#fb9f3a\"], [0.8888888888888888, \"#fdca26\"], [1.0, \"#f0f921\"]], \"type\": \"contour\"}], \"contourcarpet\": [{\"colorbar\": {\"outlinewidth\": 0, \"ticks\": \"\"}, \"type\": \"contourcarpet\"}], \"heatmap\": [{\"colorbar\": {\"outlinewidth\": 0, \"ticks\": \"\"}, \"colorscale\": [[0.0, \"#0d0887\"], [0.1111111111111111, \"#46039f\"], [0.2222222222222222, \"#7201a8\"], [0.3333333333333333, \"#9c179e\"], [0.4444444444444444, \"#bd3786\"], [0.5555555555555556, \"#d8576b\"], [0.6666666666666666, \"#ed7953\"], [0.7777777777777778, \"#fb9f3a\"], [0.8888888888888888, \"#fdca26\"], [1.0, \"#f0f921\"]], \"type\": \"heatmap\"}], \"heatmapgl\": [{\"colorbar\": {\"outlinewidth\": 0, \"ticks\": \"\"}, \"colorscale\": [[0.0, \"#0d0887\"], [0.1111111111111111, \"#46039f\"], [0.2222222222222222, \"#7201a8\"], [0.3333333333333333, \"#9c179e\"], [0.4444444444444444, \"#bd3786\"], [0.5555555555555556, \"#d8576b\"], [0.6666666666666666, \"#ed7953\"], [0.7777777777777778, \"#fb9f3a\"], [0.8888888888888888, \"#fdca26\"], [1.0, \"#f0f921\"]], \"type\": \"heatmapgl\"}], \"histogram\": [{\"marker\": {\"colorbar\": {\"outlinewidth\": 0, \"ticks\": \"\"}}, \"type\": \"histogram\"}], \"histogram2d\": [{\"colorbar\": {\"outlinewidth\": 0, \"ticks\": \"\"}, \"colorscale\": [[0.0, \"#0d0887\"], [0.1111111111111111, \"#46039f\"], [0.2222222222222222, \"#7201a8\"], [0.3333333333333333, \"#9c179e\"], [0.4444444444444444, \"#bd3786\"], [0.5555555555555556, \"#d8576b\"], [0.6666666666666666, \"#ed7953\"], [0.7777777777777778, \"#fb9f3a\"], [0.8888888888888888, \"#fdca26\"], [1.0, \"#f0f921\"]], \"type\": \"histogram2d\"}], \"histogram2dcontour\": [{\"colorbar\": {\"outlinewidth\": 0, \"ticks\": \"\"}, \"colorscale\": [[0.0, \"#0d0887\"], [0.1111111111111111, \"#46039f\"], [0.2222222222222222, \"#7201a8\"], [0.3333333333333333, \"#9c179e\"], [0.4444444444444444, \"#bd3786\"], [0.5555555555555556, \"#d8576b\"], [0.6666666666666666, \"#ed7953\"], [0.7777777777777778, \"#fb9f3a\"], [0.8888888888888888, \"#fdca26\"], [1.0, \"#f0f921\"]], \"type\": \"histogram2dcontour\"}], \"mesh3d\": [{\"colorbar\": {\"outlinewidth\": 0, \"ticks\": \"\"}, \"type\": \"mesh3d\"}], \"parcoords\": [{\"line\": {\"colorbar\": {\"outlinewidth\": 0, \"ticks\": \"\"}}, \"type\": \"parcoords\"}], \"pie\": [{\"automargin\": true, \"type\": \"pie\"}], \"scatter\": [{\"marker\": {\"colorbar\": {\"outlinewidth\": 0, \"ticks\": \"\"}}, \"type\": \"scatter\"}], \"scatter3d\": [{\"line\": {\"colorbar\": {\"outlinewidth\": 0, \"ticks\": \"\"}}, \"marker\": {\"colorbar\": {\"outlinewidth\": 0, \"ticks\": \"\"}}, \"type\": \"scatter3d\"}], \"scattercarpet\": [{\"marker\": {\"colorbar\": {\"outlinewidth\": 0, \"ticks\": \"\"}}, \"type\": \"scattercarpet\"}], \"scattergeo\": [{\"marker\": {\"colorbar\": {\"outlinewidth\": 0, \"ticks\": \"\"}}, \"type\": \"scattergeo\"}], \"scattergl\": [{\"marker\": {\"colorbar\": {\"outlinewidth\": 0, \"ticks\": \"\"}}, \"type\": \"scattergl\"}], \"scattermapbox\": [{\"marker\": {\"colorbar\": {\"outlinewidth\": 0, \"ticks\": \"\"}}, \"type\": \"scattermapbox\"}], \"scatterpolar\": [{\"marker\": {\"colorbar\": {\"outlinewidth\": 0, \"ticks\": \"\"}}, \"type\": \"scatterpolar\"}], \"scatterpolargl\": [{\"marker\": {\"colorbar\": {\"outlinewidth\": 0, \"ticks\": \"\"}}, \"type\": \"scatterpolargl\"}], \"scatterternary\": [{\"marker\": {\"colorbar\": {\"outlinewidth\": 0, \"ticks\": \"\"}}, \"type\": \"scatterternary\"}], \"surface\": [{\"colorbar\": {\"outlinewidth\": 0, \"ticks\": \"\"}, \"colorscale\": [[0.0, \"#0d0887\"], [0.1111111111111111, \"#46039f\"], [0.2222222222222222, \"#7201a8\"], [0.3333333333333333, \"#9c179e\"], [0.4444444444444444, \"#bd3786\"], [0.5555555555555556, \"#d8576b\"], [0.6666666666666666, \"#ed7953\"], [0.7777777777777778, \"#fb9f3a\"], [0.8888888888888888, \"#fdca26\"], [1.0, \"#f0f921\"]], \"type\": \"surface\"}], \"table\": [{\"cells\": {\"fill\": {\"color\": \"#EBF0F8\"}, \"line\": {\"color\": \"white\"}}, \"header\": {\"fill\": {\"color\": \"#C8D4E3\"}, \"line\": {\"color\": \"white\"}}, \"type\": \"table\"}]}, \"layout\": {\"annotationdefaults\": {\"arrowcolor\": \"#2a3f5f\", \"arrowhead\": 0, \"arrowwidth\": 1}, \"coloraxis\": {\"colorbar\": {\"outlinewidth\": 0, \"ticks\": \"\"}}, \"colorscale\": {\"diverging\": [[0, \"#8e0152\"], [0.1, \"#c51b7d\"], [0.2, \"#de77ae\"], [0.3, \"#f1b6da\"], [0.4, \"#fde0ef\"], [0.5, \"#f7f7f7\"], [0.6, \"#e6f5d0\"], [0.7, \"#b8e186\"], [0.8, \"#7fbc41\"], [0.9, \"#4d9221\"], [1, \"#276419\"]], \"sequential\": [[0.0, \"#0d0887\"], [0.1111111111111111, \"#46039f\"], [0.2222222222222222, \"#7201a8\"], [0.3333333333333333, \"#9c179e\"], [0.4444444444444444, \"#bd3786\"], [0.5555555555555556, \"#d8576b\"], [0.6666666666666666, \"#ed7953\"], [0.7777777777777778, \"#fb9f3a\"], [0.8888888888888888, \"#fdca26\"], [1.0, \"#f0f921\"]], \"sequentialminus\": [[0.0, \"#0d0887\"], [0.1111111111111111, \"#46039f\"], [0.2222222222222222, \"#7201a8\"], [0.3333333333333333, \"#9c179e\"], [0.4444444444444444, \"#bd3786\"], [0.5555555555555556, \"#d8576b\"], [0.6666666666666666, \"#ed7953\"], [0.7777777777777778, \"#fb9f3a\"], [0.8888888888888888, \"#fdca26\"], [1.0, \"#f0f921\"]]}, \"colorway\": [\"#636efa\", \"#EF553B\", \"#00cc96\", \"#ab63fa\", \"#FFA15A\", \"#19d3f3\", \"#FF6692\", \"#B6E880\", \"#FF97FF\", \"#FECB52\"], \"font\": {\"color\": \"#2a3f5f\"}, \"geo\": {\"bgcolor\": \"white\", \"lakecolor\": \"white\", \"landcolor\": \"#E5ECF6\", \"showlakes\": true, \"showland\": true, \"subunitcolor\": \"white\"}, \"hoverlabel\": {\"align\": \"left\"}, \"hovermode\": \"closest\", \"mapbox\": {\"style\": \"light\"}, \"paper_bgcolor\": \"white\", \"plot_bgcolor\": \"#E5ECF6\", \"polar\": {\"angularaxis\": {\"gridcolor\": \"white\", \"linecolor\": \"white\", \"ticks\": \"\"}, \"bgcolor\": \"#E5ECF6\", \"radialaxis\": {\"gridcolor\": \"white\", \"linecolor\": \"white\", \"ticks\": \"\"}}, \"scene\": {\"xaxis\": {\"backgroundcolor\": \"#E5ECF6\", \"gridcolor\": \"white\", \"gridwidth\": 2, \"linecolor\": \"white\", \"showbackground\": true, \"ticks\": \"\", \"zerolinecolor\": \"white\"}, \"yaxis\": {\"backgroundcolor\": \"#E5ECF6\", \"gridcolor\": \"white\", \"gridwidth\": 2, \"linecolor\": \"white\", \"showbackground\": true, \"ticks\": \"\", \"zerolinecolor\": \"white\"}, \"zaxis\": {\"backgroundcolor\": \"#E5ECF6\", \"gridcolor\": \"white\", \"gridwidth\": 2, \"linecolor\": \"white\", \"showbackground\": true, \"ticks\": \"\", \"zerolinecolor\": \"white\"}}, \"shapedefaults\": {\"line\": {\"color\": \"#2a3f5f\"}}, \"ternary\": {\"aaxis\": {\"gridcolor\": \"white\", \"linecolor\": \"white\", \"ticks\": \"\"}, \"baxis\": {\"gridcolor\": \"white\", \"linecolor\": \"white\", \"ticks\": \"\"}, \"bgcolor\": \"#E5ECF6\", \"caxis\": {\"gridcolor\": \"white\", \"linecolor\": \"white\", \"ticks\": \"\"}}, \"title\": {\"x\": 0.05}, \"xaxis\": {\"automargin\": true, \"gridcolor\": \"white\", \"linecolor\": \"white\", \"ticks\": \"\", \"title\": {\"standoff\": 15}, \"zerolinecolor\": \"white\", \"zerolinewidth\": 2}, \"yaxis\": {\"automargin\": true, \"gridcolor\": \"white\", \"linecolor\": \"white\", \"ticks\": \"\", \"title\": {\"standoff\": 15}, \"zerolinecolor\": \"white\", \"zerolinewidth\": 2}}}, \"title\": {\"font\": {\"color\": \"#4D5663\"}}, \"xaxis\": {\"gridcolor\": \"#E1E5ED\", \"showgrid\": true, \"tickfont\": {\"color\": \"#4D5663\"}, \"title\": {\"font\": {\"color\": \"#4D5663\"}, \"text\": \"\"}, \"zerolinecolor\": \"#E1E5ED\"}, \"yaxis\": {\"gridcolor\": \"#E1E5ED\", \"showgrid\": true, \"tickfont\": {\"color\": \"#4D5663\"}, \"title\": {\"font\": {\"color\": \"#4D5663\"}, \"text\": \"\"}, \"zerolinecolor\": \"#E1E5ED\"}},\n",
       "                        {\"showLink\": true, \"linkText\": \"Export to plot.ly\", \"plotlyServerURL\": \"https://plot.ly\", \"responsive\": true}\n",
       "                    ).then(function(){\n",
       "                            \n",
       "var gd = document.getElementById('d1f7ae3d-f0ab-4c14-9ecc-34fb0d221ad1');\n",
       "var x = new MutationObserver(function (mutations, observer) {{\n",
       "        var display = window.getComputedStyle(gd).display;\n",
       "        if (!display || display === 'none') {{\n",
       "            console.log([gd, 'removed!']);\n",
       "            Plotly.purge(gd);\n",
       "            observer.disconnect();\n",
       "        }}\n",
       "}});\n",
       "\n",
       "// Listen for the removal of the full notebook cells\n",
       "var notebookContainer = gd.closest('#notebook-container');\n",
       "if (notebookContainer) {{\n",
       "    x.observe(notebookContainer, {childList: true});\n",
       "}}\n",
       "\n",
       "// Listen for the clearing of the current output cell\n",
       "var outputEl = gd.closest('.output');\n",
       "if (outputEl) {{\n",
       "    x.observe(outputEl, {childList: true});\n",
       "}}\n",
       "\n",
       "                        })\n",
       "                };\n",
       "                });\n",
       "            </script>\n",
       "        </div>"
      ]
     },
     "metadata": {},
     "output_type": "display_data"
    }
   ],
   "source": [
    "df[df[\"label\"]==\"mfb7-TDE\"].iplot(x=\"iter\")"
   ]
  },
  {
   "cell_type": "code",
   "execution_count": 11,
   "metadata": {
    "ExecuteTime": {
     "end_time": "2020-07-09T18:32:00.664940Z",
     "start_time": "2020-07-09T18:32:00.584975Z"
    }
   },
   "outputs": [
    {
     "data": {
      "text/html": [
       "<div>\n",
       "<style scoped>\n",
       "    .dataframe tbody tr th:only-of-type {\n",
       "        vertical-align: middle;\n",
       "    }\n",
       "\n",
       "    .dataframe tbody tr th {\n",
       "        vertical-align: top;\n",
       "    }\n",
       "\n",
       "    .dataframe thead th {\n",
       "        text-align: right;\n",
       "    }\n",
       "</style>\n",
       "<table border=\"1\" class=\"dataframe\">\n",
       "  <thead>\n",
       "    <tr style=\"text-align: right;\">\n",
       "      <th></th>\n",
       "      <th>label</th>\n",
       "      <th>eval_set</th>\n",
       "      <th>iter</th>\n",
       "      <th>mAp</th>\n",
       "      <th>R @ 20</th>\n",
       "      <th>R @ 50</th>\n",
       "      <th>R @ 100</th>\n",
       "      <th>ngR @ 20</th>\n",
       "      <th>ngR @ 50</th>\n",
       "      <th>ngR @ 100</th>\n",
       "      <th>zR @ 20</th>\n",
       "      <th>zR @ 50</th>\n",
       "      <th>zR @ 100</th>\n",
       "      <th>mR @ 20</th>\n",
       "      <th>mR @ 50</th>\n",
       "      <th>mR @ 100</th>\n",
       "      <th>A @ 20</th>\n",
       "      <th>A @ 50</th>\n",
       "      <th>A @ 100</th>\n",
       "    </tr>\n",
       "  </thead>\n",
       "  <tbody>\n",
       "    <tr>\n",
       "      <th>22</th>\n",
       "      <td>dist2-TDE</td>\n",
       "      <td>test</td>\n",
       "      <td>24000</td>\n",
       "      <td>0.9995</td>\n",
       "      <td>0.5354</td>\n",
       "      <td>0.6005</td>\n",
       "      <td>0.6206</td>\n",
       "      <td>0.6042</td>\n",
       "      <td>0.7359</td>\n",
       "      <td>0.8031</td>\n",
       "      <td>0.0624</td>\n",
       "      <td>0.1092</td>\n",
       "      <td>0.1362</td>\n",
       "      <td>0.1093</td>\n",
       "      <td>0.1429</td>\n",
       "      <td>0.1612</td>\n",
       "      <td>0.6391</td>\n",
       "      <td>0.6412</td>\n",
       "      <td>0.6412</td>\n",
       "    </tr>\n",
       "    <tr>\n",
       "      <th>33</th>\n",
       "      <td>gate-TDE</td>\n",
       "      <td>test</td>\n",
       "      <td>20000</td>\n",
       "      <td>0.9995</td>\n",
       "      <td>0.3310</td>\n",
       "      <td>0.4448</td>\n",
       "      <td>0.4940</td>\n",
       "      <td>0.3699</td>\n",
       "      <td>0.5500</td>\n",
       "      <td>0.6699</td>\n",
       "      <td>0.0546</td>\n",
       "      <td>0.0915</td>\n",
       "      <td>0.1196</td>\n",
       "      <td>0.1870</td>\n",
       "      <td>0.2586</td>\n",
       "      <td>0.2968</td>\n",
       "      <td>0.5303</td>\n",
       "      <td>0.5322</td>\n",
       "      <td>0.5322</td>\n",
       "    </tr>\n",
       "    <tr>\n",
       "      <th>62</th>\n",
       "      <td>mfb7-TDE</td>\n",
       "      <td>test</td>\n",
       "      <td>40000</td>\n",
       "      <td>0.9995</td>\n",
       "      <td>0.4856</td>\n",
       "      <td>0.5935</td>\n",
       "      <td>0.6386</td>\n",
       "      <td>0.5314</td>\n",
       "      <td>0.6987</td>\n",
       "      <td>0.7996</td>\n",
       "      <td>0.0010</td>\n",
       "      <td>0.0032</td>\n",
       "      <td>0.0044</td>\n",
       "      <td>0.0833</td>\n",
       "      <td>0.1281</td>\n",
       "      <td>0.1555</td>\n",
       "      <td>0.6775</td>\n",
       "      <td>0.6801</td>\n",
       "      <td>0.6801</td>\n",
       "    </tr>\n",
       "    <tr>\n",
       "      <th>76</th>\n",
       "      <td>sum-TDE</td>\n",
       "      <td>test</td>\n",
       "      <td>22000</td>\n",
       "      <td>0.9995</td>\n",
       "      <td>0.2503</td>\n",
       "      <td>0.3583</td>\n",
       "      <td>0.4147</td>\n",
       "      <td>0.2947</td>\n",
       "      <td>0.4774</td>\n",
       "      <td>0.6148</td>\n",
       "      <td>0.0765</td>\n",
       "      <td>0.1217</td>\n",
       "      <td>0.1507</td>\n",
       "      <td>0.1735</td>\n",
       "      <td>0.2466</td>\n",
       "      <td>0.2881</td>\n",
       "      <td>0.4617</td>\n",
       "      <td>0.4634</td>\n",
       "      <td>0.4634</td>\n",
       "    </tr>\n",
       "  </tbody>\n",
       "</table>\n",
       "</div>"
      ],
      "text/plain": [
       "        label eval_set   iter     mAp  R @ 20  R @ 50 R @ 100 ngR @ 20  \\\n",
       "22  dist2-TDE     test  24000  0.9995  0.5354  0.6005  0.6206   0.6042   \n",
       "33   gate-TDE     test  20000  0.9995  0.3310  0.4448  0.4940   0.3699   \n",
       "62   mfb7-TDE     test  40000  0.9995  0.4856  0.5935  0.6386   0.5314   \n",
       "76    sum-TDE     test  22000  0.9995  0.2503  0.3583  0.4147   0.2947   \n",
       "\n",
       "   ngR @ 50 ngR @ 100 zR @ 20 zR @ 50 zR @ 100 mR @ 20 mR @ 50 mR @ 100  \\\n",
       "22   0.7359    0.8031  0.0624  0.1092   0.1362  0.1093  0.1429   0.1612   \n",
       "33   0.5500    0.6699  0.0546  0.0915   0.1196  0.1870  0.2586   0.2968   \n",
       "62   0.6987    0.7996  0.0010  0.0032   0.0044  0.0833  0.1281   0.1555   \n",
       "76   0.4774    0.6148  0.0765  0.1217   0.1507  0.1735  0.2466   0.2881   \n",
       "\n",
       "    A @ 20  A @ 50 A @ 100  \n",
       "22  0.6391  0.6412  0.6412  \n",
       "33  0.5303  0.5322  0.5322  \n",
       "62  0.6775  0.6801  0.6801  \n",
       "76  0.4617  0.4634  0.4634  "
      ]
     },
     "execution_count": 11,
     "metadata": {},
     "output_type": "execute_result"
    }
   ],
   "source": [
    "df[df[\"eval_set\"]==\"test\"]"
   ]
  },
  {
   "cell_type": "code",
   "execution_count": 22,
   "metadata": {
    "ExecuteTime": {
     "end_time": "2020-07-09T18:38:58.302483Z",
     "start_time": "2020-07-09T18:38:58.262435Z"
    }
   },
   "outputs": [
    {
     "data": {
      "text/html": [
       "<div>\n",
       "<style scoped>\n",
       "    .dataframe tbody tr th:only-of-type {\n",
       "        vertical-align: middle;\n",
       "    }\n",
       "\n",
       "    .dataframe tbody tr th {\n",
       "        vertical-align: top;\n",
       "    }\n",
       "\n",
       "    .dataframe thead th {\n",
       "        text-align: right;\n",
       "    }\n",
       "</style>\n",
       "<table border=\"1\" class=\"dataframe\">\n",
       "  <thead>\n",
       "    <tr style=\"text-align: right;\">\n",
       "      <th></th>\n",
       "      <th>label</th>\n",
       "      <th>dist2-TDE</th>\n",
       "      <th>gate-TDE</th>\n",
       "      <th>mfb7-TDE</th>\n",
       "      <th>sum-TDE</th>\n",
       "    </tr>\n",
       "  </thead>\n",
       "  <tbody>\n",
       "    <tr>\n",
       "      <th>4</th>\n",
       "      <td>R @ 20</td>\n",
       "      <td>0.5354</td>\n",
       "      <td>0.3310</td>\n",
       "      <td>0.4856</td>\n",
       "      <td>0.2503</td>\n",
       "    </tr>\n",
       "    <tr>\n",
       "      <th>5</th>\n",
       "      <td>R @ 50</td>\n",
       "      <td>0.6005</td>\n",
       "      <td>0.4448</td>\n",
       "      <td>0.5935</td>\n",
       "      <td>0.3583</td>\n",
       "    </tr>\n",
       "    <tr>\n",
       "      <th>6</th>\n",
       "      <td>R @ 100</td>\n",
       "      <td>0.6206</td>\n",
       "      <td>0.4940</td>\n",
       "      <td>0.6386</td>\n",
       "      <td>0.4147</td>\n",
       "    </tr>\n",
       "    <tr>\n",
       "      <th>7</th>\n",
       "      <td>ngR @ 20</td>\n",
       "      <td>0.6042</td>\n",
       "      <td>0.3699</td>\n",
       "      <td>0.5314</td>\n",
       "      <td>0.2947</td>\n",
       "    </tr>\n",
       "    <tr>\n",
       "      <th>8</th>\n",
       "      <td>ngR @ 50</td>\n",
       "      <td>0.7359</td>\n",
       "      <td>0.5500</td>\n",
       "      <td>0.6987</td>\n",
       "      <td>0.4774</td>\n",
       "    </tr>\n",
       "    <tr>\n",
       "      <th>9</th>\n",
       "      <td>ngR @ 100</td>\n",
       "      <td>0.8031</td>\n",
       "      <td>0.6699</td>\n",
       "      <td>0.7996</td>\n",
       "      <td>0.6148</td>\n",
       "    </tr>\n",
       "    <tr>\n",
       "      <th>10</th>\n",
       "      <td>zR @ 20</td>\n",
       "      <td>0.0624</td>\n",
       "      <td>0.0546</td>\n",
       "      <td>0.0010</td>\n",
       "      <td>0.0765</td>\n",
       "    </tr>\n",
       "    <tr>\n",
       "      <th>11</th>\n",
       "      <td>zR @ 50</td>\n",
       "      <td>0.1092</td>\n",
       "      <td>0.0915</td>\n",
       "      <td>0.0032</td>\n",
       "      <td>0.1217</td>\n",
       "    </tr>\n",
       "    <tr>\n",
       "      <th>12</th>\n",
       "      <td>zR @ 100</td>\n",
       "      <td>0.1362</td>\n",
       "      <td>0.1196</td>\n",
       "      <td>0.0044</td>\n",
       "      <td>0.1507</td>\n",
       "    </tr>\n",
       "    <tr>\n",
       "      <th>13</th>\n",
       "      <td>mR @ 20</td>\n",
       "      <td>0.1093</td>\n",
       "      <td>0.1870</td>\n",
       "      <td>0.0833</td>\n",
       "      <td>0.1735</td>\n",
       "    </tr>\n",
       "    <tr>\n",
       "      <th>14</th>\n",
       "      <td>mR @ 50</td>\n",
       "      <td>0.1429</td>\n",
       "      <td>0.2586</td>\n",
       "      <td>0.1281</td>\n",
       "      <td>0.2466</td>\n",
       "    </tr>\n",
       "    <tr>\n",
       "      <th>15</th>\n",
       "      <td>mR @ 100</td>\n",
       "      <td>0.1612</td>\n",
       "      <td>0.2968</td>\n",
       "      <td>0.1555</td>\n",
       "      <td>0.2881</td>\n",
       "    </tr>\n",
       "    <tr>\n",
       "      <th>16</th>\n",
       "      <td>A @ 20</td>\n",
       "      <td>0.6391</td>\n",
       "      <td>0.5303</td>\n",
       "      <td>0.6775</td>\n",
       "      <td>0.4617</td>\n",
       "    </tr>\n",
       "    <tr>\n",
       "      <th>17</th>\n",
       "      <td>A @ 50</td>\n",
       "      <td>0.6412</td>\n",
       "      <td>0.5322</td>\n",
       "      <td>0.6801</td>\n",
       "      <td>0.4634</td>\n",
       "    </tr>\n",
       "    <tr>\n",
       "      <th>18</th>\n",
       "      <td>A @ 100</td>\n",
       "      <td>0.6412</td>\n",
       "      <td>0.5322</td>\n",
       "      <td>0.6801</td>\n",
       "      <td>0.4634</td>\n",
       "    </tr>\n",
       "  </tbody>\n",
       "</table>\n",
       "</div>"
      ],
      "text/plain": [
       "0       label dist2-TDE gate-TDE mfb7-TDE sum-TDE\n",
       "4      R @ 20    0.5354   0.3310   0.4856  0.2503\n",
       "5      R @ 50    0.6005   0.4448   0.5935  0.3583\n",
       "6     R @ 100    0.6206   0.4940   0.6386  0.4147\n",
       "7    ngR @ 20    0.6042   0.3699   0.5314  0.2947\n",
       "8    ngR @ 50    0.7359   0.5500   0.6987  0.4774\n",
       "9   ngR @ 100    0.8031   0.6699   0.7996  0.6148\n",
       "10    zR @ 20    0.0624   0.0546   0.0010  0.0765\n",
       "11    zR @ 50    0.1092   0.0915   0.0032  0.1217\n",
       "12   zR @ 100    0.1362   0.1196   0.0044  0.1507\n",
       "13    mR @ 20    0.1093   0.1870   0.0833  0.1735\n",
       "14    mR @ 50    0.1429   0.2586   0.1281  0.2466\n",
       "15   mR @ 100    0.1612   0.2968   0.1555  0.2881\n",
       "16     A @ 20    0.6391   0.5303   0.6775  0.4617\n",
       "17     A @ 50    0.6412   0.5322   0.6801  0.4634\n",
       "18    A @ 100    0.6412   0.5322   0.6801  0.4634"
      ]
     },
     "execution_count": 22,
     "metadata": {},
     "output_type": "execute_result"
    }
   ],
   "source": [
    "_df = df[ df['eval_set'] == \"test\" ]\n",
    "#_df= _df.set_index('label')\n",
    "_df=_df.T.reset_index()\n",
    "_df.columns = _df.iloc[0]\n",
    "_df = _df.drop([0,1,2,3]) # drops rows label, eval_set, iter, mAP\n",
    "_df\n",
    "#list(_df.iloc[0])"
   ]
  },
  {
   "cell_type": "code",
   "execution_count": 23,
   "metadata": {
    "ExecuteTime": {
     "end_time": "2020-07-09T18:38:59.326647Z",
     "start_time": "2020-07-09T18:38:59.314693Z"
    }
   },
   "outputs": [],
   "source": [
    "_df.columns = [\"label\",\"DIST\",\"GATE\",\"MFB\",\"SUM\"]"
   ]
  },
  {
   "cell_type": "code",
   "execution_count": 24,
   "metadata": {
    "ExecuteTime": {
     "end_time": "2020-07-09T18:39:00.250647Z",
     "start_time": "2020-07-09T18:39:00.218681Z"
    }
   },
   "outputs": [
    {
     "data": {
      "text/html": [
       "<div>\n",
       "<style scoped>\n",
       "    .dataframe tbody tr th:only-of-type {\n",
       "        vertical-align: middle;\n",
       "    }\n",
       "\n",
       "    .dataframe tbody tr th {\n",
       "        vertical-align: top;\n",
       "    }\n",
       "\n",
       "    .dataframe thead th {\n",
       "        text-align: right;\n",
       "    }\n",
       "</style>\n",
       "<table border=\"1\" class=\"dataframe\">\n",
       "  <thead>\n",
       "    <tr style=\"text-align: right;\">\n",
       "      <th></th>\n",
       "      <th>label</th>\n",
       "      <th>SUM</th>\n",
       "      <th>GATE</th>\n",
       "      <th>MFB</th>\n",
       "      <th>DIST</th>\n",
       "    </tr>\n",
       "  </thead>\n",
       "  <tbody>\n",
       "    <tr>\n",
       "      <th>4</th>\n",
       "      <td>R @ 20</td>\n",
       "      <td>0.2503</td>\n",
       "      <td>0.3310</td>\n",
       "      <td>0.4856</td>\n",
       "      <td>0.5354</td>\n",
       "    </tr>\n",
       "    <tr>\n",
       "      <th>5</th>\n",
       "      <td>R @ 50</td>\n",
       "      <td>0.3583</td>\n",
       "      <td>0.4448</td>\n",
       "      <td>0.5935</td>\n",
       "      <td>0.6005</td>\n",
       "    </tr>\n",
       "    <tr>\n",
       "      <th>6</th>\n",
       "      <td>R @ 100</td>\n",
       "      <td>0.4147</td>\n",
       "      <td>0.4940</td>\n",
       "      <td>0.6386</td>\n",
       "      <td>0.6206</td>\n",
       "    </tr>\n",
       "    <tr>\n",
       "      <th>7</th>\n",
       "      <td>ngR @ 20</td>\n",
       "      <td>0.2947</td>\n",
       "      <td>0.3699</td>\n",
       "      <td>0.5314</td>\n",
       "      <td>0.6042</td>\n",
       "    </tr>\n",
       "    <tr>\n",
       "      <th>8</th>\n",
       "      <td>ngR @ 50</td>\n",
       "      <td>0.4774</td>\n",
       "      <td>0.5500</td>\n",
       "      <td>0.6987</td>\n",
       "      <td>0.7359</td>\n",
       "    </tr>\n",
       "    <tr>\n",
       "      <th>9</th>\n",
       "      <td>ngR @ 100</td>\n",
       "      <td>0.6148</td>\n",
       "      <td>0.6699</td>\n",
       "      <td>0.7996</td>\n",
       "      <td>0.8031</td>\n",
       "    </tr>\n",
       "    <tr>\n",
       "      <th>10</th>\n",
       "      <td>zR @ 20</td>\n",
       "      <td>0.0765</td>\n",
       "      <td>0.0546</td>\n",
       "      <td>0.0010</td>\n",
       "      <td>0.0624</td>\n",
       "    </tr>\n",
       "    <tr>\n",
       "      <th>11</th>\n",
       "      <td>zR @ 50</td>\n",
       "      <td>0.1217</td>\n",
       "      <td>0.0915</td>\n",
       "      <td>0.0032</td>\n",
       "      <td>0.1092</td>\n",
       "    </tr>\n",
       "    <tr>\n",
       "      <th>12</th>\n",
       "      <td>zR @ 100</td>\n",
       "      <td>0.1507</td>\n",
       "      <td>0.1196</td>\n",
       "      <td>0.0044</td>\n",
       "      <td>0.1362</td>\n",
       "    </tr>\n",
       "    <tr>\n",
       "      <th>13</th>\n",
       "      <td>mR @ 20</td>\n",
       "      <td>0.1735</td>\n",
       "      <td>0.1870</td>\n",
       "      <td>0.0833</td>\n",
       "      <td>0.1093</td>\n",
       "    </tr>\n",
       "    <tr>\n",
       "      <th>14</th>\n",
       "      <td>mR @ 50</td>\n",
       "      <td>0.2466</td>\n",
       "      <td>0.2586</td>\n",
       "      <td>0.1281</td>\n",
       "      <td>0.1429</td>\n",
       "    </tr>\n",
       "    <tr>\n",
       "      <th>15</th>\n",
       "      <td>mR @ 100</td>\n",
       "      <td>0.2881</td>\n",
       "      <td>0.2968</td>\n",
       "      <td>0.1555</td>\n",
       "      <td>0.1612</td>\n",
       "    </tr>\n",
       "    <tr>\n",
       "      <th>16</th>\n",
       "      <td>A @ 20</td>\n",
       "      <td>0.4617</td>\n",
       "      <td>0.5303</td>\n",
       "      <td>0.6775</td>\n",
       "      <td>0.6391</td>\n",
       "    </tr>\n",
       "    <tr>\n",
       "      <th>17</th>\n",
       "      <td>A @ 50</td>\n",
       "      <td>0.4634</td>\n",
       "      <td>0.5322</td>\n",
       "      <td>0.6801</td>\n",
       "      <td>0.6412</td>\n",
       "    </tr>\n",
       "    <tr>\n",
       "      <th>18</th>\n",
       "      <td>A @ 100</td>\n",
       "      <td>0.4634</td>\n",
       "      <td>0.5322</td>\n",
       "      <td>0.6801</td>\n",
       "      <td>0.6412</td>\n",
       "    </tr>\n",
       "  </tbody>\n",
       "</table>\n",
       "</div>"
      ],
      "text/plain": [
       "        label     SUM    GATE     MFB    DIST\n",
       "4      R @ 20  0.2503  0.3310  0.4856  0.5354\n",
       "5      R @ 50  0.3583  0.4448  0.5935  0.6005\n",
       "6     R @ 100  0.4147  0.4940  0.6386  0.6206\n",
       "7    ngR @ 20  0.2947  0.3699  0.5314  0.6042\n",
       "8    ngR @ 50  0.4774  0.5500  0.6987  0.7359\n",
       "9   ngR @ 100  0.6148  0.6699  0.7996  0.8031\n",
       "10    zR @ 20  0.0765  0.0546  0.0010  0.0624\n",
       "11    zR @ 50  0.1217  0.0915  0.0032  0.1092\n",
       "12   zR @ 100  0.1507  0.1196  0.0044  0.1362\n",
       "13    mR @ 20  0.1735  0.1870  0.0833  0.1093\n",
       "14    mR @ 50  0.2466  0.2586  0.1281  0.1429\n",
       "15   mR @ 100  0.2881  0.2968  0.1555  0.1612\n",
       "16     A @ 20  0.4617  0.5303  0.6775  0.6391\n",
       "17     A @ 50  0.4634  0.5322  0.6801  0.6412\n",
       "18    A @ 100  0.4634  0.5322  0.6801  0.6412"
      ]
     },
     "execution_count": 24,
     "metadata": {},
     "output_type": "execute_result"
    }
   ],
   "source": [
    "_df2 = _df[[\"label\",\"SUM\",\"GATE\",\"MFB\",\"DIST\"]]\n",
    "_df2"
   ]
  },
  {
   "cell_type": "code",
   "execution_count": 30,
   "metadata": {
    "ExecuteTime": {
     "end_time": "2020-07-09T18:44:06.399761Z",
     "start_time": "2020-07-09T18:44:06.199710Z"
    }
   },
   "outputs": [
    {
     "data": {
      "application/vnd.plotly.v1+json": {
       "config": {
        "linkText": "Export to plot.ly",
        "plotlyServerURL": "https://plot.ly",
        "showLink": true
       },
       "data": [
        {
         "marker": {
          "color": "rgba(255, 153, 51, 0.8)",
          "line": {
           "color": "rgba(255, 153, 51, 1.0)",
           "width": 1
          }
         },
         "name": "SUM",
         "orientation": "v",
         "text": "",
         "type": "bar",
         "x": [
          "R @ 20",
          "R @ 50",
          "R @ 100",
          "ngR @ 20",
          "ngR @ 50",
          "ngR @ 100",
          "zR @ 20",
          "zR @ 50",
          "zR @ 100",
          "mR @ 20",
          "mR @ 50",
          "mR @ 100",
          "A @ 20",
          "A @ 50",
          "A @ 100"
         ],
         "y": [
          "0.2503",
          "0.3583",
          "0.4147",
          "0.2947",
          "0.4774",
          "0.6148",
          "0.0765",
          "0.1217",
          "0.1507",
          "0.1735",
          "0.2466",
          "0.2881",
          "0.4617",
          "0.4634",
          "0.4634"
         ]
        },
        {
         "marker": {
          "color": "rgba(55, 128, 191, 0.8)",
          "line": {
           "color": "rgba(55, 128, 191, 1.0)",
           "width": 1
          }
         },
         "name": "GATE",
         "orientation": "v",
         "text": "",
         "type": "bar",
         "x": [
          "R @ 20",
          "R @ 50",
          "R @ 100",
          "ngR @ 20",
          "ngR @ 50",
          "ngR @ 100",
          "zR @ 20",
          "zR @ 50",
          "zR @ 100",
          "mR @ 20",
          "mR @ 50",
          "mR @ 100",
          "A @ 20",
          "A @ 50",
          "A @ 100"
         ],
         "y": [
          "0.3310",
          "0.4448",
          "0.4940",
          "0.3699",
          "0.5500",
          "0.6699",
          "0.0546",
          "0.0915",
          "0.1196",
          "0.1870",
          "0.2586",
          "0.2968",
          "0.5303",
          "0.5322",
          "0.5322"
         ]
        },
        {
         "marker": {
          "color": "rgba(50, 171, 96, 0.8)",
          "line": {
           "color": "rgba(50, 171, 96, 1.0)",
           "width": 1
          }
         },
         "name": "MFB",
         "orientation": "v",
         "text": "",
         "type": "bar",
         "x": [
          "R @ 20",
          "R @ 50",
          "R @ 100",
          "ngR @ 20",
          "ngR @ 50",
          "ngR @ 100",
          "zR @ 20",
          "zR @ 50",
          "zR @ 100",
          "mR @ 20",
          "mR @ 50",
          "mR @ 100",
          "A @ 20",
          "A @ 50",
          "A @ 100"
         ],
         "y": [
          "0.4856",
          "0.5935",
          "0.6386",
          "0.5314",
          "0.6987",
          "0.7996",
          "0.0010",
          "0.0032",
          "0.0044",
          "0.0833",
          "0.1281",
          "0.1555",
          "0.6775",
          "0.6801",
          "0.6801"
         ]
        },
        {
         "marker": {
          "color": "rgba(128, 0, 128, 0.8)",
          "line": {
           "color": "rgba(128, 0, 128, 1.0)",
           "width": 1
          }
         },
         "name": "DIST",
         "orientation": "v",
         "text": "",
         "type": "bar",
         "x": [
          "R @ 20",
          "R @ 50",
          "R @ 100",
          "ngR @ 20",
          "ngR @ 50",
          "ngR @ 100",
          "zR @ 20",
          "zR @ 50",
          "zR @ 100",
          "mR @ 20",
          "mR @ 50",
          "mR @ 100",
          "A @ 20",
          "A @ 50",
          "A @ 100"
         ],
         "y": [
          "0.5354",
          "0.6005",
          "0.6206",
          "0.6042",
          "0.7359",
          "0.8031",
          "0.0624",
          "0.1092",
          "0.1362",
          "0.1093",
          "0.1429",
          "0.1612",
          "0.6391",
          "0.6412",
          "0.6412"
         ]
        }
       ],
       "layout": {
        "legend": {
         "bgcolor": "#F5F6F9",
         "font": {
          "color": "#4D5663"
         }
        },
        "paper_bgcolor": "#F5F6F9",
        "plot_bgcolor": "#F5F6F9",
        "template": {
         "data": {
          "bar": [
           {
            "error_x": {
             "color": "#2a3f5f"
            },
            "error_y": {
             "color": "#2a3f5f"
            },
            "marker": {
             "line": {
              "color": "#E5ECF6",
              "width": 0.5
             }
            },
            "type": "bar"
           }
          ],
          "barpolar": [
           {
            "marker": {
             "line": {
              "color": "#E5ECF6",
              "width": 0.5
             }
            },
            "type": "barpolar"
           }
          ],
          "carpet": [
           {
            "aaxis": {
             "endlinecolor": "#2a3f5f",
             "gridcolor": "white",
             "linecolor": "white",
             "minorgridcolor": "white",
             "startlinecolor": "#2a3f5f"
            },
            "baxis": {
             "endlinecolor": "#2a3f5f",
             "gridcolor": "white",
             "linecolor": "white",
             "minorgridcolor": "white",
             "startlinecolor": "#2a3f5f"
            },
            "type": "carpet"
           }
          ],
          "choropleth": [
           {
            "colorbar": {
             "outlinewidth": 0,
             "ticks": ""
            },
            "type": "choropleth"
           }
          ],
          "contour": [
           {
            "colorbar": {
             "outlinewidth": 0,
             "ticks": ""
            },
            "colorscale": [
             [
              0,
              "#0d0887"
             ],
             [
              0.1111111111111111,
              "#46039f"
             ],
             [
              0.2222222222222222,
              "#7201a8"
             ],
             [
              0.3333333333333333,
              "#9c179e"
             ],
             [
              0.4444444444444444,
              "#bd3786"
             ],
             [
              0.5555555555555556,
              "#d8576b"
             ],
             [
              0.6666666666666666,
              "#ed7953"
             ],
             [
              0.7777777777777778,
              "#fb9f3a"
             ],
             [
              0.8888888888888888,
              "#fdca26"
             ],
             [
              1,
              "#f0f921"
             ]
            ],
            "type": "contour"
           }
          ],
          "contourcarpet": [
           {
            "colorbar": {
             "outlinewidth": 0,
             "ticks": ""
            },
            "type": "contourcarpet"
           }
          ],
          "heatmap": [
           {
            "colorbar": {
             "outlinewidth": 0,
             "ticks": ""
            },
            "colorscale": [
             [
              0,
              "#0d0887"
             ],
             [
              0.1111111111111111,
              "#46039f"
             ],
             [
              0.2222222222222222,
              "#7201a8"
             ],
             [
              0.3333333333333333,
              "#9c179e"
             ],
             [
              0.4444444444444444,
              "#bd3786"
             ],
             [
              0.5555555555555556,
              "#d8576b"
             ],
             [
              0.6666666666666666,
              "#ed7953"
             ],
             [
              0.7777777777777778,
              "#fb9f3a"
             ],
             [
              0.8888888888888888,
              "#fdca26"
             ],
             [
              1,
              "#f0f921"
             ]
            ],
            "type": "heatmap"
           }
          ],
          "heatmapgl": [
           {
            "colorbar": {
             "outlinewidth": 0,
             "ticks": ""
            },
            "colorscale": [
             [
              0,
              "#0d0887"
             ],
             [
              0.1111111111111111,
              "#46039f"
             ],
             [
              0.2222222222222222,
              "#7201a8"
             ],
             [
              0.3333333333333333,
              "#9c179e"
             ],
             [
              0.4444444444444444,
              "#bd3786"
             ],
             [
              0.5555555555555556,
              "#d8576b"
             ],
             [
              0.6666666666666666,
              "#ed7953"
             ],
             [
              0.7777777777777778,
              "#fb9f3a"
             ],
             [
              0.8888888888888888,
              "#fdca26"
             ],
             [
              1,
              "#f0f921"
             ]
            ],
            "type": "heatmapgl"
           }
          ],
          "histogram": [
           {
            "marker": {
             "colorbar": {
              "outlinewidth": 0,
              "ticks": ""
             }
            },
            "type": "histogram"
           }
          ],
          "histogram2d": [
           {
            "colorbar": {
             "outlinewidth": 0,
             "ticks": ""
            },
            "colorscale": [
             [
              0,
              "#0d0887"
             ],
             [
              0.1111111111111111,
              "#46039f"
             ],
             [
              0.2222222222222222,
              "#7201a8"
             ],
             [
              0.3333333333333333,
              "#9c179e"
             ],
             [
              0.4444444444444444,
              "#bd3786"
             ],
             [
              0.5555555555555556,
              "#d8576b"
             ],
             [
              0.6666666666666666,
              "#ed7953"
             ],
             [
              0.7777777777777778,
              "#fb9f3a"
             ],
             [
              0.8888888888888888,
              "#fdca26"
             ],
             [
              1,
              "#f0f921"
             ]
            ],
            "type": "histogram2d"
           }
          ],
          "histogram2dcontour": [
           {
            "colorbar": {
             "outlinewidth": 0,
             "ticks": ""
            },
            "colorscale": [
             [
              0,
              "#0d0887"
             ],
             [
              0.1111111111111111,
              "#46039f"
             ],
             [
              0.2222222222222222,
              "#7201a8"
             ],
             [
              0.3333333333333333,
              "#9c179e"
             ],
             [
              0.4444444444444444,
              "#bd3786"
             ],
             [
              0.5555555555555556,
              "#d8576b"
             ],
             [
              0.6666666666666666,
              "#ed7953"
             ],
             [
              0.7777777777777778,
              "#fb9f3a"
             ],
             [
              0.8888888888888888,
              "#fdca26"
             ],
             [
              1,
              "#f0f921"
             ]
            ],
            "type": "histogram2dcontour"
           }
          ],
          "mesh3d": [
           {
            "colorbar": {
             "outlinewidth": 0,
             "ticks": ""
            },
            "type": "mesh3d"
           }
          ],
          "parcoords": [
           {
            "line": {
             "colorbar": {
              "outlinewidth": 0,
              "ticks": ""
             }
            },
            "type": "parcoords"
           }
          ],
          "pie": [
           {
            "automargin": true,
            "type": "pie"
           }
          ],
          "scatter": [
           {
            "marker": {
             "colorbar": {
              "outlinewidth": 0,
              "ticks": ""
             }
            },
            "type": "scatter"
           }
          ],
          "scatter3d": [
           {
            "line": {
             "colorbar": {
              "outlinewidth": 0,
              "ticks": ""
             }
            },
            "marker": {
             "colorbar": {
              "outlinewidth": 0,
              "ticks": ""
             }
            },
            "type": "scatter3d"
           }
          ],
          "scattercarpet": [
           {
            "marker": {
             "colorbar": {
              "outlinewidth": 0,
              "ticks": ""
             }
            },
            "type": "scattercarpet"
           }
          ],
          "scattergeo": [
           {
            "marker": {
             "colorbar": {
              "outlinewidth": 0,
              "ticks": ""
             }
            },
            "type": "scattergeo"
           }
          ],
          "scattergl": [
           {
            "marker": {
             "colorbar": {
              "outlinewidth": 0,
              "ticks": ""
             }
            },
            "type": "scattergl"
           }
          ],
          "scattermapbox": [
           {
            "marker": {
             "colorbar": {
              "outlinewidth": 0,
              "ticks": ""
             }
            },
            "type": "scattermapbox"
           }
          ],
          "scatterpolar": [
           {
            "marker": {
             "colorbar": {
              "outlinewidth": 0,
              "ticks": ""
             }
            },
            "type": "scatterpolar"
           }
          ],
          "scatterpolargl": [
           {
            "marker": {
             "colorbar": {
              "outlinewidth": 0,
              "ticks": ""
             }
            },
            "type": "scatterpolargl"
           }
          ],
          "scatterternary": [
           {
            "marker": {
             "colorbar": {
              "outlinewidth": 0,
              "ticks": ""
             }
            },
            "type": "scatterternary"
           }
          ],
          "surface": [
           {
            "colorbar": {
             "outlinewidth": 0,
             "ticks": ""
            },
            "colorscale": [
             [
              0,
              "#0d0887"
             ],
             [
              0.1111111111111111,
              "#46039f"
             ],
             [
              0.2222222222222222,
              "#7201a8"
             ],
             [
              0.3333333333333333,
              "#9c179e"
             ],
             [
              0.4444444444444444,
              "#bd3786"
             ],
             [
              0.5555555555555556,
              "#d8576b"
             ],
             [
              0.6666666666666666,
              "#ed7953"
             ],
             [
              0.7777777777777778,
              "#fb9f3a"
             ],
             [
              0.8888888888888888,
              "#fdca26"
             ],
             [
              1,
              "#f0f921"
             ]
            ],
            "type": "surface"
           }
          ],
          "table": [
           {
            "cells": {
             "fill": {
              "color": "#EBF0F8"
             },
             "line": {
              "color": "white"
             }
            },
            "header": {
             "fill": {
              "color": "#C8D4E3"
             },
             "line": {
              "color": "white"
             }
            },
            "type": "table"
           }
          ]
         },
         "layout": {
          "annotationdefaults": {
           "arrowcolor": "#2a3f5f",
           "arrowhead": 0,
           "arrowwidth": 1
          },
          "coloraxis": {
           "colorbar": {
            "outlinewidth": 0,
            "ticks": ""
           }
          },
          "colorscale": {
           "diverging": [
            [
             0,
             "#8e0152"
            ],
            [
             0.1,
             "#c51b7d"
            ],
            [
             0.2,
             "#de77ae"
            ],
            [
             0.3,
             "#f1b6da"
            ],
            [
             0.4,
             "#fde0ef"
            ],
            [
             0.5,
             "#f7f7f7"
            ],
            [
             0.6,
             "#e6f5d0"
            ],
            [
             0.7,
             "#b8e186"
            ],
            [
             0.8,
             "#7fbc41"
            ],
            [
             0.9,
             "#4d9221"
            ],
            [
             1,
             "#276419"
            ]
           ],
           "sequential": [
            [
             0,
             "#0d0887"
            ],
            [
             0.1111111111111111,
             "#46039f"
            ],
            [
             0.2222222222222222,
             "#7201a8"
            ],
            [
             0.3333333333333333,
             "#9c179e"
            ],
            [
             0.4444444444444444,
             "#bd3786"
            ],
            [
             0.5555555555555556,
             "#d8576b"
            ],
            [
             0.6666666666666666,
             "#ed7953"
            ],
            [
             0.7777777777777778,
             "#fb9f3a"
            ],
            [
             0.8888888888888888,
             "#fdca26"
            ],
            [
             1,
             "#f0f921"
            ]
           ],
           "sequentialminus": [
            [
             0,
             "#0d0887"
            ],
            [
             0.1111111111111111,
             "#46039f"
            ],
            [
             0.2222222222222222,
             "#7201a8"
            ],
            [
             0.3333333333333333,
             "#9c179e"
            ],
            [
             0.4444444444444444,
             "#bd3786"
            ],
            [
             0.5555555555555556,
             "#d8576b"
            ],
            [
             0.6666666666666666,
             "#ed7953"
            ],
            [
             0.7777777777777778,
             "#fb9f3a"
            ],
            [
             0.8888888888888888,
             "#fdca26"
            ],
            [
             1,
             "#f0f921"
            ]
           ]
          },
          "colorway": [
           "#636efa",
           "#EF553B",
           "#00cc96",
           "#ab63fa",
           "#FFA15A",
           "#19d3f3",
           "#FF6692",
           "#B6E880",
           "#FF97FF",
           "#FECB52"
          ],
          "font": {
           "color": "#2a3f5f"
          },
          "geo": {
           "bgcolor": "white",
           "lakecolor": "white",
           "landcolor": "#E5ECF6",
           "showlakes": true,
           "showland": true,
           "subunitcolor": "white"
          },
          "hoverlabel": {
           "align": "left"
          },
          "hovermode": "closest",
          "mapbox": {
           "style": "light"
          },
          "paper_bgcolor": "white",
          "plot_bgcolor": "#E5ECF6",
          "polar": {
           "angularaxis": {
            "gridcolor": "white",
            "linecolor": "white",
            "ticks": ""
           },
           "bgcolor": "#E5ECF6",
           "radialaxis": {
            "gridcolor": "white",
            "linecolor": "white",
            "ticks": ""
           }
          },
          "scene": {
           "xaxis": {
            "backgroundcolor": "#E5ECF6",
            "gridcolor": "white",
            "gridwidth": 2,
            "linecolor": "white",
            "showbackground": true,
            "ticks": "",
            "zerolinecolor": "white"
           },
           "yaxis": {
            "backgroundcolor": "#E5ECF6",
            "gridcolor": "white",
            "gridwidth": 2,
            "linecolor": "white",
            "showbackground": true,
            "ticks": "",
            "zerolinecolor": "white"
           },
           "zaxis": {
            "backgroundcolor": "#E5ECF6",
            "gridcolor": "white",
            "gridwidth": 2,
            "linecolor": "white",
            "showbackground": true,
            "ticks": "",
            "zerolinecolor": "white"
           }
          },
          "shapedefaults": {
           "line": {
            "color": "#2a3f5f"
           }
          },
          "ternary": {
           "aaxis": {
            "gridcolor": "white",
            "linecolor": "white",
            "ticks": ""
           },
           "baxis": {
            "gridcolor": "white",
            "linecolor": "white",
            "ticks": ""
           },
           "bgcolor": "#E5ECF6",
           "caxis": {
            "gridcolor": "white",
            "linecolor": "white",
            "ticks": ""
           }
          },
          "title": {
           "x": 0.05
          },
          "xaxis": {
           "automargin": true,
           "gridcolor": "white",
           "linecolor": "white",
           "ticks": "",
           "title": {
            "standoff": 15
           },
           "zerolinecolor": "white",
           "zerolinewidth": 2
          },
          "yaxis": {
           "automargin": true,
           "gridcolor": "white",
           "linecolor": "white",
           "ticks": "",
           "title": {
            "standoff": 15
           },
           "zerolinecolor": "white",
           "zerolinewidth": 2
          }
         }
        },
        "title": {
         "font": {
          "color": "#4D5663"
         }
        },
        "xaxis": {
         "gridcolor": "#E1E5ED",
         "showgrid": true,
         "tickfont": {
          "color": "#4D5663"
         },
         "title": {
          "font": {
           "color": "#4D5663"
          },
          "text": ""
         },
         "zerolinecolor": "#E1E5ED"
        },
        "yaxis": {
         "gridcolor": "#E1E5ED",
         "showgrid": true,
         "tickfont": {
          "color": "#4D5663"
         },
         "title": {
          "font": {
           "color": "#4D5663"
          },
          "text": ""
         },
         "zerolinecolor": "#E1E5ED"
        }
       }
      },
      "text/html": [
       "<div>\n",
       "        \n",
       "        \n",
       "            <div id=\"c5eb6013-c015-4b45-94b2-a9452c90d206\" class=\"plotly-graph-div\" style=\"height:525px; width:100%;\"></div>\n",
       "            <script type=\"text/javascript\">\n",
       "                require([\"plotly\"], function(Plotly) {\n",
       "                    window.PLOTLYENV=window.PLOTLYENV || {};\n",
       "                    window.PLOTLYENV.BASE_URL='https://plot.ly';\n",
       "                    \n",
       "                if (document.getElementById(\"c5eb6013-c015-4b45-94b2-a9452c90d206\")) {\n",
       "                    Plotly.newPlot(\n",
       "                        'c5eb6013-c015-4b45-94b2-a9452c90d206',\n",
       "                        [{\"marker\": {\"color\": \"rgba(255, 153, 51, 0.8)\", \"line\": {\"color\": \"rgba(255, 153, 51, 1.0)\", \"width\": 1}}, \"name\": \"SUM\", \"orientation\": \"v\", \"text\": \"\", \"type\": \"bar\", \"x\": [\"R @ 20\", \"R @ 50\", \"R @ 100\", \"ngR @ 20\", \"ngR @ 50\", \"ngR @ 100\", \"zR @ 20\", \"zR @ 50\", \"zR @ 100\", \"mR @ 20\", \"mR @ 50\", \"mR @ 100\", \"A @ 20\", \"A @ 50\", \"A @ 100\"], \"y\": [\"0.2503\", \"0.3583\", \"0.4147\", \"0.2947\", \"0.4774\", \"0.6148\", \"0.0765\", \"0.1217\", \"0.1507\", \"0.1735\", \"0.2466\", \"0.2881\", \"0.4617\", \"0.4634\", \"0.4634\"]}, {\"marker\": {\"color\": \"rgba(55, 128, 191, 0.8)\", \"line\": {\"color\": \"rgba(55, 128, 191, 1.0)\", \"width\": 1}}, \"name\": \"GATE\", \"orientation\": \"v\", \"text\": \"\", \"type\": \"bar\", \"x\": [\"R @ 20\", \"R @ 50\", \"R @ 100\", \"ngR @ 20\", \"ngR @ 50\", \"ngR @ 100\", \"zR @ 20\", \"zR @ 50\", \"zR @ 100\", \"mR @ 20\", \"mR @ 50\", \"mR @ 100\", \"A @ 20\", \"A @ 50\", \"A @ 100\"], \"y\": [\"0.3310\", \"0.4448\", \"0.4940\", \"0.3699\", \"0.5500\", \"0.6699\", \"0.0546\", \"0.0915\", \"0.1196\", \"0.1870\", \"0.2586\", \"0.2968\", \"0.5303\", \"0.5322\", \"0.5322\"]}, {\"marker\": {\"color\": \"rgba(50, 171, 96, 0.8)\", \"line\": {\"color\": \"rgba(50, 171, 96, 1.0)\", \"width\": 1}}, \"name\": \"MFB\", \"orientation\": \"v\", \"text\": \"\", \"type\": \"bar\", \"x\": [\"R @ 20\", \"R @ 50\", \"R @ 100\", \"ngR @ 20\", \"ngR @ 50\", \"ngR @ 100\", \"zR @ 20\", \"zR @ 50\", \"zR @ 100\", \"mR @ 20\", \"mR @ 50\", \"mR @ 100\", \"A @ 20\", \"A @ 50\", \"A @ 100\"], \"y\": [\"0.4856\", \"0.5935\", \"0.6386\", \"0.5314\", \"0.6987\", \"0.7996\", \"0.0010\", \"0.0032\", \"0.0044\", \"0.0833\", \"0.1281\", \"0.1555\", \"0.6775\", \"0.6801\", \"0.6801\"]}, {\"marker\": {\"color\": \"rgba(128, 0, 128, 0.8)\", \"line\": {\"color\": \"rgba(128, 0, 128, 1.0)\", \"width\": 1}}, \"name\": \"DIST\", \"orientation\": \"v\", \"text\": \"\", \"type\": \"bar\", \"x\": [\"R @ 20\", \"R @ 50\", \"R @ 100\", \"ngR @ 20\", \"ngR @ 50\", \"ngR @ 100\", \"zR @ 20\", \"zR @ 50\", \"zR @ 100\", \"mR @ 20\", \"mR @ 50\", \"mR @ 100\", \"A @ 20\", \"A @ 50\", \"A @ 100\"], \"y\": [\"0.5354\", \"0.6005\", \"0.6206\", \"0.6042\", \"0.7359\", \"0.8031\", \"0.0624\", \"0.1092\", \"0.1362\", \"0.1093\", \"0.1429\", \"0.1612\", \"0.6391\", \"0.6412\", \"0.6412\"]}],\n",
       "                        {\"legend\": {\"bgcolor\": \"#F5F6F9\", \"font\": {\"color\": \"#4D5663\"}}, \"paper_bgcolor\": \"#F5F6F9\", \"plot_bgcolor\": \"#F5F6F9\", \"template\": {\"data\": {\"bar\": [{\"error_x\": {\"color\": \"#2a3f5f\"}, \"error_y\": {\"color\": \"#2a3f5f\"}, \"marker\": {\"line\": {\"color\": \"#E5ECF6\", \"width\": 0.5}}, \"type\": \"bar\"}], \"barpolar\": [{\"marker\": {\"line\": {\"color\": \"#E5ECF6\", \"width\": 0.5}}, \"type\": \"barpolar\"}], \"carpet\": [{\"aaxis\": {\"endlinecolor\": \"#2a3f5f\", \"gridcolor\": \"white\", \"linecolor\": \"white\", \"minorgridcolor\": \"white\", \"startlinecolor\": \"#2a3f5f\"}, \"baxis\": {\"endlinecolor\": \"#2a3f5f\", \"gridcolor\": \"white\", \"linecolor\": \"white\", \"minorgridcolor\": \"white\", \"startlinecolor\": \"#2a3f5f\"}, \"type\": \"carpet\"}], \"choropleth\": [{\"colorbar\": {\"outlinewidth\": 0, \"ticks\": \"\"}, \"type\": \"choropleth\"}], \"contour\": [{\"colorbar\": {\"outlinewidth\": 0, \"ticks\": \"\"}, \"colorscale\": [[0.0, \"#0d0887\"], [0.1111111111111111, \"#46039f\"], [0.2222222222222222, \"#7201a8\"], [0.3333333333333333, \"#9c179e\"], [0.4444444444444444, \"#bd3786\"], [0.5555555555555556, \"#d8576b\"], [0.6666666666666666, \"#ed7953\"], [0.7777777777777778, \"#fb9f3a\"], [0.8888888888888888, \"#fdca26\"], [1.0, \"#f0f921\"]], \"type\": \"contour\"}], \"contourcarpet\": [{\"colorbar\": {\"outlinewidth\": 0, \"ticks\": \"\"}, \"type\": \"contourcarpet\"}], \"heatmap\": [{\"colorbar\": {\"outlinewidth\": 0, \"ticks\": \"\"}, \"colorscale\": [[0.0, \"#0d0887\"], [0.1111111111111111, \"#46039f\"], [0.2222222222222222, \"#7201a8\"], [0.3333333333333333, \"#9c179e\"], [0.4444444444444444, \"#bd3786\"], [0.5555555555555556, \"#d8576b\"], [0.6666666666666666, \"#ed7953\"], [0.7777777777777778, \"#fb9f3a\"], [0.8888888888888888, \"#fdca26\"], [1.0, \"#f0f921\"]], \"type\": \"heatmap\"}], \"heatmapgl\": [{\"colorbar\": {\"outlinewidth\": 0, \"ticks\": \"\"}, \"colorscale\": [[0.0, \"#0d0887\"], [0.1111111111111111, \"#46039f\"], [0.2222222222222222, \"#7201a8\"], [0.3333333333333333, \"#9c179e\"], [0.4444444444444444, \"#bd3786\"], [0.5555555555555556, \"#d8576b\"], [0.6666666666666666, \"#ed7953\"], [0.7777777777777778, \"#fb9f3a\"], [0.8888888888888888, \"#fdca26\"], [1.0, \"#f0f921\"]], \"type\": \"heatmapgl\"}], \"histogram\": [{\"marker\": {\"colorbar\": {\"outlinewidth\": 0, \"ticks\": \"\"}}, \"type\": \"histogram\"}], \"histogram2d\": [{\"colorbar\": {\"outlinewidth\": 0, \"ticks\": \"\"}, \"colorscale\": [[0.0, \"#0d0887\"], [0.1111111111111111, \"#46039f\"], [0.2222222222222222, \"#7201a8\"], [0.3333333333333333, \"#9c179e\"], [0.4444444444444444, \"#bd3786\"], [0.5555555555555556, \"#d8576b\"], [0.6666666666666666, \"#ed7953\"], [0.7777777777777778, \"#fb9f3a\"], [0.8888888888888888, \"#fdca26\"], [1.0, \"#f0f921\"]], \"type\": \"histogram2d\"}], \"histogram2dcontour\": [{\"colorbar\": {\"outlinewidth\": 0, \"ticks\": \"\"}, \"colorscale\": [[0.0, \"#0d0887\"], [0.1111111111111111, \"#46039f\"], [0.2222222222222222, \"#7201a8\"], [0.3333333333333333, \"#9c179e\"], [0.4444444444444444, \"#bd3786\"], [0.5555555555555556, \"#d8576b\"], [0.6666666666666666, \"#ed7953\"], [0.7777777777777778, \"#fb9f3a\"], [0.8888888888888888, \"#fdca26\"], [1.0, \"#f0f921\"]], \"type\": \"histogram2dcontour\"}], \"mesh3d\": [{\"colorbar\": {\"outlinewidth\": 0, \"ticks\": \"\"}, \"type\": \"mesh3d\"}], \"parcoords\": [{\"line\": {\"colorbar\": {\"outlinewidth\": 0, \"ticks\": \"\"}}, \"type\": \"parcoords\"}], \"pie\": [{\"automargin\": true, \"type\": \"pie\"}], \"scatter\": [{\"marker\": {\"colorbar\": {\"outlinewidth\": 0, \"ticks\": \"\"}}, \"type\": \"scatter\"}], \"scatter3d\": [{\"line\": {\"colorbar\": {\"outlinewidth\": 0, \"ticks\": \"\"}}, \"marker\": {\"colorbar\": {\"outlinewidth\": 0, \"ticks\": \"\"}}, \"type\": \"scatter3d\"}], \"scattercarpet\": [{\"marker\": {\"colorbar\": {\"outlinewidth\": 0, \"ticks\": \"\"}}, \"type\": \"scattercarpet\"}], \"scattergeo\": [{\"marker\": {\"colorbar\": {\"outlinewidth\": 0, \"ticks\": \"\"}}, \"type\": \"scattergeo\"}], \"scattergl\": [{\"marker\": {\"colorbar\": {\"outlinewidth\": 0, \"ticks\": \"\"}}, \"type\": \"scattergl\"}], \"scattermapbox\": [{\"marker\": {\"colorbar\": {\"outlinewidth\": 0, \"ticks\": \"\"}}, \"type\": \"scattermapbox\"}], \"scatterpolar\": [{\"marker\": {\"colorbar\": {\"outlinewidth\": 0, \"ticks\": \"\"}}, \"type\": \"scatterpolar\"}], \"scatterpolargl\": [{\"marker\": {\"colorbar\": {\"outlinewidth\": 0, \"ticks\": \"\"}}, \"type\": \"scatterpolargl\"}], \"scatterternary\": [{\"marker\": {\"colorbar\": {\"outlinewidth\": 0, \"ticks\": \"\"}}, \"type\": \"scatterternary\"}], \"surface\": [{\"colorbar\": {\"outlinewidth\": 0, \"ticks\": \"\"}, \"colorscale\": [[0.0, \"#0d0887\"], [0.1111111111111111, \"#46039f\"], [0.2222222222222222, \"#7201a8\"], [0.3333333333333333, \"#9c179e\"], [0.4444444444444444, \"#bd3786\"], [0.5555555555555556, \"#d8576b\"], [0.6666666666666666, \"#ed7953\"], [0.7777777777777778, \"#fb9f3a\"], [0.8888888888888888, \"#fdca26\"], [1.0, \"#f0f921\"]], \"type\": \"surface\"}], \"table\": [{\"cells\": {\"fill\": {\"color\": \"#EBF0F8\"}, \"line\": {\"color\": \"white\"}}, \"header\": {\"fill\": {\"color\": \"#C8D4E3\"}, \"line\": {\"color\": \"white\"}}, \"type\": \"table\"}]}, \"layout\": {\"annotationdefaults\": {\"arrowcolor\": \"#2a3f5f\", \"arrowhead\": 0, \"arrowwidth\": 1}, \"coloraxis\": {\"colorbar\": {\"outlinewidth\": 0, \"ticks\": \"\"}}, \"colorscale\": {\"diverging\": [[0, \"#8e0152\"], [0.1, \"#c51b7d\"], [0.2, \"#de77ae\"], [0.3, \"#f1b6da\"], [0.4, \"#fde0ef\"], [0.5, \"#f7f7f7\"], [0.6, \"#e6f5d0\"], [0.7, \"#b8e186\"], [0.8, \"#7fbc41\"], [0.9, \"#4d9221\"], [1, \"#276419\"]], \"sequential\": [[0.0, \"#0d0887\"], [0.1111111111111111, \"#46039f\"], [0.2222222222222222, \"#7201a8\"], [0.3333333333333333, \"#9c179e\"], [0.4444444444444444, \"#bd3786\"], [0.5555555555555556, \"#d8576b\"], [0.6666666666666666, \"#ed7953\"], [0.7777777777777778, \"#fb9f3a\"], [0.8888888888888888, \"#fdca26\"], [1.0, \"#f0f921\"]], \"sequentialminus\": [[0.0, \"#0d0887\"], [0.1111111111111111, \"#46039f\"], [0.2222222222222222, \"#7201a8\"], [0.3333333333333333, \"#9c179e\"], [0.4444444444444444, \"#bd3786\"], [0.5555555555555556, \"#d8576b\"], [0.6666666666666666, \"#ed7953\"], [0.7777777777777778, \"#fb9f3a\"], [0.8888888888888888, \"#fdca26\"], [1.0, \"#f0f921\"]]}, \"colorway\": [\"#636efa\", \"#EF553B\", \"#00cc96\", \"#ab63fa\", \"#FFA15A\", \"#19d3f3\", \"#FF6692\", \"#B6E880\", \"#FF97FF\", \"#FECB52\"], \"font\": {\"color\": \"#2a3f5f\"}, \"geo\": {\"bgcolor\": \"white\", \"lakecolor\": \"white\", \"landcolor\": \"#E5ECF6\", \"showlakes\": true, \"showland\": true, \"subunitcolor\": \"white\"}, \"hoverlabel\": {\"align\": \"left\"}, \"hovermode\": \"closest\", \"mapbox\": {\"style\": \"light\"}, \"paper_bgcolor\": \"white\", \"plot_bgcolor\": \"#E5ECF6\", \"polar\": {\"angularaxis\": {\"gridcolor\": \"white\", \"linecolor\": \"white\", \"ticks\": \"\"}, \"bgcolor\": \"#E5ECF6\", \"radialaxis\": {\"gridcolor\": \"white\", \"linecolor\": \"white\", \"ticks\": \"\"}}, \"scene\": {\"xaxis\": {\"backgroundcolor\": \"#E5ECF6\", \"gridcolor\": \"white\", \"gridwidth\": 2, \"linecolor\": \"white\", \"showbackground\": true, \"ticks\": \"\", \"zerolinecolor\": \"white\"}, \"yaxis\": {\"backgroundcolor\": \"#E5ECF6\", \"gridcolor\": \"white\", \"gridwidth\": 2, \"linecolor\": \"white\", \"showbackground\": true, \"ticks\": \"\", \"zerolinecolor\": \"white\"}, \"zaxis\": {\"backgroundcolor\": \"#E5ECF6\", \"gridcolor\": \"white\", \"gridwidth\": 2, \"linecolor\": \"white\", \"showbackground\": true, \"ticks\": \"\", \"zerolinecolor\": \"white\"}}, \"shapedefaults\": {\"line\": {\"color\": \"#2a3f5f\"}}, \"ternary\": {\"aaxis\": {\"gridcolor\": \"white\", \"linecolor\": \"white\", \"ticks\": \"\"}, \"baxis\": {\"gridcolor\": \"white\", \"linecolor\": \"white\", \"ticks\": \"\"}, \"bgcolor\": \"#E5ECF6\", \"caxis\": {\"gridcolor\": \"white\", \"linecolor\": \"white\", \"ticks\": \"\"}}, \"title\": {\"x\": 0.05}, \"xaxis\": {\"automargin\": true, \"gridcolor\": \"white\", \"linecolor\": \"white\", \"ticks\": \"\", \"title\": {\"standoff\": 15}, \"zerolinecolor\": \"white\", \"zerolinewidth\": 2}, \"yaxis\": {\"automargin\": true, \"gridcolor\": \"white\", \"linecolor\": \"white\", \"ticks\": \"\", \"title\": {\"standoff\": 15}, \"zerolinecolor\": \"white\", \"zerolinewidth\": 2}}}, \"title\": {\"font\": {\"color\": \"#4D5663\"}}, \"xaxis\": {\"gridcolor\": \"#E1E5ED\", \"showgrid\": true, \"tickfont\": {\"color\": \"#4D5663\"}, \"title\": {\"font\": {\"color\": \"#4D5663\"}, \"text\": \"\"}, \"zerolinecolor\": \"#E1E5ED\"}, \"yaxis\": {\"gridcolor\": \"#E1E5ED\", \"showgrid\": true, \"tickfont\": {\"color\": \"#4D5663\"}, \"title\": {\"font\": {\"color\": \"#4D5663\"}, \"text\": \"\"}, \"zerolinecolor\": \"#E1E5ED\"}},\n",
       "                        {\"showLink\": true, \"linkText\": \"Export to plot.ly\", \"plotlyServerURL\": \"https://plot.ly\", \"responsive\": true}\n",
       "                    ).then(function(){\n",
       "                            \n",
       "var gd = document.getElementById('c5eb6013-c015-4b45-94b2-a9452c90d206');\n",
       "var x = new MutationObserver(function (mutations, observer) {{\n",
       "        var display = window.getComputedStyle(gd).display;\n",
       "        if (!display || display === 'none') {{\n",
       "            console.log([gd, 'removed!']);\n",
       "            Plotly.purge(gd);\n",
       "            observer.disconnect();\n",
       "        }}\n",
       "}});\n",
       "\n",
       "// Listen for the removal of the full notebook cells\n",
       "var notebookContainer = gd.closest('#notebook-container');\n",
       "if (notebookContainer) {{\n",
       "    x.observe(notebookContainer, {childList: true});\n",
       "}}\n",
       "\n",
       "// Listen for the clearing of the current output cell\n",
       "var outputEl = gd.closest('.output');\n",
       "if (outputEl) {{\n",
       "    x.observe(outputEl, {childList: true});\n",
       "}}\n",
       "\n",
       "                        })\n",
       "                };\n",
       "                });\n",
       "            </script>\n",
       "        </div>"
      ]
     },
     "metadata": {},
     "output_type": "display_data"
    },
    {
     "ename": "AttributeError",
     "evalue": "'NoneType' object has no attribute 'update_layout'",
     "output_type": "error",
     "traceback": [
      "\u001b[1;31m---------------------------------------------------------------------------\u001b[0m",
      "\u001b[1;31mAttributeError\u001b[0m                            Traceback (most recent call last)",
      "\u001b[1;32m<ipython-input-30-9ae45b93d881>\u001b[0m in \u001b[0;36m<module>\u001b[1;34m\u001b[0m\n\u001b[0;32m      1\u001b[0m \u001b[0mfig\u001b[0m \u001b[1;33m=\u001b[0m \u001b[0m_df2\u001b[0m\u001b[1;33m.\u001b[0m\u001b[0miplot\u001b[0m\u001b[1;33m(\u001b[0m\u001b[0mkind\u001b[0m\u001b[1;33m=\u001b[0m\u001b[1;34m\"bar\"\u001b[0m\u001b[1;33m,\u001b[0m \u001b[0mx\u001b[0m\u001b[1;33m=\u001b[0m\u001b[0mkeys\u001b[0m\u001b[1;33m,\u001b[0m \u001b[0mcategories\u001b[0m\u001b[1;33m=\u001b[0m\u001b[1;34m'label'\u001b[0m\u001b[1;33m)\u001b[0m\u001b[1;33m\u001b[0m\u001b[1;33m\u001b[0m\u001b[0m\n\u001b[1;32m----> 2\u001b[1;33m \u001b[0mfig\u001b[0m\u001b[1;33m.\u001b[0m\u001b[0mupdate_layout\u001b[0m\u001b[1;33m(\u001b[0m\u001b[0myaxis\u001b[0m\u001b[1;33m=\u001b[0m\u001b[0mdict\u001b[0m\u001b[1;33m(\u001b[0m\u001b[0mrange\u001b[0m\u001b[1;33m=\u001b[0m\u001b[1;33m[\u001b[0m\u001b[1;36m0\u001b[0m\u001b[1;33m,\u001b[0m\u001b[1;36m1\u001b[0m\u001b[1;33m]\u001b[0m\u001b[1;33m)\u001b[0m\u001b[1;33m)\u001b[0m\u001b[1;33m\u001b[0m\u001b[1;33m\u001b[0m\u001b[0m\n\u001b[0m",
      "\u001b[1;31mAttributeError\u001b[0m: 'NoneType' object has no attribute 'update_layout'"
     ]
    }
   ],
   "source": [
    "fig = _df2.iplot(kind=\"bar\", x=keys, categories='label')\n",
    "fig.update_layout(yaxis=dict(range=[0,1]))"
   ]
  },
  {
   "cell_type": "code",
   "execution_count": 14,
   "metadata": {
    "ExecuteTime": {
     "end_time": "2020-07-09T18:32:01.228941Z",
     "start_time": "2020-07-09T18:32:00.924940Z"
    }
   },
   "outputs": [
    {
     "data": {
      "application/vnd.plotly.v1+json": {
       "config": {
        "linkText": "Export to plot.ly",
        "plotlyServerURL": "https://plot.ly",
        "showLink": true
       },
       "data": [
        {
         "line": {
          "color": "rgba(255, 153, 51, 1.0)",
          "dash": "solid",
          "shape": "linear",
          "width": 1.3
         },
         "mode": "lines",
         "name": "label",
         "text": "",
         "type": "scatter",
         "x": [
          "2000",
          "4000",
          "6000",
          "8000",
          "9600",
          "10000",
          "15000",
          "20000",
          "25000",
          "30000",
          "2000",
          "4000",
          "6000",
          "8000",
          "10000",
          "12000",
          "14000",
          "16000",
          "18000",
          "20000",
          "22000",
          "24000",
          "24000",
          "2000",
          "4000",
          "6000",
          "8000",
          "10000",
          "12000",
          "14000",
          "16000",
          "18000",
          "20000",
          "20000",
          "2000",
          "4000",
          "6000",
          "8000",
          "10000",
          "12000",
          "14000",
          "16000",
          "2000",
          "4000",
          "6000",
          "8000",
          "10000",
          "12000",
          "14000",
          "16000",
          "18000",
          "20000",
          "22000",
          "24000",
          "26000",
          "28000",
          "30000",
          "32000",
          "34000",
          "36000",
          "38000",
          "40000",
          "40000",
          "2000",
          "4000",
          "4800",
          "6000",
          "7000",
          "8000",
          "10000",
          "12000",
          "14000",
          "16000",
          "18000",
          "20000",
          "22000",
          "22000"
         ],
         "y": [
          "",
          "",
          "",
          "",
          "",
          "",
          "",
          "",
          "",
          "",
          "dist2-TDE",
          "dist2-TDE",
          "dist2-TDE",
          "dist2-TDE",
          "dist2-TDE",
          "dist2-TDE",
          "dist2-TDE",
          "dist2-TDE",
          "dist2-TDE",
          "dist2-TDE",
          "dist2-TDE",
          "dist2-TDE",
          "dist2-TDE",
          "gate-TDE",
          "gate-TDE",
          "gate-TDE",
          "gate-TDE",
          "gate-TDE",
          "gate-TDE",
          "gate-TDE",
          "gate-TDE",
          "gate-TDE",
          "gate-TDE",
          "gate-TDE",
          "mfb3-TDE",
          "mfb3-TDE",
          "mfb3-TDE",
          "mfb3-TDE",
          "mfb3-TDE",
          "mfb3-TDE",
          "mfb3-TDE",
          "mfb3-TDE",
          "mfb7-TDE",
          "mfb7-TDE",
          "mfb7-TDE",
          "mfb7-TDE",
          "mfb7-TDE",
          "mfb7-TDE",
          "mfb7-TDE",
          "mfb7-TDE",
          "mfb7-TDE",
          "mfb7-TDE",
          "mfb7-TDE",
          "mfb7-TDE",
          "mfb7-TDE",
          "mfb7-TDE",
          "mfb7-TDE",
          "mfb7-TDE",
          "mfb7-TDE",
          "mfb7-TDE",
          "mfb7-TDE",
          "mfb7-TDE",
          "mfb7-TDE",
          "sum-TDE",
          "sum-TDE",
          "sum-TDE",
          "sum-TDE",
          "sum-TDE",
          "sum-TDE",
          "sum-TDE",
          "sum-TDE",
          "sum-TDE",
          "sum-TDE",
          "sum-TDE",
          "sum-TDE",
          "sum-TDE",
          "sum-TDE"
         ]
        },
        {
         "line": {
          "color": "rgba(55, 128, 191, 1.0)",
          "dash": "solid",
          "shape": "linear",
          "width": 1.3
         },
         "mode": "lines",
         "name": "eval_set",
         "text": "",
         "type": "scatter",
         "x": [
          "2000",
          "4000",
          "6000",
          "8000",
          "9600",
          "10000",
          "15000",
          "20000",
          "25000",
          "30000",
          "2000",
          "4000",
          "6000",
          "8000",
          "10000",
          "12000",
          "14000",
          "16000",
          "18000",
          "20000",
          "22000",
          "24000",
          "24000",
          "2000",
          "4000",
          "6000",
          "8000",
          "10000",
          "12000",
          "14000",
          "16000",
          "18000",
          "20000",
          "20000",
          "2000",
          "4000",
          "6000",
          "8000",
          "10000",
          "12000",
          "14000",
          "16000",
          "2000",
          "4000",
          "6000",
          "8000",
          "10000",
          "12000",
          "14000",
          "16000",
          "18000",
          "20000",
          "22000",
          "24000",
          "26000",
          "28000",
          "30000",
          "32000",
          "34000",
          "36000",
          "38000",
          "40000",
          "40000",
          "2000",
          "4000",
          "4800",
          "6000",
          "7000",
          "8000",
          "10000",
          "12000",
          "14000",
          "16000",
          "18000",
          "20000",
          "22000",
          "22000"
         ],
         "y": [
          "validation",
          "validation",
          "validation",
          "validation",
          "validation",
          "validation",
          "validation",
          "validation",
          "validation",
          "validation",
          "validation",
          "validation",
          "validation",
          "validation",
          "validation",
          "validation",
          "validation",
          "validation",
          "validation",
          "validation",
          "validation",
          "validation",
          "test",
          "validation",
          "validation",
          "validation",
          "validation",
          "validation",
          "validation",
          "validation",
          "validation",
          "validation",
          "validation",
          "test",
          "validation",
          "validation",
          "validation",
          "validation",
          "validation",
          "validation",
          "validation",
          "validation",
          "validation",
          "validation",
          "validation",
          "validation",
          "validation",
          "validation",
          "validation",
          "validation",
          "validation",
          "validation",
          "validation",
          "validation",
          "validation",
          "validation",
          "validation",
          "validation",
          "validation",
          "validation",
          "validation",
          "validation",
          "test",
          "validation",
          "validation",
          "validation",
          "validation",
          "validation",
          "validation",
          "validation",
          "validation",
          "validation",
          "validation",
          "validation",
          "validation",
          "validation",
          "test"
         ]
        },
        {
         "line": {
          "color": "rgba(50, 171, 96, 1.0)",
          "dash": "solid",
          "shape": "linear",
          "width": 1.3
         },
         "mode": "lines",
         "name": "mAp",
         "text": "",
         "type": "scatter",
         "x": [
          "2000",
          "4000",
          "6000",
          "8000",
          "9600",
          "10000",
          "15000",
          "20000",
          "25000",
          "30000",
          "2000",
          "4000",
          "6000",
          "8000",
          "10000",
          "12000",
          "14000",
          "16000",
          "18000",
          "20000",
          "22000",
          "24000",
          "24000",
          "2000",
          "4000",
          "6000",
          "8000",
          "10000",
          "12000",
          "14000",
          "16000",
          "18000",
          "20000",
          "20000",
          "2000",
          "4000",
          "6000",
          "8000",
          "10000",
          "12000",
          "14000",
          "16000",
          "2000",
          "4000",
          "6000",
          "8000",
          "10000",
          "12000",
          "14000",
          "16000",
          "18000",
          "20000",
          "22000",
          "24000",
          "26000",
          "28000",
          "30000",
          "32000",
          "34000",
          "36000",
          "38000",
          "40000",
          "40000",
          "2000",
          "4000",
          "4800",
          "6000",
          "7000",
          "8000",
          "10000",
          "12000",
          "14000",
          "16000",
          "18000",
          "20000",
          "22000",
          "22000"
         ],
         "y": [
          "0.9999",
          "0.9999",
          "0.9999",
          "0.9999",
          "0.9999",
          "0.9999",
          "0.9999",
          "0.9999",
          "0.9999",
          "0.9999",
          "0.9999",
          "0.9999",
          "0.9999",
          "0.9999",
          "0.9999",
          "0.9999",
          "0.9999",
          "0.9999",
          "0.9999",
          "0.9999",
          "0.9999",
          "0.9999",
          "0.9995",
          "0.9999",
          "0.9999",
          "0.9999",
          "0.9999",
          "0.9999",
          "0.9999",
          "0.9999",
          "0.9999",
          "0.9999",
          "0.9999",
          "0.9995",
          "0.9999",
          "0.9999",
          "0.9999",
          "0.9999",
          "0.9999",
          "0.9999",
          "0.9999",
          "0.9999",
          "0.9999",
          "0.9999",
          "0.9999",
          "0.9999",
          "0.9999",
          "0.9999",
          "0.9999",
          "0.9999",
          "0.9999",
          "0.9999",
          "0.9999",
          "0.9999",
          "0.9999",
          "0.9999",
          "0.9999",
          "0.9999",
          "0.9999",
          "0.9999",
          "0.9999",
          "0.9995",
          "0.9995",
          "0.9999",
          "0.9999",
          "0.9999",
          "0.9999",
          "0.9999",
          "0.9999",
          "0.9999",
          "0.9999",
          "0.9999",
          "0.9999",
          "0.9999",
          "0.9999",
          "0.9999",
          "0.9995"
         ]
        },
        {
         "line": {
          "color": "rgba(128, 0, 128, 1.0)",
          "dash": "solid",
          "shape": "linear",
          "width": 1.3
         },
         "mode": "lines",
         "name": "R @ 20",
         "text": "",
         "type": "scatter",
         "x": [
          "2000",
          "4000",
          "6000",
          "8000",
          "9600",
          "10000",
          "15000",
          "20000",
          "25000",
          "30000",
          "2000",
          "4000",
          "6000",
          "8000",
          "10000",
          "12000",
          "14000",
          "16000",
          "18000",
          "20000",
          "22000",
          "24000",
          "24000",
          "2000",
          "4000",
          "6000",
          "8000",
          "10000",
          "12000",
          "14000",
          "16000",
          "18000",
          "20000",
          "20000",
          "2000",
          "4000",
          "6000",
          "8000",
          "10000",
          "12000",
          "14000",
          "16000",
          "2000",
          "4000",
          "6000",
          "8000",
          "10000",
          "12000",
          "14000",
          "16000",
          "18000",
          "20000",
          "22000",
          "24000",
          "26000",
          "28000",
          "30000",
          "32000",
          "34000",
          "36000",
          "38000",
          "40000",
          "40000",
          "2000",
          "4000",
          "4800",
          "6000",
          "7000",
          "8000",
          "10000",
          "12000",
          "14000",
          "16000",
          "18000",
          "20000",
          "22000",
          "22000"
         ],
         "y": [
          "0.6015",
          "0.6032",
          "0.6023",
          "0.6083",
          "0.6082",
          "0.6004",
          "0.6094",
          "0.6015",
          "0.6069",
          "0.6110",
          "0.2884",
          "0.3868",
          "0.4293",
          "0.4208",
          "0.4049",
          "0.5217",
          "0.5455",
          "0.5405",
          "0.5388",
          "0.5594",
          "0.5544",
          "0.5535",
          "0.5354",
          "0.3179",
          "0.3230",
          "0.3334",
          "0.3415",
          "0.2921",
          "0.3406",
          "0.3501",
          "0.3019",
          "0.3126",
          "0.3171",
          "0.3310",
          "0.0249",
          "0.0233",
          "0.0255",
          "0.0227",
          "0.0290",
          "0.0271",
          "0.0206",
          "0.0207",
          "0.2988",
          "0.2786",
          "0.2802",
          "0.3029",
          "0.3201",
          "0.3424",
          "0.3843",
          "0.3767",
          "0.0077",
          "0.0753",
          "0.2193",
          "0.2401",
          "0.2742",
          "0.2149",
          "0.2507",
          "0.2786",
          "0.2864",
          "0.2843",
          "0.2875",
          "0.3186",
          "0.4856",
          "0.2329",
          "0.2529",
          "0.2520",
          "0.2229",
          "0.2232",
          "0.2349",
          "0.2532",
          "0.2452",
          "0.2441",
          "0.2278",
          "0.2346",
          "0.2133",
          "0.2198",
          "0.2503"
         ]
        },
        {
         "line": {
          "color": "rgba(219, 64, 82, 1.0)",
          "dash": "solid",
          "shape": "linear",
          "width": 1.3
         },
         "mode": "lines",
         "name": "R @ 50",
         "text": "",
         "type": "scatter",
         "x": [
          "2000",
          "4000",
          "6000",
          "8000",
          "9600",
          "10000",
          "15000",
          "20000",
          "25000",
          "30000",
          "2000",
          "4000",
          "6000",
          "8000",
          "10000",
          "12000",
          "14000",
          "16000",
          "18000",
          "20000",
          "22000",
          "24000",
          "24000",
          "2000",
          "4000",
          "6000",
          "8000",
          "10000",
          "12000",
          "14000",
          "16000",
          "18000",
          "20000",
          "20000",
          "2000",
          "4000",
          "6000",
          "8000",
          "10000",
          "12000",
          "14000",
          "16000",
          "2000",
          "4000",
          "6000",
          "8000",
          "10000",
          "12000",
          "14000",
          "16000",
          "18000",
          "20000",
          "22000",
          "24000",
          "26000",
          "28000",
          "30000",
          "32000",
          "34000",
          "36000",
          "38000",
          "40000",
          "40000",
          "2000",
          "4000",
          "4800",
          "6000",
          "7000",
          "8000",
          "10000",
          "12000",
          "14000",
          "16000",
          "18000",
          "20000",
          "22000",
          "22000"
         ],
         "y": [
          "0.6554",
          "0.6590",
          "0.6577",
          "0.6601",
          "0.6603",
          "0.6576",
          "0.6626",
          "0.6606",
          "0.6599",
          "0.6661",
          "0.3548",
          "0.4669",
          "0.5171",
          "0.4995",
          "0.4879",
          "0.5939",
          "0.6111",
          "0.6083",
          "0.6023",
          "0.6136",
          "0.6088",
          "0.6057",
          "0.6005",
          "0.4100",
          "0.4280",
          "0.4550",
          "0.4735",
          "0.4159",
          "0.4751",
          "0.4821",
          "0.4282",
          "0.4339",
          "0.4319",
          "0.4448",
          "0.0312",
          "0.0309",
          "0.0332",
          "0.0306",
          "0.0360",
          "0.0348",
          "0.0273",
          "0.0265",
          "0.3581",
          "0.3434",
          "0.3460",
          "0.3680",
          "0.4006",
          "0.4269",
          "0.4690",
          "0.4675",
          "0.0135",
          "0.1061",
          "0.2701",
          "0.2977",
          "0.3391",
          "0.2793",
          "0.3170",
          "0.3461",
          "0.3577",
          "0.3555",
          "0.3447",
          "0.3705",
          "0.5935",
          "0.3147",
          "0.3411",
          "0.3401",
          "0.3331",
          "0.3322",
          "0.3245",
          "0.3618",
          "0.3504",
          "0.3395",
          "0.3229",
          "0.3335",
          "0.3144",
          "0.3194",
          "0.3583"
         ]
        },
        {
         "line": {
          "color": "rgba(0, 128, 128, 1.0)",
          "dash": "solid",
          "shape": "linear",
          "width": 1.3
         },
         "mode": "lines",
         "name": "R @ 100",
         "text": "",
         "type": "scatter",
         "x": [
          "2000",
          "4000",
          "6000",
          "8000",
          "9600",
          "10000",
          "15000",
          "20000",
          "25000",
          "30000",
          "2000",
          "4000",
          "6000",
          "8000",
          "10000",
          "12000",
          "14000",
          "16000",
          "18000",
          "20000",
          "22000",
          "24000",
          "24000",
          "2000",
          "4000",
          "6000",
          "8000",
          "10000",
          "12000",
          "14000",
          "16000",
          "18000",
          "20000",
          "20000",
          "2000",
          "4000",
          "6000",
          "8000",
          "10000",
          "12000",
          "14000",
          "16000",
          "2000",
          "4000",
          "6000",
          "8000",
          "10000",
          "12000",
          "14000",
          "16000",
          "18000",
          "20000",
          "22000",
          "24000",
          "26000",
          "28000",
          "30000",
          "32000",
          "34000",
          "36000",
          "38000",
          "40000",
          "40000",
          "2000",
          "4000",
          "4800",
          "6000",
          "7000",
          "8000",
          "10000",
          "12000",
          "14000",
          "16000",
          "18000",
          "20000",
          "22000",
          "22000"
         ],
         "y": [
          "0.6722",
          "0.6737",
          "0.6736",
          "0.6759",
          "0.6760",
          "0.6735",
          "0.6793",
          "0.6759",
          "0.6751",
          "0.6806",
          "0.3768",
          "0.4890",
          "0.5378",
          "0.5224",
          "0.5094",
          "0.6095",
          "0.6259",
          "0.6237",
          "0.6172",
          "0.6293",
          "0.6249",
          "0.6208",
          "0.6206",
          "0.4570",
          "0.4850",
          "0.5121",
          "0.5421",
          "0.4814",
          "0.5370",
          "0.5357",
          "0.4888",
          "0.4896",
          "0.4837",
          "0.4940",
          "0.0329",
          "0.0333",
          "0.0360",
          "0.0332",
          "0.0385",
          "0.0375",
          "0.0294",
          "0.0284",
          "0.3775",
          "0.3668",
          "0.3675",
          "0.3892",
          "0.4213",
          "0.4441",
          "0.4839",
          "0.4853",
          "0.0182",
          "0.1214",
          "0.2922",
          "0.3165",
          "0.3611",
          "0.3047",
          "0.3397",
          "0.3657",
          "0.3807",
          "0.3773",
          "0.3586",
          "0.3785",
          "0.6386",
          "0.3624",
          "0.3975",
          "0.3961",
          "0.4062",
          "0.4054",
          "0.3823",
          "0.4269",
          "0.4141",
          "0.3954",
          "0.3872",
          "0.3897",
          "0.3778",
          "0.3815",
          "0.4147"
         ]
        },
        {
         "line": {
          "color": "rgba(255, 255, 51, 1.0)",
          "dash": "solid",
          "shape": "linear",
          "width": 1.3
         },
         "mode": "lines",
         "name": "ngR @ 20",
         "text": "",
         "type": "scatter",
         "x": [
          "2000",
          "4000",
          "6000",
          "8000",
          "9600",
          "10000",
          "15000",
          "20000",
          "25000",
          "30000",
          "2000",
          "4000",
          "6000",
          "8000",
          "10000",
          "12000",
          "14000",
          "16000",
          "18000",
          "20000",
          "22000",
          "24000",
          "24000",
          "2000",
          "4000",
          "6000",
          "8000",
          "10000",
          "12000",
          "14000",
          "16000",
          "18000",
          "20000",
          "20000",
          "2000",
          "4000",
          "6000",
          "8000",
          "10000",
          "12000",
          "14000",
          "16000",
          "2000",
          "4000",
          "6000",
          "8000",
          "10000",
          "12000",
          "14000",
          "16000",
          "18000",
          "20000",
          "22000",
          "24000",
          "26000",
          "28000",
          "30000",
          "32000",
          "34000",
          "36000",
          "38000",
          "40000",
          "40000",
          "2000",
          "4000",
          "4800",
          "6000",
          "7000",
          "8000",
          "10000",
          "12000",
          "14000",
          "16000",
          "18000",
          "20000",
          "22000",
          "22000"
         ],
         "y": [
          "0.6856",
          "0.6913",
          "0.6929",
          "0.6957",
          "0.6954",
          "0.6891",
          "0.6966",
          "0.6895",
          "0.6963",
          "0.7037",
          "0.3983",
          "0.5406",
          "0.5877",
          "0.5689",
          "0.5557",
          "0.6457",
          "0.6546",
          "0.6454",
          "0.6309",
          "0.6404",
          "0.6305",
          "0.6228",
          "0.6042",
          "0.3741",
          "0.3748",
          "0.3852",
          "0.3986",
          "0.3416",
          "0.3785",
          "0.3963",
          "0.3481",
          "0.3572",
          "0.3617",
          "0.3699",
          "0.0424",
          "0.0377",
          "0.0378",
          "0.0331",
          "0.0402",
          "0.0365",
          "0.0298",
          "0.0277",
          "0.3911",
          "0.3650",
          "0.3710",
          "0.3976",
          "0.4415",
          "0.4851",
          "0.5332",
          "0.5044",
          "0.0065",
          "0.0830",
          "0.3001",
          "0.3465",
          "0.3891",
          "0.3184",
          "0.3451",
          "0.3833",
          "0.3801",
          "0.3778",
          "0.3834",
          "0.3899",
          "0.5314",
          "0.2876",
          "0.2976",
          "0.2968",
          "0.2621",
          "0.2625",
          "0.2908",
          "0.3114",
          "0.2882",
          "0.3063",
          "0.2807",
          "0.2832",
          "0.2614",
          "0.2645",
          "0.2947"
         ]
        },
        {
         "line": {
          "color": "rgba(128, 128, 0, 1.0)",
          "dash": "solid",
          "shape": "linear",
          "width": 1.3
         },
         "mode": "lines",
         "name": "ngR @ 50",
         "text": "",
         "type": "scatter",
         "x": [
          "2000",
          "4000",
          "6000",
          "8000",
          "9600",
          "10000",
          "15000",
          "20000",
          "25000",
          "30000",
          "2000",
          "4000",
          "6000",
          "8000",
          "10000",
          "12000",
          "14000",
          "16000",
          "18000",
          "20000",
          "22000",
          "24000",
          "24000",
          "2000",
          "4000",
          "6000",
          "8000",
          "10000",
          "12000",
          "14000",
          "16000",
          "18000",
          "20000",
          "20000",
          "2000",
          "4000",
          "6000",
          "8000",
          "10000",
          "12000",
          "14000",
          "16000",
          "2000",
          "4000",
          "6000",
          "8000",
          "10000",
          "12000",
          "14000",
          "16000",
          "18000",
          "20000",
          "22000",
          "24000",
          "26000",
          "28000",
          "30000",
          "32000",
          "34000",
          "36000",
          "38000",
          "40000",
          "40000",
          "2000",
          "4000",
          "4800",
          "6000",
          "7000",
          "8000",
          "10000",
          "12000",
          "14000",
          "16000",
          "18000",
          "20000",
          "22000",
          "22000"
         ],
         "y": [
          "0.8146",
          "0.8168",
          "0.8186",
          "0.8224",
          "0.8225",
          "0.8209",
          "0.8242",
          "0.8207",
          "0.8241",
          "0.8278",
          "0.6042",
          "0.7561",
          "0.7765",
          "0.7592",
          "0.7589",
          "0.7933",
          "0.7940",
          "0.7806",
          "0.7621",
          "0.7584",
          "0.7446",
          "0.7360",
          "0.7359",
          "0.5314",
          "0.5421",
          "0.5704",
          "0.5969",
          "0.5315",
          "0.5679",
          "0.5914",
          "0.5406",
          "0.5434",
          "0.5368",
          "0.5500",
          "0.0745",
          "0.0668",
          "0.0682",
          "0.0646",
          "0.0675",
          "0.0622",
          "0.0513",
          "0.0497",
          "0.5480",
          "0.5460",
          "0.5495",
          "0.5803",
          "0.6873",
          "0.7329",
          "0.7493",
          "0.7160",
          "0.0284",
          "0.1107",
          "0.4199",
          "0.5107",
          "0.5852",
          "0.4955",
          "0.5249",
          "0.5599",
          "0.5386",
          "0.5203",
          "0.4981",
          "0.4881",
          "0.6987",
          "0.4438",
          "0.4565",
          "0.4558",
          "0.4429",
          "0.4420",
          "0.4674",
          "0.4984",
          "0.4622",
          "0.4930",
          "0.4605",
          "0.4650",
          "0.4384",
          "0.4354",
          "0.4774"
         ]
        },
        {
         "line": {
          "color": "rgba(251, 128, 114, 1.0)",
          "dash": "solid",
          "shape": "linear",
          "width": 1.3
         },
         "mode": "lines",
         "name": "ngR @ 100",
         "text": "",
         "type": "scatter",
         "x": [
          "2000",
          "4000",
          "6000",
          "8000",
          "9600",
          "10000",
          "15000",
          "20000",
          "25000",
          "30000",
          "2000",
          "4000",
          "6000",
          "8000",
          "10000",
          "12000",
          "14000",
          "16000",
          "18000",
          "20000",
          "22000",
          "24000",
          "24000",
          "2000",
          "4000",
          "6000",
          "8000",
          "10000",
          "12000",
          "14000",
          "16000",
          "18000",
          "20000",
          "20000",
          "2000",
          "4000",
          "6000",
          "8000",
          "10000",
          "12000",
          "14000",
          "16000",
          "2000",
          "4000",
          "6000",
          "8000",
          "10000",
          "12000",
          "14000",
          "16000",
          "18000",
          "20000",
          "22000",
          "24000",
          "26000",
          "28000",
          "30000",
          "32000",
          "34000",
          "36000",
          "38000",
          "40000",
          "40000",
          "2000",
          "4000",
          "4800",
          "6000",
          "7000",
          "8000",
          "10000",
          "12000",
          "14000",
          "16000",
          "18000",
          "20000",
          "22000",
          "22000"
         ],
         "y": [
          "0.8774",
          "0.8828",
          "0.8849",
          "0.8873",
          "0.8873",
          "0.8870",
          "0.8894",
          "0.8882",
          "0.8911",
          "0.8937",
          "0.7504",
          "0.8450",
          "0.8485",
          "0.8400",
          "0.8379",
          "0.8586",
          "0.8562",
          "0.8434",
          "0.8316",
          "0.8203",
          "0.8085",
          "0.7974",
          "0.8031",
          "0.6429",
          "0.6683",
          "0.6940",
          "0.7354",
          "0.6705",
          "0.6883",
          "0.7061",
          "0.6696",
          "0.6705",
          "0.6637",
          "0.6699",
          "0.1324",
          "0.1288",
          "0.1245",
          "0.1196",
          "0.1304",
          "0.1206",
          "0.1043",
          "0.0970",
          "0.6469",
          "0.6643",
          "0.6648",
          "0.6954",
          "0.7998",
          "0.8111",
          "0.8043",
          "0.7778",
          "0.0642",
          "0.1549",
          "0.5020",
          "0.6183",
          "0.6958",
          "0.6225",
          "0.6407",
          "0.6517",
          "0.6198",
          "0.5880",
          "0.5453",
          "0.5236",
          "0.7996",
          "0.5837",
          "0.5915",
          "0.5902",
          "0.5969",
          "0.5965",
          "0.6169",
          "0.6415",
          "0.6101",
          "0.6367",
          "0.6130",
          "0.6124",
          "0.5939",
          "0.5853",
          "0.6148"
         ]
        },
        {
         "line": {
          "color": "rgba(128, 177, 211, 1.0)",
          "dash": "solid",
          "shape": "linear",
          "width": 1.3
         },
         "mode": "lines",
         "name": "zR @ 20",
         "text": "",
         "type": "scatter",
         "x": [
          "2000",
          "4000",
          "6000",
          "8000",
          "9600",
          "10000",
          "15000",
          "20000",
          "25000",
          "30000",
          "2000",
          "4000",
          "6000",
          "8000",
          "10000",
          "12000",
          "14000",
          "16000",
          "18000",
          "20000",
          "22000",
          "24000",
          "24000",
          "2000",
          "4000",
          "6000",
          "8000",
          "10000",
          "12000",
          "14000",
          "16000",
          "18000",
          "20000",
          "20000",
          "2000",
          "4000",
          "6000",
          "8000",
          "10000",
          "12000",
          "14000",
          "16000",
          "2000",
          "4000",
          "6000",
          "8000",
          "10000",
          "12000",
          "14000",
          "16000",
          "18000",
          "20000",
          "22000",
          "24000",
          "26000",
          "28000",
          "30000",
          "32000",
          "34000",
          "36000",
          "38000",
          "40000",
          "40000",
          "2000",
          "4000",
          "4800",
          "6000",
          "7000",
          "8000",
          "10000",
          "12000",
          "14000",
          "16000",
          "18000",
          "20000",
          "22000",
          "22000"
         ],
         "y": [
          "0.0133",
          "0.0133",
          "0.0089",
          "0.0133",
          "0.0133",
          "0.0133",
          "0.0178",
          "0.0178",
          "0.0089",
          "0.0133",
          "0.1067",
          "0.0844",
          "0.0711",
          "0.0822",
          "0.0844",
          "0.1111",
          "0.0933",
          "0.0956",
          "0.1000",
          "0.0763",
          "0.0778",
          "0.0852",
          "0.0624",
          "0.0800",
          "0.0911",
          "0.0941",
          "0.0600",
          "0.0556",
          "0.0733",
          "0.0733",
          "0.0815",
          "0.0733",
          "0.0800",
          "0.0546",
          "0.0489",
          "0.0333",
          "0.0533",
          "0.0467",
          "0.0378",
          "0.0489",
          "0.0589",
          "0.0489",
          "0.0911",
          "0.0978",
          "0.1104",
          "0.1126",
          "0.1119",
          "0.1089",
          "0.1104",
          "0.1222",
          "0.0311",
          "0.0778",
          "0.1007",
          "0.1119",
          "0.0985",
          "0.1222",
          "0.1170",
          "0.1407",
          "0.1430",
          "0.1385",
          "0.1141",
          "0.0963",
          "0.0010",
          "0.1022",
          "0.1000",
          "0.1000",
          "0.0889",
          "0.0889",
          "0.0822",
          "0.0756",
          "0.0889",
          "0.1059",
          "0.0941",
          "0.1030",
          "0.1178",
          "0.1222",
          "0.0765"
         ]
        },
        {
         "line": {
          "color": "rgba(128, 177, 211, 0.8999999999999999)",
          "dash": "solid",
          "shape": "linear",
          "width": 1.3
         },
         "mode": "lines",
         "name": "zR @ 50",
         "text": "",
         "type": "scatter",
         "x": [
          "2000",
          "4000",
          "6000",
          "8000",
          "9600",
          "10000",
          "15000",
          "20000",
          "25000",
          "30000",
          "2000",
          "4000",
          "6000",
          "8000",
          "10000",
          "12000",
          "14000",
          "16000",
          "18000",
          "20000",
          "22000",
          "24000",
          "24000",
          "2000",
          "4000",
          "6000",
          "8000",
          "10000",
          "12000",
          "14000",
          "16000",
          "18000",
          "20000",
          "20000",
          "2000",
          "4000",
          "6000",
          "8000",
          "10000",
          "12000",
          "14000",
          "16000",
          "2000",
          "4000",
          "6000",
          "8000",
          "10000",
          "12000",
          "14000",
          "16000",
          "18000",
          "20000",
          "22000",
          "24000",
          "26000",
          "28000",
          "30000",
          "32000",
          "34000",
          "36000",
          "38000",
          "40000",
          "40000",
          "2000",
          "4000",
          "4800",
          "6000",
          "7000",
          "8000",
          "10000",
          "12000",
          "14000",
          "16000",
          "18000",
          "20000",
          "22000",
          "22000"
         ],
         "y": [
          "0.0178",
          "0.0289",
          "0.0222",
          "0.0267",
          "0.0267",
          "0.0356",
          "0.0400",
          "0.0444",
          "0.0311",
          "0.0400",
          "0.1563",
          "0.1733",
          "0.1756",
          "0.1600",
          "0.1630",
          "0.1756",
          "0.1778",
          "0.1874",
          "0.1956",
          "0.1689",
          "0.1667",
          "0.1600",
          "0.1092",
          "0.1207",
          "0.1474",
          "0.1533",
          "0.1000",
          "0.0867",
          "0.0822",
          "0.1289",
          "0.1341",
          "0.1296",
          "0.1467",
          "0.0915",
          "0.0778",
          "0.0589",
          "0.0785",
          "0.0656",
          "0.0733",
          "0.0681",
          "0.0759",
          "0.0800",
          "0.1474",
          "0.1785",
          "0.1637",
          "0.1652",
          "0.1600",
          "0.1652",
          "0.1704",
          "0.1911",
          "0.0422",
          "0.1044",
          "0.1474",
          "0.1585",
          "0.1496",
          "0.1674",
          "0.1607",
          "0.1896",
          "0.1852",
          "0.1756",
          "0.1289",
          "0.1334",
          "0.0032",
          "0.1422",
          "0.1363",
          "0.1363",
          "0.1296",
          "0.1296",
          "0.1289",
          "0.1489",
          "0.1415",
          "0.1370",
          "0.1593",
          "0.1585",
          "0.1756",
          "0.1637",
          "0.1217"
         ]
        },
        {
         "line": {
          "color": "rgba(255, 153, 51, 0.8999999999999999)",
          "dash": "solid",
          "shape": "linear",
          "width": 1.3
         },
         "mode": "lines",
         "name": "zR @ 100",
         "text": "",
         "type": "scatter",
         "x": [
          "2000",
          "4000",
          "6000",
          "8000",
          "9600",
          "10000",
          "15000",
          "20000",
          "25000",
          "30000",
          "2000",
          "4000",
          "6000",
          "8000",
          "10000",
          "12000",
          "14000",
          "16000",
          "18000",
          "20000",
          "22000",
          "24000",
          "24000",
          "2000",
          "4000",
          "6000",
          "8000",
          "10000",
          "12000",
          "14000",
          "16000",
          "18000",
          "20000",
          "20000",
          "2000",
          "4000",
          "6000",
          "8000",
          "10000",
          "12000",
          "14000",
          "16000",
          "2000",
          "4000",
          "6000",
          "8000",
          "10000",
          "12000",
          "14000",
          "16000",
          "18000",
          "20000",
          "22000",
          "24000",
          "26000",
          "28000",
          "30000",
          "32000",
          "34000",
          "36000",
          "38000",
          "40000",
          "40000",
          "2000",
          "4000",
          "4800",
          "6000",
          "7000",
          "8000",
          "10000",
          "12000",
          "14000",
          "16000",
          "18000",
          "20000",
          "22000",
          "22000"
         ],
         "y": [
          "0.0356",
          "0.0467",
          "0.0267",
          "0.0400",
          "0.0400",
          "0.0533",
          "0.0511",
          "0.0622",
          "0.0400",
          "0.0578",
          "0.1711",
          "0.1859",
          "0.1815",
          "0.1911",
          "0.1867",
          "0.1978",
          "0.1867",
          "0.1985",
          "0.2200",
          "0.2044",
          "0.1911",
          "0.1844",
          "0.1362",
          "0.1644",
          "0.1926",
          "0.1711",
          "0.1222",
          "0.1089",
          "0.1156",
          "0.1600",
          "0.1578",
          "0.1600",
          "0.1667",
          "0.1196",
          "0.0822",
          "0.0700",
          "0.0970",
          "0.0744",
          "0.0822",
          "0.0815",
          "0.0759",
          "0.0889",
          "0.1785",
          "0.2119",
          "0.1963",
          "0.1830",
          "0.1793",
          "0.1919",
          "0.1985",
          "0.2185",
          "0.0556",
          "0.1356",
          "0.1741",
          "0.1837",
          "0.1896",
          "0.1807",
          "0.1756",
          "0.1963",
          "0.1896",
          "0.1881",
          "0.1348",
          "0.1467",
          "0.0044",
          "0.1793",
          "0.1763",
          "0.1807",
          "0.1756",
          "0.1756",
          "0.1570",
          "0.1785",
          "0.1578",
          "0.1674",
          "0.1807",
          "0.1896",
          "0.1978",
          "0.1874",
          "0.1507"
         ]
        },
        {
         "line": {
          "color": "rgba(55, 128, 191, 0.8999999999999999)",
          "dash": "solid",
          "shape": "linear",
          "width": 1.3
         },
         "mode": "lines",
         "name": "mR @ 20",
         "text": "",
         "type": "scatter",
         "x": [
          "2000",
          "4000",
          "6000",
          "8000",
          "9600",
          "10000",
          "15000",
          "20000",
          "25000",
          "30000",
          "2000",
          "4000",
          "6000",
          "8000",
          "10000",
          "12000",
          "14000",
          "16000",
          "18000",
          "20000",
          "22000",
          "24000",
          "24000",
          "2000",
          "4000",
          "6000",
          "8000",
          "10000",
          "12000",
          "14000",
          "16000",
          "18000",
          "20000",
          "20000",
          "2000",
          "4000",
          "6000",
          "8000",
          "10000",
          "12000",
          "14000",
          "16000",
          "2000",
          "4000",
          "6000",
          "8000",
          "10000",
          "12000",
          "14000",
          "16000",
          "18000",
          "20000",
          "22000",
          "24000",
          "26000",
          "28000",
          "30000",
          "32000",
          "34000",
          "36000",
          "38000",
          "40000",
          "40000",
          "2000",
          "4000",
          "4800",
          "6000",
          "7000",
          "8000",
          "10000",
          "12000",
          "14000",
          "16000",
          "18000",
          "20000",
          "22000",
          "22000"
         ],
         "y": [
          "0.1162",
          "0.1218",
          "0.1286",
          "0.1140",
          "0.1140",
          "0.1058",
          "0.1231",
          "0.1167",
          "0.1181",
          "0.1413",
          "0.1438",
          "0.1447",
          "0.1286",
          "0.1238",
          "0.1199",
          "0.1298",
          "0.1281",
          "0.1236",
          "0.1351",
          "0.1229",
          "0.1226",
          "0.1262",
          "0.1093",
          "0.1487",
          "0.1663",
          "0.1788",
          "0.1914",
          "0.1809",
          "0.1662",
          "0.2160",
          "0.1976",
          "0.1973",
          "0.1999",
          "0.1870",
          "0.0716",
          "0.0546",
          "0.0663",
          "0.0555",
          "0.0822",
          "0.0779",
          "0.0648",
          "0.0546",
          "0.1478",
          "0.1609",
          "0.1467",
          "0.1650",
          "0.1615",
          "0.1553",
          "0.1522",
          "0.1571",
          "0.0059",
          "0.0503",
          "0.0913",
          "0.1201",
          "0.1192",
          "0.1251",
          "0.1278",
          "0.1447",
          "0.1368",
          "0.1377",
          "0.1297",
          "0.1298",
          "0.0833",
          "0.1512",
          "0.1688",
          "0.1690",
          "0.1432",
          "0.1435",
          "0.1756",
          "0.1706",
          "0.1687",
          "0.1900",
          "0.1924",
          "0.2040",
          "0.1913",
          "0.1922",
          "0.1735"
         ]
        },
        {
         "line": {
          "color": "rgba(50, 171, 96, 0.8999999999999999)",
          "dash": "solid",
          "shape": "linear",
          "width": 1.3
         },
         "mode": "lines",
         "name": "mR @ 50",
         "text": "",
         "type": "scatter",
         "x": [
          "2000",
          "4000",
          "6000",
          "8000",
          "9600",
          "10000",
          "15000",
          "20000",
          "25000",
          "30000",
          "2000",
          "4000",
          "6000",
          "8000",
          "10000",
          "12000",
          "14000",
          "16000",
          "18000",
          "20000",
          "22000",
          "24000",
          "24000",
          "2000",
          "4000",
          "6000",
          "8000",
          "10000",
          "12000",
          "14000",
          "16000",
          "18000",
          "20000",
          "20000",
          "2000",
          "4000",
          "6000",
          "8000",
          "10000",
          "12000",
          "14000",
          "16000",
          "2000",
          "4000",
          "6000",
          "8000",
          "10000",
          "12000",
          "14000",
          "16000",
          "18000",
          "20000",
          "22000",
          "24000",
          "26000",
          "28000",
          "30000",
          "32000",
          "34000",
          "36000",
          "38000",
          "40000",
          "40000",
          "2000",
          "4000",
          "4800",
          "6000",
          "7000",
          "8000",
          "10000",
          "12000",
          "14000",
          "16000",
          "18000",
          "20000",
          "22000",
          "22000"
         ],
         "y": [
          "0.1411",
          "0.1520",
          "0.1578",
          "0.1395",
          "0.1396",
          "0.1302",
          "0.1459",
          "0.1445",
          "0.1402",
          "0.1705",
          "0.1800",
          "0.1720",
          "0.1629",
          "0.1559",
          "0.1475",
          "0.1613",
          "0.1584",
          "0.1562",
          "0.1693",
          "0.1534",
          "0.1513",
          "0.1526",
          "0.1429",
          "0.1958",
          "0.2260",
          "0.2315",
          "0.2440",
          "0.2429",
          "0.2308",
          "0.2829",
          "0.2624",
          "0.2643",
          "0.2637",
          "0.2586",
          "0.1046",
          "0.0937",
          "0.1133",
          "0.0946",
          "0.1204",
          "0.1157",
          "0.0955",
          "0.0835",
          "0.1747",
          "0.1889",
          "0.1703",
          "0.1916",
          "0.1887",
          "0.1840",
          "0.1781",
          "0.1868",
          "0.0100",
          "0.0862",
          "0.1167",
          "0.1470",
          "0.1446",
          "0.1491",
          "0.1527",
          "0.1699",
          "0.1632",
          "0.1621",
          "0.1543",
          "0.1531",
          "0.1281",
          "0.2033",
          "0.2244",
          "0.2244",
          "0.2048",
          "0.2044",
          "0.2371",
          "0.2449",
          "0.2256",
          "0.2443",
          "0.2588",
          "0.2676",
          "0.2603",
          "0.2617",
          "0.2466"
         ]
        },
        {
         "line": {
          "color": "rgba(128, 0, 128, 0.8999999999999999)",
          "dash": "solid",
          "shape": "linear",
          "width": 1.3
         },
         "mode": "lines",
         "name": "mR @ 100",
         "text": "",
         "type": "scatter",
         "x": [
          "2000",
          "4000",
          "6000",
          "8000",
          "9600",
          "10000",
          "15000",
          "20000",
          "25000",
          "30000",
          "2000",
          "4000",
          "6000",
          "8000",
          "10000",
          "12000",
          "14000",
          "16000",
          "18000",
          "20000",
          "22000",
          "24000",
          "24000",
          "2000",
          "4000",
          "6000",
          "8000",
          "10000",
          "12000",
          "14000",
          "16000",
          "18000",
          "20000",
          "20000",
          "2000",
          "4000",
          "6000",
          "8000",
          "10000",
          "12000",
          "14000",
          "16000",
          "2000",
          "4000",
          "6000",
          "8000",
          "10000",
          "12000",
          "14000",
          "16000",
          "18000",
          "20000",
          "22000",
          "24000",
          "26000",
          "28000",
          "30000",
          "32000",
          "34000",
          "36000",
          "38000",
          "40000",
          "40000",
          "2000",
          "4000",
          "4800",
          "6000",
          "7000",
          "8000",
          "10000",
          "12000",
          "14000",
          "16000",
          "18000",
          "20000",
          "22000",
          "22000"
         ],
         "y": [
          "0.1516",
          "0.1610",
          "0.1680",
          "0.1489",
          "0.1486",
          "0.1408",
          "0.1581",
          "0.1535",
          "0.1530",
          "0.1837",
          "0.1945",
          "0.1810",
          "0.1733",
          "0.1662",
          "0.1559",
          "0.1712",
          "0.1698",
          "0.1653",
          "0.1786",
          "0.1650",
          "0.1642",
          "0.1700",
          "0.1612",
          "0.2198",
          "0.2565",
          "0.2595",
          "0.2704",
          "0.2774",
          "0.2718",
          "0.3140",
          "0.3051",
          "0.3035",
          "0.3005",
          "0.2968",
          "0.1157",
          "0.1084",
          "0.1333",
          "0.1124",
          "0.1355",
          "0.1328",
          "0.1117",
          "0.0959",
          "0.1821",
          "0.1979",
          "0.1819",
          "0.2038",
          "0.2002",
          "0.1934",
          "0.1896",
          "0.1999",
          "0.0138",
          "0.1070",
          "0.1290",
          "0.1600",
          "0.1585",
          "0.1601",
          "0.1641",
          "0.1789",
          "0.1772",
          "0.1723",
          "0.1650",
          "0.1627",
          "0.1555",
          "0.2300",
          "0.2560",
          "0.2559",
          "0.2428",
          "0.2426",
          "0.2706",
          "0.2799",
          "0.2597",
          "0.2765",
          "0.2962",
          "0.3052",
          "0.3006",
          "0.3048",
          "0.2881"
         ]
        },
        {
         "line": {
          "color": "rgba(219, 64, 82, 0.8999999999999999)",
          "dash": "solid",
          "shape": "linear",
          "width": 1.3
         },
         "mode": "lines",
         "name": "A @ 20",
         "text": "",
         "type": "scatter",
         "x": [
          "2000",
          "4000",
          "6000",
          "8000",
          "9600",
          "10000",
          "15000",
          "20000",
          "25000",
          "30000",
          "2000",
          "4000",
          "6000",
          "8000",
          "10000",
          "12000",
          "14000",
          "16000",
          "18000",
          "20000",
          "22000",
          "24000",
          "24000",
          "2000",
          "4000",
          "6000",
          "8000",
          "10000",
          "12000",
          "14000",
          "16000",
          "18000",
          "20000",
          "20000",
          "2000",
          "4000",
          "6000",
          "8000",
          "10000",
          "12000",
          "14000",
          "16000",
          "2000",
          "4000",
          "6000",
          "8000",
          "10000",
          "12000",
          "14000",
          "16000",
          "18000",
          "20000",
          "22000",
          "24000",
          "26000",
          "28000",
          "30000",
          "32000",
          "34000",
          "36000",
          "38000",
          "40000",
          "40000",
          "2000",
          "4000",
          "4800",
          "6000",
          "7000",
          "8000",
          "10000",
          "12000",
          "14000",
          "16000",
          "18000",
          "20000",
          "22000",
          "22000"
         ],
         "y": [
          "0.6970",
          "0.6985",
          "0.7001",
          "0.7014",
          "0.7016",
          "0.6979",
          "0.7017",
          "0.6996",
          "0.6995",
          "0.7038",
          "0.3840",
          "0.5180",
          "0.5872",
          "0.5651",
          "0.5444",
          "0.6522",
          "0.6592",
          "0.6559",
          "0.6531",
          "0.6564",
          "0.6536",
          "0.6492",
          "0.6391",
          "0.5084",
          "0.5415",
          "0.5665",
          "0.5992",
          "0.5491",
          "0.5894",
          "0.5818",
          "0.5431",
          "0.5429",
          "0.5358",
          "0.5303",
          "0.0291",
          "0.0305",
          "0.0331",
          "0.0299",
          "0.0347",
          "0.0322",
          "0.0269",
          "0.0253",
          "0.3755",
          "0.3645",
          "0.3618",
          "0.3915",
          "0.4391",
          "0.4747",
          "0.5271",
          "0.5241",
          "0.0242",
          "0.1231",
          "0.3002",
          "0.3088",
          "0.3595",
          "0.2888",
          "0.3394",
          "0.3628",
          "0.3800",
          "0.3862",
          "0.3604",
          "0.3728",
          "0.6775",
          "0.4054",
          "0.4778",
          "0.4751",
          "0.4952",
          "0.4949",
          "0.4344",
          "0.4990",
          "0.4831",
          "0.4589",
          "0.4654",
          "0.4567",
          "0.4512",
          "0.4544",
          "0.4617"
         ]
        },
        {
         "line": {
          "color": "rgba(0, 128, 128, 0.8999999999999999)",
          "dash": "solid",
          "shape": "linear",
          "width": 1.3
         },
         "mode": "lines",
         "name": "A @ 50",
         "text": "",
         "type": "scatter",
         "x": [
          "2000",
          "4000",
          "6000",
          "8000",
          "9600",
          "10000",
          "15000",
          "20000",
          "25000",
          "30000",
          "2000",
          "4000",
          "6000",
          "8000",
          "10000",
          "12000",
          "14000",
          "16000",
          "18000",
          "20000",
          "22000",
          "24000",
          "24000",
          "2000",
          "4000",
          "6000",
          "8000",
          "10000",
          "12000",
          "14000",
          "16000",
          "18000",
          "20000",
          "20000",
          "2000",
          "4000",
          "6000",
          "8000",
          "10000",
          "12000",
          "14000",
          "16000",
          "2000",
          "4000",
          "6000",
          "8000",
          "10000",
          "12000",
          "14000",
          "16000",
          "18000",
          "20000",
          "22000",
          "24000",
          "26000",
          "28000",
          "30000",
          "32000",
          "34000",
          "36000",
          "38000",
          "40000",
          "40000",
          "2000",
          "4000",
          "4800",
          "6000",
          "7000",
          "8000",
          "10000",
          "12000",
          "14000",
          "16000",
          "18000",
          "20000",
          "22000",
          "22000"
         ],
         "y": [
          "0.7018",
          "0.7033",
          "0.7047",
          "0.7062",
          "0.7063",
          "0.7026",
          "0.7067",
          "0.7045",
          "0.7042",
          "0.7089",
          "0.3870",
          "0.5224",
          "0.5925",
          "0.5698",
          "0.5492",
          "0.6572",
          "0.6639",
          "0.6610",
          "0.6573",
          "0.6600",
          "0.6578",
          "0.6531",
          "0.6412",
          "0.5117",
          "0.5459",
          "0.5713",
          "0.6040",
          "0.5534",
          "0.5943",
          "0.5862",
          "0.5477",
          "0.5468",
          "0.5398",
          "0.5322",
          "0.0291",
          "0.0306",
          "0.0334",
          "0.0301",
          "0.0349",
          "0.0324",
          "0.0272",
          "0.0255",
          "0.3778",
          "0.3672",
          "0.3653",
          "0.3958",
          "0.4437",
          "0.4796",
          "0.5320",
          "0.5288",
          "0.0242",
          "0.1238",
          "0.3027",
          "0.3119",
          "0.3623",
          "0.2916",
          "0.3425",
          "0.3658",
          "0.3829",
          "0.3890",
          "0.3620",
          "0.3732",
          "0.6801",
          "0.4079",
          "0.4824",
          "0.4794",
          "0.4995",
          "0.4992",
          "0.4382",
          "0.5037",
          "0.4875",
          "0.4641",
          "0.4698",
          "0.4613",
          "0.4549",
          "0.4585",
          "0.4634"
         ]
        },
        {
         "line": {
          "color": "rgba(255, 255, 51, 0.8999999999999999)",
          "dash": "solid",
          "shape": "linear",
          "width": 1.3
         },
         "mode": "lines",
         "name": "A @ 100",
         "text": "",
         "type": "scatter",
         "x": [
          "2000",
          "4000",
          "6000",
          "8000",
          "9600",
          "10000",
          "15000",
          "20000",
          "25000",
          "30000",
          "2000",
          "4000",
          "6000",
          "8000",
          "10000",
          "12000",
          "14000",
          "16000",
          "18000",
          "20000",
          "22000",
          "24000",
          "24000",
          "2000",
          "4000",
          "6000",
          "8000",
          "10000",
          "12000",
          "14000",
          "16000",
          "18000",
          "20000",
          "20000",
          "2000",
          "4000",
          "6000",
          "8000",
          "10000",
          "12000",
          "14000",
          "16000",
          "2000",
          "4000",
          "6000",
          "8000",
          "10000",
          "12000",
          "14000",
          "16000",
          "18000",
          "20000",
          "22000",
          "24000",
          "26000",
          "28000",
          "30000",
          "32000",
          "34000",
          "36000",
          "38000",
          "40000",
          "40000",
          "2000",
          "4000",
          "4800",
          "6000",
          "7000",
          "8000",
          "10000",
          "12000",
          "14000",
          "16000",
          "18000",
          "20000",
          "22000",
          "22000"
         ],
         "y": [
          "0.7018",
          "0.7033",
          "0.7047",
          "0.7062",
          "0.7063",
          "0.7026",
          "0.7067",
          "0.7045",
          "0.7042",
          "0.7089",
          "0.3870",
          "0.5224",
          "0.5925",
          "0.5698",
          "0.5492",
          "0.6572",
          "0.6639",
          "0.6610",
          "0.6573",
          "0.6600",
          "0.6578",
          "0.6531",
          "0.6412",
          "0.5117",
          "0.5459",
          "0.5713",
          "0.6040",
          "0.5534",
          "0.5943",
          "0.5862",
          "0.5477",
          "0.5468",
          "0.5398",
          "0.5322",
          "0.0291",
          "0.0306",
          "0.0334",
          "0.0301",
          "0.0349",
          "0.0324",
          "0.0272",
          "0.0255",
          "0.3778",
          "0.3672",
          "0.3653",
          "0.3958",
          "0.4437",
          "0.4796",
          "0.5320",
          "0.5288",
          "0.0242",
          "0.1238",
          "0.3027",
          "0.3119",
          "0.3623",
          "0.2916",
          "0.3425",
          "0.3658",
          "0.3829",
          "0.3890",
          "0.3620",
          "0.3732",
          "0.6801",
          "0.4079",
          "0.4824",
          "0.4794",
          "0.4995",
          "0.4992",
          "0.4382",
          "0.5037",
          "0.4875",
          "0.4641",
          "0.4698",
          "0.4613",
          "0.4549",
          "0.4585",
          "0.4634"
         ]
        }
       ],
       "layout": {
        "legend": {
         "bgcolor": "#FFFFFF",
         "font": {
          "color": "#4D5663"
         }
        },
        "paper_bgcolor": "#FFFFFF",
        "plot_bgcolor": "#FFFFFF",
        "template": {
         "data": {
          "bar": [
           {
            "error_x": {
             "color": "#2a3f5f"
            },
            "error_y": {
             "color": "#2a3f5f"
            },
            "marker": {
             "line": {
              "color": "#E5ECF6",
              "width": 0.5
             }
            },
            "type": "bar"
           }
          ],
          "barpolar": [
           {
            "marker": {
             "line": {
              "color": "#E5ECF6",
              "width": 0.5
             }
            },
            "type": "barpolar"
           }
          ],
          "carpet": [
           {
            "aaxis": {
             "endlinecolor": "#2a3f5f",
             "gridcolor": "white",
             "linecolor": "white",
             "minorgridcolor": "white",
             "startlinecolor": "#2a3f5f"
            },
            "baxis": {
             "endlinecolor": "#2a3f5f",
             "gridcolor": "white",
             "linecolor": "white",
             "minorgridcolor": "white",
             "startlinecolor": "#2a3f5f"
            },
            "type": "carpet"
           }
          ],
          "choropleth": [
           {
            "colorbar": {
             "outlinewidth": 0,
             "ticks": ""
            },
            "type": "choropleth"
           }
          ],
          "contour": [
           {
            "colorbar": {
             "outlinewidth": 0,
             "ticks": ""
            },
            "colorscale": [
             [
              0,
              "#0d0887"
             ],
             [
              0.1111111111111111,
              "#46039f"
             ],
             [
              0.2222222222222222,
              "#7201a8"
             ],
             [
              0.3333333333333333,
              "#9c179e"
             ],
             [
              0.4444444444444444,
              "#bd3786"
             ],
             [
              0.5555555555555556,
              "#d8576b"
             ],
             [
              0.6666666666666666,
              "#ed7953"
             ],
             [
              0.7777777777777778,
              "#fb9f3a"
             ],
             [
              0.8888888888888888,
              "#fdca26"
             ],
             [
              1,
              "#f0f921"
             ]
            ],
            "type": "contour"
           }
          ],
          "contourcarpet": [
           {
            "colorbar": {
             "outlinewidth": 0,
             "ticks": ""
            },
            "type": "contourcarpet"
           }
          ],
          "heatmap": [
           {
            "colorbar": {
             "outlinewidth": 0,
             "ticks": ""
            },
            "colorscale": [
             [
              0,
              "#0d0887"
             ],
             [
              0.1111111111111111,
              "#46039f"
             ],
             [
              0.2222222222222222,
              "#7201a8"
             ],
             [
              0.3333333333333333,
              "#9c179e"
             ],
             [
              0.4444444444444444,
              "#bd3786"
             ],
             [
              0.5555555555555556,
              "#d8576b"
             ],
             [
              0.6666666666666666,
              "#ed7953"
             ],
             [
              0.7777777777777778,
              "#fb9f3a"
             ],
             [
              0.8888888888888888,
              "#fdca26"
             ],
             [
              1,
              "#f0f921"
             ]
            ],
            "type": "heatmap"
           }
          ],
          "heatmapgl": [
           {
            "colorbar": {
             "outlinewidth": 0,
             "ticks": ""
            },
            "colorscale": [
             [
              0,
              "#0d0887"
             ],
             [
              0.1111111111111111,
              "#46039f"
             ],
             [
              0.2222222222222222,
              "#7201a8"
             ],
             [
              0.3333333333333333,
              "#9c179e"
             ],
             [
              0.4444444444444444,
              "#bd3786"
             ],
             [
              0.5555555555555556,
              "#d8576b"
             ],
             [
              0.6666666666666666,
              "#ed7953"
             ],
             [
              0.7777777777777778,
              "#fb9f3a"
             ],
             [
              0.8888888888888888,
              "#fdca26"
             ],
             [
              1,
              "#f0f921"
             ]
            ],
            "type": "heatmapgl"
           }
          ],
          "histogram": [
           {
            "marker": {
             "colorbar": {
              "outlinewidth": 0,
              "ticks": ""
             }
            },
            "type": "histogram"
           }
          ],
          "histogram2d": [
           {
            "colorbar": {
             "outlinewidth": 0,
             "ticks": ""
            },
            "colorscale": [
             [
              0,
              "#0d0887"
             ],
             [
              0.1111111111111111,
              "#46039f"
             ],
             [
              0.2222222222222222,
              "#7201a8"
             ],
             [
              0.3333333333333333,
              "#9c179e"
             ],
             [
              0.4444444444444444,
              "#bd3786"
             ],
             [
              0.5555555555555556,
              "#d8576b"
             ],
             [
              0.6666666666666666,
              "#ed7953"
             ],
             [
              0.7777777777777778,
              "#fb9f3a"
             ],
             [
              0.8888888888888888,
              "#fdca26"
             ],
             [
              1,
              "#f0f921"
             ]
            ],
            "type": "histogram2d"
           }
          ],
          "histogram2dcontour": [
           {
            "colorbar": {
             "outlinewidth": 0,
             "ticks": ""
            },
            "colorscale": [
             [
              0,
              "#0d0887"
             ],
             [
              0.1111111111111111,
              "#46039f"
             ],
             [
              0.2222222222222222,
              "#7201a8"
             ],
             [
              0.3333333333333333,
              "#9c179e"
             ],
             [
              0.4444444444444444,
              "#bd3786"
             ],
             [
              0.5555555555555556,
              "#d8576b"
             ],
             [
              0.6666666666666666,
              "#ed7953"
             ],
             [
              0.7777777777777778,
              "#fb9f3a"
             ],
             [
              0.8888888888888888,
              "#fdca26"
             ],
             [
              1,
              "#f0f921"
             ]
            ],
            "type": "histogram2dcontour"
           }
          ],
          "mesh3d": [
           {
            "colorbar": {
             "outlinewidth": 0,
             "ticks": ""
            },
            "type": "mesh3d"
           }
          ],
          "parcoords": [
           {
            "line": {
             "colorbar": {
              "outlinewidth": 0,
              "ticks": ""
             }
            },
            "type": "parcoords"
           }
          ],
          "pie": [
           {
            "automargin": true,
            "type": "pie"
           }
          ],
          "scatter": [
           {
            "marker": {
             "colorbar": {
              "outlinewidth": 0,
              "ticks": ""
             }
            },
            "type": "scatter"
           }
          ],
          "scatter3d": [
           {
            "line": {
             "colorbar": {
              "outlinewidth": 0,
              "ticks": ""
             }
            },
            "marker": {
             "colorbar": {
              "outlinewidth": 0,
              "ticks": ""
             }
            },
            "type": "scatter3d"
           }
          ],
          "scattercarpet": [
           {
            "marker": {
             "colorbar": {
              "outlinewidth": 0,
              "ticks": ""
             }
            },
            "type": "scattercarpet"
           }
          ],
          "scattergeo": [
           {
            "marker": {
             "colorbar": {
              "outlinewidth": 0,
              "ticks": ""
             }
            },
            "type": "scattergeo"
           }
          ],
          "scattergl": [
           {
            "marker": {
             "colorbar": {
              "outlinewidth": 0,
              "ticks": ""
             }
            },
            "type": "scattergl"
           }
          ],
          "scattermapbox": [
           {
            "marker": {
             "colorbar": {
              "outlinewidth": 0,
              "ticks": ""
             }
            },
            "type": "scattermapbox"
           }
          ],
          "scatterpolar": [
           {
            "marker": {
             "colorbar": {
              "outlinewidth": 0,
              "ticks": ""
             }
            },
            "type": "scatterpolar"
           }
          ],
          "scatterpolargl": [
           {
            "marker": {
             "colorbar": {
              "outlinewidth": 0,
              "ticks": ""
             }
            },
            "type": "scatterpolargl"
           }
          ],
          "scatterternary": [
           {
            "marker": {
             "colorbar": {
              "outlinewidth": 0,
              "ticks": ""
             }
            },
            "type": "scatterternary"
           }
          ],
          "surface": [
           {
            "colorbar": {
             "outlinewidth": 0,
             "ticks": ""
            },
            "colorscale": [
             [
              0,
              "#0d0887"
             ],
             [
              0.1111111111111111,
              "#46039f"
             ],
             [
              0.2222222222222222,
              "#7201a8"
             ],
             [
              0.3333333333333333,
              "#9c179e"
             ],
             [
              0.4444444444444444,
              "#bd3786"
             ],
             [
              0.5555555555555556,
              "#d8576b"
             ],
             [
              0.6666666666666666,
              "#ed7953"
             ],
             [
              0.7777777777777778,
              "#fb9f3a"
             ],
             [
              0.8888888888888888,
              "#fdca26"
             ],
             [
              1,
              "#f0f921"
             ]
            ],
            "type": "surface"
           }
          ],
          "table": [
           {
            "cells": {
             "fill": {
              "color": "#EBF0F8"
             },
             "line": {
              "color": "white"
             }
            },
            "header": {
             "fill": {
              "color": "#C8D4E3"
             },
             "line": {
              "color": "white"
             }
            },
            "type": "table"
           }
          ]
         },
         "layout": {
          "annotationdefaults": {
           "arrowcolor": "#2a3f5f",
           "arrowhead": 0,
           "arrowwidth": 1
          },
          "coloraxis": {
           "colorbar": {
            "outlinewidth": 0,
            "ticks": ""
           }
          },
          "colorscale": {
           "diverging": [
            [
             0,
             "#8e0152"
            ],
            [
             0.1,
             "#c51b7d"
            ],
            [
             0.2,
             "#de77ae"
            ],
            [
             0.3,
             "#f1b6da"
            ],
            [
             0.4,
             "#fde0ef"
            ],
            [
             0.5,
             "#f7f7f7"
            ],
            [
             0.6,
             "#e6f5d0"
            ],
            [
             0.7,
             "#b8e186"
            ],
            [
             0.8,
             "#7fbc41"
            ],
            [
             0.9,
             "#4d9221"
            ],
            [
             1,
             "#276419"
            ]
           ],
           "sequential": [
            [
             0,
             "#0d0887"
            ],
            [
             0.1111111111111111,
             "#46039f"
            ],
            [
             0.2222222222222222,
             "#7201a8"
            ],
            [
             0.3333333333333333,
             "#9c179e"
            ],
            [
             0.4444444444444444,
             "#bd3786"
            ],
            [
             0.5555555555555556,
             "#d8576b"
            ],
            [
             0.6666666666666666,
             "#ed7953"
            ],
            [
             0.7777777777777778,
             "#fb9f3a"
            ],
            [
             0.8888888888888888,
             "#fdca26"
            ],
            [
             1,
             "#f0f921"
            ]
           ],
           "sequentialminus": [
            [
             0,
             "#0d0887"
            ],
            [
             0.1111111111111111,
             "#46039f"
            ],
            [
             0.2222222222222222,
             "#7201a8"
            ],
            [
             0.3333333333333333,
             "#9c179e"
            ],
            [
             0.4444444444444444,
             "#bd3786"
            ],
            [
             0.5555555555555556,
             "#d8576b"
            ],
            [
             0.6666666666666666,
             "#ed7953"
            ],
            [
             0.7777777777777778,
             "#fb9f3a"
            ],
            [
             0.8888888888888888,
             "#fdca26"
            ],
            [
             1,
             "#f0f921"
            ]
           ]
          },
          "colorway": [
           "#636efa",
           "#EF553B",
           "#00cc96",
           "#ab63fa",
           "#FFA15A",
           "#19d3f3",
           "#FF6692",
           "#B6E880",
           "#FF97FF",
           "#FECB52"
          ],
          "font": {
           "color": "#2a3f5f"
          },
          "geo": {
           "bgcolor": "white",
           "lakecolor": "white",
           "landcolor": "#E5ECF6",
           "showlakes": true,
           "showland": true,
           "subunitcolor": "white"
          },
          "hoverlabel": {
           "align": "left"
          },
          "hovermode": "closest",
          "mapbox": {
           "style": "light"
          },
          "paper_bgcolor": "white",
          "plot_bgcolor": "#E5ECF6",
          "polar": {
           "angularaxis": {
            "gridcolor": "white",
            "linecolor": "white",
            "ticks": ""
           },
           "bgcolor": "#E5ECF6",
           "radialaxis": {
            "gridcolor": "white",
            "linecolor": "white",
            "ticks": ""
           }
          },
          "scene": {
           "xaxis": {
            "backgroundcolor": "#E5ECF6",
            "gridcolor": "white",
            "gridwidth": 2,
            "linecolor": "white",
            "showbackground": true,
            "ticks": "",
            "zerolinecolor": "white"
           },
           "yaxis": {
            "backgroundcolor": "#E5ECF6",
            "gridcolor": "white",
            "gridwidth": 2,
            "linecolor": "white",
            "showbackground": true,
            "ticks": "",
            "zerolinecolor": "white"
           },
           "zaxis": {
            "backgroundcolor": "#E5ECF6",
            "gridcolor": "white",
            "gridwidth": 2,
            "linecolor": "white",
            "showbackground": true,
            "ticks": "",
            "zerolinecolor": "white"
           }
          },
          "shapedefaults": {
           "line": {
            "color": "#2a3f5f"
           }
          },
          "ternary": {
           "aaxis": {
            "gridcolor": "white",
            "linecolor": "white",
            "ticks": ""
           },
           "baxis": {
            "gridcolor": "white",
            "linecolor": "white",
            "ticks": ""
           },
           "bgcolor": "#E5ECF6",
           "caxis": {
            "gridcolor": "white",
            "linecolor": "white",
            "ticks": ""
           }
          },
          "title": {
           "x": 0.05
          },
          "xaxis": {
           "automargin": true,
           "gridcolor": "white",
           "linecolor": "white",
           "ticks": "",
           "title": {
            "standoff": 15
           },
           "zerolinecolor": "white",
           "zerolinewidth": 2
          },
          "yaxis": {
           "automargin": true,
           "gridcolor": "white",
           "linecolor": "white",
           "ticks": "",
           "title": {
            "standoff": 15
           },
           "zerolinecolor": "white",
           "zerolinewidth": 2
          }
         }
        },
        "title": {
         "font": {
          "color": "#4D5663"
         },
         "text": "precls-CausalAnalysisPredictor-motifs-dist2-TDE"
        },
        "xaxis": {
         "gridcolor": "#E1E5ED",
         "showgrid": true,
         "tickfont": {
          "color": "#4D5663"
         },
         "title": {
          "font": {
           "color": "#4D5663"
          },
          "text": ""
         },
         "zerolinecolor": "#E1E5ED"
        },
        "yaxis": {
         "gridcolor": "#E1E5ED",
         "showgrid": true,
         "tickfont": {
          "color": "#4D5663"
         },
         "title": {
          "font": {
           "color": "#4D5663"
          },
          "text": ""
         },
         "zerolinecolor": "#E1E5ED"
        }
       }
      },
      "text/html": [
       "<div>\n",
       "        \n",
       "        \n",
       "            <div id=\"f6c221bf-7cb3-4492-b83b-25e143f04177\" class=\"plotly-graph-div\" style=\"height:525px; width:100%;\"></div>\n",
       "            <script type=\"text/javascript\">\n",
       "                require([\"plotly\"], function(Plotly) {\n",
       "                    window.PLOTLYENV=window.PLOTLYENV || {};\n",
       "                    window.PLOTLYENV.BASE_URL='https://plot.ly';\n",
       "                    \n",
       "                if (document.getElementById(\"f6c221bf-7cb3-4492-b83b-25e143f04177\")) {\n",
       "                    Plotly.newPlot(\n",
       "                        'f6c221bf-7cb3-4492-b83b-25e143f04177',\n",
       "                        [{\"line\": {\"color\": \"rgba(255, 153, 51, 1.0)\", \"dash\": \"solid\", \"shape\": \"linear\", \"width\": 1.3}, \"mode\": \"lines\", \"name\": \"label\", \"text\": \"\", \"type\": \"scatter\", \"x\": [\"2000\", \"4000\", \"6000\", \"8000\", \"9600\", \"10000\", \"15000\", \"20000\", \"25000\", \"30000\", \"2000\", \"4000\", \"6000\", \"8000\", \"10000\", \"12000\", \"14000\", \"16000\", \"18000\", \"20000\", \"22000\", \"24000\", \"24000\", \"2000\", \"4000\", \"6000\", \"8000\", \"10000\", \"12000\", \"14000\", \"16000\", \"18000\", \"20000\", \"20000\", \"2000\", \"4000\", \"6000\", \"8000\", \"10000\", \"12000\", \"14000\", \"16000\", \"2000\", \"4000\", \"6000\", \"8000\", \"10000\", \"12000\", \"14000\", \"16000\", \"18000\", \"20000\", \"22000\", \"24000\", \"26000\", \"28000\", \"30000\", \"32000\", \"34000\", \"36000\", \"38000\", \"40000\", \"40000\", \"2000\", \"4000\", \"4800\", \"6000\", \"7000\", \"8000\", \"10000\", \"12000\", \"14000\", \"16000\", \"18000\", \"20000\", \"22000\", \"22000\"], \"y\": [\"\", \"\", \"\", \"\", \"\", \"\", \"\", \"\", \"\", \"\", \"dist2-TDE\", \"dist2-TDE\", \"dist2-TDE\", \"dist2-TDE\", \"dist2-TDE\", \"dist2-TDE\", \"dist2-TDE\", \"dist2-TDE\", \"dist2-TDE\", \"dist2-TDE\", \"dist2-TDE\", \"dist2-TDE\", \"dist2-TDE\", \"gate-TDE\", \"gate-TDE\", \"gate-TDE\", \"gate-TDE\", \"gate-TDE\", \"gate-TDE\", \"gate-TDE\", \"gate-TDE\", \"gate-TDE\", \"gate-TDE\", \"gate-TDE\", \"mfb3-TDE\", \"mfb3-TDE\", \"mfb3-TDE\", \"mfb3-TDE\", \"mfb3-TDE\", \"mfb3-TDE\", \"mfb3-TDE\", \"mfb3-TDE\", \"mfb7-TDE\", \"mfb7-TDE\", \"mfb7-TDE\", \"mfb7-TDE\", \"mfb7-TDE\", \"mfb7-TDE\", \"mfb7-TDE\", \"mfb7-TDE\", \"mfb7-TDE\", \"mfb7-TDE\", \"mfb7-TDE\", \"mfb7-TDE\", \"mfb7-TDE\", \"mfb7-TDE\", \"mfb7-TDE\", \"mfb7-TDE\", \"mfb7-TDE\", \"mfb7-TDE\", \"mfb7-TDE\", \"mfb7-TDE\", \"mfb7-TDE\", \"sum-TDE\", \"sum-TDE\", \"sum-TDE\", \"sum-TDE\", \"sum-TDE\", \"sum-TDE\", \"sum-TDE\", \"sum-TDE\", \"sum-TDE\", \"sum-TDE\", \"sum-TDE\", \"sum-TDE\", \"sum-TDE\", \"sum-TDE\"]}, {\"line\": {\"color\": \"rgba(55, 128, 191, 1.0)\", \"dash\": \"solid\", \"shape\": \"linear\", \"width\": 1.3}, \"mode\": \"lines\", \"name\": \"eval_set\", \"text\": \"\", \"type\": \"scatter\", \"x\": [\"2000\", \"4000\", \"6000\", \"8000\", \"9600\", \"10000\", \"15000\", \"20000\", \"25000\", \"30000\", \"2000\", \"4000\", \"6000\", \"8000\", \"10000\", \"12000\", \"14000\", \"16000\", \"18000\", \"20000\", \"22000\", \"24000\", \"24000\", \"2000\", \"4000\", \"6000\", \"8000\", \"10000\", \"12000\", \"14000\", \"16000\", \"18000\", \"20000\", \"20000\", \"2000\", \"4000\", \"6000\", \"8000\", \"10000\", \"12000\", \"14000\", \"16000\", \"2000\", \"4000\", \"6000\", \"8000\", \"10000\", \"12000\", \"14000\", \"16000\", \"18000\", \"20000\", \"22000\", \"24000\", \"26000\", \"28000\", \"30000\", \"32000\", \"34000\", \"36000\", \"38000\", \"40000\", \"40000\", \"2000\", \"4000\", \"4800\", \"6000\", \"7000\", \"8000\", \"10000\", \"12000\", \"14000\", \"16000\", \"18000\", \"20000\", \"22000\", \"22000\"], \"y\": [\"validation\", \"validation\", \"validation\", \"validation\", \"validation\", \"validation\", \"validation\", \"validation\", \"validation\", \"validation\", \"validation\", \"validation\", \"validation\", \"validation\", \"validation\", \"validation\", \"validation\", \"validation\", \"validation\", \"validation\", \"validation\", \"validation\", \"test\", \"validation\", \"validation\", \"validation\", \"validation\", \"validation\", \"validation\", \"validation\", \"validation\", \"validation\", \"validation\", \"test\", \"validation\", \"validation\", \"validation\", \"validation\", \"validation\", \"validation\", \"validation\", \"validation\", \"validation\", \"validation\", \"validation\", \"validation\", \"validation\", \"validation\", \"validation\", \"validation\", \"validation\", \"validation\", \"validation\", \"validation\", \"validation\", \"validation\", \"validation\", \"validation\", \"validation\", \"validation\", \"validation\", \"validation\", \"test\", \"validation\", \"validation\", \"validation\", \"validation\", \"validation\", \"validation\", \"validation\", \"validation\", \"validation\", \"validation\", \"validation\", \"validation\", \"validation\", \"test\"]}, {\"line\": {\"color\": \"rgba(50, 171, 96, 1.0)\", \"dash\": \"solid\", \"shape\": \"linear\", \"width\": 1.3}, \"mode\": \"lines\", \"name\": \"mAp\", \"text\": \"\", \"type\": \"scatter\", \"x\": [\"2000\", \"4000\", \"6000\", \"8000\", \"9600\", \"10000\", \"15000\", \"20000\", \"25000\", \"30000\", \"2000\", \"4000\", \"6000\", \"8000\", \"10000\", \"12000\", \"14000\", \"16000\", \"18000\", \"20000\", \"22000\", \"24000\", \"24000\", \"2000\", \"4000\", \"6000\", \"8000\", \"10000\", \"12000\", \"14000\", \"16000\", \"18000\", \"20000\", \"20000\", \"2000\", \"4000\", \"6000\", \"8000\", \"10000\", \"12000\", \"14000\", \"16000\", \"2000\", \"4000\", \"6000\", \"8000\", \"10000\", \"12000\", \"14000\", \"16000\", \"18000\", \"20000\", \"22000\", \"24000\", \"26000\", \"28000\", \"30000\", \"32000\", \"34000\", \"36000\", \"38000\", \"40000\", \"40000\", \"2000\", \"4000\", \"4800\", \"6000\", \"7000\", \"8000\", \"10000\", \"12000\", \"14000\", \"16000\", \"18000\", \"20000\", \"22000\", \"22000\"], \"y\": [\"0.9999\", \"0.9999\", \"0.9999\", \"0.9999\", \"0.9999\", \"0.9999\", \"0.9999\", \"0.9999\", \"0.9999\", \"0.9999\", \"0.9999\", \"0.9999\", \"0.9999\", \"0.9999\", \"0.9999\", \"0.9999\", \"0.9999\", \"0.9999\", \"0.9999\", \"0.9999\", \"0.9999\", \"0.9999\", \"0.9995\", \"0.9999\", \"0.9999\", \"0.9999\", \"0.9999\", \"0.9999\", \"0.9999\", \"0.9999\", \"0.9999\", \"0.9999\", \"0.9999\", \"0.9995\", \"0.9999\", \"0.9999\", \"0.9999\", \"0.9999\", \"0.9999\", \"0.9999\", \"0.9999\", \"0.9999\", \"0.9999\", \"0.9999\", \"0.9999\", \"0.9999\", \"0.9999\", \"0.9999\", \"0.9999\", \"0.9999\", \"0.9999\", \"0.9999\", \"0.9999\", \"0.9999\", \"0.9999\", \"0.9999\", \"0.9999\", \"0.9999\", \"0.9999\", \"0.9999\", \"0.9999\", \"0.9995\", \"0.9995\", \"0.9999\", \"0.9999\", \"0.9999\", \"0.9999\", \"0.9999\", \"0.9999\", \"0.9999\", \"0.9999\", \"0.9999\", \"0.9999\", \"0.9999\", \"0.9999\", \"0.9999\", \"0.9995\"]}, {\"line\": {\"color\": \"rgba(128, 0, 128, 1.0)\", \"dash\": \"solid\", \"shape\": \"linear\", \"width\": 1.3}, \"mode\": \"lines\", \"name\": \"R @ 20\", \"text\": \"\", \"type\": \"scatter\", \"x\": [\"2000\", \"4000\", \"6000\", \"8000\", \"9600\", \"10000\", \"15000\", \"20000\", \"25000\", \"30000\", \"2000\", \"4000\", \"6000\", \"8000\", \"10000\", \"12000\", \"14000\", \"16000\", \"18000\", \"20000\", \"22000\", \"24000\", \"24000\", \"2000\", \"4000\", \"6000\", \"8000\", \"10000\", \"12000\", \"14000\", \"16000\", \"18000\", \"20000\", \"20000\", \"2000\", \"4000\", \"6000\", \"8000\", \"10000\", \"12000\", \"14000\", \"16000\", \"2000\", \"4000\", \"6000\", \"8000\", \"10000\", \"12000\", \"14000\", \"16000\", \"18000\", \"20000\", \"22000\", \"24000\", \"26000\", \"28000\", \"30000\", \"32000\", \"34000\", \"36000\", \"38000\", \"40000\", \"40000\", \"2000\", \"4000\", \"4800\", \"6000\", \"7000\", \"8000\", \"10000\", \"12000\", \"14000\", \"16000\", \"18000\", \"20000\", \"22000\", \"22000\"], \"y\": [\"0.6015\", \"0.6032\", \"0.6023\", \"0.6083\", \"0.6082\", \"0.6004\", \"0.6094\", \"0.6015\", \"0.6069\", \"0.6110\", \"0.2884\", \"0.3868\", \"0.4293\", \"0.4208\", \"0.4049\", \"0.5217\", \"0.5455\", \"0.5405\", \"0.5388\", \"0.5594\", \"0.5544\", \"0.5535\", \"0.5354\", \"0.3179\", \"0.3230\", \"0.3334\", \"0.3415\", \"0.2921\", \"0.3406\", \"0.3501\", \"0.3019\", \"0.3126\", \"0.3171\", \"0.3310\", \"0.0249\", \"0.0233\", \"0.0255\", \"0.0227\", \"0.0290\", \"0.0271\", \"0.0206\", \"0.0207\", \"0.2988\", \"0.2786\", \"0.2802\", \"0.3029\", \"0.3201\", \"0.3424\", \"0.3843\", \"0.3767\", \"0.0077\", \"0.0753\", \"0.2193\", \"0.2401\", \"0.2742\", \"0.2149\", \"0.2507\", \"0.2786\", \"0.2864\", \"0.2843\", \"0.2875\", \"0.3186\", \"0.4856\", \"0.2329\", \"0.2529\", \"0.2520\", \"0.2229\", \"0.2232\", \"0.2349\", \"0.2532\", \"0.2452\", \"0.2441\", \"0.2278\", \"0.2346\", \"0.2133\", \"0.2198\", \"0.2503\"]}, {\"line\": {\"color\": \"rgba(219, 64, 82, 1.0)\", \"dash\": \"solid\", \"shape\": \"linear\", \"width\": 1.3}, \"mode\": \"lines\", \"name\": \"R @ 50\", \"text\": \"\", \"type\": \"scatter\", \"x\": [\"2000\", \"4000\", \"6000\", \"8000\", \"9600\", \"10000\", \"15000\", \"20000\", \"25000\", \"30000\", \"2000\", \"4000\", \"6000\", \"8000\", \"10000\", \"12000\", \"14000\", \"16000\", \"18000\", \"20000\", \"22000\", \"24000\", \"24000\", \"2000\", \"4000\", \"6000\", \"8000\", \"10000\", \"12000\", \"14000\", \"16000\", \"18000\", \"20000\", \"20000\", \"2000\", \"4000\", \"6000\", \"8000\", \"10000\", \"12000\", \"14000\", \"16000\", \"2000\", \"4000\", \"6000\", \"8000\", \"10000\", \"12000\", \"14000\", \"16000\", \"18000\", \"20000\", \"22000\", \"24000\", \"26000\", \"28000\", \"30000\", \"32000\", \"34000\", \"36000\", \"38000\", \"40000\", \"40000\", \"2000\", \"4000\", \"4800\", \"6000\", \"7000\", \"8000\", \"10000\", \"12000\", \"14000\", \"16000\", \"18000\", \"20000\", \"22000\", \"22000\"], \"y\": [\"0.6554\", \"0.6590\", \"0.6577\", \"0.6601\", \"0.6603\", \"0.6576\", \"0.6626\", \"0.6606\", \"0.6599\", \"0.6661\", \"0.3548\", \"0.4669\", \"0.5171\", \"0.4995\", \"0.4879\", \"0.5939\", \"0.6111\", \"0.6083\", \"0.6023\", \"0.6136\", \"0.6088\", \"0.6057\", \"0.6005\", \"0.4100\", \"0.4280\", \"0.4550\", \"0.4735\", \"0.4159\", \"0.4751\", \"0.4821\", \"0.4282\", \"0.4339\", \"0.4319\", \"0.4448\", \"0.0312\", \"0.0309\", \"0.0332\", \"0.0306\", \"0.0360\", \"0.0348\", \"0.0273\", \"0.0265\", \"0.3581\", \"0.3434\", \"0.3460\", \"0.3680\", \"0.4006\", \"0.4269\", \"0.4690\", \"0.4675\", \"0.0135\", \"0.1061\", \"0.2701\", \"0.2977\", \"0.3391\", \"0.2793\", \"0.3170\", \"0.3461\", \"0.3577\", \"0.3555\", \"0.3447\", \"0.3705\", \"0.5935\", \"0.3147\", \"0.3411\", \"0.3401\", \"0.3331\", \"0.3322\", \"0.3245\", \"0.3618\", \"0.3504\", \"0.3395\", \"0.3229\", \"0.3335\", \"0.3144\", \"0.3194\", \"0.3583\"]}, {\"line\": {\"color\": \"rgba(0, 128, 128, 1.0)\", \"dash\": \"solid\", \"shape\": \"linear\", \"width\": 1.3}, \"mode\": \"lines\", \"name\": \"R @ 100\", \"text\": \"\", \"type\": \"scatter\", \"x\": [\"2000\", \"4000\", \"6000\", \"8000\", \"9600\", \"10000\", \"15000\", \"20000\", \"25000\", \"30000\", \"2000\", \"4000\", \"6000\", \"8000\", \"10000\", \"12000\", \"14000\", \"16000\", \"18000\", \"20000\", \"22000\", \"24000\", \"24000\", \"2000\", \"4000\", \"6000\", \"8000\", \"10000\", \"12000\", \"14000\", \"16000\", \"18000\", \"20000\", \"20000\", \"2000\", \"4000\", \"6000\", \"8000\", \"10000\", \"12000\", \"14000\", \"16000\", \"2000\", \"4000\", \"6000\", \"8000\", \"10000\", \"12000\", \"14000\", \"16000\", \"18000\", \"20000\", \"22000\", \"24000\", \"26000\", \"28000\", \"30000\", \"32000\", \"34000\", \"36000\", \"38000\", \"40000\", \"40000\", \"2000\", \"4000\", \"4800\", \"6000\", \"7000\", \"8000\", \"10000\", \"12000\", \"14000\", \"16000\", \"18000\", \"20000\", \"22000\", \"22000\"], \"y\": [\"0.6722\", \"0.6737\", \"0.6736\", \"0.6759\", \"0.6760\", \"0.6735\", \"0.6793\", \"0.6759\", \"0.6751\", \"0.6806\", \"0.3768\", \"0.4890\", \"0.5378\", \"0.5224\", \"0.5094\", \"0.6095\", \"0.6259\", \"0.6237\", \"0.6172\", \"0.6293\", \"0.6249\", \"0.6208\", \"0.6206\", \"0.4570\", \"0.4850\", \"0.5121\", \"0.5421\", \"0.4814\", \"0.5370\", \"0.5357\", \"0.4888\", \"0.4896\", \"0.4837\", \"0.4940\", \"0.0329\", \"0.0333\", \"0.0360\", \"0.0332\", \"0.0385\", \"0.0375\", \"0.0294\", \"0.0284\", \"0.3775\", \"0.3668\", \"0.3675\", \"0.3892\", \"0.4213\", \"0.4441\", \"0.4839\", \"0.4853\", \"0.0182\", \"0.1214\", \"0.2922\", \"0.3165\", \"0.3611\", \"0.3047\", \"0.3397\", \"0.3657\", \"0.3807\", \"0.3773\", \"0.3586\", \"0.3785\", \"0.6386\", \"0.3624\", \"0.3975\", \"0.3961\", \"0.4062\", \"0.4054\", \"0.3823\", \"0.4269\", \"0.4141\", \"0.3954\", \"0.3872\", \"0.3897\", \"0.3778\", \"0.3815\", \"0.4147\"]}, {\"line\": {\"color\": \"rgba(255, 255, 51, 1.0)\", \"dash\": \"solid\", \"shape\": \"linear\", \"width\": 1.3}, \"mode\": \"lines\", \"name\": \"ngR @ 20\", \"text\": \"\", \"type\": \"scatter\", \"x\": [\"2000\", \"4000\", \"6000\", \"8000\", \"9600\", \"10000\", \"15000\", \"20000\", \"25000\", \"30000\", \"2000\", \"4000\", \"6000\", \"8000\", \"10000\", \"12000\", \"14000\", \"16000\", \"18000\", \"20000\", \"22000\", \"24000\", \"24000\", \"2000\", \"4000\", \"6000\", \"8000\", \"10000\", \"12000\", \"14000\", \"16000\", \"18000\", \"20000\", \"20000\", \"2000\", \"4000\", \"6000\", \"8000\", \"10000\", \"12000\", \"14000\", \"16000\", \"2000\", \"4000\", \"6000\", \"8000\", \"10000\", \"12000\", \"14000\", \"16000\", \"18000\", \"20000\", \"22000\", \"24000\", \"26000\", \"28000\", \"30000\", \"32000\", \"34000\", \"36000\", \"38000\", \"40000\", \"40000\", \"2000\", \"4000\", \"4800\", \"6000\", \"7000\", \"8000\", \"10000\", \"12000\", \"14000\", \"16000\", \"18000\", \"20000\", \"22000\", \"22000\"], \"y\": [\"0.6856\", \"0.6913\", \"0.6929\", \"0.6957\", \"0.6954\", \"0.6891\", \"0.6966\", \"0.6895\", \"0.6963\", \"0.7037\", \"0.3983\", \"0.5406\", \"0.5877\", \"0.5689\", \"0.5557\", \"0.6457\", \"0.6546\", \"0.6454\", \"0.6309\", \"0.6404\", \"0.6305\", \"0.6228\", \"0.6042\", \"0.3741\", \"0.3748\", \"0.3852\", \"0.3986\", \"0.3416\", \"0.3785\", \"0.3963\", \"0.3481\", \"0.3572\", \"0.3617\", \"0.3699\", \"0.0424\", \"0.0377\", \"0.0378\", \"0.0331\", \"0.0402\", \"0.0365\", \"0.0298\", \"0.0277\", \"0.3911\", \"0.3650\", \"0.3710\", \"0.3976\", \"0.4415\", \"0.4851\", \"0.5332\", \"0.5044\", \"0.0065\", \"0.0830\", \"0.3001\", \"0.3465\", \"0.3891\", \"0.3184\", \"0.3451\", \"0.3833\", \"0.3801\", \"0.3778\", \"0.3834\", \"0.3899\", \"0.5314\", \"0.2876\", \"0.2976\", \"0.2968\", \"0.2621\", \"0.2625\", \"0.2908\", \"0.3114\", \"0.2882\", \"0.3063\", \"0.2807\", \"0.2832\", \"0.2614\", \"0.2645\", \"0.2947\"]}, {\"line\": {\"color\": \"rgba(128, 128, 0, 1.0)\", \"dash\": \"solid\", \"shape\": \"linear\", \"width\": 1.3}, \"mode\": \"lines\", \"name\": \"ngR @ 50\", \"text\": \"\", \"type\": \"scatter\", \"x\": [\"2000\", \"4000\", \"6000\", \"8000\", \"9600\", \"10000\", \"15000\", \"20000\", \"25000\", \"30000\", \"2000\", \"4000\", \"6000\", \"8000\", \"10000\", \"12000\", \"14000\", \"16000\", \"18000\", \"20000\", \"22000\", \"24000\", \"24000\", \"2000\", \"4000\", \"6000\", \"8000\", \"10000\", \"12000\", \"14000\", \"16000\", \"18000\", \"20000\", \"20000\", \"2000\", \"4000\", \"6000\", \"8000\", \"10000\", \"12000\", \"14000\", \"16000\", \"2000\", \"4000\", \"6000\", \"8000\", \"10000\", \"12000\", \"14000\", \"16000\", \"18000\", \"20000\", \"22000\", \"24000\", \"26000\", \"28000\", \"30000\", \"32000\", \"34000\", \"36000\", \"38000\", \"40000\", \"40000\", \"2000\", \"4000\", \"4800\", \"6000\", \"7000\", \"8000\", \"10000\", \"12000\", \"14000\", \"16000\", \"18000\", \"20000\", \"22000\", \"22000\"], \"y\": [\"0.8146\", \"0.8168\", \"0.8186\", \"0.8224\", \"0.8225\", \"0.8209\", \"0.8242\", \"0.8207\", \"0.8241\", \"0.8278\", \"0.6042\", \"0.7561\", \"0.7765\", \"0.7592\", \"0.7589\", \"0.7933\", \"0.7940\", \"0.7806\", \"0.7621\", \"0.7584\", \"0.7446\", \"0.7360\", \"0.7359\", \"0.5314\", \"0.5421\", \"0.5704\", \"0.5969\", \"0.5315\", \"0.5679\", \"0.5914\", \"0.5406\", \"0.5434\", \"0.5368\", \"0.5500\", \"0.0745\", \"0.0668\", \"0.0682\", \"0.0646\", \"0.0675\", \"0.0622\", \"0.0513\", \"0.0497\", \"0.5480\", \"0.5460\", \"0.5495\", \"0.5803\", \"0.6873\", \"0.7329\", \"0.7493\", \"0.7160\", \"0.0284\", \"0.1107\", \"0.4199\", \"0.5107\", \"0.5852\", \"0.4955\", \"0.5249\", \"0.5599\", \"0.5386\", \"0.5203\", \"0.4981\", \"0.4881\", \"0.6987\", \"0.4438\", \"0.4565\", \"0.4558\", \"0.4429\", \"0.4420\", \"0.4674\", \"0.4984\", \"0.4622\", \"0.4930\", \"0.4605\", \"0.4650\", \"0.4384\", \"0.4354\", \"0.4774\"]}, {\"line\": {\"color\": \"rgba(251, 128, 114, 1.0)\", \"dash\": \"solid\", \"shape\": \"linear\", \"width\": 1.3}, \"mode\": \"lines\", \"name\": \"ngR @ 100\", \"text\": \"\", \"type\": \"scatter\", \"x\": [\"2000\", \"4000\", \"6000\", \"8000\", \"9600\", \"10000\", \"15000\", \"20000\", \"25000\", \"30000\", \"2000\", \"4000\", \"6000\", \"8000\", \"10000\", \"12000\", \"14000\", \"16000\", \"18000\", \"20000\", \"22000\", \"24000\", \"24000\", \"2000\", \"4000\", \"6000\", \"8000\", \"10000\", \"12000\", \"14000\", \"16000\", \"18000\", \"20000\", \"20000\", \"2000\", \"4000\", \"6000\", \"8000\", \"10000\", \"12000\", \"14000\", \"16000\", \"2000\", \"4000\", \"6000\", \"8000\", \"10000\", \"12000\", \"14000\", \"16000\", \"18000\", \"20000\", \"22000\", \"24000\", \"26000\", \"28000\", \"30000\", \"32000\", \"34000\", \"36000\", \"38000\", \"40000\", \"40000\", \"2000\", \"4000\", \"4800\", \"6000\", \"7000\", \"8000\", \"10000\", \"12000\", \"14000\", \"16000\", \"18000\", \"20000\", \"22000\", \"22000\"], \"y\": [\"0.8774\", \"0.8828\", \"0.8849\", \"0.8873\", \"0.8873\", \"0.8870\", \"0.8894\", \"0.8882\", \"0.8911\", \"0.8937\", \"0.7504\", \"0.8450\", \"0.8485\", \"0.8400\", \"0.8379\", \"0.8586\", \"0.8562\", \"0.8434\", \"0.8316\", \"0.8203\", \"0.8085\", \"0.7974\", \"0.8031\", \"0.6429\", \"0.6683\", \"0.6940\", \"0.7354\", \"0.6705\", \"0.6883\", \"0.7061\", \"0.6696\", \"0.6705\", \"0.6637\", \"0.6699\", \"0.1324\", \"0.1288\", \"0.1245\", \"0.1196\", \"0.1304\", \"0.1206\", \"0.1043\", \"0.0970\", \"0.6469\", \"0.6643\", \"0.6648\", \"0.6954\", \"0.7998\", \"0.8111\", \"0.8043\", \"0.7778\", \"0.0642\", \"0.1549\", \"0.5020\", \"0.6183\", \"0.6958\", \"0.6225\", \"0.6407\", \"0.6517\", \"0.6198\", \"0.5880\", \"0.5453\", \"0.5236\", \"0.7996\", \"0.5837\", \"0.5915\", \"0.5902\", \"0.5969\", \"0.5965\", \"0.6169\", \"0.6415\", \"0.6101\", \"0.6367\", \"0.6130\", \"0.6124\", \"0.5939\", \"0.5853\", \"0.6148\"]}, {\"line\": {\"color\": \"rgba(128, 177, 211, 1.0)\", \"dash\": \"solid\", \"shape\": \"linear\", \"width\": 1.3}, \"mode\": \"lines\", \"name\": \"zR @ 20\", \"text\": \"\", \"type\": \"scatter\", \"x\": [\"2000\", \"4000\", \"6000\", \"8000\", \"9600\", \"10000\", \"15000\", \"20000\", \"25000\", \"30000\", \"2000\", \"4000\", \"6000\", \"8000\", \"10000\", \"12000\", \"14000\", \"16000\", \"18000\", \"20000\", \"22000\", \"24000\", \"24000\", \"2000\", \"4000\", \"6000\", \"8000\", \"10000\", \"12000\", \"14000\", \"16000\", \"18000\", \"20000\", \"20000\", \"2000\", \"4000\", \"6000\", \"8000\", \"10000\", \"12000\", \"14000\", \"16000\", \"2000\", \"4000\", \"6000\", \"8000\", \"10000\", \"12000\", \"14000\", \"16000\", \"18000\", \"20000\", \"22000\", \"24000\", \"26000\", \"28000\", \"30000\", \"32000\", \"34000\", \"36000\", \"38000\", \"40000\", \"40000\", \"2000\", \"4000\", \"4800\", \"6000\", \"7000\", \"8000\", \"10000\", \"12000\", \"14000\", \"16000\", \"18000\", \"20000\", \"22000\", \"22000\"], \"y\": [\"0.0133\", \"0.0133\", \"0.0089\", \"0.0133\", \"0.0133\", \"0.0133\", \"0.0178\", \"0.0178\", \"0.0089\", \"0.0133\", \"0.1067\", \"0.0844\", \"0.0711\", \"0.0822\", \"0.0844\", \"0.1111\", \"0.0933\", \"0.0956\", \"0.1000\", \"0.0763\", \"0.0778\", \"0.0852\", \"0.0624\", \"0.0800\", \"0.0911\", \"0.0941\", \"0.0600\", \"0.0556\", \"0.0733\", \"0.0733\", \"0.0815\", \"0.0733\", \"0.0800\", \"0.0546\", \"0.0489\", \"0.0333\", \"0.0533\", \"0.0467\", \"0.0378\", \"0.0489\", \"0.0589\", \"0.0489\", \"0.0911\", \"0.0978\", \"0.1104\", \"0.1126\", \"0.1119\", \"0.1089\", \"0.1104\", \"0.1222\", \"0.0311\", \"0.0778\", \"0.1007\", \"0.1119\", \"0.0985\", \"0.1222\", \"0.1170\", \"0.1407\", \"0.1430\", \"0.1385\", \"0.1141\", \"0.0963\", \"0.0010\", \"0.1022\", \"0.1000\", \"0.1000\", \"0.0889\", \"0.0889\", \"0.0822\", \"0.0756\", \"0.0889\", \"0.1059\", \"0.0941\", \"0.1030\", \"0.1178\", \"0.1222\", \"0.0765\"]}, {\"line\": {\"color\": \"rgba(128, 177, 211, 0.8999999999999999)\", \"dash\": \"solid\", \"shape\": \"linear\", \"width\": 1.3}, \"mode\": \"lines\", \"name\": \"zR @ 50\", \"text\": \"\", \"type\": \"scatter\", \"x\": [\"2000\", \"4000\", \"6000\", \"8000\", \"9600\", \"10000\", \"15000\", \"20000\", \"25000\", \"30000\", \"2000\", \"4000\", \"6000\", \"8000\", \"10000\", \"12000\", \"14000\", \"16000\", \"18000\", \"20000\", \"22000\", \"24000\", \"24000\", \"2000\", \"4000\", \"6000\", \"8000\", \"10000\", \"12000\", \"14000\", \"16000\", \"18000\", \"20000\", \"20000\", \"2000\", \"4000\", \"6000\", \"8000\", \"10000\", \"12000\", \"14000\", \"16000\", \"2000\", \"4000\", \"6000\", \"8000\", \"10000\", \"12000\", \"14000\", \"16000\", \"18000\", \"20000\", \"22000\", \"24000\", \"26000\", \"28000\", \"30000\", \"32000\", \"34000\", \"36000\", \"38000\", \"40000\", \"40000\", \"2000\", \"4000\", \"4800\", \"6000\", \"7000\", \"8000\", \"10000\", \"12000\", \"14000\", \"16000\", \"18000\", \"20000\", \"22000\", \"22000\"], \"y\": [\"0.0178\", \"0.0289\", \"0.0222\", \"0.0267\", \"0.0267\", \"0.0356\", \"0.0400\", \"0.0444\", \"0.0311\", \"0.0400\", \"0.1563\", \"0.1733\", \"0.1756\", \"0.1600\", \"0.1630\", \"0.1756\", \"0.1778\", \"0.1874\", \"0.1956\", \"0.1689\", \"0.1667\", \"0.1600\", \"0.1092\", \"0.1207\", \"0.1474\", \"0.1533\", \"0.1000\", \"0.0867\", \"0.0822\", \"0.1289\", \"0.1341\", \"0.1296\", \"0.1467\", \"0.0915\", \"0.0778\", \"0.0589\", \"0.0785\", \"0.0656\", \"0.0733\", \"0.0681\", \"0.0759\", \"0.0800\", \"0.1474\", \"0.1785\", \"0.1637\", \"0.1652\", \"0.1600\", \"0.1652\", \"0.1704\", \"0.1911\", \"0.0422\", \"0.1044\", \"0.1474\", \"0.1585\", \"0.1496\", \"0.1674\", \"0.1607\", \"0.1896\", \"0.1852\", \"0.1756\", \"0.1289\", \"0.1334\", \"0.0032\", \"0.1422\", \"0.1363\", \"0.1363\", \"0.1296\", \"0.1296\", \"0.1289\", \"0.1489\", \"0.1415\", \"0.1370\", \"0.1593\", \"0.1585\", \"0.1756\", \"0.1637\", \"0.1217\"]}, {\"line\": {\"color\": \"rgba(255, 153, 51, 0.8999999999999999)\", \"dash\": \"solid\", \"shape\": \"linear\", \"width\": 1.3}, \"mode\": \"lines\", \"name\": \"zR @ 100\", \"text\": \"\", \"type\": \"scatter\", \"x\": [\"2000\", \"4000\", \"6000\", \"8000\", \"9600\", \"10000\", \"15000\", \"20000\", \"25000\", \"30000\", \"2000\", \"4000\", \"6000\", \"8000\", \"10000\", \"12000\", \"14000\", \"16000\", \"18000\", \"20000\", \"22000\", \"24000\", \"24000\", \"2000\", \"4000\", \"6000\", \"8000\", \"10000\", \"12000\", \"14000\", \"16000\", \"18000\", \"20000\", \"20000\", \"2000\", \"4000\", \"6000\", \"8000\", \"10000\", \"12000\", \"14000\", \"16000\", \"2000\", \"4000\", \"6000\", \"8000\", \"10000\", \"12000\", \"14000\", \"16000\", \"18000\", \"20000\", \"22000\", \"24000\", \"26000\", \"28000\", \"30000\", \"32000\", \"34000\", \"36000\", \"38000\", \"40000\", \"40000\", \"2000\", \"4000\", \"4800\", \"6000\", \"7000\", \"8000\", \"10000\", \"12000\", \"14000\", \"16000\", \"18000\", \"20000\", \"22000\", \"22000\"], \"y\": [\"0.0356\", \"0.0467\", \"0.0267\", \"0.0400\", \"0.0400\", \"0.0533\", \"0.0511\", \"0.0622\", \"0.0400\", \"0.0578\", \"0.1711\", \"0.1859\", \"0.1815\", \"0.1911\", \"0.1867\", \"0.1978\", \"0.1867\", \"0.1985\", \"0.2200\", \"0.2044\", \"0.1911\", \"0.1844\", \"0.1362\", \"0.1644\", \"0.1926\", \"0.1711\", \"0.1222\", \"0.1089\", \"0.1156\", \"0.1600\", \"0.1578\", \"0.1600\", \"0.1667\", \"0.1196\", \"0.0822\", \"0.0700\", \"0.0970\", \"0.0744\", \"0.0822\", \"0.0815\", \"0.0759\", \"0.0889\", \"0.1785\", \"0.2119\", \"0.1963\", \"0.1830\", \"0.1793\", \"0.1919\", \"0.1985\", \"0.2185\", \"0.0556\", \"0.1356\", \"0.1741\", \"0.1837\", \"0.1896\", \"0.1807\", \"0.1756\", \"0.1963\", \"0.1896\", \"0.1881\", \"0.1348\", \"0.1467\", \"0.0044\", \"0.1793\", \"0.1763\", \"0.1807\", \"0.1756\", \"0.1756\", \"0.1570\", \"0.1785\", \"0.1578\", \"0.1674\", \"0.1807\", \"0.1896\", \"0.1978\", \"0.1874\", \"0.1507\"]}, {\"line\": {\"color\": \"rgba(55, 128, 191, 0.8999999999999999)\", \"dash\": \"solid\", \"shape\": \"linear\", \"width\": 1.3}, \"mode\": \"lines\", \"name\": \"mR @ 20\", \"text\": \"\", \"type\": \"scatter\", \"x\": [\"2000\", \"4000\", \"6000\", \"8000\", \"9600\", \"10000\", \"15000\", \"20000\", \"25000\", \"30000\", \"2000\", \"4000\", \"6000\", \"8000\", \"10000\", \"12000\", \"14000\", \"16000\", \"18000\", \"20000\", \"22000\", \"24000\", \"24000\", \"2000\", \"4000\", \"6000\", \"8000\", \"10000\", \"12000\", \"14000\", \"16000\", \"18000\", \"20000\", \"20000\", \"2000\", \"4000\", \"6000\", \"8000\", \"10000\", \"12000\", \"14000\", \"16000\", \"2000\", \"4000\", \"6000\", \"8000\", \"10000\", \"12000\", \"14000\", \"16000\", \"18000\", \"20000\", \"22000\", \"24000\", \"26000\", \"28000\", \"30000\", \"32000\", \"34000\", \"36000\", \"38000\", \"40000\", \"40000\", \"2000\", \"4000\", \"4800\", \"6000\", \"7000\", \"8000\", \"10000\", \"12000\", \"14000\", \"16000\", \"18000\", \"20000\", \"22000\", \"22000\"], \"y\": [\"0.1162\", \"0.1218\", \"0.1286\", \"0.1140\", \"0.1140\", \"0.1058\", \"0.1231\", \"0.1167\", \"0.1181\", \"0.1413\", \"0.1438\", \"0.1447\", \"0.1286\", \"0.1238\", \"0.1199\", \"0.1298\", \"0.1281\", \"0.1236\", \"0.1351\", \"0.1229\", \"0.1226\", \"0.1262\", \"0.1093\", \"0.1487\", \"0.1663\", \"0.1788\", \"0.1914\", \"0.1809\", \"0.1662\", \"0.2160\", \"0.1976\", \"0.1973\", \"0.1999\", \"0.1870\", \"0.0716\", \"0.0546\", \"0.0663\", \"0.0555\", \"0.0822\", \"0.0779\", \"0.0648\", \"0.0546\", \"0.1478\", \"0.1609\", \"0.1467\", \"0.1650\", \"0.1615\", \"0.1553\", \"0.1522\", \"0.1571\", \"0.0059\", \"0.0503\", \"0.0913\", \"0.1201\", \"0.1192\", \"0.1251\", \"0.1278\", \"0.1447\", \"0.1368\", \"0.1377\", \"0.1297\", \"0.1298\", \"0.0833\", \"0.1512\", \"0.1688\", \"0.1690\", \"0.1432\", \"0.1435\", \"0.1756\", \"0.1706\", \"0.1687\", \"0.1900\", \"0.1924\", \"0.2040\", \"0.1913\", \"0.1922\", \"0.1735\"]}, {\"line\": {\"color\": \"rgba(50, 171, 96, 0.8999999999999999)\", \"dash\": \"solid\", \"shape\": \"linear\", \"width\": 1.3}, \"mode\": \"lines\", \"name\": \"mR @ 50\", \"text\": \"\", \"type\": \"scatter\", \"x\": [\"2000\", \"4000\", \"6000\", \"8000\", \"9600\", \"10000\", \"15000\", \"20000\", \"25000\", \"30000\", \"2000\", \"4000\", \"6000\", \"8000\", \"10000\", \"12000\", \"14000\", \"16000\", \"18000\", \"20000\", \"22000\", \"24000\", \"24000\", \"2000\", \"4000\", \"6000\", \"8000\", \"10000\", \"12000\", \"14000\", \"16000\", \"18000\", \"20000\", \"20000\", \"2000\", \"4000\", \"6000\", \"8000\", \"10000\", \"12000\", \"14000\", \"16000\", \"2000\", \"4000\", \"6000\", \"8000\", \"10000\", \"12000\", \"14000\", \"16000\", \"18000\", \"20000\", \"22000\", \"24000\", \"26000\", \"28000\", \"30000\", \"32000\", \"34000\", \"36000\", \"38000\", \"40000\", \"40000\", \"2000\", \"4000\", \"4800\", \"6000\", \"7000\", \"8000\", \"10000\", \"12000\", \"14000\", \"16000\", \"18000\", \"20000\", \"22000\", \"22000\"], \"y\": [\"0.1411\", \"0.1520\", \"0.1578\", \"0.1395\", \"0.1396\", \"0.1302\", \"0.1459\", \"0.1445\", \"0.1402\", \"0.1705\", \"0.1800\", \"0.1720\", \"0.1629\", \"0.1559\", \"0.1475\", \"0.1613\", \"0.1584\", \"0.1562\", \"0.1693\", \"0.1534\", \"0.1513\", \"0.1526\", \"0.1429\", \"0.1958\", \"0.2260\", \"0.2315\", \"0.2440\", \"0.2429\", \"0.2308\", \"0.2829\", \"0.2624\", \"0.2643\", \"0.2637\", \"0.2586\", \"0.1046\", \"0.0937\", \"0.1133\", \"0.0946\", \"0.1204\", \"0.1157\", \"0.0955\", \"0.0835\", \"0.1747\", \"0.1889\", \"0.1703\", \"0.1916\", \"0.1887\", \"0.1840\", \"0.1781\", \"0.1868\", \"0.0100\", \"0.0862\", \"0.1167\", \"0.1470\", \"0.1446\", \"0.1491\", \"0.1527\", \"0.1699\", \"0.1632\", \"0.1621\", \"0.1543\", \"0.1531\", \"0.1281\", \"0.2033\", \"0.2244\", \"0.2244\", \"0.2048\", \"0.2044\", \"0.2371\", \"0.2449\", \"0.2256\", \"0.2443\", \"0.2588\", \"0.2676\", \"0.2603\", \"0.2617\", \"0.2466\"]}, {\"line\": {\"color\": \"rgba(128, 0, 128, 0.8999999999999999)\", \"dash\": \"solid\", \"shape\": \"linear\", \"width\": 1.3}, \"mode\": \"lines\", \"name\": \"mR @ 100\", \"text\": \"\", \"type\": \"scatter\", \"x\": [\"2000\", \"4000\", \"6000\", \"8000\", \"9600\", \"10000\", \"15000\", \"20000\", \"25000\", \"30000\", \"2000\", \"4000\", \"6000\", \"8000\", \"10000\", \"12000\", \"14000\", \"16000\", \"18000\", \"20000\", \"22000\", \"24000\", \"24000\", \"2000\", \"4000\", \"6000\", \"8000\", \"10000\", \"12000\", \"14000\", \"16000\", \"18000\", \"20000\", \"20000\", \"2000\", \"4000\", \"6000\", \"8000\", \"10000\", \"12000\", \"14000\", \"16000\", \"2000\", \"4000\", \"6000\", \"8000\", \"10000\", \"12000\", \"14000\", \"16000\", \"18000\", \"20000\", \"22000\", \"24000\", \"26000\", \"28000\", \"30000\", \"32000\", \"34000\", \"36000\", \"38000\", \"40000\", \"40000\", \"2000\", \"4000\", \"4800\", \"6000\", \"7000\", \"8000\", \"10000\", \"12000\", \"14000\", \"16000\", \"18000\", \"20000\", \"22000\", \"22000\"], \"y\": [\"0.1516\", \"0.1610\", \"0.1680\", \"0.1489\", \"0.1486\", \"0.1408\", \"0.1581\", \"0.1535\", \"0.1530\", \"0.1837\", \"0.1945\", \"0.1810\", \"0.1733\", \"0.1662\", \"0.1559\", \"0.1712\", \"0.1698\", \"0.1653\", \"0.1786\", \"0.1650\", \"0.1642\", \"0.1700\", \"0.1612\", \"0.2198\", \"0.2565\", \"0.2595\", \"0.2704\", \"0.2774\", \"0.2718\", \"0.3140\", \"0.3051\", \"0.3035\", \"0.3005\", \"0.2968\", \"0.1157\", \"0.1084\", \"0.1333\", \"0.1124\", \"0.1355\", \"0.1328\", \"0.1117\", \"0.0959\", \"0.1821\", \"0.1979\", \"0.1819\", \"0.2038\", \"0.2002\", \"0.1934\", \"0.1896\", \"0.1999\", \"0.0138\", \"0.1070\", \"0.1290\", \"0.1600\", \"0.1585\", \"0.1601\", \"0.1641\", \"0.1789\", \"0.1772\", \"0.1723\", \"0.1650\", \"0.1627\", \"0.1555\", \"0.2300\", \"0.2560\", \"0.2559\", \"0.2428\", \"0.2426\", \"0.2706\", \"0.2799\", \"0.2597\", \"0.2765\", \"0.2962\", \"0.3052\", \"0.3006\", \"0.3048\", \"0.2881\"]}, {\"line\": {\"color\": \"rgba(219, 64, 82, 0.8999999999999999)\", \"dash\": \"solid\", \"shape\": \"linear\", \"width\": 1.3}, \"mode\": \"lines\", \"name\": \"A @ 20\", \"text\": \"\", \"type\": \"scatter\", \"x\": [\"2000\", \"4000\", \"6000\", \"8000\", \"9600\", \"10000\", \"15000\", \"20000\", \"25000\", \"30000\", \"2000\", \"4000\", \"6000\", \"8000\", \"10000\", \"12000\", \"14000\", \"16000\", \"18000\", \"20000\", \"22000\", \"24000\", \"24000\", \"2000\", \"4000\", \"6000\", \"8000\", \"10000\", \"12000\", \"14000\", \"16000\", \"18000\", \"20000\", \"20000\", \"2000\", \"4000\", \"6000\", \"8000\", \"10000\", \"12000\", \"14000\", \"16000\", \"2000\", \"4000\", \"6000\", \"8000\", \"10000\", \"12000\", \"14000\", \"16000\", \"18000\", \"20000\", \"22000\", \"24000\", \"26000\", \"28000\", \"30000\", \"32000\", \"34000\", \"36000\", \"38000\", \"40000\", \"40000\", \"2000\", \"4000\", \"4800\", \"6000\", \"7000\", \"8000\", \"10000\", \"12000\", \"14000\", \"16000\", \"18000\", \"20000\", \"22000\", \"22000\"], \"y\": [\"0.6970\", \"0.6985\", \"0.7001\", \"0.7014\", \"0.7016\", \"0.6979\", \"0.7017\", \"0.6996\", \"0.6995\", \"0.7038\", \"0.3840\", \"0.5180\", \"0.5872\", \"0.5651\", \"0.5444\", \"0.6522\", \"0.6592\", \"0.6559\", \"0.6531\", \"0.6564\", \"0.6536\", \"0.6492\", \"0.6391\", \"0.5084\", \"0.5415\", \"0.5665\", \"0.5992\", \"0.5491\", \"0.5894\", \"0.5818\", \"0.5431\", \"0.5429\", \"0.5358\", \"0.5303\", \"0.0291\", \"0.0305\", \"0.0331\", \"0.0299\", \"0.0347\", \"0.0322\", \"0.0269\", \"0.0253\", \"0.3755\", \"0.3645\", \"0.3618\", \"0.3915\", \"0.4391\", \"0.4747\", \"0.5271\", \"0.5241\", \"0.0242\", \"0.1231\", \"0.3002\", \"0.3088\", \"0.3595\", \"0.2888\", \"0.3394\", \"0.3628\", \"0.3800\", \"0.3862\", \"0.3604\", \"0.3728\", \"0.6775\", \"0.4054\", \"0.4778\", \"0.4751\", \"0.4952\", \"0.4949\", \"0.4344\", \"0.4990\", \"0.4831\", \"0.4589\", \"0.4654\", \"0.4567\", \"0.4512\", \"0.4544\", \"0.4617\"]}, {\"line\": {\"color\": \"rgba(0, 128, 128, 0.8999999999999999)\", \"dash\": \"solid\", \"shape\": \"linear\", \"width\": 1.3}, \"mode\": \"lines\", \"name\": \"A @ 50\", \"text\": \"\", \"type\": \"scatter\", \"x\": [\"2000\", \"4000\", \"6000\", \"8000\", \"9600\", \"10000\", \"15000\", \"20000\", \"25000\", \"30000\", \"2000\", \"4000\", \"6000\", \"8000\", \"10000\", \"12000\", \"14000\", \"16000\", \"18000\", \"20000\", \"22000\", \"24000\", \"24000\", \"2000\", \"4000\", \"6000\", \"8000\", \"10000\", \"12000\", \"14000\", \"16000\", \"18000\", \"20000\", \"20000\", \"2000\", \"4000\", \"6000\", \"8000\", \"10000\", \"12000\", \"14000\", \"16000\", \"2000\", \"4000\", \"6000\", \"8000\", \"10000\", \"12000\", \"14000\", \"16000\", \"18000\", \"20000\", \"22000\", \"24000\", \"26000\", \"28000\", \"30000\", \"32000\", \"34000\", \"36000\", \"38000\", \"40000\", \"40000\", \"2000\", \"4000\", \"4800\", \"6000\", \"7000\", \"8000\", \"10000\", \"12000\", \"14000\", \"16000\", \"18000\", \"20000\", \"22000\", \"22000\"], \"y\": [\"0.7018\", \"0.7033\", \"0.7047\", \"0.7062\", \"0.7063\", \"0.7026\", \"0.7067\", \"0.7045\", \"0.7042\", \"0.7089\", \"0.3870\", \"0.5224\", \"0.5925\", \"0.5698\", \"0.5492\", \"0.6572\", \"0.6639\", \"0.6610\", \"0.6573\", \"0.6600\", \"0.6578\", \"0.6531\", \"0.6412\", \"0.5117\", \"0.5459\", \"0.5713\", \"0.6040\", \"0.5534\", \"0.5943\", \"0.5862\", \"0.5477\", \"0.5468\", \"0.5398\", \"0.5322\", \"0.0291\", \"0.0306\", \"0.0334\", \"0.0301\", \"0.0349\", \"0.0324\", \"0.0272\", \"0.0255\", \"0.3778\", \"0.3672\", \"0.3653\", \"0.3958\", \"0.4437\", \"0.4796\", \"0.5320\", \"0.5288\", \"0.0242\", \"0.1238\", \"0.3027\", \"0.3119\", \"0.3623\", \"0.2916\", \"0.3425\", \"0.3658\", \"0.3829\", \"0.3890\", \"0.3620\", \"0.3732\", \"0.6801\", \"0.4079\", \"0.4824\", \"0.4794\", \"0.4995\", \"0.4992\", \"0.4382\", \"0.5037\", \"0.4875\", \"0.4641\", \"0.4698\", \"0.4613\", \"0.4549\", \"0.4585\", \"0.4634\"]}, {\"line\": {\"color\": \"rgba(255, 255, 51, 0.8999999999999999)\", \"dash\": \"solid\", \"shape\": \"linear\", \"width\": 1.3}, \"mode\": \"lines\", \"name\": \"A @ 100\", \"text\": \"\", \"type\": \"scatter\", \"x\": [\"2000\", \"4000\", \"6000\", \"8000\", \"9600\", \"10000\", \"15000\", \"20000\", \"25000\", \"30000\", \"2000\", \"4000\", \"6000\", \"8000\", \"10000\", \"12000\", \"14000\", \"16000\", \"18000\", \"20000\", \"22000\", \"24000\", \"24000\", \"2000\", \"4000\", \"6000\", \"8000\", \"10000\", \"12000\", \"14000\", \"16000\", \"18000\", \"20000\", \"20000\", \"2000\", \"4000\", \"6000\", \"8000\", \"10000\", \"12000\", \"14000\", \"16000\", \"2000\", \"4000\", \"6000\", \"8000\", \"10000\", \"12000\", \"14000\", \"16000\", \"18000\", \"20000\", \"22000\", \"24000\", \"26000\", \"28000\", \"30000\", \"32000\", \"34000\", \"36000\", \"38000\", \"40000\", \"40000\", \"2000\", \"4000\", \"4800\", \"6000\", \"7000\", \"8000\", \"10000\", \"12000\", \"14000\", \"16000\", \"18000\", \"20000\", \"22000\", \"22000\"], \"y\": [\"0.7018\", \"0.7033\", \"0.7047\", \"0.7062\", \"0.7063\", \"0.7026\", \"0.7067\", \"0.7045\", \"0.7042\", \"0.7089\", \"0.3870\", \"0.5224\", \"0.5925\", \"0.5698\", \"0.5492\", \"0.6572\", \"0.6639\", \"0.6610\", \"0.6573\", \"0.6600\", \"0.6578\", \"0.6531\", \"0.6412\", \"0.5117\", \"0.5459\", \"0.5713\", \"0.6040\", \"0.5534\", \"0.5943\", \"0.5862\", \"0.5477\", \"0.5468\", \"0.5398\", \"0.5322\", \"0.0291\", \"0.0306\", \"0.0334\", \"0.0301\", \"0.0349\", \"0.0324\", \"0.0272\", \"0.0255\", \"0.3778\", \"0.3672\", \"0.3653\", \"0.3958\", \"0.4437\", \"0.4796\", \"0.5320\", \"0.5288\", \"0.0242\", \"0.1238\", \"0.3027\", \"0.3119\", \"0.3623\", \"0.2916\", \"0.3425\", \"0.3658\", \"0.3829\", \"0.3890\", \"0.3620\", \"0.3732\", \"0.6801\", \"0.4079\", \"0.4824\", \"0.4794\", \"0.4995\", \"0.4992\", \"0.4382\", \"0.5037\", \"0.4875\", \"0.4641\", \"0.4698\", \"0.4613\", \"0.4549\", \"0.4585\", \"0.4634\"]}],\n",
       "                        {\"legend\": {\"bgcolor\": \"#FFFFFF\", \"font\": {\"color\": \"#4D5663\"}}, \"paper_bgcolor\": \"#FFFFFF\", \"plot_bgcolor\": \"#FFFFFF\", \"template\": {\"data\": {\"bar\": [{\"error_x\": {\"color\": \"#2a3f5f\"}, \"error_y\": {\"color\": \"#2a3f5f\"}, \"marker\": {\"line\": {\"color\": \"#E5ECF6\", \"width\": 0.5}}, \"type\": \"bar\"}], \"barpolar\": [{\"marker\": {\"line\": {\"color\": \"#E5ECF6\", \"width\": 0.5}}, \"type\": \"barpolar\"}], \"carpet\": [{\"aaxis\": {\"endlinecolor\": \"#2a3f5f\", \"gridcolor\": \"white\", \"linecolor\": \"white\", \"minorgridcolor\": \"white\", \"startlinecolor\": \"#2a3f5f\"}, \"baxis\": {\"endlinecolor\": \"#2a3f5f\", \"gridcolor\": \"white\", \"linecolor\": \"white\", \"minorgridcolor\": \"white\", \"startlinecolor\": \"#2a3f5f\"}, \"type\": \"carpet\"}], \"choropleth\": [{\"colorbar\": {\"outlinewidth\": 0, \"ticks\": \"\"}, \"type\": \"choropleth\"}], \"contour\": [{\"colorbar\": {\"outlinewidth\": 0, \"ticks\": \"\"}, \"colorscale\": [[0.0, \"#0d0887\"], [0.1111111111111111, \"#46039f\"], [0.2222222222222222, \"#7201a8\"], [0.3333333333333333, \"#9c179e\"], [0.4444444444444444, \"#bd3786\"], [0.5555555555555556, \"#d8576b\"], [0.6666666666666666, \"#ed7953\"], [0.7777777777777778, \"#fb9f3a\"], [0.8888888888888888, \"#fdca26\"], [1.0, \"#f0f921\"]], \"type\": \"contour\"}], \"contourcarpet\": [{\"colorbar\": {\"outlinewidth\": 0, \"ticks\": \"\"}, \"type\": \"contourcarpet\"}], \"heatmap\": [{\"colorbar\": {\"outlinewidth\": 0, \"ticks\": \"\"}, \"colorscale\": [[0.0, \"#0d0887\"], [0.1111111111111111, \"#46039f\"], [0.2222222222222222, \"#7201a8\"], [0.3333333333333333, \"#9c179e\"], [0.4444444444444444, \"#bd3786\"], [0.5555555555555556, \"#d8576b\"], [0.6666666666666666, \"#ed7953\"], [0.7777777777777778, \"#fb9f3a\"], [0.8888888888888888, \"#fdca26\"], [1.0, \"#f0f921\"]], \"type\": \"heatmap\"}], \"heatmapgl\": [{\"colorbar\": {\"outlinewidth\": 0, \"ticks\": \"\"}, \"colorscale\": [[0.0, \"#0d0887\"], [0.1111111111111111, \"#46039f\"], [0.2222222222222222, \"#7201a8\"], [0.3333333333333333, \"#9c179e\"], [0.4444444444444444, \"#bd3786\"], [0.5555555555555556, \"#d8576b\"], [0.6666666666666666, \"#ed7953\"], [0.7777777777777778, \"#fb9f3a\"], [0.8888888888888888, \"#fdca26\"], [1.0, \"#f0f921\"]], \"type\": \"heatmapgl\"}], \"histogram\": [{\"marker\": {\"colorbar\": {\"outlinewidth\": 0, \"ticks\": \"\"}}, \"type\": \"histogram\"}], \"histogram2d\": [{\"colorbar\": {\"outlinewidth\": 0, \"ticks\": \"\"}, \"colorscale\": [[0.0, \"#0d0887\"], [0.1111111111111111, \"#46039f\"], [0.2222222222222222, \"#7201a8\"], [0.3333333333333333, \"#9c179e\"], [0.4444444444444444, \"#bd3786\"], [0.5555555555555556, \"#d8576b\"], [0.6666666666666666, \"#ed7953\"], [0.7777777777777778, \"#fb9f3a\"], [0.8888888888888888, \"#fdca26\"], [1.0, \"#f0f921\"]], \"type\": \"histogram2d\"}], \"histogram2dcontour\": [{\"colorbar\": {\"outlinewidth\": 0, \"ticks\": \"\"}, \"colorscale\": [[0.0, \"#0d0887\"], [0.1111111111111111, \"#46039f\"], [0.2222222222222222, \"#7201a8\"], [0.3333333333333333, \"#9c179e\"], [0.4444444444444444, \"#bd3786\"], [0.5555555555555556, \"#d8576b\"], [0.6666666666666666, \"#ed7953\"], [0.7777777777777778, \"#fb9f3a\"], [0.8888888888888888, \"#fdca26\"], [1.0, \"#f0f921\"]], \"type\": \"histogram2dcontour\"}], \"mesh3d\": [{\"colorbar\": {\"outlinewidth\": 0, \"ticks\": \"\"}, \"type\": \"mesh3d\"}], \"parcoords\": [{\"line\": {\"colorbar\": {\"outlinewidth\": 0, \"ticks\": \"\"}}, \"type\": \"parcoords\"}], \"pie\": [{\"automargin\": true, \"type\": \"pie\"}], \"scatter\": [{\"marker\": {\"colorbar\": {\"outlinewidth\": 0, \"ticks\": \"\"}}, \"type\": \"scatter\"}], \"scatter3d\": [{\"line\": {\"colorbar\": {\"outlinewidth\": 0, \"ticks\": \"\"}}, \"marker\": {\"colorbar\": {\"outlinewidth\": 0, \"ticks\": \"\"}}, \"type\": \"scatter3d\"}], \"scattercarpet\": [{\"marker\": {\"colorbar\": {\"outlinewidth\": 0, \"ticks\": \"\"}}, \"type\": \"scattercarpet\"}], \"scattergeo\": [{\"marker\": {\"colorbar\": {\"outlinewidth\": 0, \"ticks\": \"\"}}, \"type\": \"scattergeo\"}], \"scattergl\": [{\"marker\": {\"colorbar\": {\"outlinewidth\": 0, \"ticks\": \"\"}}, \"type\": \"scattergl\"}], \"scattermapbox\": [{\"marker\": {\"colorbar\": {\"outlinewidth\": 0, \"ticks\": \"\"}}, \"type\": \"scattermapbox\"}], \"scatterpolar\": [{\"marker\": {\"colorbar\": {\"outlinewidth\": 0, \"ticks\": \"\"}}, \"type\": \"scatterpolar\"}], \"scatterpolargl\": [{\"marker\": {\"colorbar\": {\"outlinewidth\": 0, \"ticks\": \"\"}}, \"type\": \"scatterpolargl\"}], \"scatterternary\": [{\"marker\": {\"colorbar\": {\"outlinewidth\": 0, \"ticks\": \"\"}}, \"type\": \"scatterternary\"}], \"surface\": [{\"colorbar\": {\"outlinewidth\": 0, \"ticks\": \"\"}, \"colorscale\": [[0.0, \"#0d0887\"], [0.1111111111111111, \"#46039f\"], [0.2222222222222222, \"#7201a8\"], [0.3333333333333333, \"#9c179e\"], [0.4444444444444444, \"#bd3786\"], [0.5555555555555556, \"#d8576b\"], [0.6666666666666666, \"#ed7953\"], [0.7777777777777778, \"#fb9f3a\"], [0.8888888888888888, \"#fdca26\"], [1.0, \"#f0f921\"]], \"type\": \"surface\"}], \"table\": [{\"cells\": {\"fill\": {\"color\": \"#EBF0F8\"}, \"line\": {\"color\": \"white\"}}, \"header\": {\"fill\": {\"color\": \"#C8D4E3\"}, \"line\": {\"color\": \"white\"}}, \"type\": \"table\"}]}, \"layout\": {\"annotationdefaults\": {\"arrowcolor\": \"#2a3f5f\", \"arrowhead\": 0, \"arrowwidth\": 1}, \"coloraxis\": {\"colorbar\": {\"outlinewidth\": 0, \"ticks\": \"\"}}, \"colorscale\": {\"diverging\": [[0, \"#8e0152\"], [0.1, \"#c51b7d\"], [0.2, \"#de77ae\"], [0.3, \"#f1b6da\"], [0.4, \"#fde0ef\"], [0.5, \"#f7f7f7\"], [0.6, \"#e6f5d0\"], [0.7, \"#b8e186\"], [0.8, \"#7fbc41\"], [0.9, \"#4d9221\"], [1, \"#276419\"]], \"sequential\": [[0.0, \"#0d0887\"], [0.1111111111111111, \"#46039f\"], [0.2222222222222222, \"#7201a8\"], [0.3333333333333333, \"#9c179e\"], [0.4444444444444444, \"#bd3786\"], [0.5555555555555556, \"#d8576b\"], [0.6666666666666666, \"#ed7953\"], [0.7777777777777778, \"#fb9f3a\"], [0.8888888888888888, \"#fdca26\"], [1.0, \"#f0f921\"]], \"sequentialminus\": [[0.0, \"#0d0887\"], [0.1111111111111111, \"#46039f\"], [0.2222222222222222, \"#7201a8\"], [0.3333333333333333, \"#9c179e\"], [0.4444444444444444, \"#bd3786\"], [0.5555555555555556, \"#d8576b\"], [0.6666666666666666, \"#ed7953\"], [0.7777777777777778, \"#fb9f3a\"], [0.8888888888888888, \"#fdca26\"], [1.0, \"#f0f921\"]]}, \"colorway\": [\"#636efa\", \"#EF553B\", \"#00cc96\", \"#ab63fa\", \"#FFA15A\", \"#19d3f3\", \"#FF6692\", \"#B6E880\", \"#FF97FF\", \"#FECB52\"], \"font\": {\"color\": \"#2a3f5f\"}, \"geo\": {\"bgcolor\": \"white\", \"lakecolor\": \"white\", \"landcolor\": \"#E5ECF6\", \"showlakes\": true, \"showland\": true, \"subunitcolor\": \"white\"}, \"hoverlabel\": {\"align\": \"left\"}, \"hovermode\": \"closest\", \"mapbox\": {\"style\": \"light\"}, \"paper_bgcolor\": \"white\", \"plot_bgcolor\": \"#E5ECF6\", \"polar\": {\"angularaxis\": {\"gridcolor\": \"white\", \"linecolor\": \"white\", \"ticks\": \"\"}, \"bgcolor\": \"#E5ECF6\", \"radialaxis\": {\"gridcolor\": \"white\", \"linecolor\": \"white\", \"ticks\": \"\"}}, \"scene\": {\"xaxis\": {\"backgroundcolor\": \"#E5ECF6\", \"gridcolor\": \"white\", \"gridwidth\": 2, \"linecolor\": \"white\", \"showbackground\": true, \"ticks\": \"\", \"zerolinecolor\": \"white\"}, \"yaxis\": {\"backgroundcolor\": \"#E5ECF6\", \"gridcolor\": \"white\", \"gridwidth\": 2, \"linecolor\": \"white\", \"showbackground\": true, \"ticks\": \"\", \"zerolinecolor\": \"white\"}, \"zaxis\": {\"backgroundcolor\": \"#E5ECF6\", \"gridcolor\": \"white\", \"gridwidth\": 2, \"linecolor\": \"white\", \"showbackground\": true, \"ticks\": \"\", \"zerolinecolor\": \"white\"}}, \"shapedefaults\": {\"line\": {\"color\": \"#2a3f5f\"}}, \"ternary\": {\"aaxis\": {\"gridcolor\": \"white\", \"linecolor\": \"white\", \"ticks\": \"\"}, \"baxis\": {\"gridcolor\": \"white\", \"linecolor\": \"white\", \"ticks\": \"\"}, \"bgcolor\": \"#E5ECF6\", \"caxis\": {\"gridcolor\": \"white\", \"linecolor\": \"white\", \"ticks\": \"\"}}, \"title\": {\"x\": 0.05}, \"xaxis\": {\"automargin\": true, \"gridcolor\": \"white\", \"linecolor\": \"white\", \"ticks\": \"\", \"title\": {\"standoff\": 15}, \"zerolinecolor\": \"white\", \"zerolinewidth\": 2}, \"yaxis\": {\"automargin\": true, \"gridcolor\": \"white\", \"linecolor\": \"white\", \"ticks\": \"\", \"title\": {\"standoff\": 15}, \"zerolinecolor\": \"white\", \"zerolinewidth\": 2}}}, \"title\": {\"font\": {\"color\": \"#4D5663\"}, \"text\": \"precls-CausalAnalysisPredictor-motifs-dist2-TDE\"}, \"xaxis\": {\"gridcolor\": \"#E1E5ED\", \"showgrid\": true, \"tickfont\": {\"color\": \"#4D5663\"}, \"title\": {\"font\": {\"color\": \"#4D5663\"}, \"text\": \"\"}, \"zerolinecolor\": \"#E1E5ED\"}, \"yaxis\": {\"gridcolor\": \"#E1E5ED\", \"showgrid\": true, \"tickfont\": {\"color\": \"#4D5663\"}, \"title\": {\"font\": {\"color\": \"#4D5663\"}, \"text\": \"\"}, \"zerolinecolor\": \"#E1E5ED\"}},\n",
       "                        {\"showLink\": true, \"linkText\": \"Export to plot.ly\", \"plotlyServerURL\": \"https://plot.ly\", \"responsive\": true}\n",
       "                    ).then(function(){\n",
       "                            \n",
       "var gd = document.getElementById('f6c221bf-7cb3-4492-b83b-25e143f04177');\n",
       "var x = new MutationObserver(function (mutations, observer) {{\n",
       "        var display = window.getComputedStyle(gd).display;\n",
       "        if (!display || display === 'none') {{\n",
       "            console.log([gd, 'removed!']);\n",
       "            Plotly.purge(gd);\n",
       "            observer.disconnect();\n",
       "        }}\n",
       "}});\n",
       "\n",
       "// Listen for the removal of the full notebook cells\n",
       "var notebookContainer = gd.closest('#notebook-container');\n",
       "if (notebookContainer) {{\n",
       "    x.observe(notebookContainer, {childList: true});\n",
       "}}\n",
       "\n",
       "// Listen for the clearing of the current output cell\n",
       "var outputEl = gd.closest('.output');\n",
       "if (outputEl) {{\n",
       "    x.observe(outputEl, {childList: true});\n",
       "}}\n",
       "\n",
       "                        })\n",
       "                };\n",
       "                });\n",
       "            </script>\n",
       "        </div>"
      ]
     },
     "metadata": {},
     "output_type": "display_data"
    }
   ],
   "source": [
    "df.iplot(kind=\"scatter\", theme=\"white\",x=\"iter\",title=\"precls-CausalAnalysisPredictor-motifs-dist2-TDE\")"
   ]
  },
  {
   "cell_type": "code",
   "execution_count": null,
   "metadata": {},
   "outputs": [],
   "source": []
  }
 ],
 "metadata": {
  "kernelspec": {
   "display_name": "Python 3",
   "language": "python",
   "name": "python3"
  },
  "language_info": {
   "codemirror_mode": {
    "name": "ipython",
    "version": 3
   },
   "file_extension": ".py",
   "mimetype": "text/x-python",
   "name": "python",
   "nbconvert_exporter": "python",
   "pygments_lexer": "ipython3",
   "version": "3.6.8"
  },
  "toc": {
   "base_numbering": 1,
   "nav_menu": {},
   "number_sections": true,
   "sideBar": true,
   "skip_h1_title": false,
   "title_cell": "Table of Contents",
   "title_sidebar": "Contents",
   "toc_cell": false,
   "toc_position": {},
   "toc_section_display": true,
   "toc_window_display": false
  }
 },
 "nbformat": 4,
 "nbformat_minor": 2
}
