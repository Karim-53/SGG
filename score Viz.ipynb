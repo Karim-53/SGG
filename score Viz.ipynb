{
 "cells": [
  {
   "cell_type": "code",
   "execution_count": 1,
   "metadata": {
    "ExecuteTime": {
     "end_time": "2020-06-08T15:12:03.532454Z",
     "start_time": "2020-06-08T15:12:02.985068Z"
    }
   },
   "outputs": [],
   "source": [
    "import numpy as np\n",
    "import pandas as pd\n",
    "import re"
   ]
  },
  {
   "cell_type": "code",
   "execution_count": 7,
   "metadata": {
    "ExecuteTime": {
     "end_time": "2020-06-08T15:12:32.179299Z",
     "start_time": "2020-06-08T15:12:30.071729Z"
    }
   },
   "outputs": [
    {
     "output_type": "display_data",
     "data": {
      "text/html": "        <script type=\"text/javascript\">\n        window.PlotlyConfig = {MathJaxConfig: 'local'};\n        if (window.MathJax) {MathJax.Hub.Config({SVG: {font: \"STIX-Web\"}});}\n        if (typeof require !== 'undefined') {\n        require.undef(\"plotly\");\n        requirejs.config({\n            paths: {\n                'plotly': ['https://cdn.plot.ly/plotly-latest.min']\n            }\n        });\n        require(['plotly'], function(Plotly) {\n            window._Plotly = Plotly;\n        });\n        }\n        </script>\n        "
     },
     "metadata": {}
    }
   ],
   "source": [
    "import cufflinks as cf\n",
    "import plotly.offline\n",
    "cf.go_offline()\n",
    "cf.set_config_file(offline=False, world_readable=True)"
   ]
  },
  {
   "cell_type": "code",
   "execution_count": 13,
   "metadata": {
    "ExecuteTime": {
     "end_time": "2020-06-08T15:12:03.539399Z",
     "start_time": "2020-06-08T15:12:03.533463Z"
    }
   },
   "outputs": [],
   "source": [
    "keys = ['iter', 'mAp',\n",
    "        'R @ 20', 'R @ 50', 'R @ 100',\n",
    "        'ngR @ 20', 'ngR @ 50', 'ngR @ 100',\n",
    "        'zR @ 20', 'zR @ 50', 'zR @ 100',\n",
    "        'mR @ 20', 'mR @ 50', 'mR @ 100',\n",
    "        'A @ 20', 'A @ 50', 'A @ 100',\n",
    "       ]\n",
    "patern_str_measure = 'mAp=([\\d\\.]+)(?:.|\\n)+?R @ 20: ([\\d\\.]+);   R @ 50: ([\\d\\.]+);   R @ 100: ([\\d\\.]+)(?:.|\\n)+?.+?@ 20: ([\\d\\.]+); .+?@ 50: ([\\d\\.]+); .+?@ 100: ([\\d\\.]+)(?:.|\\n)+?.+?@ 20: ([\\d\\.]+); .+?@ 50: ([\\d\\.]+); .+?@ 100: ([\\d\\.]+)(?:.|\\n)+?.+?@ 20: ([\\d\\.]+); .+?@ 50: ([\\d\\.]+); .+?@ 100: ([\\d\\.]+)(?:.|\\n)+?.+?@ 20: ([\\d\\.]+); .+?@ 50: ([\\d\\.]+); .+?@ 100: ([\\d\\.]+)'\n",
    "patern_str_validation = 'iter: (\\d+)(?:(?!iter).)*'+patern_str_measure\n",
    "patern_str_test =   'iteration (\\d+)(?:(?!iter).)*'+patern_str_measure\n",
    "\n",
    "# patern_compiled_patern_str_validation = re.compile(patern_str_validation, re.MULTILINE | re.DOTALL)"
   ]
  },
  {
   "cell_type": "code",
   "execution_count": 28,
   "metadata": {},
   "outputs": [
    {
     "output_type": "execute_result",
     "data": {
      "text/plain": "[('dist1-TDE',\n  './checkpoint/precls-CausalAnalysisPredictor-motifs-dist1-TDE/log.txt'),\n ('dist2-TDE',\n  './checkpoint/precls-CausalAnalysisPredictor-motifs-dist2-TDE/log.txt'),\n ('gate-TDE',\n  './checkpoint/precls-CausalAnalysisPredictor-motifs-gate-TDE/log.txt'),\n ('sum-TDE',\n  './checkpoint/precls-CausalAnalysisPredictor-motifs-sum-TDE/log.txt')]"
     },
     "metadata": {},
     "execution_count": 28
    }
   ],
   "source": [
    "\n",
    "import os\n",
    "import os.path\n",
    "\n",
    "log_files = []\n",
    "for dirpath, dirnames, filenames in os.walk(\"./checkpoint/\"):\n",
    "    for filename in [f for f in filenames if f==\"log.txt\"]:\n",
    "        #print(os.path.join(dirpath, filename))\n",
    "        #print(dirpath, filename)\n",
    "        log_files.append( (dirpath[51:], dirpath+'/'+filename)  )\n",
    "log_files"
   ]
  },
  {
   "cell_type": "code",
   "execution_count": 29,
   "metadata": {
    "ExecuteTime": {
     "end_time": "2020-06-08T15:12:03.613231Z",
     "start_time": "2020-06-08T15:12:03.548375Z"
    }
   },
   "outputs": [],
   "source": [
    "def matches_to_array(matches, _default_dict = {\"label\": None, \"eval_set\":\"validation\"}):\n",
    "    arr = []\n",
    "    for match in matches:\n",
    "        _dict = _default_dict\n",
    "        for key,val in zip(keys,match):\n",
    "            _dict[key] = val\n",
    "        arr.append(_dict)\n",
    "    return arr\n",
    "\n",
    "\n",
    "def log_to_array(Tx: str, label=None):\n",
    "    matches = re.findall(patern_str_validation, Tx,  re.MULTILINE | re.DOTALL)\n",
    "    arr = matches_to_array(matches, _default_dict = {\"label\": label, \"eval_set\":\"validation\"})\n",
    "    \n",
    "    matches = re.findall(patern_str_test, Tx,  re.MULTILINE | re.DOTALL)\n",
    "    arr2 = matches_to_array(matches, _default_dict = {\"label\": label, \"eval_set\":\"test\"})\n",
    "\n",
    "    return arr + arr2"
   ]
  },
  {
   "cell_type": "code",
   "execution_count": 30,
   "metadata": {
    "ExecuteTime": {
     "end_time": "2020-06-08T15:12:03.547378Z",
     "start_time": "2020-06-08T15:12:03.540396Z"
    }
   },
   "outputs": [
    {
     "output_type": "execute_result",
     "data": {
      "text/plain": "        label    eval_set   iter     mAp  R @ 20  R @ 50 R @ 100 ngR @ 20  \\\n0   dist1-TDE  validation  24000  0.9999  0.5535  0.6057  0.6208   0.6228   \n1   dist1-TDE  validation  24000  0.9999  0.5535  0.6057  0.6208   0.6228   \n2   dist1-TDE  validation  24000  0.9999  0.5535  0.6057  0.6208   0.6228   \n3   dist1-TDE  validation  24000  0.9999  0.5535  0.6057  0.6208   0.6228   \n4   dist1-TDE  validation  24000  0.9999  0.5535  0.6057  0.6208   0.6228   \n5   dist1-TDE  validation  24000  0.9999  0.5535  0.6057  0.6208   0.6228   \n6   dist1-TDE  validation  24000  0.9999  0.5535  0.6057  0.6208   0.6228   \n7   dist1-TDE  validation  24000  0.9999  0.5535  0.6057  0.6208   0.6228   \n8   dist1-TDE  validation  24000  0.9999  0.5535  0.6057  0.6208   0.6228   \n9   dist1-TDE  validation  24000  0.9999  0.5535  0.6057  0.6208   0.6228   \n10  dist1-TDE  validation  24000  0.9999  0.5535  0.6057  0.6208   0.6228   \n11  dist1-TDE  validation  24000  0.9999  0.5535  0.6057  0.6208   0.6228   \n12  dist1-TDE        test  24000  0.9995  0.5354  0.6005  0.6206   0.6042   \n13  dist2-TDE  validation  24000  0.9999  0.5535  0.6057  0.6208   0.6228   \n14  dist2-TDE  validation  24000  0.9999  0.5535  0.6057  0.6208   0.6228   \n15  dist2-TDE  validation  24000  0.9999  0.5535  0.6057  0.6208   0.6228   \n16  dist2-TDE  validation  24000  0.9999  0.5535  0.6057  0.6208   0.6228   \n17  dist2-TDE  validation  24000  0.9999  0.5535  0.6057  0.6208   0.6228   \n18  dist2-TDE  validation  24000  0.9999  0.5535  0.6057  0.6208   0.6228   \n19  dist2-TDE  validation  24000  0.9999  0.5535  0.6057  0.6208   0.6228   \n20  dist2-TDE  validation  24000  0.9999  0.5535  0.6057  0.6208   0.6228   \n21  dist2-TDE  validation  24000  0.9999  0.5535  0.6057  0.6208   0.6228   \n22  dist2-TDE  validation  24000  0.9999  0.5535  0.6057  0.6208   0.6228   \n23  dist2-TDE  validation  24000  0.9999  0.5535  0.6057  0.6208   0.6228   \n24  dist2-TDE  validation  24000  0.9999  0.5535  0.6057  0.6208   0.6228   \n25  dist2-TDE        test  24000  0.9995  0.5354  0.6005  0.6206   0.6042   \n26   gate-TDE  validation  24000  0.9999  0.5535  0.6057  0.6208   0.6228   \n27   gate-TDE  validation  24000  0.9999  0.5535  0.6057  0.6208   0.6228   \n28   gate-TDE  validation  24000  0.9999  0.5535  0.6057  0.6208   0.6228   \n29   gate-TDE  validation  24000  0.9999  0.5535  0.6057  0.6208   0.6228   \n30   gate-TDE  validation  24000  0.9999  0.5535  0.6057  0.6208   0.6228   \n31   gate-TDE  validation  24000  0.9999  0.5535  0.6057  0.6208   0.6228   \n32   gate-TDE  validation  24000  0.9999  0.5535  0.6057  0.6208   0.6228   \n33   gate-TDE  validation  24000  0.9999  0.5535  0.6057  0.6208   0.6228   \n34   gate-TDE  validation  24000  0.9999  0.5535  0.6057  0.6208   0.6228   \n35   gate-TDE  validation  24000  0.9999  0.5535  0.6057  0.6208   0.6228   \n36   gate-TDE  validation  24000  0.9999  0.5535  0.6057  0.6208   0.6228   \n37   gate-TDE  validation  24000  0.9999  0.5535  0.6057  0.6208   0.6228   \n38   gate-TDE        test  24000  0.9995  0.5354  0.6005  0.6206   0.6042   \n39    sum-TDE  validation  24000  0.9999  0.5535  0.6057  0.6208   0.6228   \n40    sum-TDE  validation  24000  0.9999  0.5535  0.6057  0.6208   0.6228   \n41    sum-TDE  validation  24000  0.9999  0.5535  0.6057  0.6208   0.6228   \n42    sum-TDE  validation  24000  0.9999  0.5535  0.6057  0.6208   0.6228   \n43    sum-TDE  validation  24000  0.9999  0.5535  0.6057  0.6208   0.6228   \n44    sum-TDE  validation  24000  0.9999  0.5535  0.6057  0.6208   0.6228   \n45    sum-TDE  validation  24000  0.9999  0.5535  0.6057  0.6208   0.6228   \n46    sum-TDE  validation  24000  0.9999  0.5535  0.6057  0.6208   0.6228   \n47    sum-TDE  validation  24000  0.9999  0.5535  0.6057  0.6208   0.6228   \n48    sum-TDE  validation  24000  0.9999  0.5535  0.6057  0.6208   0.6228   \n49    sum-TDE  validation  24000  0.9999  0.5535  0.6057  0.6208   0.6228   \n50    sum-TDE  validation  24000  0.9999  0.5535  0.6057  0.6208   0.6228   \n51    sum-TDE        test  24000  0.9995  0.5354  0.6005  0.6206   0.6042   \n\n   ngR @ 50 ngR @ 100 zR @ 20 zR @ 50 zR @ 100 mR @ 20 mR @ 50 mR @ 100  \\\n0    0.7360    0.7974  0.0852  0.1600   0.1844  0.1262  0.1526   0.1700   \n1    0.7360    0.7974  0.0852  0.1600   0.1844  0.1262  0.1526   0.1700   \n2    0.7360    0.7974  0.0852  0.1600   0.1844  0.1262  0.1526   0.1700   \n3    0.7360    0.7974  0.0852  0.1600   0.1844  0.1262  0.1526   0.1700   \n4    0.7360    0.7974  0.0852  0.1600   0.1844  0.1262  0.1526   0.1700   \n5    0.7360    0.7974  0.0852  0.1600   0.1844  0.1262  0.1526   0.1700   \n6    0.7360    0.7974  0.0852  0.1600   0.1844  0.1262  0.1526   0.1700   \n7    0.7360    0.7974  0.0852  0.1600   0.1844  0.1262  0.1526   0.1700   \n8    0.7360    0.7974  0.0852  0.1600   0.1844  0.1262  0.1526   0.1700   \n9    0.7360    0.7974  0.0852  0.1600   0.1844  0.1262  0.1526   0.1700   \n10   0.7360    0.7974  0.0852  0.1600   0.1844  0.1262  0.1526   0.1700   \n11   0.7360    0.7974  0.0852  0.1600   0.1844  0.1262  0.1526   0.1700   \n12   0.7359    0.8031  0.0624  0.1092   0.1362  0.1093  0.1429   0.1612   \n13   0.7360    0.7974  0.0852  0.1600   0.1844  0.1262  0.1526   0.1700   \n14   0.7360    0.7974  0.0852  0.1600   0.1844  0.1262  0.1526   0.1700   \n15   0.7360    0.7974  0.0852  0.1600   0.1844  0.1262  0.1526   0.1700   \n16   0.7360    0.7974  0.0852  0.1600   0.1844  0.1262  0.1526   0.1700   \n17   0.7360    0.7974  0.0852  0.1600   0.1844  0.1262  0.1526   0.1700   \n18   0.7360    0.7974  0.0852  0.1600   0.1844  0.1262  0.1526   0.1700   \n19   0.7360    0.7974  0.0852  0.1600   0.1844  0.1262  0.1526   0.1700   \n20   0.7360    0.7974  0.0852  0.1600   0.1844  0.1262  0.1526   0.1700   \n21   0.7360    0.7974  0.0852  0.1600   0.1844  0.1262  0.1526   0.1700   \n22   0.7360    0.7974  0.0852  0.1600   0.1844  0.1262  0.1526   0.1700   \n23   0.7360    0.7974  0.0852  0.1600   0.1844  0.1262  0.1526   0.1700   \n24   0.7360    0.7974  0.0852  0.1600   0.1844  0.1262  0.1526   0.1700   \n25   0.7359    0.8031  0.0624  0.1092   0.1362  0.1093  0.1429   0.1612   \n26   0.7360    0.7974  0.0852  0.1600   0.1844  0.1262  0.1526   0.1700   \n27   0.7360    0.7974  0.0852  0.1600   0.1844  0.1262  0.1526   0.1700   \n28   0.7360    0.7974  0.0852  0.1600   0.1844  0.1262  0.1526   0.1700   \n29   0.7360    0.7974  0.0852  0.1600   0.1844  0.1262  0.1526   0.1700   \n30   0.7360    0.7974  0.0852  0.1600   0.1844  0.1262  0.1526   0.1700   \n31   0.7360    0.7974  0.0852  0.1600   0.1844  0.1262  0.1526   0.1700   \n32   0.7360    0.7974  0.0852  0.1600   0.1844  0.1262  0.1526   0.1700   \n33   0.7360    0.7974  0.0852  0.1600   0.1844  0.1262  0.1526   0.1700   \n34   0.7360    0.7974  0.0852  0.1600   0.1844  0.1262  0.1526   0.1700   \n35   0.7360    0.7974  0.0852  0.1600   0.1844  0.1262  0.1526   0.1700   \n36   0.7360    0.7974  0.0852  0.1600   0.1844  0.1262  0.1526   0.1700   \n37   0.7360    0.7974  0.0852  0.1600   0.1844  0.1262  0.1526   0.1700   \n38   0.7359    0.8031  0.0624  0.1092   0.1362  0.1093  0.1429   0.1612   \n39   0.7360    0.7974  0.0852  0.1600   0.1844  0.1262  0.1526   0.1700   \n40   0.7360    0.7974  0.0852  0.1600   0.1844  0.1262  0.1526   0.1700   \n41   0.7360    0.7974  0.0852  0.1600   0.1844  0.1262  0.1526   0.1700   \n42   0.7360    0.7974  0.0852  0.1600   0.1844  0.1262  0.1526   0.1700   \n43   0.7360    0.7974  0.0852  0.1600   0.1844  0.1262  0.1526   0.1700   \n44   0.7360    0.7974  0.0852  0.1600   0.1844  0.1262  0.1526   0.1700   \n45   0.7360    0.7974  0.0852  0.1600   0.1844  0.1262  0.1526   0.1700   \n46   0.7360    0.7974  0.0852  0.1600   0.1844  0.1262  0.1526   0.1700   \n47   0.7360    0.7974  0.0852  0.1600   0.1844  0.1262  0.1526   0.1700   \n48   0.7360    0.7974  0.0852  0.1600   0.1844  0.1262  0.1526   0.1700   \n49   0.7360    0.7974  0.0852  0.1600   0.1844  0.1262  0.1526   0.1700   \n50   0.7360    0.7974  0.0852  0.1600   0.1844  0.1262  0.1526   0.1700   \n51   0.7359    0.8031  0.0624  0.1092   0.1362  0.1093  0.1429   0.1612   \n\n    A @ 20  A @ 50 A @ 100  \n0   0.6492  0.6531  0.6531  \n1   0.6492  0.6531  0.6531  \n2   0.6492  0.6531  0.6531  \n3   0.6492  0.6531  0.6531  \n4   0.6492  0.6531  0.6531  \n5   0.6492  0.6531  0.6531  \n6   0.6492  0.6531  0.6531  \n7   0.6492  0.6531  0.6531  \n8   0.6492  0.6531  0.6531  \n9   0.6492  0.6531  0.6531  \n10  0.6492  0.6531  0.6531  \n11  0.6492  0.6531  0.6531  \n12  0.6391  0.6412  0.6412  \n13  0.6492  0.6531  0.6531  \n14  0.6492  0.6531  0.6531  \n15  0.6492  0.6531  0.6531  \n16  0.6492  0.6531  0.6531  \n17  0.6492  0.6531  0.6531  \n18  0.6492  0.6531  0.6531  \n19  0.6492  0.6531  0.6531  \n20  0.6492  0.6531  0.6531  \n21  0.6492  0.6531  0.6531  \n22  0.6492  0.6531  0.6531  \n23  0.6492  0.6531  0.6531  \n24  0.6492  0.6531  0.6531  \n25  0.6391  0.6412  0.6412  \n26  0.6492  0.6531  0.6531  \n27  0.6492  0.6531  0.6531  \n28  0.6492  0.6531  0.6531  \n29  0.6492  0.6531  0.6531  \n30  0.6492  0.6531  0.6531  \n31  0.6492  0.6531  0.6531  \n32  0.6492  0.6531  0.6531  \n33  0.6492  0.6531  0.6531  \n34  0.6492  0.6531  0.6531  \n35  0.6492  0.6531  0.6531  \n36  0.6492  0.6531  0.6531  \n37  0.6492  0.6531  0.6531  \n38  0.6391  0.6412  0.6412  \n39  0.6492  0.6531  0.6531  \n40  0.6492  0.6531  0.6531  \n41  0.6492  0.6531  0.6531  \n42  0.6492  0.6531  0.6531  \n43  0.6492  0.6531  0.6531  \n44  0.6492  0.6531  0.6531  \n45  0.6492  0.6531  0.6531  \n46  0.6492  0.6531  0.6531  \n47  0.6492  0.6531  0.6531  \n48  0.6492  0.6531  0.6531  \n49  0.6492  0.6531  0.6531  \n50  0.6492  0.6531  0.6531  \n51  0.6391  0.6412  0.6412  ",
      "text/html": "<div>\n<style scoped>\n    .dataframe tbody tr th:only-of-type {\n        vertical-align: middle;\n    }\n\n    .dataframe tbody tr th {\n        vertical-align: top;\n    }\n\n    .dataframe thead th {\n        text-align: right;\n    }\n</style>\n<table border=\"1\" class=\"dataframe\">\n  <thead>\n    <tr style=\"text-align: right;\">\n      <th></th>\n      <th>label</th>\n      <th>eval_set</th>\n      <th>iter</th>\n      <th>mAp</th>\n      <th>R @ 20</th>\n      <th>R @ 50</th>\n      <th>R @ 100</th>\n      <th>ngR @ 20</th>\n      <th>ngR @ 50</th>\n      <th>ngR @ 100</th>\n      <th>zR @ 20</th>\n      <th>zR @ 50</th>\n      <th>zR @ 100</th>\n      <th>mR @ 20</th>\n      <th>mR @ 50</th>\n      <th>mR @ 100</th>\n      <th>A @ 20</th>\n      <th>A @ 50</th>\n      <th>A @ 100</th>\n    </tr>\n  </thead>\n  <tbody>\n    <tr>\n      <th>0</th>\n      <td>dist1-TDE</td>\n      <td>validation</td>\n      <td>24000</td>\n      <td>0.9999</td>\n      <td>0.5535</td>\n      <td>0.6057</td>\n      <td>0.6208</td>\n      <td>0.6228</td>\n      <td>0.7360</td>\n      <td>0.7974</td>\n      <td>0.0852</td>\n      <td>0.1600</td>\n      <td>0.1844</td>\n      <td>0.1262</td>\n      <td>0.1526</td>\n      <td>0.1700</td>\n      <td>0.6492</td>\n      <td>0.6531</td>\n      <td>0.6531</td>\n    </tr>\n    <tr>\n      <th>1</th>\n      <td>dist1-TDE</td>\n      <td>validation</td>\n      <td>24000</td>\n      <td>0.9999</td>\n      <td>0.5535</td>\n      <td>0.6057</td>\n      <td>0.6208</td>\n      <td>0.6228</td>\n      <td>0.7360</td>\n      <td>0.7974</td>\n      <td>0.0852</td>\n      <td>0.1600</td>\n      <td>0.1844</td>\n      <td>0.1262</td>\n      <td>0.1526</td>\n      <td>0.1700</td>\n      <td>0.6492</td>\n      <td>0.6531</td>\n      <td>0.6531</td>\n    </tr>\n    <tr>\n      <th>2</th>\n      <td>dist1-TDE</td>\n      <td>validation</td>\n      <td>24000</td>\n      <td>0.9999</td>\n      <td>0.5535</td>\n      <td>0.6057</td>\n      <td>0.6208</td>\n      <td>0.6228</td>\n      <td>0.7360</td>\n      <td>0.7974</td>\n      <td>0.0852</td>\n      <td>0.1600</td>\n      <td>0.1844</td>\n      <td>0.1262</td>\n      <td>0.1526</td>\n      <td>0.1700</td>\n      <td>0.6492</td>\n      <td>0.6531</td>\n      <td>0.6531</td>\n    </tr>\n    <tr>\n      <th>3</th>\n      <td>dist1-TDE</td>\n      <td>validation</td>\n      <td>24000</td>\n      <td>0.9999</td>\n      <td>0.5535</td>\n      <td>0.6057</td>\n      <td>0.6208</td>\n      <td>0.6228</td>\n      <td>0.7360</td>\n      <td>0.7974</td>\n      <td>0.0852</td>\n      <td>0.1600</td>\n      <td>0.1844</td>\n      <td>0.1262</td>\n      <td>0.1526</td>\n      <td>0.1700</td>\n      <td>0.6492</td>\n      <td>0.6531</td>\n      <td>0.6531</td>\n    </tr>\n    <tr>\n      <th>4</th>\n      <td>dist1-TDE</td>\n      <td>validation</td>\n      <td>24000</td>\n      <td>0.9999</td>\n      <td>0.5535</td>\n      <td>0.6057</td>\n      <td>0.6208</td>\n      <td>0.6228</td>\n      <td>0.7360</td>\n      <td>0.7974</td>\n      <td>0.0852</td>\n      <td>0.1600</td>\n      <td>0.1844</td>\n      <td>0.1262</td>\n      <td>0.1526</td>\n      <td>0.1700</td>\n      <td>0.6492</td>\n      <td>0.6531</td>\n      <td>0.6531</td>\n    </tr>\n    <tr>\n      <th>5</th>\n      <td>dist1-TDE</td>\n      <td>validation</td>\n      <td>24000</td>\n      <td>0.9999</td>\n      <td>0.5535</td>\n      <td>0.6057</td>\n      <td>0.6208</td>\n      <td>0.6228</td>\n      <td>0.7360</td>\n      <td>0.7974</td>\n      <td>0.0852</td>\n      <td>0.1600</td>\n      <td>0.1844</td>\n      <td>0.1262</td>\n      <td>0.1526</td>\n      <td>0.1700</td>\n      <td>0.6492</td>\n      <td>0.6531</td>\n      <td>0.6531</td>\n    </tr>\n    <tr>\n      <th>6</th>\n      <td>dist1-TDE</td>\n      <td>validation</td>\n      <td>24000</td>\n      <td>0.9999</td>\n      <td>0.5535</td>\n      <td>0.6057</td>\n      <td>0.6208</td>\n      <td>0.6228</td>\n      <td>0.7360</td>\n      <td>0.7974</td>\n      <td>0.0852</td>\n      <td>0.1600</td>\n      <td>0.1844</td>\n      <td>0.1262</td>\n      <td>0.1526</td>\n      <td>0.1700</td>\n      <td>0.6492</td>\n      <td>0.6531</td>\n      <td>0.6531</td>\n    </tr>\n    <tr>\n      <th>7</th>\n      <td>dist1-TDE</td>\n      <td>validation</td>\n      <td>24000</td>\n      <td>0.9999</td>\n      <td>0.5535</td>\n      <td>0.6057</td>\n      <td>0.6208</td>\n      <td>0.6228</td>\n      <td>0.7360</td>\n      <td>0.7974</td>\n      <td>0.0852</td>\n      <td>0.1600</td>\n      <td>0.1844</td>\n      <td>0.1262</td>\n      <td>0.1526</td>\n      <td>0.1700</td>\n      <td>0.6492</td>\n      <td>0.6531</td>\n      <td>0.6531</td>\n    </tr>\n    <tr>\n      <th>8</th>\n      <td>dist1-TDE</td>\n      <td>validation</td>\n      <td>24000</td>\n      <td>0.9999</td>\n      <td>0.5535</td>\n      <td>0.6057</td>\n      <td>0.6208</td>\n      <td>0.6228</td>\n      <td>0.7360</td>\n      <td>0.7974</td>\n      <td>0.0852</td>\n      <td>0.1600</td>\n      <td>0.1844</td>\n      <td>0.1262</td>\n      <td>0.1526</td>\n      <td>0.1700</td>\n      <td>0.6492</td>\n      <td>0.6531</td>\n      <td>0.6531</td>\n    </tr>\n    <tr>\n      <th>9</th>\n      <td>dist1-TDE</td>\n      <td>validation</td>\n      <td>24000</td>\n      <td>0.9999</td>\n      <td>0.5535</td>\n      <td>0.6057</td>\n      <td>0.6208</td>\n      <td>0.6228</td>\n      <td>0.7360</td>\n      <td>0.7974</td>\n      <td>0.0852</td>\n      <td>0.1600</td>\n      <td>0.1844</td>\n      <td>0.1262</td>\n      <td>0.1526</td>\n      <td>0.1700</td>\n      <td>0.6492</td>\n      <td>0.6531</td>\n      <td>0.6531</td>\n    </tr>\n    <tr>\n      <th>10</th>\n      <td>dist1-TDE</td>\n      <td>validation</td>\n      <td>24000</td>\n      <td>0.9999</td>\n      <td>0.5535</td>\n      <td>0.6057</td>\n      <td>0.6208</td>\n      <td>0.6228</td>\n      <td>0.7360</td>\n      <td>0.7974</td>\n      <td>0.0852</td>\n      <td>0.1600</td>\n      <td>0.1844</td>\n      <td>0.1262</td>\n      <td>0.1526</td>\n      <td>0.1700</td>\n      <td>0.6492</td>\n      <td>0.6531</td>\n      <td>0.6531</td>\n    </tr>\n    <tr>\n      <th>11</th>\n      <td>dist1-TDE</td>\n      <td>validation</td>\n      <td>24000</td>\n      <td>0.9999</td>\n      <td>0.5535</td>\n      <td>0.6057</td>\n      <td>0.6208</td>\n      <td>0.6228</td>\n      <td>0.7360</td>\n      <td>0.7974</td>\n      <td>0.0852</td>\n      <td>0.1600</td>\n      <td>0.1844</td>\n      <td>0.1262</td>\n      <td>0.1526</td>\n      <td>0.1700</td>\n      <td>0.6492</td>\n      <td>0.6531</td>\n      <td>0.6531</td>\n    </tr>\n    <tr>\n      <th>12</th>\n      <td>dist1-TDE</td>\n      <td>test</td>\n      <td>24000</td>\n      <td>0.9995</td>\n      <td>0.5354</td>\n      <td>0.6005</td>\n      <td>0.6206</td>\n      <td>0.6042</td>\n      <td>0.7359</td>\n      <td>0.8031</td>\n      <td>0.0624</td>\n      <td>0.1092</td>\n      <td>0.1362</td>\n      <td>0.1093</td>\n      <td>0.1429</td>\n      <td>0.1612</td>\n      <td>0.6391</td>\n      <td>0.6412</td>\n      <td>0.6412</td>\n    </tr>\n    <tr>\n      <th>13</th>\n      <td>dist2-TDE</td>\n      <td>validation</td>\n      <td>24000</td>\n      <td>0.9999</td>\n      <td>0.5535</td>\n      <td>0.6057</td>\n      <td>0.6208</td>\n      <td>0.6228</td>\n      <td>0.7360</td>\n      <td>0.7974</td>\n      <td>0.0852</td>\n      <td>0.1600</td>\n      <td>0.1844</td>\n      <td>0.1262</td>\n      <td>0.1526</td>\n      <td>0.1700</td>\n      <td>0.6492</td>\n      <td>0.6531</td>\n      <td>0.6531</td>\n    </tr>\n    <tr>\n      <th>14</th>\n      <td>dist2-TDE</td>\n      <td>validation</td>\n      <td>24000</td>\n      <td>0.9999</td>\n      <td>0.5535</td>\n      <td>0.6057</td>\n      <td>0.6208</td>\n      <td>0.6228</td>\n      <td>0.7360</td>\n      <td>0.7974</td>\n      <td>0.0852</td>\n      <td>0.1600</td>\n      <td>0.1844</td>\n      <td>0.1262</td>\n      <td>0.1526</td>\n      <td>0.1700</td>\n      <td>0.6492</td>\n      <td>0.6531</td>\n      <td>0.6531</td>\n    </tr>\n    <tr>\n      <th>15</th>\n      <td>dist2-TDE</td>\n      <td>validation</td>\n      <td>24000</td>\n      <td>0.9999</td>\n      <td>0.5535</td>\n      <td>0.6057</td>\n      <td>0.6208</td>\n      <td>0.6228</td>\n      <td>0.7360</td>\n      <td>0.7974</td>\n      <td>0.0852</td>\n      <td>0.1600</td>\n      <td>0.1844</td>\n      <td>0.1262</td>\n      <td>0.1526</td>\n      <td>0.1700</td>\n      <td>0.6492</td>\n      <td>0.6531</td>\n      <td>0.6531</td>\n    </tr>\n    <tr>\n      <th>16</th>\n      <td>dist2-TDE</td>\n      <td>validation</td>\n      <td>24000</td>\n      <td>0.9999</td>\n      <td>0.5535</td>\n      <td>0.6057</td>\n      <td>0.6208</td>\n      <td>0.6228</td>\n      <td>0.7360</td>\n      <td>0.7974</td>\n      <td>0.0852</td>\n      <td>0.1600</td>\n      <td>0.1844</td>\n      <td>0.1262</td>\n      <td>0.1526</td>\n      <td>0.1700</td>\n      <td>0.6492</td>\n      <td>0.6531</td>\n      <td>0.6531</td>\n    </tr>\n    <tr>\n      <th>17</th>\n      <td>dist2-TDE</td>\n      <td>validation</td>\n      <td>24000</td>\n      <td>0.9999</td>\n      <td>0.5535</td>\n      <td>0.6057</td>\n      <td>0.6208</td>\n      <td>0.6228</td>\n      <td>0.7360</td>\n      <td>0.7974</td>\n      <td>0.0852</td>\n      <td>0.1600</td>\n      <td>0.1844</td>\n      <td>0.1262</td>\n      <td>0.1526</td>\n      <td>0.1700</td>\n      <td>0.6492</td>\n      <td>0.6531</td>\n      <td>0.6531</td>\n    </tr>\n    <tr>\n      <th>18</th>\n      <td>dist2-TDE</td>\n      <td>validation</td>\n      <td>24000</td>\n      <td>0.9999</td>\n      <td>0.5535</td>\n      <td>0.6057</td>\n      <td>0.6208</td>\n      <td>0.6228</td>\n      <td>0.7360</td>\n      <td>0.7974</td>\n      <td>0.0852</td>\n      <td>0.1600</td>\n      <td>0.1844</td>\n      <td>0.1262</td>\n      <td>0.1526</td>\n      <td>0.1700</td>\n      <td>0.6492</td>\n      <td>0.6531</td>\n      <td>0.6531</td>\n    </tr>\n    <tr>\n      <th>19</th>\n      <td>dist2-TDE</td>\n      <td>validation</td>\n      <td>24000</td>\n      <td>0.9999</td>\n      <td>0.5535</td>\n      <td>0.6057</td>\n      <td>0.6208</td>\n      <td>0.6228</td>\n      <td>0.7360</td>\n      <td>0.7974</td>\n      <td>0.0852</td>\n      <td>0.1600</td>\n      <td>0.1844</td>\n      <td>0.1262</td>\n      <td>0.1526</td>\n      <td>0.1700</td>\n      <td>0.6492</td>\n      <td>0.6531</td>\n      <td>0.6531</td>\n    </tr>\n    <tr>\n      <th>20</th>\n      <td>dist2-TDE</td>\n      <td>validation</td>\n      <td>24000</td>\n      <td>0.9999</td>\n      <td>0.5535</td>\n      <td>0.6057</td>\n      <td>0.6208</td>\n      <td>0.6228</td>\n      <td>0.7360</td>\n      <td>0.7974</td>\n      <td>0.0852</td>\n      <td>0.1600</td>\n      <td>0.1844</td>\n      <td>0.1262</td>\n      <td>0.1526</td>\n      <td>0.1700</td>\n      <td>0.6492</td>\n      <td>0.6531</td>\n      <td>0.6531</td>\n    </tr>\n    <tr>\n      <th>21</th>\n      <td>dist2-TDE</td>\n      <td>validation</td>\n      <td>24000</td>\n      <td>0.9999</td>\n      <td>0.5535</td>\n      <td>0.6057</td>\n      <td>0.6208</td>\n      <td>0.6228</td>\n      <td>0.7360</td>\n      <td>0.7974</td>\n      <td>0.0852</td>\n      <td>0.1600</td>\n      <td>0.1844</td>\n      <td>0.1262</td>\n      <td>0.1526</td>\n      <td>0.1700</td>\n      <td>0.6492</td>\n      <td>0.6531</td>\n      <td>0.6531</td>\n    </tr>\n    <tr>\n      <th>22</th>\n      <td>dist2-TDE</td>\n      <td>validation</td>\n      <td>24000</td>\n      <td>0.9999</td>\n      <td>0.5535</td>\n      <td>0.6057</td>\n      <td>0.6208</td>\n      <td>0.6228</td>\n      <td>0.7360</td>\n      <td>0.7974</td>\n      <td>0.0852</td>\n      <td>0.1600</td>\n      <td>0.1844</td>\n      <td>0.1262</td>\n      <td>0.1526</td>\n      <td>0.1700</td>\n      <td>0.6492</td>\n      <td>0.6531</td>\n      <td>0.6531</td>\n    </tr>\n    <tr>\n      <th>23</th>\n      <td>dist2-TDE</td>\n      <td>validation</td>\n      <td>24000</td>\n      <td>0.9999</td>\n      <td>0.5535</td>\n      <td>0.6057</td>\n      <td>0.6208</td>\n      <td>0.6228</td>\n      <td>0.7360</td>\n      <td>0.7974</td>\n      <td>0.0852</td>\n      <td>0.1600</td>\n      <td>0.1844</td>\n      <td>0.1262</td>\n      <td>0.1526</td>\n      <td>0.1700</td>\n      <td>0.6492</td>\n      <td>0.6531</td>\n      <td>0.6531</td>\n    </tr>\n    <tr>\n      <th>24</th>\n      <td>dist2-TDE</td>\n      <td>validation</td>\n      <td>24000</td>\n      <td>0.9999</td>\n      <td>0.5535</td>\n      <td>0.6057</td>\n      <td>0.6208</td>\n      <td>0.6228</td>\n      <td>0.7360</td>\n      <td>0.7974</td>\n      <td>0.0852</td>\n      <td>0.1600</td>\n      <td>0.1844</td>\n      <td>0.1262</td>\n      <td>0.1526</td>\n      <td>0.1700</td>\n      <td>0.6492</td>\n      <td>0.6531</td>\n      <td>0.6531</td>\n    </tr>\n    <tr>\n      <th>25</th>\n      <td>dist2-TDE</td>\n      <td>test</td>\n      <td>24000</td>\n      <td>0.9995</td>\n      <td>0.5354</td>\n      <td>0.6005</td>\n      <td>0.6206</td>\n      <td>0.6042</td>\n      <td>0.7359</td>\n      <td>0.8031</td>\n      <td>0.0624</td>\n      <td>0.1092</td>\n      <td>0.1362</td>\n      <td>0.1093</td>\n      <td>0.1429</td>\n      <td>0.1612</td>\n      <td>0.6391</td>\n      <td>0.6412</td>\n      <td>0.6412</td>\n    </tr>\n    <tr>\n      <th>26</th>\n      <td>gate-TDE</td>\n      <td>validation</td>\n      <td>24000</td>\n      <td>0.9999</td>\n      <td>0.5535</td>\n      <td>0.6057</td>\n      <td>0.6208</td>\n      <td>0.6228</td>\n      <td>0.7360</td>\n      <td>0.7974</td>\n      <td>0.0852</td>\n      <td>0.1600</td>\n      <td>0.1844</td>\n      <td>0.1262</td>\n      <td>0.1526</td>\n      <td>0.1700</td>\n      <td>0.6492</td>\n      <td>0.6531</td>\n      <td>0.6531</td>\n    </tr>\n    <tr>\n      <th>27</th>\n      <td>gate-TDE</td>\n      <td>validation</td>\n      <td>24000</td>\n      <td>0.9999</td>\n      <td>0.5535</td>\n      <td>0.6057</td>\n      <td>0.6208</td>\n      <td>0.6228</td>\n      <td>0.7360</td>\n      <td>0.7974</td>\n      <td>0.0852</td>\n      <td>0.1600</td>\n      <td>0.1844</td>\n      <td>0.1262</td>\n      <td>0.1526</td>\n      <td>0.1700</td>\n      <td>0.6492</td>\n      <td>0.6531</td>\n      <td>0.6531</td>\n    </tr>\n    <tr>\n      <th>28</th>\n      <td>gate-TDE</td>\n      <td>validation</td>\n      <td>24000</td>\n      <td>0.9999</td>\n      <td>0.5535</td>\n      <td>0.6057</td>\n      <td>0.6208</td>\n      <td>0.6228</td>\n      <td>0.7360</td>\n      <td>0.7974</td>\n      <td>0.0852</td>\n      <td>0.1600</td>\n      <td>0.1844</td>\n      <td>0.1262</td>\n      <td>0.1526</td>\n      <td>0.1700</td>\n      <td>0.6492</td>\n      <td>0.6531</td>\n      <td>0.6531</td>\n    </tr>\n    <tr>\n      <th>29</th>\n      <td>gate-TDE</td>\n      <td>validation</td>\n      <td>24000</td>\n      <td>0.9999</td>\n      <td>0.5535</td>\n      <td>0.6057</td>\n      <td>0.6208</td>\n      <td>0.6228</td>\n      <td>0.7360</td>\n      <td>0.7974</td>\n      <td>0.0852</td>\n      <td>0.1600</td>\n      <td>0.1844</td>\n      <td>0.1262</td>\n      <td>0.1526</td>\n      <td>0.1700</td>\n      <td>0.6492</td>\n      <td>0.6531</td>\n      <td>0.6531</td>\n    </tr>\n    <tr>\n      <th>30</th>\n      <td>gate-TDE</td>\n      <td>validation</td>\n      <td>24000</td>\n      <td>0.9999</td>\n      <td>0.5535</td>\n      <td>0.6057</td>\n      <td>0.6208</td>\n      <td>0.6228</td>\n      <td>0.7360</td>\n      <td>0.7974</td>\n      <td>0.0852</td>\n      <td>0.1600</td>\n      <td>0.1844</td>\n      <td>0.1262</td>\n      <td>0.1526</td>\n      <td>0.1700</td>\n      <td>0.6492</td>\n      <td>0.6531</td>\n      <td>0.6531</td>\n    </tr>\n    <tr>\n      <th>31</th>\n      <td>gate-TDE</td>\n      <td>validation</td>\n      <td>24000</td>\n      <td>0.9999</td>\n      <td>0.5535</td>\n      <td>0.6057</td>\n      <td>0.6208</td>\n      <td>0.6228</td>\n      <td>0.7360</td>\n      <td>0.7974</td>\n      <td>0.0852</td>\n      <td>0.1600</td>\n      <td>0.1844</td>\n      <td>0.1262</td>\n      <td>0.1526</td>\n      <td>0.1700</td>\n      <td>0.6492</td>\n      <td>0.6531</td>\n      <td>0.6531</td>\n    </tr>\n    <tr>\n      <th>32</th>\n      <td>gate-TDE</td>\n      <td>validation</td>\n      <td>24000</td>\n      <td>0.9999</td>\n      <td>0.5535</td>\n      <td>0.6057</td>\n      <td>0.6208</td>\n      <td>0.6228</td>\n      <td>0.7360</td>\n      <td>0.7974</td>\n      <td>0.0852</td>\n      <td>0.1600</td>\n      <td>0.1844</td>\n      <td>0.1262</td>\n      <td>0.1526</td>\n      <td>0.1700</td>\n      <td>0.6492</td>\n      <td>0.6531</td>\n      <td>0.6531</td>\n    </tr>\n    <tr>\n      <th>33</th>\n      <td>gate-TDE</td>\n      <td>validation</td>\n      <td>24000</td>\n      <td>0.9999</td>\n      <td>0.5535</td>\n      <td>0.6057</td>\n      <td>0.6208</td>\n      <td>0.6228</td>\n      <td>0.7360</td>\n      <td>0.7974</td>\n      <td>0.0852</td>\n      <td>0.1600</td>\n      <td>0.1844</td>\n      <td>0.1262</td>\n      <td>0.1526</td>\n      <td>0.1700</td>\n      <td>0.6492</td>\n      <td>0.6531</td>\n      <td>0.6531</td>\n    </tr>\n    <tr>\n      <th>34</th>\n      <td>gate-TDE</td>\n      <td>validation</td>\n      <td>24000</td>\n      <td>0.9999</td>\n      <td>0.5535</td>\n      <td>0.6057</td>\n      <td>0.6208</td>\n      <td>0.6228</td>\n      <td>0.7360</td>\n      <td>0.7974</td>\n      <td>0.0852</td>\n      <td>0.1600</td>\n      <td>0.1844</td>\n      <td>0.1262</td>\n      <td>0.1526</td>\n      <td>0.1700</td>\n      <td>0.6492</td>\n      <td>0.6531</td>\n      <td>0.6531</td>\n    </tr>\n    <tr>\n      <th>35</th>\n      <td>gate-TDE</td>\n      <td>validation</td>\n      <td>24000</td>\n      <td>0.9999</td>\n      <td>0.5535</td>\n      <td>0.6057</td>\n      <td>0.6208</td>\n      <td>0.6228</td>\n      <td>0.7360</td>\n      <td>0.7974</td>\n      <td>0.0852</td>\n      <td>0.1600</td>\n      <td>0.1844</td>\n      <td>0.1262</td>\n      <td>0.1526</td>\n      <td>0.1700</td>\n      <td>0.6492</td>\n      <td>0.6531</td>\n      <td>0.6531</td>\n    </tr>\n    <tr>\n      <th>36</th>\n      <td>gate-TDE</td>\n      <td>validation</td>\n      <td>24000</td>\n      <td>0.9999</td>\n      <td>0.5535</td>\n      <td>0.6057</td>\n      <td>0.6208</td>\n      <td>0.6228</td>\n      <td>0.7360</td>\n      <td>0.7974</td>\n      <td>0.0852</td>\n      <td>0.1600</td>\n      <td>0.1844</td>\n      <td>0.1262</td>\n      <td>0.1526</td>\n      <td>0.1700</td>\n      <td>0.6492</td>\n      <td>0.6531</td>\n      <td>0.6531</td>\n    </tr>\n    <tr>\n      <th>37</th>\n      <td>gate-TDE</td>\n      <td>validation</td>\n      <td>24000</td>\n      <td>0.9999</td>\n      <td>0.5535</td>\n      <td>0.6057</td>\n      <td>0.6208</td>\n      <td>0.6228</td>\n      <td>0.7360</td>\n      <td>0.7974</td>\n      <td>0.0852</td>\n      <td>0.1600</td>\n      <td>0.1844</td>\n      <td>0.1262</td>\n      <td>0.1526</td>\n      <td>0.1700</td>\n      <td>0.6492</td>\n      <td>0.6531</td>\n      <td>0.6531</td>\n    </tr>\n    <tr>\n      <th>38</th>\n      <td>gate-TDE</td>\n      <td>test</td>\n      <td>24000</td>\n      <td>0.9995</td>\n      <td>0.5354</td>\n      <td>0.6005</td>\n      <td>0.6206</td>\n      <td>0.6042</td>\n      <td>0.7359</td>\n      <td>0.8031</td>\n      <td>0.0624</td>\n      <td>0.1092</td>\n      <td>0.1362</td>\n      <td>0.1093</td>\n      <td>0.1429</td>\n      <td>0.1612</td>\n      <td>0.6391</td>\n      <td>0.6412</td>\n      <td>0.6412</td>\n    </tr>\n    <tr>\n      <th>39</th>\n      <td>sum-TDE</td>\n      <td>validation</td>\n      <td>24000</td>\n      <td>0.9999</td>\n      <td>0.5535</td>\n      <td>0.6057</td>\n      <td>0.6208</td>\n      <td>0.6228</td>\n      <td>0.7360</td>\n      <td>0.7974</td>\n      <td>0.0852</td>\n      <td>0.1600</td>\n      <td>0.1844</td>\n      <td>0.1262</td>\n      <td>0.1526</td>\n      <td>0.1700</td>\n      <td>0.6492</td>\n      <td>0.6531</td>\n      <td>0.6531</td>\n    </tr>\n    <tr>\n      <th>40</th>\n      <td>sum-TDE</td>\n      <td>validation</td>\n      <td>24000</td>\n      <td>0.9999</td>\n      <td>0.5535</td>\n      <td>0.6057</td>\n      <td>0.6208</td>\n      <td>0.6228</td>\n      <td>0.7360</td>\n      <td>0.7974</td>\n      <td>0.0852</td>\n      <td>0.1600</td>\n      <td>0.1844</td>\n      <td>0.1262</td>\n      <td>0.1526</td>\n      <td>0.1700</td>\n      <td>0.6492</td>\n      <td>0.6531</td>\n      <td>0.6531</td>\n    </tr>\n    <tr>\n      <th>41</th>\n      <td>sum-TDE</td>\n      <td>validation</td>\n      <td>24000</td>\n      <td>0.9999</td>\n      <td>0.5535</td>\n      <td>0.6057</td>\n      <td>0.6208</td>\n      <td>0.6228</td>\n      <td>0.7360</td>\n      <td>0.7974</td>\n      <td>0.0852</td>\n      <td>0.1600</td>\n      <td>0.1844</td>\n      <td>0.1262</td>\n      <td>0.1526</td>\n      <td>0.1700</td>\n      <td>0.6492</td>\n      <td>0.6531</td>\n      <td>0.6531</td>\n    </tr>\n    <tr>\n      <th>42</th>\n      <td>sum-TDE</td>\n      <td>validation</td>\n      <td>24000</td>\n      <td>0.9999</td>\n      <td>0.5535</td>\n      <td>0.6057</td>\n      <td>0.6208</td>\n      <td>0.6228</td>\n      <td>0.7360</td>\n      <td>0.7974</td>\n      <td>0.0852</td>\n      <td>0.1600</td>\n      <td>0.1844</td>\n      <td>0.1262</td>\n      <td>0.1526</td>\n      <td>0.1700</td>\n      <td>0.6492</td>\n      <td>0.6531</td>\n      <td>0.6531</td>\n    </tr>\n    <tr>\n      <th>43</th>\n      <td>sum-TDE</td>\n      <td>validation</td>\n      <td>24000</td>\n      <td>0.9999</td>\n      <td>0.5535</td>\n      <td>0.6057</td>\n      <td>0.6208</td>\n      <td>0.6228</td>\n      <td>0.7360</td>\n      <td>0.7974</td>\n      <td>0.0852</td>\n      <td>0.1600</td>\n      <td>0.1844</td>\n      <td>0.1262</td>\n      <td>0.1526</td>\n      <td>0.1700</td>\n      <td>0.6492</td>\n      <td>0.6531</td>\n      <td>0.6531</td>\n    </tr>\n    <tr>\n      <th>44</th>\n      <td>sum-TDE</td>\n      <td>validation</td>\n      <td>24000</td>\n      <td>0.9999</td>\n      <td>0.5535</td>\n      <td>0.6057</td>\n      <td>0.6208</td>\n      <td>0.6228</td>\n      <td>0.7360</td>\n      <td>0.7974</td>\n      <td>0.0852</td>\n      <td>0.1600</td>\n      <td>0.1844</td>\n      <td>0.1262</td>\n      <td>0.1526</td>\n      <td>0.1700</td>\n      <td>0.6492</td>\n      <td>0.6531</td>\n      <td>0.6531</td>\n    </tr>\n    <tr>\n      <th>45</th>\n      <td>sum-TDE</td>\n      <td>validation</td>\n      <td>24000</td>\n      <td>0.9999</td>\n      <td>0.5535</td>\n      <td>0.6057</td>\n      <td>0.6208</td>\n      <td>0.6228</td>\n      <td>0.7360</td>\n      <td>0.7974</td>\n      <td>0.0852</td>\n      <td>0.1600</td>\n      <td>0.1844</td>\n      <td>0.1262</td>\n      <td>0.1526</td>\n      <td>0.1700</td>\n      <td>0.6492</td>\n      <td>0.6531</td>\n      <td>0.6531</td>\n    </tr>\n    <tr>\n      <th>46</th>\n      <td>sum-TDE</td>\n      <td>validation</td>\n      <td>24000</td>\n      <td>0.9999</td>\n      <td>0.5535</td>\n      <td>0.6057</td>\n      <td>0.6208</td>\n      <td>0.6228</td>\n      <td>0.7360</td>\n      <td>0.7974</td>\n      <td>0.0852</td>\n      <td>0.1600</td>\n      <td>0.1844</td>\n      <td>0.1262</td>\n      <td>0.1526</td>\n      <td>0.1700</td>\n      <td>0.6492</td>\n      <td>0.6531</td>\n      <td>0.6531</td>\n    </tr>\n    <tr>\n      <th>47</th>\n      <td>sum-TDE</td>\n      <td>validation</td>\n      <td>24000</td>\n      <td>0.9999</td>\n      <td>0.5535</td>\n      <td>0.6057</td>\n      <td>0.6208</td>\n      <td>0.6228</td>\n      <td>0.7360</td>\n      <td>0.7974</td>\n      <td>0.0852</td>\n      <td>0.1600</td>\n      <td>0.1844</td>\n      <td>0.1262</td>\n      <td>0.1526</td>\n      <td>0.1700</td>\n      <td>0.6492</td>\n      <td>0.6531</td>\n      <td>0.6531</td>\n    </tr>\n    <tr>\n      <th>48</th>\n      <td>sum-TDE</td>\n      <td>validation</td>\n      <td>24000</td>\n      <td>0.9999</td>\n      <td>0.5535</td>\n      <td>0.6057</td>\n      <td>0.6208</td>\n      <td>0.6228</td>\n      <td>0.7360</td>\n      <td>0.7974</td>\n      <td>0.0852</td>\n      <td>0.1600</td>\n      <td>0.1844</td>\n      <td>0.1262</td>\n      <td>0.1526</td>\n      <td>0.1700</td>\n      <td>0.6492</td>\n      <td>0.6531</td>\n      <td>0.6531</td>\n    </tr>\n    <tr>\n      <th>49</th>\n      <td>sum-TDE</td>\n      <td>validation</td>\n      <td>24000</td>\n      <td>0.9999</td>\n      <td>0.5535</td>\n      <td>0.6057</td>\n      <td>0.6208</td>\n      <td>0.6228</td>\n      <td>0.7360</td>\n      <td>0.7974</td>\n      <td>0.0852</td>\n      <td>0.1600</td>\n      <td>0.1844</td>\n      <td>0.1262</td>\n      <td>0.1526</td>\n      <td>0.1700</td>\n      <td>0.6492</td>\n      <td>0.6531</td>\n      <td>0.6531</td>\n    </tr>\n    <tr>\n      <th>50</th>\n      <td>sum-TDE</td>\n      <td>validation</td>\n      <td>24000</td>\n      <td>0.9999</td>\n      <td>0.5535</td>\n      <td>0.6057</td>\n      <td>0.6208</td>\n      <td>0.6228</td>\n      <td>0.7360</td>\n      <td>0.7974</td>\n      <td>0.0852</td>\n      <td>0.1600</td>\n      <td>0.1844</td>\n      <td>0.1262</td>\n      <td>0.1526</td>\n      <td>0.1700</td>\n      <td>0.6492</td>\n      <td>0.6531</td>\n      <td>0.6531</td>\n    </tr>\n    <tr>\n      <th>51</th>\n      <td>sum-TDE</td>\n      <td>test</td>\n      <td>24000</td>\n      <td>0.9995</td>\n      <td>0.5354</td>\n      <td>0.6005</td>\n      <td>0.6206</td>\n      <td>0.6042</td>\n      <td>0.7359</td>\n      <td>0.8031</td>\n      <td>0.0624</td>\n      <td>0.1092</td>\n      <td>0.1362</td>\n      <td>0.1093</td>\n      <td>0.1429</td>\n      <td>0.1612</td>\n      <td>0.6391</td>\n      <td>0.6412</td>\n      <td>0.6412</td>\n    </tr>\n  </tbody>\n</table>\n</div>"
     },
     "metadata": {},
     "execution_count": 30
    }
   ],
   "source": [
    "arr = []\n",
    "for label,log_files in log_files:\n",
    "    #log_files = r'C:\\Inn\\Github\\SGG\\checkpoint\\precls-CausalAnalysisPredictor-motifs-dist2-TDE\\log.txt'\n",
    "    f = open(logfile,mode='r') \n",
    "    Tx = f.read()\n",
    "    f.close()\n",
    "\n",
    "    arr += log_to_array(Tx, label=label)\n",
    "\n",
    "df = pd.DataFrame(data=arr)#, columns=keys\n",
    "df"
   ]
  },
  {
   "cell_type": "code",
   "execution_count": 41,
   "metadata": {},
   "outputs": [
    {
     "output_type": "execute_result",
     "data": {
      "text/plain": "        label eval_set   iter     mAp  R @ 20  R @ 50 R @ 100 ngR @ 20  \\\n12  dist1-TDE     test  24000  0.9995  0.5354  0.6005  0.6206   0.6042   \n25  dist2-TDE     test  24000  0.9995  0.5354  0.6005  0.6206   0.6042   \n38   gate-TDE     test  24000  0.9995  0.5354  0.6005  0.6206   0.6042   \n51    sum-TDE     test  24000  0.9995  0.5354  0.6005  0.6206   0.6042   \n\n   ngR @ 50 ngR @ 100 zR @ 20 zR @ 50 zR @ 100 mR @ 20 mR @ 50 mR @ 100  \\\n12   0.7359    0.8031  0.0624  0.1092   0.1362  0.1093  0.1429   0.1612   \n25   0.7359    0.8031  0.0624  0.1092   0.1362  0.1093  0.1429   0.1612   \n38   0.7359    0.8031  0.0624  0.1092   0.1362  0.1093  0.1429   0.1612   \n51   0.7359    0.8031  0.0624  0.1092   0.1362  0.1093  0.1429   0.1612   \n\n    A @ 20  A @ 50 A @ 100  \n12  0.6391  0.6412  0.6412  \n25  0.6391  0.6412  0.6412  \n38  0.6391  0.6412  0.6412  \n51  0.6391  0.6412  0.6412  ",
      "text/html": "<div>\n<style scoped>\n    .dataframe tbody tr th:only-of-type {\n        vertical-align: middle;\n    }\n\n    .dataframe tbody tr th {\n        vertical-align: top;\n    }\n\n    .dataframe thead th {\n        text-align: right;\n    }\n</style>\n<table border=\"1\" class=\"dataframe\">\n  <thead>\n    <tr style=\"text-align: right;\">\n      <th></th>\n      <th>label</th>\n      <th>eval_set</th>\n      <th>iter</th>\n      <th>mAp</th>\n      <th>R @ 20</th>\n      <th>R @ 50</th>\n      <th>R @ 100</th>\n      <th>ngR @ 20</th>\n      <th>ngR @ 50</th>\n      <th>ngR @ 100</th>\n      <th>zR @ 20</th>\n      <th>zR @ 50</th>\n      <th>zR @ 100</th>\n      <th>mR @ 20</th>\n      <th>mR @ 50</th>\n      <th>mR @ 100</th>\n      <th>A @ 20</th>\n      <th>A @ 50</th>\n      <th>A @ 100</th>\n    </tr>\n  </thead>\n  <tbody>\n    <tr>\n      <th>12</th>\n      <td>dist1-TDE</td>\n      <td>test</td>\n      <td>24000</td>\n      <td>0.9995</td>\n      <td>0.5354</td>\n      <td>0.6005</td>\n      <td>0.6206</td>\n      <td>0.6042</td>\n      <td>0.7359</td>\n      <td>0.8031</td>\n      <td>0.0624</td>\n      <td>0.1092</td>\n      <td>0.1362</td>\n      <td>0.1093</td>\n      <td>0.1429</td>\n      <td>0.1612</td>\n      <td>0.6391</td>\n      <td>0.6412</td>\n      <td>0.6412</td>\n    </tr>\n    <tr>\n      <th>25</th>\n      <td>dist2-TDE</td>\n      <td>test</td>\n      <td>24000</td>\n      <td>0.9995</td>\n      <td>0.5354</td>\n      <td>0.6005</td>\n      <td>0.6206</td>\n      <td>0.6042</td>\n      <td>0.7359</td>\n      <td>0.8031</td>\n      <td>0.0624</td>\n      <td>0.1092</td>\n      <td>0.1362</td>\n      <td>0.1093</td>\n      <td>0.1429</td>\n      <td>0.1612</td>\n      <td>0.6391</td>\n      <td>0.6412</td>\n      <td>0.6412</td>\n    </tr>\n    <tr>\n      <th>38</th>\n      <td>gate-TDE</td>\n      <td>test</td>\n      <td>24000</td>\n      <td>0.9995</td>\n      <td>0.5354</td>\n      <td>0.6005</td>\n      <td>0.6206</td>\n      <td>0.6042</td>\n      <td>0.7359</td>\n      <td>0.8031</td>\n      <td>0.0624</td>\n      <td>0.1092</td>\n      <td>0.1362</td>\n      <td>0.1093</td>\n      <td>0.1429</td>\n      <td>0.1612</td>\n      <td>0.6391</td>\n      <td>0.6412</td>\n      <td>0.6412</td>\n    </tr>\n    <tr>\n      <th>51</th>\n      <td>sum-TDE</td>\n      <td>test</td>\n      <td>24000</td>\n      <td>0.9995</td>\n      <td>0.5354</td>\n      <td>0.6005</td>\n      <td>0.6206</td>\n      <td>0.6042</td>\n      <td>0.7359</td>\n      <td>0.8031</td>\n      <td>0.0624</td>\n      <td>0.1092</td>\n      <td>0.1362</td>\n      <td>0.1093</td>\n      <td>0.1429</td>\n      <td>0.1612</td>\n      <td>0.6391</td>\n      <td>0.6412</td>\n      <td>0.6412</td>\n    </tr>\n  </tbody>\n</table>\n</div>"
     },
     "metadata": {},
     "execution_count": 41
    }
   ],
   "source": [
    "_df = df[ df['eval_set'] == \"test\" ]\n",
    "#_df= _df.set_index('label')\n",
    "#_df=_df.T\n",
    "_df"
   ]
  },
  {
   "cell_type": "code",
   "execution_count": 44,
   "metadata": {},
   "outputs": [
    {
     "output_type": "display_data",
     "data": {
      "application/vnd.plotly.v1+json": {
       "config": {
        "linkText": "Export to plot.ly",
        "plotlyServerURL": "https://plot.ly",
        "showLink": true
       },
       "data": [
        {
         "marker": {
          "color": "rgba(255, 153, 51, 0.8)",
          "line": {
           "color": "rgba(255, 153, 51, 1.0)",
           "width": 1
          }
         },
         "name": "eval_set",
         "orientation": "v",
         "text": "",
         "type": "bar",
         "x": [
          "dist1-TDE",
          "dist2-TDE",
          "gate-TDE",
          "sum-TDE"
         ],
         "y": [
          "test",
          "test",
          "test",
          "test"
         ]
        },
        {
         "marker": {
          "color": "rgba(55, 128, 191, 0.8)",
          "line": {
           "color": "rgba(55, 128, 191, 1.0)",
           "width": 1
          }
         },
         "name": "iter",
         "orientation": "v",
         "text": "",
         "type": "bar",
         "x": [
          "dist1-TDE",
          "dist2-TDE",
          "gate-TDE",
          "sum-TDE"
         ],
         "y": [
          "24000",
          "24000",
          "24000",
          "24000"
         ]
        },
        {
         "marker": {
          "color": "rgba(50, 171, 96, 0.8)",
          "line": {
           "color": "rgba(50, 171, 96, 1.0)",
           "width": 1
          }
         },
         "name": "mAp",
         "orientation": "v",
         "text": "",
         "type": "bar",
         "x": [
          "dist1-TDE",
          "dist2-TDE",
          "gate-TDE",
          "sum-TDE"
         ],
         "y": [
          "0.9995",
          "0.9995",
          "0.9995",
          "0.9995"
         ]
        },
        {
         "marker": {
          "color": "rgba(128, 0, 128, 0.8)",
          "line": {
           "color": "rgba(128, 0, 128, 1.0)",
           "width": 1
          }
         },
         "name": "R @ 20",
         "orientation": "v",
         "text": "",
         "type": "bar",
         "x": [
          "dist1-TDE",
          "dist2-TDE",
          "gate-TDE",
          "sum-TDE"
         ],
         "y": [
          "0.5354",
          "0.5354",
          "0.5354",
          "0.5354"
         ]
        },
        {
         "marker": {
          "color": "rgba(219, 64, 82, 0.8)",
          "line": {
           "color": "rgba(219, 64, 82, 1.0)",
           "width": 1
          }
         },
         "name": "R @ 50",
         "orientation": "v",
         "text": "",
         "type": "bar",
         "x": [
          "dist1-TDE",
          "dist2-TDE",
          "gate-TDE",
          "sum-TDE"
         ],
         "y": [
          "0.6005",
          "0.6005",
          "0.6005",
          "0.6005"
         ]
        },
        {
         "marker": {
          "color": "rgba(0, 128, 128, 0.8)",
          "line": {
           "color": "rgba(0, 128, 128, 1.0)",
           "width": 1
          }
         },
         "name": "R @ 100",
         "orientation": "v",
         "text": "",
         "type": "bar",
         "x": [
          "dist1-TDE",
          "dist2-TDE",
          "gate-TDE",
          "sum-TDE"
         ],
         "y": [
          "0.6206",
          "0.6206",
          "0.6206",
          "0.6206"
         ]
        },
        {
         "marker": {
          "color": "rgba(255, 255, 51, 0.8)",
          "line": {
           "color": "rgba(255, 255, 51, 1.0)",
           "width": 1
          }
         },
         "name": "ngR @ 20",
         "orientation": "v",
         "text": "",
         "type": "bar",
         "x": [
          "dist1-TDE",
          "dist2-TDE",
          "gate-TDE",
          "sum-TDE"
         ],
         "y": [
          "0.6042",
          "0.6042",
          "0.6042",
          "0.6042"
         ]
        },
        {
         "marker": {
          "color": "rgba(128, 128, 0, 0.8)",
          "line": {
           "color": "rgba(128, 128, 0, 1.0)",
           "width": 1
          }
         },
         "name": "ngR @ 50",
         "orientation": "v",
         "text": "",
         "type": "bar",
         "x": [
          "dist1-TDE",
          "dist2-TDE",
          "gate-TDE",
          "sum-TDE"
         ],
         "y": [
          "0.7359",
          "0.7359",
          "0.7359",
          "0.7359"
         ]
        },
        {
         "marker": {
          "color": "rgba(251, 128, 114, 0.8)",
          "line": {
           "color": "rgba(251, 128, 114, 1.0)",
           "width": 1
          }
         },
         "name": "ngR @ 100",
         "orientation": "v",
         "text": "",
         "type": "bar",
         "x": [
          "dist1-TDE",
          "dist2-TDE",
          "gate-TDE",
          "sum-TDE"
         ],
         "y": [
          "0.8031",
          "0.8031",
          "0.8031",
          "0.8031"
         ]
        },
        {
         "marker": {
          "color": "rgba(128, 177, 211, 0.8)",
          "line": {
           "color": "rgba(128, 177, 211, 1.0)",
           "width": 1
          }
         },
         "name": "zR @ 20",
         "orientation": "v",
         "text": "",
         "type": "bar",
         "x": [
          "dist1-TDE",
          "dist2-TDE",
          "gate-TDE",
          "sum-TDE"
         ],
         "y": [
          "0.0624",
          "0.0624",
          "0.0624",
          "0.0624"
         ]
        },
        {
         "marker": {
          "color": "rgba(128, 177, 211, 0.8)",
          "line": {
           "color": "rgba(128, 177, 211, 0.8999999999999999)",
           "width": 1
          }
         },
         "name": "zR @ 50",
         "orientation": "v",
         "text": "",
         "type": "bar",
         "x": [
          "dist1-TDE",
          "dist2-TDE",
          "gate-TDE",
          "sum-TDE"
         ],
         "y": [
          "0.1092",
          "0.1092",
          "0.1092",
          "0.1092"
         ]
        },
        {
         "marker": {
          "color": "rgba(255, 153, 51, 0.8)",
          "line": {
           "color": "rgba(255, 153, 51, 0.8999999999999999)",
           "width": 1
          }
         },
         "name": "zR @ 100",
         "orientation": "v",
         "text": "",
         "type": "bar",
         "x": [
          "dist1-TDE",
          "dist2-TDE",
          "gate-TDE",
          "sum-TDE"
         ],
         "y": [
          "0.1362",
          "0.1362",
          "0.1362",
          "0.1362"
         ]
        },
        {
         "marker": {
          "color": "rgba(55, 128, 191, 0.8)",
          "line": {
           "color": "rgba(55, 128, 191, 0.8999999999999999)",
           "width": 1
          }
         },
         "name": "mR @ 20",
         "orientation": "v",
         "text": "",
         "type": "bar",
         "x": [
          "dist1-TDE",
          "dist2-TDE",
          "gate-TDE",
          "sum-TDE"
         ],
         "y": [
          "0.1093",
          "0.1093",
          "0.1093",
          "0.1093"
         ]
        },
        {
         "marker": {
          "color": "rgba(50, 171, 96, 0.8)",
          "line": {
           "color": "rgba(50, 171, 96, 0.8999999999999999)",
           "width": 1
          }
         },
         "name": "mR @ 50",
         "orientation": "v",
         "text": "",
         "type": "bar",
         "x": [
          "dist1-TDE",
          "dist2-TDE",
          "gate-TDE",
          "sum-TDE"
         ],
         "y": [
          "0.1429",
          "0.1429",
          "0.1429",
          "0.1429"
         ]
        },
        {
         "marker": {
          "color": "rgba(128, 0, 128, 0.8)",
          "line": {
           "color": "rgba(128, 0, 128, 0.8999999999999999)",
           "width": 1
          }
         },
         "name": "mR @ 100",
         "orientation": "v",
         "text": "",
         "type": "bar",
         "x": [
          "dist1-TDE",
          "dist2-TDE",
          "gate-TDE",
          "sum-TDE"
         ],
         "y": [
          "0.1612",
          "0.1612",
          "0.1612",
          "0.1612"
         ]
        },
        {
         "marker": {
          "color": "rgba(219, 64, 82, 0.8)",
          "line": {
           "color": "rgba(219, 64, 82, 0.8999999999999999)",
           "width": 1
          }
         },
         "name": "A @ 20",
         "orientation": "v",
         "text": "",
         "type": "bar",
         "x": [
          "dist1-TDE",
          "dist2-TDE",
          "gate-TDE",
          "sum-TDE"
         ],
         "y": [
          "0.6391",
          "0.6391",
          "0.6391",
          "0.6391"
         ]
        },
        {
         "marker": {
          "color": "rgba(0, 128, 128, 0.8)",
          "line": {
           "color": "rgba(0, 128, 128, 0.8999999999999999)",
           "width": 1
          }
         },
         "name": "A @ 50",
         "orientation": "v",
         "text": "",
         "type": "bar",
         "x": [
          "dist1-TDE",
          "dist2-TDE",
          "gate-TDE",
          "sum-TDE"
         ],
         "y": [
          "0.6412",
          "0.6412",
          "0.6412",
          "0.6412"
         ]
        },
        {
         "marker": {
          "color": "rgba(255, 255, 51, 0.8)",
          "line": {
           "color": "rgba(255, 255, 51, 0.8999999999999999)",
           "width": 1
          }
         },
         "name": "A @ 100",
         "orientation": "v",
         "text": "",
         "type": "bar",
         "x": [
          "dist1-TDE",
          "dist2-TDE",
          "gate-TDE",
          "sum-TDE"
         ],
         "y": [
          "0.6412",
          "0.6412",
          "0.6412",
          "0.6412"
         ]
        }
       ],
       "layout": {
        "legend": {
         "bgcolor": "#F5F6F9",
         "font": {
          "color": "#4D5663"
         }
        },
        "paper_bgcolor": "#F5F6F9",
        "plot_bgcolor": "#F5F6F9",
        "template": {
         "data": {
          "bar": [
           {
            "error_x": {
             "color": "#2a3f5f"
            },
            "error_y": {
             "color": "#2a3f5f"
            },
            "marker": {
             "line": {
              "color": "#E5ECF6",
              "width": 0.5
             }
            },
            "type": "bar"
           }
          ],
          "barpolar": [
           {
            "marker": {
             "line": {
              "color": "#E5ECF6",
              "width": 0.5
             }
            },
            "type": "barpolar"
           }
          ],
          "carpet": [
           {
            "aaxis": {
             "endlinecolor": "#2a3f5f",
             "gridcolor": "white",
             "linecolor": "white",
             "minorgridcolor": "white",
             "startlinecolor": "#2a3f5f"
            },
            "baxis": {
             "endlinecolor": "#2a3f5f",
             "gridcolor": "white",
             "linecolor": "white",
             "minorgridcolor": "white",
             "startlinecolor": "#2a3f5f"
            },
            "type": "carpet"
           }
          ],
          "choropleth": [
           {
            "colorbar": {
             "outlinewidth": 0,
             "ticks": ""
            },
            "type": "choropleth"
           }
          ],
          "contour": [
           {
            "colorbar": {
             "outlinewidth": 0,
             "ticks": ""
            },
            "colorscale": [
             [
              0,
              "#0d0887"
             ],
             [
              0.1111111111111111,
              "#46039f"
             ],
             [
              0.2222222222222222,
              "#7201a8"
             ],
             [
              0.3333333333333333,
              "#9c179e"
             ],
             [
              0.4444444444444444,
              "#bd3786"
             ],
             [
              0.5555555555555556,
              "#d8576b"
             ],
             [
              0.6666666666666666,
              "#ed7953"
             ],
             [
              0.7777777777777778,
              "#fb9f3a"
             ],
             [
              0.8888888888888888,
              "#fdca26"
             ],
             [
              1,
              "#f0f921"
             ]
            ],
            "type": "contour"
           }
          ],
          "contourcarpet": [
           {
            "colorbar": {
             "outlinewidth": 0,
             "ticks": ""
            },
            "type": "contourcarpet"
           }
          ],
          "heatmap": [
           {
            "colorbar": {
             "outlinewidth": 0,
             "ticks": ""
            },
            "colorscale": [
             [
              0,
              "#0d0887"
             ],
             [
              0.1111111111111111,
              "#46039f"
             ],
             [
              0.2222222222222222,
              "#7201a8"
             ],
             [
              0.3333333333333333,
              "#9c179e"
             ],
             [
              0.4444444444444444,
              "#bd3786"
             ],
             [
              0.5555555555555556,
              "#d8576b"
             ],
             [
              0.6666666666666666,
              "#ed7953"
             ],
             [
              0.7777777777777778,
              "#fb9f3a"
             ],
             [
              0.8888888888888888,
              "#fdca26"
             ],
             [
              1,
              "#f0f921"
             ]
            ],
            "type": "heatmap"
           }
          ],
          "heatmapgl": [
           {
            "colorbar": {
             "outlinewidth": 0,
             "ticks": ""
            },
            "colorscale": [
             [
              0,
              "#0d0887"
             ],
             [
              0.1111111111111111,
              "#46039f"
             ],
             [
              0.2222222222222222,
              "#7201a8"
             ],
             [
              0.3333333333333333,
              "#9c179e"
             ],
             [
              0.4444444444444444,
              "#bd3786"
             ],
             [
              0.5555555555555556,
              "#d8576b"
             ],
             [
              0.6666666666666666,
              "#ed7953"
             ],
             [
              0.7777777777777778,
              "#fb9f3a"
             ],
             [
              0.8888888888888888,
              "#fdca26"
             ],
             [
              1,
              "#f0f921"
             ]
            ],
            "type": "heatmapgl"
           }
          ],
          "histogram": [
           {
            "marker": {
             "colorbar": {
              "outlinewidth": 0,
              "ticks": ""
             }
            },
            "type": "histogram"
           }
          ],
          "histogram2d": [
           {
            "colorbar": {
             "outlinewidth": 0,
             "ticks": ""
            },
            "colorscale": [
             [
              0,
              "#0d0887"
             ],
             [
              0.1111111111111111,
              "#46039f"
             ],
             [
              0.2222222222222222,
              "#7201a8"
             ],
             [
              0.3333333333333333,
              "#9c179e"
             ],
             [
              0.4444444444444444,
              "#bd3786"
             ],
             [
              0.5555555555555556,
              "#d8576b"
             ],
             [
              0.6666666666666666,
              "#ed7953"
             ],
             [
              0.7777777777777778,
              "#fb9f3a"
             ],
             [
              0.8888888888888888,
              "#fdca26"
             ],
             [
              1,
              "#f0f921"
             ]
            ],
            "type": "histogram2d"
           }
          ],
          "histogram2dcontour": [
           {
            "colorbar": {
             "outlinewidth": 0,
             "ticks": ""
            },
            "colorscale": [
             [
              0,
              "#0d0887"
             ],
             [
              0.1111111111111111,
              "#46039f"
             ],
             [
              0.2222222222222222,
              "#7201a8"
             ],
             [
              0.3333333333333333,
              "#9c179e"
             ],
             [
              0.4444444444444444,
              "#bd3786"
             ],
             [
              0.5555555555555556,
              "#d8576b"
             ],
             [
              0.6666666666666666,
              "#ed7953"
             ],
             [
              0.7777777777777778,
              "#fb9f3a"
             ],
             [
              0.8888888888888888,
              "#fdca26"
             ],
             [
              1,
              "#f0f921"
             ]
            ],
            "type": "histogram2dcontour"
           }
          ],
          "mesh3d": [
           {
            "colorbar": {
             "outlinewidth": 0,
             "ticks": ""
            },
            "type": "mesh3d"
           }
          ],
          "parcoords": [
           {
            "line": {
             "colorbar": {
              "outlinewidth": 0,
              "ticks": ""
             }
            },
            "type": "parcoords"
           }
          ],
          "pie": [
           {
            "automargin": true,
            "type": "pie"
           }
          ],
          "scatter": [
           {
            "marker": {
             "colorbar": {
              "outlinewidth": 0,
              "ticks": ""
             }
            },
            "type": "scatter"
           }
          ],
          "scatter3d": [
           {
            "line": {
             "colorbar": {
              "outlinewidth": 0,
              "ticks": ""
             }
            },
            "marker": {
             "colorbar": {
              "outlinewidth": 0,
              "ticks": ""
             }
            },
            "type": "scatter3d"
           }
          ],
          "scattercarpet": [
           {
            "marker": {
             "colorbar": {
              "outlinewidth": 0,
              "ticks": ""
             }
            },
            "type": "scattercarpet"
           }
          ],
          "scattergeo": [
           {
            "marker": {
             "colorbar": {
              "outlinewidth": 0,
              "ticks": ""
             }
            },
            "type": "scattergeo"
           }
          ],
          "scattergl": [
           {
            "marker": {
             "colorbar": {
              "outlinewidth": 0,
              "ticks": ""
             }
            },
            "type": "scattergl"
           }
          ],
          "scattermapbox": [
           {
            "marker": {
             "colorbar": {
              "outlinewidth": 0,
              "ticks": ""
             }
            },
            "type": "scattermapbox"
           }
          ],
          "scatterpolar": [
           {
            "marker": {
             "colorbar": {
              "outlinewidth": 0,
              "ticks": ""
             }
            },
            "type": "scatterpolar"
           }
          ],
          "scatterpolargl": [
           {
            "marker": {
             "colorbar": {
              "outlinewidth": 0,
              "ticks": ""
             }
            },
            "type": "scatterpolargl"
           }
          ],
          "scatterternary": [
           {
            "marker": {
             "colorbar": {
              "outlinewidth": 0,
              "ticks": ""
             }
            },
            "type": "scatterternary"
           }
          ],
          "surface": [
           {
            "colorbar": {
             "outlinewidth": 0,
             "ticks": ""
            },
            "colorscale": [
             [
              0,
              "#0d0887"
             ],
             [
              0.1111111111111111,
              "#46039f"
             ],
             [
              0.2222222222222222,
              "#7201a8"
             ],
             [
              0.3333333333333333,
              "#9c179e"
             ],
             [
              0.4444444444444444,
              "#bd3786"
             ],
             [
              0.5555555555555556,
              "#d8576b"
             ],
             [
              0.6666666666666666,
              "#ed7953"
             ],
             [
              0.7777777777777778,
              "#fb9f3a"
             ],
             [
              0.8888888888888888,
              "#fdca26"
             ],
             [
              1,
              "#f0f921"
             ]
            ],
            "type": "surface"
           }
          ],
          "table": [
           {
            "cells": {
             "fill": {
              "color": "#EBF0F8"
             },
             "line": {
              "color": "white"
             }
            },
            "header": {
             "fill": {
              "color": "#C8D4E3"
             },
             "line": {
              "color": "white"
             }
            },
            "type": "table"
           }
          ]
         },
         "layout": {
          "annotationdefaults": {
           "arrowcolor": "#2a3f5f",
           "arrowhead": 0,
           "arrowwidth": 1
          },
          "coloraxis": {
           "colorbar": {
            "outlinewidth": 0,
            "ticks": ""
           }
          },
          "colorscale": {
           "diverging": [
            [
             0,
             "#8e0152"
            ],
            [
             0.1,
             "#c51b7d"
            ],
            [
             0.2,
             "#de77ae"
            ],
            [
             0.3,
             "#f1b6da"
            ],
            [
             0.4,
             "#fde0ef"
            ],
            [
             0.5,
             "#f7f7f7"
            ],
            [
             0.6,
             "#e6f5d0"
            ],
            [
             0.7,
             "#b8e186"
            ],
            [
             0.8,
             "#7fbc41"
            ],
            [
             0.9,
             "#4d9221"
            ],
            [
             1,
             "#276419"
            ]
           ],
           "sequential": [
            [
             0,
             "#0d0887"
            ],
            [
             0.1111111111111111,
             "#46039f"
            ],
            [
             0.2222222222222222,
             "#7201a8"
            ],
            [
             0.3333333333333333,
             "#9c179e"
            ],
            [
             0.4444444444444444,
             "#bd3786"
            ],
            [
             0.5555555555555556,
             "#d8576b"
            ],
            [
             0.6666666666666666,
             "#ed7953"
            ],
            [
             0.7777777777777778,
             "#fb9f3a"
            ],
            [
             0.8888888888888888,
             "#fdca26"
            ],
            [
             1,
             "#f0f921"
            ]
           ],
           "sequentialminus": [
            [
             0,
             "#0d0887"
            ],
            [
             0.1111111111111111,
             "#46039f"
            ],
            [
             0.2222222222222222,
             "#7201a8"
            ],
            [
             0.3333333333333333,
             "#9c179e"
            ],
            [
             0.4444444444444444,
             "#bd3786"
            ],
            [
             0.5555555555555556,
             "#d8576b"
            ],
            [
             0.6666666666666666,
             "#ed7953"
            ],
            [
             0.7777777777777778,
             "#fb9f3a"
            ],
            [
             0.8888888888888888,
             "#fdca26"
            ],
            [
             1,
             "#f0f921"
            ]
           ]
          },
          "colorway": [
           "#636efa",
           "#EF553B",
           "#00cc96",
           "#ab63fa",
           "#FFA15A",
           "#19d3f3",
           "#FF6692",
           "#B6E880",
           "#FF97FF",
           "#FECB52"
          ],
          "font": {
           "color": "#2a3f5f"
          },
          "geo": {
           "bgcolor": "white",
           "lakecolor": "white",
           "landcolor": "#E5ECF6",
           "showlakes": true,
           "showland": true,
           "subunitcolor": "white"
          },
          "hoverlabel": {
           "align": "left"
          },
          "hovermode": "closest",
          "mapbox": {
           "style": "light"
          },
          "paper_bgcolor": "white",
          "plot_bgcolor": "#E5ECF6",
          "polar": {
           "angularaxis": {
            "gridcolor": "white",
            "linecolor": "white",
            "ticks": ""
           },
           "bgcolor": "#E5ECF6",
           "radialaxis": {
            "gridcolor": "white",
            "linecolor": "white",
            "ticks": ""
           }
          },
          "scene": {
           "xaxis": {
            "backgroundcolor": "#E5ECF6",
            "gridcolor": "white",
            "gridwidth": 2,
            "linecolor": "white",
            "showbackground": true,
            "ticks": "",
            "zerolinecolor": "white"
           },
           "yaxis": {
            "backgroundcolor": "#E5ECF6",
            "gridcolor": "white",
            "gridwidth": 2,
            "linecolor": "white",
            "showbackground": true,
            "ticks": "",
            "zerolinecolor": "white"
           },
           "zaxis": {
            "backgroundcolor": "#E5ECF6",
            "gridcolor": "white",
            "gridwidth": 2,
            "linecolor": "white",
            "showbackground": true,
            "ticks": "",
            "zerolinecolor": "white"
           }
          },
          "shapedefaults": {
           "line": {
            "color": "#2a3f5f"
           }
          },
          "ternary": {
           "aaxis": {
            "gridcolor": "white",
            "linecolor": "white",
            "ticks": ""
           },
           "baxis": {
            "gridcolor": "white",
            "linecolor": "white",
            "ticks": ""
           },
           "bgcolor": "#E5ECF6",
           "caxis": {
            "gridcolor": "white",
            "linecolor": "white",
            "ticks": ""
           }
          },
          "title": {
           "x": 0.05
          },
          "xaxis": {
           "automargin": true,
           "gridcolor": "white",
           "linecolor": "white",
           "ticks": "",
           "title": {
            "standoff": 15
           },
           "zerolinecolor": "white",
           "zerolinewidth": 2
          },
          "yaxis": {
           "automargin": true,
           "gridcolor": "white",
           "linecolor": "white",
           "ticks": "",
           "title": {
            "standoff": 15
           },
           "zerolinecolor": "white",
           "zerolinewidth": 2
          }
         }
        },
        "title": {
         "font": {
          "color": "#4D5663"
         }
        },
        "xaxis": {
         "gridcolor": "#E1E5ED",
         "showgrid": true,
         "tickfont": {
          "color": "#4D5663"
         },
         "title": {
          "font": {
           "color": "#4D5663"
          },
          "text": ""
         },
         "zerolinecolor": "#E1E5ED"
        },
        "yaxis": {
         "gridcolor": "#E1E5ED",
         "showgrid": true,
         "tickfont": {
          "color": "#4D5663"
         },
         "title": {
          "font": {
           "color": "#4D5663"
          },
          "text": ""
         },
         "zerolinecolor": "#E1E5ED"
        }
       }
      },
      "text/html": "<div>\n        \n        \n            <div id=\"1e9c03db-7dd6-4787-91fb-fb374102497d\" class=\"plotly-graph-div\" style=\"height:525px; width:100%;\"></div>\n            <script type=\"text/javascript\">\n                require([\"plotly\"], function(Plotly) {\n                    window.PLOTLYENV=window.PLOTLYENV || {};\n                    window.PLOTLYENV.BASE_URL='https://plot.ly';\n                    \n                if (document.getElementById(\"1e9c03db-7dd6-4787-91fb-fb374102497d\")) {\n                    Plotly.newPlot(\n                        '1e9c03db-7dd6-4787-91fb-fb374102497d',\n                        [{\"marker\": {\"color\": \"rgba(255, 153, 51, 0.8)\", \"line\": {\"color\": \"rgba(255, 153, 51, 1.0)\", \"width\": 1}}, \"name\": \"eval_set\", \"orientation\": \"v\", \"text\": \"\", \"type\": \"bar\", \"x\": [\"dist1-TDE\", \"dist2-TDE\", \"gate-TDE\", \"sum-TDE\"], \"y\": [\"test\", \"test\", \"test\", \"test\"]}, {\"marker\": {\"color\": \"rgba(55, 128, 191, 0.8)\", \"line\": {\"color\": \"rgba(55, 128, 191, 1.0)\", \"width\": 1}}, \"name\": \"iter\", \"orientation\": \"v\", \"text\": \"\", \"type\": \"bar\", \"x\": [\"dist1-TDE\", \"dist2-TDE\", \"gate-TDE\", \"sum-TDE\"], \"y\": [\"24000\", \"24000\", \"24000\", \"24000\"]}, {\"marker\": {\"color\": \"rgba(50, 171, 96, 0.8)\", \"line\": {\"color\": \"rgba(50, 171, 96, 1.0)\", \"width\": 1}}, \"name\": \"mAp\", \"orientation\": \"v\", \"text\": \"\", \"type\": \"bar\", \"x\": [\"dist1-TDE\", \"dist2-TDE\", \"gate-TDE\", \"sum-TDE\"], \"y\": [\"0.9995\", \"0.9995\", \"0.9995\", \"0.9995\"]}, {\"marker\": {\"color\": \"rgba(128, 0, 128, 0.8)\", \"line\": {\"color\": \"rgba(128, 0, 128, 1.0)\", \"width\": 1}}, \"name\": \"R @ 20\", \"orientation\": \"v\", \"text\": \"\", \"type\": \"bar\", \"x\": [\"dist1-TDE\", \"dist2-TDE\", \"gate-TDE\", \"sum-TDE\"], \"y\": [\"0.5354\", \"0.5354\", \"0.5354\", \"0.5354\"]}, {\"marker\": {\"color\": \"rgba(219, 64, 82, 0.8)\", \"line\": {\"color\": \"rgba(219, 64, 82, 1.0)\", \"width\": 1}}, \"name\": \"R @ 50\", \"orientation\": \"v\", \"text\": \"\", \"type\": \"bar\", \"x\": [\"dist1-TDE\", \"dist2-TDE\", \"gate-TDE\", \"sum-TDE\"], \"y\": [\"0.6005\", \"0.6005\", \"0.6005\", \"0.6005\"]}, {\"marker\": {\"color\": \"rgba(0, 128, 128, 0.8)\", \"line\": {\"color\": \"rgba(0, 128, 128, 1.0)\", \"width\": 1}}, \"name\": \"R @ 100\", \"orientation\": \"v\", \"text\": \"\", \"type\": \"bar\", \"x\": [\"dist1-TDE\", \"dist2-TDE\", \"gate-TDE\", \"sum-TDE\"], \"y\": [\"0.6206\", \"0.6206\", \"0.6206\", \"0.6206\"]}, {\"marker\": {\"color\": \"rgba(255, 255, 51, 0.8)\", \"line\": {\"color\": \"rgba(255, 255, 51, 1.0)\", \"width\": 1}}, \"name\": \"ngR @ 20\", \"orientation\": \"v\", \"text\": \"\", \"type\": \"bar\", \"x\": [\"dist1-TDE\", \"dist2-TDE\", \"gate-TDE\", \"sum-TDE\"], \"y\": [\"0.6042\", \"0.6042\", \"0.6042\", \"0.6042\"]}, {\"marker\": {\"color\": \"rgba(128, 128, 0, 0.8)\", \"line\": {\"color\": \"rgba(128, 128, 0, 1.0)\", \"width\": 1}}, \"name\": \"ngR @ 50\", \"orientation\": \"v\", \"text\": \"\", \"type\": \"bar\", \"x\": [\"dist1-TDE\", \"dist2-TDE\", \"gate-TDE\", \"sum-TDE\"], \"y\": [\"0.7359\", \"0.7359\", \"0.7359\", \"0.7359\"]}, {\"marker\": {\"color\": \"rgba(251, 128, 114, 0.8)\", \"line\": {\"color\": \"rgba(251, 128, 114, 1.0)\", \"width\": 1}}, \"name\": \"ngR @ 100\", \"orientation\": \"v\", \"text\": \"\", \"type\": \"bar\", \"x\": [\"dist1-TDE\", \"dist2-TDE\", \"gate-TDE\", \"sum-TDE\"], \"y\": [\"0.8031\", \"0.8031\", \"0.8031\", \"0.8031\"]}, {\"marker\": {\"color\": \"rgba(128, 177, 211, 0.8)\", \"line\": {\"color\": \"rgba(128, 177, 211, 1.0)\", \"width\": 1}}, \"name\": \"zR @ 20\", \"orientation\": \"v\", \"text\": \"\", \"type\": \"bar\", \"x\": [\"dist1-TDE\", \"dist2-TDE\", \"gate-TDE\", \"sum-TDE\"], \"y\": [\"0.0624\", \"0.0624\", \"0.0624\", \"0.0624\"]}, {\"marker\": {\"color\": \"rgba(128, 177, 211, 0.8)\", \"line\": {\"color\": \"rgba(128, 177, 211, 0.8999999999999999)\", \"width\": 1}}, \"name\": \"zR @ 50\", \"orientation\": \"v\", \"text\": \"\", \"type\": \"bar\", \"x\": [\"dist1-TDE\", \"dist2-TDE\", \"gate-TDE\", \"sum-TDE\"], \"y\": [\"0.1092\", \"0.1092\", \"0.1092\", \"0.1092\"]}, {\"marker\": {\"color\": \"rgba(255, 153, 51, 0.8)\", \"line\": {\"color\": \"rgba(255, 153, 51, 0.8999999999999999)\", \"width\": 1}}, \"name\": \"zR @ 100\", \"orientation\": \"v\", \"text\": \"\", \"type\": \"bar\", \"x\": [\"dist1-TDE\", \"dist2-TDE\", \"gate-TDE\", \"sum-TDE\"], \"y\": [\"0.1362\", \"0.1362\", \"0.1362\", \"0.1362\"]}, {\"marker\": {\"color\": \"rgba(55, 128, 191, 0.8)\", \"line\": {\"color\": \"rgba(55, 128, 191, 0.8999999999999999)\", \"width\": 1}}, \"name\": \"mR @ 20\", \"orientation\": \"v\", \"text\": \"\", \"type\": \"bar\", \"x\": [\"dist1-TDE\", \"dist2-TDE\", \"gate-TDE\", \"sum-TDE\"], \"y\": [\"0.1093\", \"0.1093\", \"0.1093\", \"0.1093\"]}, {\"marker\": {\"color\": \"rgba(50, 171, 96, 0.8)\", \"line\": {\"color\": \"rgba(50, 171, 96, 0.8999999999999999)\", \"width\": 1}}, \"name\": \"mR @ 50\", \"orientation\": \"v\", \"text\": \"\", \"type\": \"bar\", \"x\": [\"dist1-TDE\", \"dist2-TDE\", \"gate-TDE\", \"sum-TDE\"], \"y\": [\"0.1429\", \"0.1429\", \"0.1429\", \"0.1429\"]}, {\"marker\": {\"color\": \"rgba(128, 0, 128, 0.8)\", \"line\": {\"color\": \"rgba(128, 0, 128, 0.8999999999999999)\", \"width\": 1}}, \"name\": \"mR @ 100\", \"orientation\": \"v\", \"text\": \"\", \"type\": \"bar\", \"x\": [\"dist1-TDE\", \"dist2-TDE\", \"gate-TDE\", \"sum-TDE\"], \"y\": [\"0.1612\", \"0.1612\", \"0.1612\", \"0.1612\"]}, {\"marker\": {\"color\": \"rgba(219, 64, 82, 0.8)\", \"line\": {\"color\": \"rgba(219, 64, 82, 0.8999999999999999)\", \"width\": 1}}, \"name\": \"A @ 20\", \"orientation\": \"v\", \"text\": \"\", \"type\": \"bar\", \"x\": [\"dist1-TDE\", \"dist2-TDE\", \"gate-TDE\", \"sum-TDE\"], \"y\": [\"0.6391\", \"0.6391\", \"0.6391\", \"0.6391\"]}, {\"marker\": {\"color\": \"rgba(0, 128, 128, 0.8)\", \"line\": {\"color\": \"rgba(0, 128, 128, 0.8999999999999999)\", \"width\": 1}}, \"name\": \"A @ 50\", \"orientation\": \"v\", \"text\": \"\", \"type\": \"bar\", \"x\": [\"dist1-TDE\", \"dist2-TDE\", \"gate-TDE\", \"sum-TDE\"], \"y\": [\"0.6412\", \"0.6412\", \"0.6412\", \"0.6412\"]}, {\"marker\": {\"color\": \"rgba(255, 255, 51, 0.8)\", \"line\": {\"color\": \"rgba(255, 255, 51, 0.8999999999999999)\", \"width\": 1}}, \"name\": \"A @ 100\", \"orientation\": \"v\", \"text\": \"\", \"type\": \"bar\", \"x\": [\"dist1-TDE\", \"dist2-TDE\", \"gate-TDE\", \"sum-TDE\"], \"y\": [\"0.6412\", \"0.6412\", \"0.6412\", \"0.6412\"]}],\n                        {\"legend\": {\"bgcolor\": \"#F5F6F9\", \"font\": {\"color\": \"#4D5663\"}}, \"paper_bgcolor\": \"#F5F6F9\", \"plot_bgcolor\": \"#F5F6F9\", \"template\": {\"data\": {\"bar\": [{\"error_x\": {\"color\": \"#2a3f5f\"}, \"error_y\": {\"color\": \"#2a3f5f\"}, \"marker\": {\"line\": {\"color\": \"#E5ECF6\", \"width\": 0.5}}, \"type\": \"bar\"}], \"barpolar\": [{\"marker\": {\"line\": {\"color\": \"#E5ECF6\", \"width\": 0.5}}, \"type\": \"barpolar\"}], \"carpet\": [{\"aaxis\": {\"endlinecolor\": \"#2a3f5f\", \"gridcolor\": \"white\", \"linecolor\": \"white\", \"minorgridcolor\": \"white\", \"startlinecolor\": \"#2a3f5f\"}, \"baxis\": {\"endlinecolor\": \"#2a3f5f\", \"gridcolor\": \"white\", \"linecolor\": \"white\", \"minorgridcolor\": \"white\", \"startlinecolor\": \"#2a3f5f\"}, \"type\": \"carpet\"}], \"choropleth\": [{\"colorbar\": {\"outlinewidth\": 0, \"ticks\": \"\"}, \"type\": \"choropleth\"}], \"contour\": [{\"colorbar\": {\"outlinewidth\": 0, \"ticks\": \"\"}, \"colorscale\": [[0.0, \"#0d0887\"], [0.1111111111111111, \"#46039f\"], [0.2222222222222222, \"#7201a8\"], [0.3333333333333333, \"#9c179e\"], [0.4444444444444444, \"#bd3786\"], [0.5555555555555556, \"#d8576b\"], [0.6666666666666666, \"#ed7953\"], [0.7777777777777778, \"#fb9f3a\"], [0.8888888888888888, \"#fdca26\"], [1.0, \"#f0f921\"]], \"type\": \"contour\"}], \"contourcarpet\": [{\"colorbar\": {\"outlinewidth\": 0, \"ticks\": \"\"}, \"type\": \"contourcarpet\"}], \"heatmap\": [{\"colorbar\": {\"outlinewidth\": 0, \"ticks\": \"\"}, \"colorscale\": [[0.0, \"#0d0887\"], [0.1111111111111111, \"#46039f\"], [0.2222222222222222, \"#7201a8\"], [0.3333333333333333, \"#9c179e\"], [0.4444444444444444, \"#bd3786\"], [0.5555555555555556, \"#d8576b\"], [0.6666666666666666, \"#ed7953\"], [0.7777777777777778, \"#fb9f3a\"], [0.8888888888888888, \"#fdca26\"], [1.0, \"#f0f921\"]], \"type\": \"heatmap\"}], \"heatmapgl\": [{\"colorbar\": {\"outlinewidth\": 0, \"ticks\": \"\"}, \"colorscale\": [[0.0, \"#0d0887\"], [0.1111111111111111, \"#46039f\"], [0.2222222222222222, \"#7201a8\"], [0.3333333333333333, \"#9c179e\"], [0.4444444444444444, \"#bd3786\"], [0.5555555555555556, \"#d8576b\"], [0.6666666666666666, \"#ed7953\"], [0.7777777777777778, \"#fb9f3a\"], [0.8888888888888888, \"#fdca26\"], [1.0, \"#f0f921\"]], \"type\": \"heatmapgl\"}], \"histogram\": [{\"marker\": {\"colorbar\": {\"outlinewidth\": 0, \"ticks\": \"\"}}, \"type\": \"histogram\"}], \"histogram2d\": [{\"colorbar\": {\"outlinewidth\": 0, \"ticks\": \"\"}, \"colorscale\": [[0.0, \"#0d0887\"], [0.1111111111111111, \"#46039f\"], [0.2222222222222222, \"#7201a8\"], [0.3333333333333333, \"#9c179e\"], [0.4444444444444444, \"#bd3786\"], [0.5555555555555556, \"#d8576b\"], [0.6666666666666666, \"#ed7953\"], [0.7777777777777778, \"#fb9f3a\"], [0.8888888888888888, \"#fdca26\"], [1.0, \"#f0f921\"]], \"type\": \"histogram2d\"}], \"histogram2dcontour\": [{\"colorbar\": {\"outlinewidth\": 0, \"ticks\": \"\"}, \"colorscale\": [[0.0, \"#0d0887\"], [0.1111111111111111, \"#46039f\"], [0.2222222222222222, \"#7201a8\"], [0.3333333333333333, \"#9c179e\"], [0.4444444444444444, \"#bd3786\"], [0.5555555555555556, \"#d8576b\"], [0.6666666666666666, \"#ed7953\"], [0.7777777777777778, \"#fb9f3a\"], [0.8888888888888888, \"#fdca26\"], [1.0, \"#f0f921\"]], \"type\": \"histogram2dcontour\"}], \"mesh3d\": [{\"colorbar\": {\"outlinewidth\": 0, \"ticks\": \"\"}, \"type\": \"mesh3d\"}], \"parcoords\": [{\"line\": {\"colorbar\": {\"outlinewidth\": 0, \"ticks\": \"\"}}, \"type\": \"parcoords\"}], \"pie\": [{\"automargin\": true, \"type\": \"pie\"}], \"scatter\": [{\"marker\": {\"colorbar\": {\"outlinewidth\": 0, \"ticks\": \"\"}}, \"type\": \"scatter\"}], \"scatter3d\": [{\"line\": {\"colorbar\": {\"outlinewidth\": 0, \"ticks\": \"\"}}, \"marker\": {\"colorbar\": {\"outlinewidth\": 0, \"ticks\": \"\"}}, \"type\": \"scatter3d\"}], \"scattercarpet\": [{\"marker\": {\"colorbar\": {\"outlinewidth\": 0, \"ticks\": \"\"}}, \"type\": \"scattercarpet\"}], \"scattergeo\": [{\"marker\": {\"colorbar\": {\"outlinewidth\": 0, \"ticks\": \"\"}}, \"type\": \"scattergeo\"}], \"scattergl\": [{\"marker\": {\"colorbar\": {\"outlinewidth\": 0, \"ticks\": \"\"}}, \"type\": \"scattergl\"}], \"scattermapbox\": [{\"marker\": {\"colorbar\": {\"outlinewidth\": 0, \"ticks\": \"\"}}, \"type\": \"scattermapbox\"}], \"scatterpolar\": [{\"marker\": {\"colorbar\": {\"outlinewidth\": 0, \"ticks\": \"\"}}, \"type\": \"scatterpolar\"}], \"scatterpolargl\": [{\"marker\": {\"colorbar\": {\"outlinewidth\": 0, \"ticks\": \"\"}}, \"type\": \"scatterpolargl\"}], \"scatterternary\": [{\"marker\": {\"colorbar\": {\"outlinewidth\": 0, \"ticks\": \"\"}}, \"type\": \"scatterternary\"}], \"surface\": [{\"colorbar\": {\"outlinewidth\": 0, \"ticks\": \"\"}, \"colorscale\": [[0.0, \"#0d0887\"], [0.1111111111111111, \"#46039f\"], [0.2222222222222222, \"#7201a8\"], [0.3333333333333333, \"#9c179e\"], [0.4444444444444444, \"#bd3786\"], [0.5555555555555556, \"#d8576b\"], [0.6666666666666666, \"#ed7953\"], [0.7777777777777778, \"#fb9f3a\"], [0.8888888888888888, \"#fdca26\"], [1.0, \"#f0f921\"]], \"type\": \"surface\"}], \"table\": [{\"cells\": {\"fill\": {\"color\": \"#EBF0F8\"}, \"line\": {\"color\": \"white\"}}, \"header\": {\"fill\": {\"color\": \"#C8D4E3\"}, \"line\": {\"color\": \"white\"}}, \"type\": \"table\"}]}, \"layout\": {\"annotationdefaults\": {\"arrowcolor\": \"#2a3f5f\", \"arrowhead\": 0, \"arrowwidth\": 1}, \"coloraxis\": {\"colorbar\": {\"outlinewidth\": 0, \"ticks\": \"\"}}, \"colorscale\": {\"diverging\": [[0, \"#8e0152\"], [0.1, \"#c51b7d\"], [0.2, \"#de77ae\"], [0.3, \"#f1b6da\"], [0.4, \"#fde0ef\"], [0.5, \"#f7f7f7\"], [0.6, \"#e6f5d0\"], [0.7, \"#b8e186\"], [0.8, \"#7fbc41\"], [0.9, \"#4d9221\"], [1, \"#276419\"]], \"sequential\": [[0.0, \"#0d0887\"], [0.1111111111111111, \"#46039f\"], [0.2222222222222222, \"#7201a8\"], [0.3333333333333333, \"#9c179e\"], [0.4444444444444444, \"#bd3786\"], [0.5555555555555556, \"#d8576b\"], [0.6666666666666666, \"#ed7953\"], [0.7777777777777778, \"#fb9f3a\"], [0.8888888888888888, \"#fdca26\"], [1.0, \"#f0f921\"]], \"sequentialminus\": [[0.0, \"#0d0887\"], [0.1111111111111111, \"#46039f\"], [0.2222222222222222, \"#7201a8\"], [0.3333333333333333, \"#9c179e\"], [0.4444444444444444, \"#bd3786\"], [0.5555555555555556, \"#d8576b\"], [0.6666666666666666, \"#ed7953\"], [0.7777777777777778, \"#fb9f3a\"], [0.8888888888888888, \"#fdca26\"], [1.0, \"#f0f921\"]]}, \"colorway\": [\"#636efa\", \"#EF553B\", \"#00cc96\", \"#ab63fa\", \"#FFA15A\", \"#19d3f3\", \"#FF6692\", \"#B6E880\", \"#FF97FF\", \"#FECB52\"], \"font\": {\"color\": \"#2a3f5f\"}, \"geo\": {\"bgcolor\": \"white\", \"lakecolor\": \"white\", \"landcolor\": \"#E5ECF6\", \"showlakes\": true, \"showland\": true, \"subunitcolor\": \"white\"}, \"hoverlabel\": {\"align\": \"left\"}, \"hovermode\": \"closest\", \"mapbox\": {\"style\": \"light\"}, \"paper_bgcolor\": \"white\", \"plot_bgcolor\": \"#E5ECF6\", \"polar\": {\"angularaxis\": {\"gridcolor\": \"white\", \"linecolor\": \"white\", \"ticks\": \"\"}, \"bgcolor\": \"#E5ECF6\", \"radialaxis\": {\"gridcolor\": \"white\", \"linecolor\": \"white\", \"ticks\": \"\"}}, \"scene\": {\"xaxis\": {\"backgroundcolor\": \"#E5ECF6\", \"gridcolor\": \"white\", \"gridwidth\": 2, \"linecolor\": \"white\", \"showbackground\": true, \"ticks\": \"\", \"zerolinecolor\": \"white\"}, \"yaxis\": {\"backgroundcolor\": \"#E5ECF6\", \"gridcolor\": \"white\", \"gridwidth\": 2, \"linecolor\": \"white\", \"showbackground\": true, \"ticks\": \"\", \"zerolinecolor\": \"white\"}, \"zaxis\": {\"backgroundcolor\": \"#E5ECF6\", \"gridcolor\": \"white\", \"gridwidth\": 2, \"linecolor\": \"white\", \"showbackground\": true, \"ticks\": \"\", \"zerolinecolor\": \"white\"}}, \"shapedefaults\": {\"line\": {\"color\": \"#2a3f5f\"}}, \"ternary\": {\"aaxis\": {\"gridcolor\": \"white\", \"linecolor\": \"white\", \"ticks\": \"\"}, \"baxis\": {\"gridcolor\": \"white\", \"linecolor\": \"white\", \"ticks\": \"\"}, \"bgcolor\": \"#E5ECF6\", \"caxis\": {\"gridcolor\": \"white\", \"linecolor\": \"white\", \"ticks\": \"\"}}, \"title\": {\"x\": 0.05}, \"xaxis\": {\"automargin\": true, \"gridcolor\": \"white\", \"linecolor\": \"white\", \"ticks\": \"\", \"title\": {\"standoff\": 15}, \"zerolinecolor\": \"white\", \"zerolinewidth\": 2}, \"yaxis\": {\"automargin\": true, \"gridcolor\": \"white\", \"linecolor\": \"white\", \"ticks\": \"\", \"title\": {\"standoff\": 15}, \"zerolinecolor\": \"white\", \"zerolinewidth\": 2}}}, \"title\": {\"font\": {\"color\": \"#4D5663\"}}, \"xaxis\": {\"gridcolor\": \"#E1E5ED\", \"showgrid\": true, \"tickfont\": {\"color\": \"#4D5663\"}, \"title\": {\"font\": {\"color\": \"#4D5663\"}, \"text\": \"\"}, \"zerolinecolor\": \"#E1E5ED\"}, \"yaxis\": {\"gridcolor\": \"#E1E5ED\", \"showgrid\": true, \"tickfont\": {\"color\": \"#4D5663\"}, \"title\": {\"font\": {\"color\": \"#4D5663\"}, \"text\": \"\"}, \"zerolinecolor\": \"#E1E5ED\"}},\n                        {\"showLink\": true, \"linkText\": \"Export to plot.ly\", \"plotlyServerURL\": \"https://plot.ly\", \"responsive\": true}\n                    ).then(function(){\n                            \nvar gd = document.getElementById('1e9c03db-7dd6-4787-91fb-fb374102497d');\nvar x = new MutationObserver(function (mutations, observer) {{\n        var display = window.getComputedStyle(gd).display;\n        if (!display || display === 'none') {{\n            console.log([gd, 'removed!']);\n            Plotly.purge(gd);\n            observer.disconnect();\n        }}\n}});\n\n// Listen for the removal of the full notebook cells\nvar notebookContainer = gd.closest('#notebook-container');\nif (notebookContainer) {{\n    x.observe(notebookContainer, {childList: true});\n}}\n\n// Listen for the clearing of the current output cell\nvar outputEl = gd.closest('.output');\nif (outputEl) {{\n    x.observe(outputEl, {childList: true});\n}}\n\n                        })\n                };\n                });\n            </script>\n        </div>"
     },
     "metadata": {}
    }
   ],
   "source": [
    "fig = _df.iplot(kind=\"bar\", x=keys, categories='label')"
   ]
  },
  {
   "cell_type": "code",
   "execution_count": 8,
   "metadata": {
    "ExecuteTime": {
     "end_time": "2020-06-08T15:12:58.493088Z",
     "start_time": "2020-06-08T15:12:58.439196Z"
    }
   },
   "outputs": [
    {
     "output_type": "display_data",
     "data": {
      "application/vnd.plotly.v1+json": {
       "config": {
        "linkText": "Export to plot.ly",
        "plotlyServerURL": "https://plot.ly",
        "showLink": true
       },
       "data": [
        {
         "line": {
          "color": "rgba(255, 153, 51, 1.0)",
          "dash": "solid",
          "shape": "linear",
          "width": 1.3
         },
         "mode": "lines",
         "name": "mAp",
         "text": "",
         "type": "scatter",
         "x": [
          "2000",
          "4000",
          "6000",
          "8000",
          "10000",
          "12000",
          "14000",
          "16000",
          "18000",
          "20000",
          "22000",
          "24000"
         ],
         "y": [
          "0.9999",
          "0.9999",
          "0.9999",
          "0.9999",
          "0.9999",
          "0.9999",
          "0.9999",
          "0.9999",
          "0.9999",
          "0.9999",
          "0.9999",
          "0.9999"
         ]
        },
        {
         "line": {
          "color": "rgba(55, 128, 191, 1.0)",
          "dash": "solid",
          "shape": "linear",
          "width": 1.3
         },
         "mode": "lines",
         "name": "R @ 20",
         "text": "",
         "type": "scatter",
         "x": [
          "2000",
          "4000",
          "6000",
          "8000",
          "10000",
          "12000",
          "14000",
          "16000",
          "18000",
          "20000",
          "22000",
          "24000"
         ],
         "y": [
          "0.2884",
          "0.3868",
          "0.4293",
          "0.4208",
          "0.4049",
          "0.5217",
          "0.5455",
          "0.5405",
          "0.5388",
          "0.5594",
          "0.5544",
          "0.5535"
         ]
        },
        {
         "line": {
          "color": "rgba(50, 171, 96, 1.0)",
          "dash": "solid",
          "shape": "linear",
          "width": 1.3
         },
         "mode": "lines",
         "name": "R @ 50",
         "text": "",
         "type": "scatter",
         "x": [
          "2000",
          "4000",
          "6000",
          "8000",
          "10000",
          "12000",
          "14000",
          "16000",
          "18000",
          "20000",
          "22000",
          "24000"
         ],
         "y": [
          "0.3548",
          "0.4669",
          "0.5171",
          "0.4995",
          "0.4879",
          "0.5939",
          "0.6111",
          "0.6083",
          "0.6023",
          "0.6136",
          "0.6088",
          "0.6057"
         ]
        },
        {
         "line": {
          "color": "rgba(128, 0, 128, 1.0)",
          "dash": "solid",
          "shape": "linear",
          "width": 1.3
         },
         "mode": "lines",
         "name": "R @ 100",
         "text": "",
         "type": "scatter",
         "x": [
          "2000",
          "4000",
          "6000",
          "8000",
          "10000",
          "12000",
          "14000",
          "16000",
          "18000",
          "20000",
          "22000",
          "24000"
         ],
         "y": [
          "0.3768",
          "0.4890",
          "0.5378",
          "0.5224",
          "0.5094",
          "0.6095",
          "0.6259",
          "0.6237",
          "0.6172",
          "0.6293",
          "0.6249",
          "0.6208"
         ]
        },
        {
         "line": {
          "color": "rgba(219, 64, 82, 1.0)",
          "dash": "solid",
          "shape": "linear",
          "width": 1.3
         },
         "mode": "lines",
         "name": "ngR @ 20",
         "text": "",
         "type": "scatter",
         "x": [
          "2000",
          "4000",
          "6000",
          "8000",
          "10000",
          "12000",
          "14000",
          "16000",
          "18000",
          "20000",
          "22000",
          "24000"
         ],
         "y": [
          "0.3983",
          "0.5406",
          "0.5877",
          "0.5689",
          "0.5557",
          "0.6457",
          "0.6546",
          "0.6454",
          "0.6309",
          "0.6404",
          "0.6305",
          "0.6228"
         ]
        },
        {
         "line": {
          "color": "rgba(0, 128, 128, 1.0)",
          "dash": "solid",
          "shape": "linear",
          "width": 1.3
         },
         "mode": "lines",
         "name": "ngR @ 50",
         "text": "",
         "type": "scatter",
         "x": [
          "2000",
          "4000",
          "6000",
          "8000",
          "10000",
          "12000",
          "14000",
          "16000",
          "18000",
          "20000",
          "22000",
          "24000"
         ],
         "y": [
          "0.6042",
          "0.7561",
          "0.7765",
          "0.7592",
          "0.7589",
          "0.7933",
          "0.7940",
          "0.7806",
          "0.7621",
          "0.7584",
          "0.7446",
          "0.7360"
         ]
        },
        {
         "line": {
          "color": "rgba(255, 255, 51, 1.0)",
          "dash": "solid",
          "shape": "linear",
          "width": 1.3
         },
         "mode": "lines",
         "name": "ngR @ 100",
         "text": "",
         "type": "scatter",
         "x": [
          "2000",
          "4000",
          "6000",
          "8000",
          "10000",
          "12000",
          "14000",
          "16000",
          "18000",
          "20000",
          "22000",
          "24000"
         ],
         "y": [
          "0.7504",
          "0.8450",
          "0.8485",
          "0.8400",
          "0.8379",
          "0.8586",
          "0.8562",
          "0.8434",
          "0.8316",
          "0.8203",
          "0.8085",
          "0.7974"
         ]
        },
        {
         "line": {
          "color": "rgba(128, 128, 0, 1.0)",
          "dash": "solid",
          "shape": "linear",
          "width": 1.3
         },
         "mode": "lines",
         "name": "zR @ 20",
         "text": "",
         "type": "scatter",
         "x": [
          "2000",
          "4000",
          "6000",
          "8000",
          "10000",
          "12000",
          "14000",
          "16000",
          "18000",
          "20000",
          "22000",
          "24000"
         ],
         "y": [
          "0.1067",
          "0.0844",
          "0.0711",
          "0.0822",
          "0.0844",
          "0.1111",
          "0.0933",
          "0.0956",
          "0.1000",
          "0.0763",
          "0.0778",
          "0.0852"
         ]
        },
        {
         "line": {
          "color": "rgba(251, 128, 114, 1.0)",
          "dash": "solid",
          "shape": "linear",
          "width": 1.3
         },
         "mode": "lines",
         "name": "zR @ 50",
         "text": "",
         "type": "scatter",
         "x": [
          "2000",
          "4000",
          "6000",
          "8000",
          "10000",
          "12000",
          "14000",
          "16000",
          "18000",
          "20000",
          "22000",
          "24000"
         ],
         "y": [
          "0.1563",
          "0.1733",
          "0.1756",
          "0.1600",
          "0.1630",
          "0.1756",
          "0.1778",
          "0.1874",
          "0.1956",
          "0.1689",
          "0.1667",
          "0.1600"
         ]
        },
        {
         "line": {
          "color": "rgba(128, 177, 211, 1.0)",
          "dash": "solid",
          "shape": "linear",
          "width": 1.3
         },
         "mode": "lines",
         "name": "zR @ 100",
         "text": "",
         "type": "scatter",
         "x": [
          "2000",
          "4000",
          "6000",
          "8000",
          "10000",
          "12000",
          "14000",
          "16000",
          "18000",
          "20000",
          "22000",
          "24000"
         ],
         "y": [
          "0.1711",
          "0.1859",
          "0.1815",
          "0.1911",
          "0.1867",
          "0.1978",
          "0.1867",
          "0.1985",
          "0.2200",
          "0.2044",
          "0.1911",
          "0.1844"
         ]
        },
        {
         "line": {
          "color": "rgba(128, 177, 211, 0.8999999999999999)",
          "dash": "solid",
          "shape": "linear",
          "width": 1.3
         },
         "mode": "lines",
         "name": "mR @ 20",
         "text": "",
         "type": "scatter",
         "x": [
          "2000",
          "4000",
          "6000",
          "8000",
          "10000",
          "12000",
          "14000",
          "16000",
          "18000",
          "20000",
          "22000",
          "24000"
         ],
         "y": [
          "0.1438",
          "0.1447",
          "0.1286",
          "0.1238",
          "0.1199",
          "0.1298",
          "0.1281",
          "0.1236",
          "0.1351",
          "0.1229",
          "0.1226",
          "0.1262"
         ]
        },
        {
         "line": {
          "color": "rgba(255, 153, 51, 0.8999999999999999)",
          "dash": "solid",
          "shape": "linear",
          "width": 1.3
         },
         "mode": "lines",
         "name": "mR @ 50",
         "text": "",
         "type": "scatter",
         "x": [
          "2000",
          "4000",
          "6000",
          "8000",
          "10000",
          "12000",
          "14000",
          "16000",
          "18000",
          "20000",
          "22000",
          "24000"
         ],
         "y": [
          "0.1800",
          "0.1720",
          "0.1629",
          "0.1559",
          "0.1475",
          "0.1613",
          "0.1584",
          "0.1562",
          "0.1693",
          "0.1534",
          "0.1513",
          "0.1526"
         ]
        },
        {
         "line": {
          "color": "rgba(55, 128, 191, 0.8999999999999999)",
          "dash": "solid",
          "shape": "linear",
          "width": 1.3
         },
         "mode": "lines",
         "name": "mR @ 100",
         "text": "",
         "type": "scatter",
         "x": [
          "2000",
          "4000",
          "6000",
          "8000",
          "10000",
          "12000",
          "14000",
          "16000",
          "18000",
          "20000",
          "22000",
          "24000"
         ],
         "y": [
          "0.1945",
          "0.1810",
          "0.1733",
          "0.1662",
          "0.1559",
          "0.1712",
          "0.1698",
          "0.1653",
          "0.1786",
          "0.1650",
          "0.1642",
          "0.1700"
         ]
        },
        {
         "line": {
          "color": "rgba(50, 171, 96, 0.8999999999999999)",
          "dash": "solid",
          "shape": "linear",
          "width": 1.3
         },
         "mode": "lines",
         "name": "A @ 20",
         "text": "",
         "type": "scatter",
         "x": [
          "2000",
          "4000",
          "6000",
          "8000",
          "10000",
          "12000",
          "14000",
          "16000",
          "18000",
          "20000",
          "22000",
          "24000"
         ],
         "y": [
          "0.3840",
          "0.5180",
          "0.5872",
          "0.5651",
          "0.5444",
          "0.6522",
          "0.6592",
          "0.6559",
          "0.6531",
          "0.6564",
          "0.6536",
          "0.6492"
         ]
        },
        {
         "line": {
          "color": "rgba(128, 0, 128, 0.8999999999999999)",
          "dash": "solid",
          "shape": "linear",
          "width": 1.3
         },
         "mode": "lines",
         "name": "A @ 50",
         "text": "",
         "type": "scatter",
         "x": [
          "2000",
          "4000",
          "6000",
          "8000",
          "10000",
          "12000",
          "14000",
          "16000",
          "18000",
          "20000",
          "22000",
          "24000"
         ],
         "y": [
          "0.3870",
          "0.5224",
          "0.5925",
          "0.5698",
          "0.5492",
          "0.6572",
          "0.6639",
          "0.6610",
          "0.6573",
          "0.6600",
          "0.6578",
          "0.6531"
         ]
        },
        {
         "line": {
          "color": "rgba(219, 64, 82, 0.8999999999999999)",
          "dash": "solid",
          "shape": "linear",
          "width": 1.3
         },
         "mode": "lines",
         "name": "A @ 100",
         "text": "",
         "type": "scatter",
         "x": [
          "2000",
          "4000",
          "6000",
          "8000",
          "10000",
          "12000",
          "14000",
          "16000",
          "18000",
          "20000",
          "22000",
          "24000"
         ],
         "y": [
          "0.3870",
          "0.5224",
          "0.5925",
          "0.5698",
          "0.5492",
          "0.6572",
          "0.6639",
          "0.6610",
          "0.6573",
          "0.6600",
          "0.6578",
          "0.6531"
         ]
        }
       ],
       "layout": {
        "legend": {
         "bgcolor": "#FFFFFF",
         "font": {
          "color": "#4D5663"
         }
        },
        "paper_bgcolor": "#FFFFFF",
        "plot_bgcolor": "#FFFFFF",
        "template": {
         "data": {
          "bar": [
           {
            "error_x": {
             "color": "#2a3f5f"
            },
            "error_y": {
             "color": "#2a3f5f"
            },
            "marker": {
             "line": {
              "color": "#E5ECF6",
              "width": 0.5
             }
            },
            "type": "bar"
           }
          ],
          "barpolar": [
           {
            "marker": {
             "line": {
              "color": "#E5ECF6",
              "width": 0.5
             }
            },
            "type": "barpolar"
           }
          ],
          "carpet": [
           {
            "aaxis": {
             "endlinecolor": "#2a3f5f",
             "gridcolor": "white",
             "linecolor": "white",
             "minorgridcolor": "white",
             "startlinecolor": "#2a3f5f"
            },
            "baxis": {
             "endlinecolor": "#2a3f5f",
             "gridcolor": "white",
             "linecolor": "white",
             "minorgridcolor": "white",
             "startlinecolor": "#2a3f5f"
            },
            "type": "carpet"
           }
          ],
          "choropleth": [
           {
            "colorbar": {
             "outlinewidth": 0,
             "ticks": ""
            },
            "type": "choropleth"
           }
          ],
          "contour": [
           {
            "colorbar": {
             "outlinewidth": 0,
             "ticks": ""
            },
            "colorscale": [
             [
              0,
              "#0d0887"
             ],
             [
              0.1111111111111111,
              "#46039f"
             ],
             [
              0.2222222222222222,
              "#7201a8"
             ],
             [
              0.3333333333333333,
              "#9c179e"
             ],
             [
              0.4444444444444444,
              "#bd3786"
             ],
             [
              0.5555555555555556,
              "#d8576b"
             ],
             [
              0.6666666666666666,
              "#ed7953"
             ],
             [
              0.7777777777777778,
              "#fb9f3a"
             ],
             [
              0.8888888888888888,
              "#fdca26"
             ],
             [
              1,
              "#f0f921"
             ]
            ],
            "type": "contour"
           }
          ],
          "contourcarpet": [
           {
            "colorbar": {
             "outlinewidth": 0,
             "ticks": ""
            },
            "type": "contourcarpet"
           }
          ],
          "heatmap": [
           {
            "colorbar": {
             "outlinewidth": 0,
             "ticks": ""
            },
            "colorscale": [
             [
              0,
              "#0d0887"
             ],
             [
              0.1111111111111111,
              "#46039f"
             ],
             [
              0.2222222222222222,
              "#7201a8"
             ],
             [
              0.3333333333333333,
              "#9c179e"
             ],
             [
              0.4444444444444444,
              "#bd3786"
             ],
             [
              0.5555555555555556,
              "#d8576b"
             ],
             [
              0.6666666666666666,
              "#ed7953"
             ],
             [
              0.7777777777777778,
              "#fb9f3a"
             ],
             [
              0.8888888888888888,
              "#fdca26"
             ],
             [
              1,
              "#f0f921"
             ]
            ],
            "type": "heatmap"
           }
          ],
          "heatmapgl": [
           {
            "colorbar": {
             "outlinewidth": 0,
             "ticks": ""
            },
            "colorscale": [
             [
              0,
              "#0d0887"
             ],
             [
              0.1111111111111111,
              "#46039f"
             ],
             [
              0.2222222222222222,
              "#7201a8"
             ],
             [
              0.3333333333333333,
              "#9c179e"
             ],
             [
              0.4444444444444444,
              "#bd3786"
             ],
             [
              0.5555555555555556,
              "#d8576b"
             ],
             [
              0.6666666666666666,
              "#ed7953"
             ],
             [
              0.7777777777777778,
              "#fb9f3a"
             ],
             [
              0.8888888888888888,
              "#fdca26"
             ],
             [
              1,
              "#f0f921"
             ]
            ],
            "type": "heatmapgl"
           }
          ],
          "histogram": [
           {
            "marker": {
             "colorbar": {
              "outlinewidth": 0,
              "ticks": ""
             }
            },
            "type": "histogram"
           }
          ],
          "histogram2d": [
           {
            "colorbar": {
             "outlinewidth": 0,
             "ticks": ""
            },
            "colorscale": [
             [
              0,
              "#0d0887"
             ],
             [
              0.1111111111111111,
              "#46039f"
             ],
             [
              0.2222222222222222,
              "#7201a8"
             ],
             [
              0.3333333333333333,
              "#9c179e"
             ],
             [
              0.4444444444444444,
              "#bd3786"
             ],
             [
              0.5555555555555556,
              "#d8576b"
             ],
             [
              0.6666666666666666,
              "#ed7953"
             ],
             [
              0.7777777777777778,
              "#fb9f3a"
             ],
             [
              0.8888888888888888,
              "#fdca26"
             ],
             [
              1,
              "#f0f921"
             ]
            ],
            "type": "histogram2d"
           }
          ],
          "histogram2dcontour": [
           {
            "colorbar": {
             "outlinewidth": 0,
             "ticks": ""
            },
            "colorscale": [
             [
              0,
              "#0d0887"
             ],
             [
              0.1111111111111111,
              "#46039f"
             ],
             [
              0.2222222222222222,
              "#7201a8"
             ],
             [
              0.3333333333333333,
              "#9c179e"
             ],
             [
              0.4444444444444444,
              "#bd3786"
             ],
             [
              0.5555555555555556,
              "#d8576b"
             ],
             [
              0.6666666666666666,
              "#ed7953"
             ],
             [
              0.7777777777777778,
              "#fb9f3a"
             ],
             [
              0.8888888888888888,
              "#fdca26"
             ],
             [
              1,
              "#f0f921"
             ]
            ],
            "type": "histogram2dcontour"
           }
          ],
          "mesh3d": [
           {
            "colorbar": {
             "outlinewidth": 0,
             "ticks": ""
            },
            "type": "mesh3d"
           }
          ],
          "parcoords": [
           {
            "line": {
             "colorbar": {
              "outlinewidth": 0,
              "ticks": ""
             }
            },
            "type": "parcoords"
           }
          ],
          "pie": [
           {
            "automargin": true,
            "type": "pie"
           }
          ],
          "scatter": [
           {
            "marker": {
             "colorbar": {
              "outlinewidth": 0,
              "ticks": ""
             }
            },
            "type": "scatter"
           }
          ],
          "scatter3d": [
           {
            "line": {
             "colorbar": {
              "outlinewidth": 0,
              "ticks": ""
             }
            },
            "marker": {
             "colorbar": {
              "outlinewidth": 0,
              "ticks": ""
             }
            },
            "type": "scatter3d"
           }
          ],
          "scattercarpet": [
           {
            "marker": {
             "colorbar": {
              "outlinewidth": 0,
              "ticks": ""
             }
            },
            "type": "scattercarpet"
           }
          ],
          "scattergeo": [
           {
            "marker": {
             "colorbar": {
              "outlinewidth": 0,
              "ticks": ""
             }
            },
            "type": "scattergeo"
           }
          ],
          "scattergl": [
           {
            "marker": {
             "colorbar": {
              "outlinewidth": 0,
              "ticks": ""
             }
            },
            "type": "scattergl"
           }
          ],
          "scattermapbox": [
           {
            "marker": {
             "colorbar": {
              "outlinewidth": 0,
              "ticks": ""
             }
            },
            "type": "scattermapbox"
           }
          ],
          "scatterpolar": [
           {
            "marker": {
             "colorbar": {
              "outlinewidth": 0,
              "ticks": ""
             }
            },
            "type": "scatterpolar"
           }
          ],
          "scatterpolargl": [
           {
            "marker": {
             "colorbar": {
              "outlinewidth": 0,
              "ticks": ""
             }
            },
            "type": "scatterpolargl"
           }
          ],
          "scatterternary": [
           {
            "marker": {
             "colorbar": {
              "outlinewidth": 0,
              "ticks": ""
             }
            },
            "type": "scatterternary"
           }
          ],
          "surface": [
           {
            "colorbar": {
             "outlinewidth": 0,
             "ticks": ""
            },
            "colorscale": [
             [
              0,
              "#0d0887"
             ],
             [
              0.1111111111111111,
              "#46039f"
             ],
             [
              0.2222222222222222,
              "#7201a8"
             ],
             [
              0.3333333333333333,
              "#9c179e"
             ],
             [
              0.4444444444444444,
              "#bd3786"
             ],
             [
              0.5555555555555556,
              "#d8576b"
             ],
             [
              0.6666666666666666,
              "#ed7953"
             ],
             [
              0.7777777777777778,
              "#fb9f3a"
             ],
             [
              0.8888888888888888,
              "#fdca26"
             ],
             [
              1,
              "#f0f921"
             ]
            ],
            "type": "surface"
           }
          ],
          "table": [
           {
            "cells": {
             "fill": {
              "color": "#EBF0F8"
             },
             "line": {
              "color": "white"
             }
            },
            "header": {
             "fill": {
              "color": "#C8D4E3"
             },
             "line": {
              "color": "white"
             }
            },
            "type": "table"
           }
          ]
         },
         "layout": {
          "annotationdefaults": {
           "arrowcolor": "#2a3f5f",
           "arrowhead": 0,
           "arrowwidth": 1
          },
          "coloraxis": {
           "colorbar": {
            "outlinewidth": 0,
            "ticks": ""
           }
          },
          "colorscale": {
           "diverging": [
            [
             0,
             "#8e0152"
            ],
            [
             0.1,
             "#c51b7d"
            ],
            [
             0.2,
             "#de77ae"
            ],
            [
             0.3,
             "#f1b6da"
            ],
            [
             0.4,
             "#fde0ef"
            ],
            [
             0.5,
             "#f7f7f7"
            ],
            [
             0.6,
             "#e6f5d0"
            ],
            [
             0.7,
             "#b8e186"
            ],
            [
             0.8,
             "#7fbc41"
            ],
            [
             0.9,
             "#4d9221"
            ],
            [
             1,
             "#276419"
            ]
           ],
           "sequential": [
            [
             0,
             "#0d0887"
            ],
            [
             0.1111111111111111,
             "#46039f"
            ],
            [
             0.2222222222222222,
             "#7201a8"
            ],
            [
             0.3333333333333333,
             "#9c179e"
            ],
            [
             0.4444444444444444,
             "#bd3786"
            ],
            [
             0.5555555555555556,
             "#d8576b"
            ],
            [
             0.6666666666666666,
             "#ed7953"
            ],
            [
             0.7777777777777778,
             "#fb9f3a"
            ],
            [
             0.8888888888888888,
             "#fdca26"
            ],
            [
             1,
             "#f0f921"
            ]
           ],
           "sequentialminus": [
            [
             0,
             "#0d0887"
            ],
            [
             0.1111111111111111,
             "#46039f"
            ],
            [
             0.2222222222222222,
             "#7201a8"
            ],
            [
             0.3333333333333333,
             "#9c179e"
            ],
            [
             0.4444444444444444,
             "#bd3786"
            ],
            [
             0.5555555555555556,
             "#d8576b"
            ],
            [
             0.6666666666666666,
             "#ed7953"
            ],
            [
             0.7777777777777778,
             "#fb9f3a"
            ],
            [
             0.8888888888888888,
             "#fdca26"
            ],
            [
             1,
             "#f0f921"
            ]
           ]
          },
          "colorway": [
           "#636efa",
           "#EF553B",
           "#00cc96",
           "#ab63fa",
           "#FFA15A",
           "#19d3f3",
           "#FF6692",
           "#B6E880",
           "#FF97FF",
           "#FECB52"
          ],
          "font": {
           "color": "#2a3f5f"
          },
          "geo": {
           "bgcolor": "white",
           "lakecolor": "white",
           "landcolor": "#E5ECF6",
           "showlakes": true,
           "showland": true,
           "subunitcolor": "white"
          },
          "hoverlabel": {
           "align": "left"
          },
          "hovermode": "closest",
          "mapbox": {
           "style": "light"
          },
          "paper_bgcolor": "white",
          "plot_bgcolor": "#E5ECF6",
          "polar": {
           "angularaxis": {
            "gridcolor": "white",
            "linecolor": "white",
            "ticks": ""
           },
           "bgcolor": "#E5ECF6",
           "radialaxis": {
            "gridcolor": "white",
            "linecolor": "white",
            "ticks": ""
           }
          },
          "scene": {
           "xaxis": {
            "backgroundcolor": "#E5ECF6",
            "gridcolor": "white",
            "gridwidth": 2,
            "linecolor": "white",
            "showbackground": true,
            "ticks": "",
            "zerolinecolor": "white"
           },
           "yaxis": {
            "backgroundcolor": "#E5ECF6",
            "gridcolor": "white",
            "gridwidth": 2,
            "linecolor": "white",
            "showbackground": true,
            "ticks": "",
            "zerolinecolor": "white"
           },
           "zaxis": {
            "backgroundcolor": "#E5ECF6",
            "gridcolor": "white",
            "gridwidth": 2,
            "linecolor": "white",
            "showbackground": true,
            "ticks": "",
            "zerolinecolor": "white"
           }
          },
          "shapedefaults": {
           "line": {
            "color": "#2a3f5f"
           }
          },
          "ternary": {
           "aaxis": {
            "gridcolor": "white",
            "linecolor": "white",
            "ticks": ""
           },
           "baxis": {
            "gridcolor": "white",
            "linecolor": "white",
            "ticks": ""
           },
           "bgcolor": "#E5ECF6",
           "caxis": {
            "gridcolor": "white",
            "linecolor": "white",
            "ticks": ""
           }
          },
          "title": {
           "x": 0.05
          },
          "xaxis": {
           "automargin": true,
           "gridcolor": "white",
           "linecolor": "white",
           "ticks": "",
           "title": {
            "standoff": 15
           },
           "zerolinecolor": "white",
           "zerolinewidth": 2
          },
          "yaxis": {
           "automargin": true,
           "gridcolor": "white",
           "linecolor": "white",
           "ticks": "",
           "title": {
            "standoff": 15
           },
           "zerolinecolor": "white",
           "zerolinewidth": 2
          }
         }
        },
        "title": {
         "font": {
          "color": "#4D5663"
         },
         "text": "precls-CausalAnalysisPredictor-motifs-dist2-TDE"
        },
        "xaxis": {
         "gridcolor": "#E1E5ED",
         "showgrid": true,
         "tickfont": {
          "color": "#4D5663"
         },
         "title": {
          "font": {
           "color": "#4D5663"
          },
          "text": ""
         },
         "zerolinecolor": "#E1E5ED"
        },
        "yaxis": {
         "gridcolor": "#E1E5ED",
         "showgrid": true,
         "tickfont": {
          "color": "#4D5663"
         },
         "title": {
          "font": {
           "color": "#4D5663"
          },
          "text": ""
         },
         "zerolinecolor": "#E1E5ED"
        }
       }
      },
      "text/html": "<div>\n        \n        \n            <div id=\"af5fa6a4-7a77-439a-8986-f46f45001f17\" class=\"plotly-graph-div\" style=\"height:525px; width:100%;\"></div>\n            <script type=\"text/javascript\">\n                require([\"plotly\"], function(Plotly) {\n                    window.PLOTLYENV=window.PLOTLYENV || {};\n                    window.PLOTLYENV.BASE_URL='https://plot.ly';\n                    \n                if (document.getElementById(\"af5fa6a4-7a77-439a-8986-f46f45001f17\")) {\n                    Plotly.newPlot(\n                        'af5fa6a4-7a77-439a-8986-f46f45001f17',\n                        [{\"line\": {\"color\": \"rgba(255, 153, 51, 1.0)\", \"dash\": \"solid\", \"shape\": \"linear\", \"width\": 1.3}, \"mode\": \"lines\", \"name\": \"mAp\", \"text\": \"\", \"type\": \"scatter\", \"x\": [\"2000\", \"4000\", \"6000\", \"8000\", \"10000\", \"12000\", \"14000\", \"16000\", \"18000\", \"20000\", \"22000\", \"24000\"], \"y\": [\"0.9999\", \"0.9999\", \"0.9999\", \"0.9999\", \"0.9999\", \"0.9999\", \"0.9999\", \"0.9999\", \"0.9999\", \"0.9999\", \"0.9999\", \"0.9999\"]}, {\"line\": {\"color\": \"rgba(55, 128, 191, 1.0)\", \"dash\": \"solid\", \"shape\": \"linear\", \"width\": 1.3}, \"mode\": \"lines\", \"name\": \"R @ 20\", \"text\": \"\", \"type\": \"scatter\", \"x\": [\"2000\", \"4000\", \"6000\", \"8000\", \"10000\", \"12000\", \"14000\", \"16000\", \"18000\", \"20000\", \"22000\", \"24000\"], \"y\": [\"0.2884\", \"0.3868\", \"0.4293\", \"0.4208\", \"0.4049\", \"0.5217\", \"0.5455\", \"0.5405\", \"0.5388\", \"0.5594\", \"0.5544\", \"0.5535\"]}, {\"line\": {\"color\": \"rgba(50, 171, 96, 1.0)\", \"dash\": \"solid\", \"shape\": \"linear\", \"width\": 1.3}, \"mode\": \"lines\", \"name\": \"R @ 50\", \"text\": \"\", \"type\": \"scatter\", \"x\": [\"2000\", \"4000\", \"6000\", \"8000\", \"10000\", \"12000\", \"14000\", \"16000\", \"18000\", \"20000\", \"22000\", \"24000\"], \"y\": [\"0.3548\", \"0.4669\", \"0.5171\", \"0.4995\", \"0.4879\", \"0.5939\", \"0.6111\", \"0.6083\", \"0.6023\", \"0.6136\", \"0.6088\", \"0.6057\"]}, {\"line\": {\"color\": \"rgba(128, 0, 128, 1.0)\", \"dash\": \"solid\", \"shape\": \"linear\", \"width\": 1.3}, \"mode\": \"lines\", \"name\": \"R @ 100\", \"text\": \"\", \"type\": \"scatter\", \"x\": [\"2000\", \"4000\", \"6000\", \"8000\", \"10000\", \"12000\", \"14000\", \"16000\", \"18000\", \"20000\", \"22000\", \"24000\"], \"y\": [\"0.3768\", \"0.4890\", \"0.5378\", \"0.5224\", \"0.5094\", \"0.6095\", \"0.6259\", \"0.6237\", \"0.6172\", \"0.6293\", \"0.6249\", \"0.6208\"]}, {\"line\": {\"color\": \"rgba(219, 64, 82, 1.0)\", \"dash\": \"solid\", \"shape\": \"linear\", \"width\": 1.3}, \"mode\": \"lines\", \"name\": \"ngR @ 20\", \"text\": \"\", \"type\": \"scatter\", \"x\": [\"2000\", \"4000\", \"6000\", \"8000\", \"10000\", \"12000\", \"14000\", \"16000\", \"18000\", \"20000\", \"22000\", \"24000\"], \"y\": [\"0.3983\", \"0.5406\", \"0.5877\", \"0.5689\", \"0.5557\", \"0.6457\", \"0.6546\", \"0.6454\", \"0.6309\", \"0.6404\", \"0.6305\", \"0.6228\"]}, {\"line\": {\"color\": \"rgba(0, 128, 128, 1.0)\", \"dash\": \"solid\", \"shape\": \"linear\", \"width\": 1.3}, \"mode\": \"lines\", \"name\": \"ngR @ 50\", \"text\": \"\", \"type\": \"scatter\", \"x\": [\"2000\", \"4000\", \"6000\", \"8000\", \"10000\", \"12000\", \"14000\", \"16000\", \"18000\", \"20000\", \"22000\", \"24000\"], \"y\": [\"0.6042\", \"0.7561\", \"0.7765\", \"0.7592\", \"0.7589\", \"0.7933\", \"0.7940\", \"0.7806\", \"0.7621\", \"0.7584\", \"0.7446\", \"0.7360\"]}, {\"line\": {\"color\": \"rgba(255, 255, 51, 1.0)\", \"dash\": \"solid\", \"shape\": \"linear\", \"width\": 1.3}, \"mode\": \"lines\", \"name\": \"ngR @ 100\", \"text\": \"\", \"type\": \"scatter\", \"x\": [\"2000\", \"4000\", \"6000\", \"8000\", \"10000\", \"12000\", \"14000\", \"16000\", \"18000\", \"20000\", \"22000\", \"24000\"], \"y\": [\"0.7504\", \"0.8450\", \"0.8485\", \"0.8400\", \"0.8379\", \"0.8586\", \"0.8562\", \"0.8434\", \"0.8316\", \"0.8203\", \"0.8085\", \"0.7974\"]}, {\"line\": {\"color\": \"rgba(128, 128, 0, 1.0)\", \"dash\": \"solid\", \"shape\": \"linear\", \"width\": 1.3}, \"mode\": \"lines\", \"name\": \"zR @ 20\", \"text\": \"\", \"type\": \"scatter\", \"x\": [\"2000\", \"4000\", \"6000\", \"8000\", \"10000\", \"12000\", \"14000\", \"16000\", \"18000\", \"20000\", \"22000\", \"24000\"], \"y\": [\"0.1067\", \"0.0844\", \"0.0711\", \"0.0822\", \"0.0844\", \"0.1111\", \"0.0933\", \"0.0956\", \"0.1000\", \"0.0763\", \"0.0778\", \"0.0852\"]}, {\"line\": {\"color\": \"rgba(251, 128, 114, 1.0)\", \"dash\": \"solid\", \"shape\": \"linear\", \"width\": 1.3}, \"mode\": \"lines\", \"name\": \"zR @ 50\", \"text\": \"\", \"type\": \"scatter\", \"x\": [\"2000\", \"4000\", \"6000\", \"8000\", \"10000\", \"12000\", \"14000\", \"16000\", \"18000\", \"20000\", \"22000\", \"24000\"], \"y\": [\"0.1563\", \"0.1733\", \"0.1756\", \"0.1600\", \"0.1630\", \"0.1756\", \"0.1778\", \"0.1874\", \"0.1956\", \"0.1689\", \"0.1667\", \"0.1600\"]}, {\"line\": {\"color\": \"rgba(128, 177, 211, 1.0)\", \"dash\": \"solid\", \"shape\": \"linear\", \"width\": 1.3}, \"mode\": \"lines\", \"name\": \"zR @ 100\", \"text\": \"\", \"type\": \"scatter\", \"x\": [\"2000\", \"4000\", \"6000\", \"8000\", \"10000\", \"12000\", \"14000\", \"16000\", \"18000\", \"20000\", \"22000\", \"24000\"], \"y\": [\"0.1711\", \"0.1859\", \"0.1815\", \"0.1911\", \"0.1867\", \"0.1978\", \"0.1867\", \"0.1985\", \"0.2200\", \"0.2044\", \"0.1911\", \"0.1844\"]}, {\"line\": {\"color\": \"rgba(128, 177, 211, 0.8999999999999999)\", \"dash\": \"solid\", \"shape\": \"linear\", \"width\": 1.3}, \"mode\": \"lines\", \"name\": \"mR @ 20\", \"text\": \"\", \"type\": \"scatter\", \"x\": [\"2000\", \"4000\", \"6000\", \"8000\", \"10000\", \"12000\", \"14000\", \"16000\", \"18000\", \"20000\", \"22000\", \"24000\"], \"y\": [\"0.1438\", \"0.1447\", \"0.1286\", \"0.1238\", \"0.1199\", \"0.1298\", \"0.1281\", \"0.1236\", \"0.1351\", \"0.1229\", \"0.1226\", \"0.1262\"]}, {\"line\": {\"color\": \"rgba(255, 153, 51, 0.8999999999999999)\", \"dash\": \"solid\", \"shape\": \"linear\", \"width\": 1.3}, \"mode\": \"lines\", \"name\": \"mR @ 50\", \"text\": \"\", \"type\": \"scatter\", \"x\": [\"2000\", \"4000\", \"6000\", \"8000\", \"10000\", \"12000\", \"14000\", \"16000\", \"18000\", \"20000\", \"22000\", \"24000\"], \"y\": [\"0.1800\", \"0.1720\", \"0.1629\", \"0.1559\", \"0.1475\", \"0.1613\", \"0.1584\", \"0.1562\", \"0.1693\", \"0.1534\", \"0.1513\", \"0.1526\"]}, {\"line\": {\"color\": \"rgba(55, 128, 191, 0.8999999999999999)\", \"dash\": \"solid\", \"shape\": \"linear\", \"width\": 1.3}, \"mode\": \"lines\", \"name\": \"mR @ 100\", \"text\": \"\", \"type\": \"scatter\", \"x\": [\"2000\", \"4000\", \"6000\", \"8000\", \"10000\", \"12000\", \"14000\", \"16000\", \"18000\", \"20000\", \"22000\", \"24000\"], \"y\": [\"0.1945\", \"0.1810\", \"0.1733\", \"0.1662\", \"0.1559\", \"0.1712\", \"0.1698\", \"0.1653\", \"0.1786\", \"0.1650\", \"0.1642\", \"0.1700\"]}, {\"line\": {\"color\": \"rgba(50, 171, 96, 0.8999999999999999)\", \"dash\": \"solid\", \"shape\": \"linear\", \"width\": 1.3}, \"mode\": \"lines\", \"name\": \"A @ 20\", \"text\": \"\", \"type\": \"scatter\", \"x\": [\"2000\", \"4000\", \"6000\", \"8000\", \"10000\", \"12000\", \"14000\", \"16000\", \"18000\", \"20000\", \"22000\", \"24000\"], \"y\": [\"0.3840\", \"0.5180\", \"0.5872\", \"0.5651\", \"0.5444\", \"0.6522\", \"0.6592\", \"0.6559\", \"0.6531\", \"0.6564\", \"0.6536\", \"0.6492\"]}, {\"line\": {\"color\": \"rgba(128, 0, 128, 0.8999999999999999)\", \"dash\": \"solid\", \"shape\": \"linear\", \"width\": 1.3}, \"mode\": \"lines\", \"name\": \"A @ 50\", \"text\": \"\", \"type\": \"scatter\", \"x\": [\"2000\", \"4000\", \"6000\", \"8000\", \"10000\", \"12000\", \"14000\", \"16000\", \"18000\", \"20000\", \"22000\", \"24000\"], \"y\": [\"0.3870\", \"0.5224\", \"0.5925\", \"0.5698\", \"0.5492\", \"0.6572\", \"0.6639\", \"0.6610\", \"0.6573\", \"0.6600\", \"0.6578\", \"0.6531\"]}, {\"line\": {\"color\": \"rgba(219, 64, 82, 0.8999999999999999)\", \"dash\": \"solid\", \"shape\": \"linear\", \"width\": 1.3}, \"mode\": \"lines\", \"name\": \"A @ 100\", \"text\": \"\", \"type\": \"scatter\", \"x\": [\"2000\", \"4000\", \"6000\", \"8000\", \"10000\", \"12000\", \"14000\", \"16000\", \"18000\", \"20000\", \"22000\", \"24000\"], \"y\": [\"0.3870\", \"0.5224\", \"0.5925\", \"0.5698\", \"0.5492\", \"0.6572\", \"0.6639\", \"0.6610\", \"0.6573\", \"0.6600\", \"0.6578\", \"0.6531\"]}],\n                        {\"legend\": {\"bgcolor\": \"#FFFFFF\", \"font\": {\"color\": \"#4D5663\"}}, \"paper_bgcolor\": \"#FFFFFF\", \"plot_bgcolor\": \"#FFFFFF\", \"template\": {\"data\": {\"bar\": [{\"error_x\": {\"color\": \"#2a3f5f\"}, \"error_y\": {\"color\": \"#2a3f5f\"}, \"marker\": {\"line\": {\"color\": \"#E5ECF6\", \"width\": 0.5}}, \"type\": \"bar\"}], \"barpolar\": [{\"marker\": {\"line\": {\"color\": \"#E5ECF6\", \"width\": 0.5}}, \"type\": \"barpolar\"}], \"carpet\": [{\"aaxis\": {\"endlinecolor\": \"#2a3f5f\", \"gridcolor\": \"white\", \"linecolor\": \"white\", \"minorgridcolor\": \"white\", \"startlinecolor\": \"#2a3f5f\"}, \"baxis\": {\"endlinecolor\": \"#2a3f5f\", \"gridcolor\": \"white\", \"linecolor\": \"white\", \"minorgridcolor\": \"white\", \"startlinecolor\": \"#2a3f5f\"}, \"type\": \"carpet\"}], \"choropleth\": [{\"colorbar\": {\"outlinewidth\": 0, \"ticks\": \"\"}, \"type\": \"choropleth\"}], \"contour\": [{\"colorbar\": {\"outlinewidth\": 0, \"ticks\": \"\"}, \"colorscale\": [[0.0, \"#0d0887\"], [0.1111111111111111, \"#46039f\"], [0.2222222222222222, \"#7201a8\"], [0.3333333333333333, \"#9c179e\"], [0.4444444444444444, \"#bd3786\"], [0.5555555555555556, \"#d8576b\"], [0.6666666666666666, \"#ed7953\"], [0.7777777777777778, \"#fb9f3a\"], [0.8888888888888888, \"#fdca26\"], [1.0, \"#f0f921\"]], \"type\": \"contour\"}], \"contourcarpet\": [{\"colorbar\": {\"outlinewidth\": 0, \"ticks\": \"\"}, \"type\": \"contourcarpet\"}], \"heatmap\": [{\"colorbar\": {\"outlinewidth\": 0, \"ticks\": \"\"}, \"colorscale\": [[0.0, \"#0d0887\"], [0.1111111111111111, \"#46039f\"], [0.2222222222222222, \"#7201a8\"], [0.3333333333333333, \"#9c179e\"], [0.4444444444444444, \"#bd3786\"], [0.5555555555555556, \"#d8576b\"], [0.6666666666666666, \"#ed7953\"], [0.7777777777777778, \"#fb9f3a\"], [0.8888888888888888, \"#fdca26\"], [1.0, \"#f0f921\"]], \"type\": \"heatmap\"}], \"heatmapgl\": [{\"colorbar\": {\"outlinewidth\": 0, \"ticks\": \"\"}, \"colorscale\": [[0.0, \"#0d0887\"], [0.1111111111111111, \"#46039f\"], [0.2222222222222222, \"#7201a8\"], [0.3333333333333333, \"#9c179e\"], [0.4444444444444444, \"#bd3786\"], [0.5555555555555556, \"#d8576b\"], [0.6666666666666666, \"#ed7953\"], [0.7777777777777778, \"#fb9f3a\"], [0.8888888888888888, \"#fdca26\"], [1.0, \"#f0f921\"]], \"type\": \"heatmapgl\"}], \"histogram\": [{\"marker\": {\"colorbar\": {\"outlinewidth\": 0, \"ticks\": \"\"}}, \"type\": \"histogram\"}], \"histogram2d\": [{\"colorbar\": {\"outlinewidth\": 0, \"ticks\": \"\"}, \"colorscale\": [[0.0, \"#0d0887\"], [0.1111111111111111, \"#46039f\"], [0.2222222222222222, \"#7201a8\"], [0.3333333333333333, \"#9c179e\"], [0.4444444444444444, \"#bd3786\"], [0.5555555555555556, \"#d8576b\"], [0.6666666666666666, \"#ed7953\"], [0.7777777777777778, \"#fb9f3a\"], [0.8888888888888888, \"#fdca26\"], [1.0, \"#f0f921\"]], \"type\": \"histogram2d\"}], \"histogram2dcontour\": [{\"colorbar\": {\"outlinewidth\": 0, \"ticks\": \"\"}, \"colorscale\": [[0.0, \"#0d0887\"], [0.1111111111111111, \"#46039f\"], [0.2222222222222222, \"#7201a8\"], [0.3333333333333333, \"#9c179e\"], [0.4444444444444444, \"#bd3786\"], [0.5555555555555556, \"#d8576b\"], [0.6666666666666666, \"#ed7953\"], [0.7777777777777778, \"#fb9f3a\"], [0.8888888888888888, \"#fdca26\"], [1.0, \"#f0f921\"]], \"type\": \"histogram2dcontour\"}], \"mesh3d\": [{\"colorbar\": {\"outlinewidth\": 0, \"ticks\": \"\"}, \"type\": \"mesh3d\"}], \"parcoords\": [{\"line\": {\"colorbar\": {\"outlinewidth\": 0, \"ticks\": \"\"}}, \"type\": \"parcoords\"}], \"pie\": [{\"automargin\": true, \"type\": \"pie\"}], \"scatter\": [{\"marker\": {\"colorbar\": {\"outlinewidth\": 0, \"ticks\": \"\"}}, \"type\": \"scatter\"}], \"scatter3d\": [{\"line\": {\"colorbar\": {\"outlinewidth\": 0, \"ticks\": \"\"}}, \"marker\": {\"colorbar\": {\"outlinewidth\": 0, \"ticks\": \"\"}}, \"type\": \"scatter3d\"}], \"scattercarpet\": [{\"marker\": {\"colorbar\": {\"outlinewidth\": 0, \"ticks\": \"\"}}, \"type\": \"scattercarpet\"}], \"scattergeo\": [{\"marker\": {\"colorbar\": {\"outlinewidth\": 0, \"ticks\": \"\"}}, \"type\": \"scattergeo\"}], \"scattergl\": [{\"marker\": {\"colorbar\": {\"outlinewidth\": 0, \"ticks\": \"\"}}, \"type\": \"scattergl\"}], \"scattermapbox\": [{\"marker\": {\"colorbar\": {\"outlinewidth\": 0, \"ticks\": \"\"}}, \"type\": \"scattermapbox\"}], \"scatterpolar\": [{\"marker\": {\"colorbar\": {\"outlinewidth\": 0, \"ticks\": \"\"}}, \"type\": \"scatterpolar\"}], \"scatterpolargl\": [{\"marker\": {\"colorbar\": {\"outlinewidth\": 0, \"ticks\": \"\"}}, \"type\": \"scatterpolargl\"}], \"scatterternary\": [{\"marker\": {\"colorbar\": {\"outlinewidth\": 0, \"ticks\": \"\"}}, \"type\": \"scatterternary\"}], \"surface\": [{\"colorbar\": {\"outlinewidth\": 0, \"ticks\": \"\"}, \"colorscale\": [[0.0, \"#0d0887\"], [0.1111111111111111, \"#46039f\"], [0.2222222222222222, \"#7201a8\"], [0.3333333333333333, \"#9c179e\"], [0.4444444444444444, \"#bd3786\"], [0.5555555555555556, \"#d8576b\"], [0.6666666666666666, \"#ed7953\"], [0.7777777777777778, \"#fb9f3a\"], [0.8888888888888888, \"#fdca26\"], [1.0, \"#f0f921\"]], \"type\": \"surface\"}], \"table\": [{\"cells\": {\"fill\": {\"color\": \"#EBF0F8\"}, \"line\": {\"color\": \"white\"}}, \"header\": {\"fill\": {\"color\": \"#C8D4E3\"}, \"line\": {\"color\": \"white\"}}, \"type\": \"table\"}]}, \"layout\": {\"annotationdefaults\": {\"arrowcolor\": \"#2a3f5f\", \"arrowhead\": 0, \"arrowwidth\": 1}, \"coloraxis\": {\"colorbar\": {\"outlinewidth\": 0, \"ticks\": \"\"}}, \"colorscale\": {\"diverging\": [[0, \"#8e0152\"], [0.1, \"#c51b7d\"], [0.2, \"#de77ae\"], [0.3, \"#f1b6da\"], [0.4, \"#fde0ef\"], [0.5, \"#f7f7f7\"], [0.6, \"#e6f5d0\"], [0.7, \"#b8e186\"], [0.8, \"#7fbc41\"], [0.9, \"#4d9221\"], [1, \"#276419\"]], \"sequential\": [[0.0, \"#0d0887\"], [0.1111111111111111, \"#46039f\"], [0.2222222222222222, \"#7201a8\"], [0.3333333333333333, \"#9c179e\"], [0.4444444444444444, \"#bd3786\"], [0.5555555555555556, \"#d8576b\"], [0.6666666666666666, \"#ed7953\"], [0.7777777777777778, \"#fb9f3a\"], [0.8888888888888888, \"#fdca26\"], [1.0, \"#f0f921\"]], \"sequentialminus\": [[0.0, \"#0d0887\"], [0.1111111111111111, \"#46039f\"], [0.2222222222222222, \"#7201a8\"], [0.3333333333333333, \"#9c179e\"], [0.4444444444444444, \"#bd3786\"], [0.5555555555555556, \"#d8576b\"], [0.6666666666666666, \"#ed7953\"], [0.7777777777777778, \"#fb9f3a\"], [0.8888888888888888, \"#fdca26\"], [1.0, \"#f0f921\"]]}, \"colorway\": [\"#636efa\", \"#EF553B\", \"#00cc96\", \"#ab63fa\", \"#FFA15A\", \"#19d3f3\", \"#FF6692\", \"#B6E880\", \"#FF97FF\", \"#FECB52\"], \"font\": {\"color\": \"#2a3f5f\"}, \"geo\": {\"bgcolor\": \"white\", \"lakecolor\": \"white\", \"landcolor\": \"#E5ECF6\", \"showlakes\": true, \"showland\": true, \"subunitcolor\": \"white\"}, \"hoverlabel\": {\"align\": \"left\"}, \"hovermode\": \"closest\", \"mapbox\": {\"style\": \"light\"}, \"paper_bgcolor\": \"white\", \"plot_bgcolor\": \"#E5ECF6\", \"polar\": {\"angularaxis\": {\"gridcolor\": \"white\", \"linecolor\": \"white\", \"ticks\": \"\"}, \"bgcolor\": \"#E5ECF6\", \"radialaxis\": {\"gridcolor\": \"white\", \"linecolor\": \"white\", \"ticks\": \"\"}}, \"scene\": {\"xaxis\": {\"backgroundcolor\": \"#E5ECF6\", \"gridcolor\": \"white\", \"gridwidth\": 2, \"linecolor\": \"white\", \"showbackground\": true, \"ticks\": \"\", \"zerolinecolor\": \"white\"}, \"yaxis\": {\"backgroundcolor\": \"#E5ECF6\", \"gridcolor\": \"white\", \"gridwidth\": 2, \"linecolor\": \"white\", \"showbackground\": true, \"ticks\": \"\", \"zerolinecolor\": \"white\"}, \"zaxis\": {\"backgroundcolor\": \"#E5ECF6\", \"gridcolor\": \"white\", \"gridwidth\": 2, \"linecolor\": \"white\", \"showbackground\": true, \"ticks\": \"\", \"zerolinecolor\": \"white\"}}, \"shapedefaults\": {\"line\": {\"color\": \"#2a3f5f\"}}, \"ternary\": {\"aaxis\": {\"gridcolor\": \"white\", \"linecolor\": \"white\", \"ticks\": \"\"}, \"baxis\": {\"gridcolor\": \"white\", \"linecolor\": \"white\", \"ticks\": \"\"}, \"bgcolor\": \"#E5ECF6\", \"caxis\": {\"gridcolor\": \"white\", \"linecolor\": \"white\", \"ticks\": \"\"}}, \"title\": {\"x\": 0.05}, \"xaxis\": {\"automargin\": true, \"gridcolor\": \"white\", \"linecolor\": \"white\", \"ticks\": \"\", \"title\": {\"standoff\": 15}, \"zerolinecolor\": \"white\", \"zerolinewidth\": 2}, \"yaxis\": {\"automargin\": true, \"gridcolor\": \"white\", \"linecolor\": \"white\", \"ticks\": \"\", \"title\": {\"standoff\": 15}, \"zerolinecolor\": \"white\", \"zerolinewidth\": 2}}}, \"title\": {\"font\": {\"color\": \"#4D5663\"}, \"text\": \"precls-CausalAnalysisPredictor-motifs-dist2-TDE\"}, \"xaxis\": {\"gridcolor\": \"#E1E5ED\", \"showgrid\": true, \"tickfont\": {\"color\": \"#4D5663\"}, \"title\": {\"font\": {\"color\": \"#4D5663\"}, \"text\": \"\"}, \"zerolinecolor\": \"#E1E5ED\"}, \"yaxis\": {\"gridcolor\": \"#E1E5ED\", \"showgrid\": true, \"tickfont\": {\"color\": \"#4D5663\"}, \"title\": {\"font\": {\"color\": \"#4D5663\"}, \"text\": \"\"}, \"zerolinecolor\": \"#E1E5ED\"}},\n                        {\"showLink\": true, \"linkText\": \"Export to plot.ly\", \"plotlyServerURL\": \"https://plot.ly\", \"responsive\": true}\n                    ).then(function(){\n                            \nvar gd = document.getElementById('af5fa6a4-7a77-439a-8986-f46f45001f17');\nvar x = new MutationObserver(function (mutations, observer) {{\n        var display = window.getComputedStyle(gd).display;\n        if (!display || display === 'none') {{\n            console.log([gd, 'removed!']);\n            Plotly.purge(gd);\n            observer.disconnect();\n        }}\n}});\n\n// Listen for the removal of the full notebook cells\nvar notebookContainer = gd.closest('#notebook-container');\nif (notebookContainer) {{\n    x.observe(notebookContainer, {childList: true});\n}}\n\n// Listen for the clearing of the current output cell\nvar outputEl = gd.closest('.output');\nif (outputEl) {{\n    x.observe(outputEl, {childList: true});\n}}\n\n                        })\n                };\n                });\n            </script>\n        </div>"
     },
     "metadata": {}
    }
   ],
   "source": [
    "df.iplot(kind=\"scatter\", theme=\"white\",x=\"iter\",title=\"precls-CausalAnalysisPredictor-motifs-dist2-TDE\")"
   ]
  },
  {
   "cell_type": "code",
   "execution_count": null,
   "metadata": {},
   "outputs": [],
   "source": []
  }
 ],
 "metadata": {
  "kernelspec": {
   "display_name": "Python 3",
   "language": "python",
   "name": "python3"
  },
  "language_info": {
   "codemirror_mode": {
    "name": "ipython",
    "version": 3
   },
   "file_extension": ".py",
   "mimetype": "text/x-python",
   "name": "python",
   "nbconvert_exporter": "python",
   "pygments_lexer": "ipython3",
   "version": "3.6.8-final"
  },
  "toc": {
   "base_numbering": 1,
   "nav_menu": {},
   "number_sections": true,
   "sideBar": true,
   "skip_h1_title": false,
   "title_cell": "Table of Contents",
   "title_sidebar": "Contents",
   "toc_cell": false,
   "toc_position": {},
   "toc_section_display": true,
   "toc_window_display": false
  }
 },
 "nbformat": 4,
 "nbformat_minor": 2
}