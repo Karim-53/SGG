{
 "cells": [
  {
   "cell_type": "code",
   "execution_count": 1,
   "metadata": {
    "ExecuteTime": {
     "end_time": "2020-06-08T15:12:03.532454Z",
     "start_time": "2020-06-08T15:12:02.985068Z"
    }
   },
   "outputs": [],
   "source": [
    "import numpy as np\n",
    "import pandas as pd\n",
    "import re"
   ]
  },
  {
   "cell_type": "code",
   "execution_count": 2,
   "metadata": {
    "ExecuteTime": {
     "end_time": "2020-06-08T15:12:03.539399Z",
     "start_time": "2020-06-08T15:12:03.533463Z"
    }
   },
   "outputs": [],
   "source": [
    "patern_str = 'iter: (\\d+)(?:(?!iter).)*mAp=([\\d\\.]+)(?:.|\\n)+?R @ 20: ([\\d\\.]+);   R @ 50: ([\\d\\.]+);   R @ 100: ([\\d\\.]+)(?:.|\\n)+?.+?@ 20: ([\\d\\.]+); .+?@ 50: ([\\d\\.]+); .+?@ 100: ([\\d\\.]+)(?:.|\\n)+?.+?@ 20: ([\\d\\.]+); .+?@ 50: ([\\d\\.]+); .+?@ 100: ([\\d\\.]+)(?:.|\\n)+?.+?@ 20: ([\\d\\.]+); .+?@ 50: ([\\d\\.]+); .+?@ 100: ([\\d\\.]+)(?:.|\\n)+?.+?@ 20: ([\\d\\.]+); .+?@ 50: ([\\d\\.]+); .+?@ 100: ([\\d\\.]+)'\n",
    "p = re.compile(patern_str, re.MULTILINE | re.DOTALL)"
   ]
  },
  {
   "cell_type": "code",
   "execution_count": 3,
   "metadata": {
    "ExecuteTime": {
     "end_time": "2020-06-08T15:12:03.547378Z",
     "start_time": "2020-06-08T15:12:03.540396Z"
    }
   },
   "outputs": [],
   "source": [
    "logfile = r'C:\\Users\\Karim\\Google Drive\\AAA\\HS\\4_code\\4_RTX\\log.txt'\n",
    "\n",
    "f = open(logfile,mode='r') \n",
    "Tx = f.read()\n",
    "f.close()"
   ]
  },
  {
   "cell_type": "code",
   "execution_count": 4,
   "metadata": {
    "ExecuteTime": {
     "end_time": "2020-06-08T15:12:03.613231Z",
     "start_time": "2020-06-08T15:12:03.548375Z"
    }
   },
   "outputs": [
    {
     "data": {
      "text/html": [
       "<div>\n",
       "<style scoped>\n",
       "    .dataframe tbody tr th:only-of-type {\n",
       "        vertical-align: middle;\n",
       "    }\n",
       "\n",
       "    .dataframe tbody tr th {\n",
       "        vertical-align: top;\n",
       "    }\n",
       "\n",
       "    .dataframe thead th {\n",
       "        text-align: right;\n",
       "    }\n",
       "</style>\n",
       "<table border=\"1\" class=\"dataframe\">\n",
       "  <thead>\n",
       "    <tr style=\"text-align: right;\">\n",
       "      <th></th>\n",
       "      <th>iter</th>\n",
       "      <th>mAp</th>\n",
       "      <th>R @ 20</th>\n",
       "      <th>R @ 50</th>\n",
       "      <th>R @ 100</th>\n",
       "      <th>ngR @ 20</th>\n",
       "      <th>ngR @ 50</th>\n",
       "      <th>ngR @ 100</th>\n",
       "      <th>zR @ 20</th>\n",
       "      <th>zR @ 50</th>\n",
       "      <th>zR @ 100</th>\n",
       "      <th>mR @ 20</th>\n",
       "      <th>mR @ 50</th>\n",
       "      <th>mR @ 100</th>\n",
       "      <th>A @ 20</th>\n",
       "      <th>A @ 50</th>\n",
       "      <th>A @ 100</th>\n",
       "    </tr>\n",
       "  </thead>\n",
       "  <tbody>\n",
       "    <tr>\n",
       "      <th>0</th>\n",
       "      <td>2000</td>\n",
       "      <td>0.9999</td>\n",
       "      <td>0.6015</td>\n",
       "      <td>0.6554</td>\n",
       "      <td>0.6722</td>\n",
       "      <td>0.6856</td>\n",
       "      <td>0.8146</td>\n",
       "      <td>0.8774</td>\n",
       "      <td>0.0133</td>\n",
       "      <td>0.0178</td>\n",
       "      <td>0.0356</td>\n",
       "      <td>0.1162</td>\n",
       "      <td>0.1411</td>\n",
       "      <td>0.1516</td>\n",
       "      <td>0.6970</td>\n",
       "      <td>0.7018</td>\n",
       "      <td>0.7018</td>\n",
       "    </tr>\n",
       "    <tr>\n",
       "      <th>1</th>\n",
       "      <td>4000</td>\n",
       "      <td>0.9999</td>\n",
       "      <td>0.6032</td>\n",
       "      <td>0.6590</td>\n",
       "      <td>0.6737</td>\n",
       "      <td>0.6913</td>\n",
       "      <td>0.8168</td>\n",
       "      <td>0.8828</td>\n",
       "      <td>0.0133</td>\n",
       "      <td>0.0289</td>\n",
       "      <td>0.0467</td>\n",
       "      <td>0.1218</td>\n",
       "      <td>0.1520</td>\n",
       "      <td>0.1610</td>\n",
       "      <td>0.6985</td>\n",
       "      <td>0.7033</td>\n",
       "      <td>0.7033</td>\n",
       "    </tr>\n",
       "    <tr>\n",
       "      <th>2</th>\n",
       "      <td>6000</td>\n",
       "      <td>0.9999</td>\n",
       "      <td>0.6023</td>\n",
       "      <td>0.6577</td>\n",
       "      <td>0.6736</td>\n",
       "      <td>0.6929</td>\n",
       "      <td>0.8186</td>\n",
       "      <td>0.8849</td>\n",
       "      <td>0.0089</td>\n",
       "      <td>0.0222</td>\n",
       "      <td>0.0267</td>\n",
       "      <td>0.1286</td>\n",
       "      <td>0.1578</td>\n",
       "      <td>0.1680</td>\n",
       "      <td>0.7001</td>\n",
       "      <td>0.7047</td>\n",
       "      <td>0.7047</td>\n",
       "    </tr>\n",
       "    <tr>\n",
       "      <th>3</th>\n",
       "      <td>8000</td>\n",
       "      <td>0.9999</td>\n",
       "      <td>0.6083</td>\n",
       "      <td>0.6601</td>\n",
       "      <td>0.6759</td>\n",
       "      <td>0.6957</td>\n",
       "      <td>0.8224</td>\n",
       "      <td>0.8873</td>\n",
       "      <td>0.0133</td>\n",
       "      <td>0.0267</td>\n",
       "      <td>0.0400</td>\n",
       "      <td>0.1140</td>\n",
       "      <td>0.1395</td>\n",
       "      <td>0.1489</td>\n",
       "      <td>0.7014</td>\n",
       "      <td>0.7062</td>\n",
       "      <td>0.7062</td>\n",
       "    </tr>\n",
       "    <tr>\n",
       "      <th>4</th>\n",
       "      <td>9600</td>\n",
       "      <td>0.9999</td>\n",
       "      <td>0.6082</td>\n",
       "      <td>0.6603</td>\n",
       "      <td>0.6760</td>\n",
       "      <td>0.6954</td>\n",
       "      <td>0.8225</td>\n",
       "      <td>0.8873</td>\n",
       "      <td>0.0133</td>\n",
       "      <td>0.0267</td>\n",
       "      <td>0.0400</td>\n",
       "      <td>0.1140</td>\n",
       "      <td>0.1396</td>\n",
       "      <td>0.1486</td>\n",
       "      <td>0.7016</td>\n",
       "      <td>0.7063</td>\n",
       "      <td>0.7063</td>\n",
       "    </tr>\n",
       "    <tr>\n",
       "      <th>5</th>\n",
       "      <td>10000</td>\n",
       "      <td>0.9999</td>\n",
       "      <td>0.6004</td>\n",
       "      <td>0.6576</td>\n",
       "      <td>0.6735</td>\n",
       "      <td>0.6891</td>\n",
       "      <td>0.8209</td>\n",
       "      <td>0.8870</td>\n",
       "      <td>0.0133</td>\n",
       "      <td>0.0356</td>\n",
       "      <td>0.0533</td>\n",
       "      <td>0.1058</td>\n",
       "      <td>0.1302</td>\n",
       "      <td>0.1408</td>\n",
       "      <td>0.6979</td>\n",
       "      <td>0.7026</td>\n",
       "      <td>0.7026</td>\n",
       "    </tr>\n",
       "    <tr>\n",
       "      <th>6</th>\n",
       "      <td>15000</td>\n",
       "      <td>0.9999</td>\n",
       "      <td>0.6094</td>\n",
       "      <td>0.6626</td>\n",
       "      <td>0.6793</td>\n",
       "      <td>0.6966</td>\n",
       "      <td>0.8242</td>\n",
       "      <td>0.8894</td>\n",
       "      <td>0.0178</td>\n",
       "      <td>0.0400</td>\n",
       "      <td>0.0511</td>\n",
       "      <td>0.1231</td>\n",
       "      <td>0.1459</td>\n",
       "      <td>0.1581</td>\n",
       "      <td>0.7017</td>\n",
       "      <td>0.7067</td>\n",
       "      <td>0.7067</td>\n",
       "    </tr>\n",
       "    <tr>\n",
       "      <th>7</th>\n",
       "      <td>20000</td>\n",
       "      <td>0.9999</td>\n",
       "      <td>0.6015</td>\n",
       "      <td>0.6606</td>\n",
       "      <td>0.6759</td>\n",
       "      <td>0.6895</td>\n",
       "      <td>0.8207</td>\n",
       "      <td>0.8882</td>\n",
       "      <td>0.0178</td>\n",
       "      <td>0.0444</td>\n",
       "      <td>0.0622</td>\n",
       "      <td>0.1167</td>\n",
       "      <td>0.1445</td>\n",
       "      <td>0.1535</td>\n",
       "      <td>0.6996</td>\n",
       "      <td>0.7045</td>\n",
       "      <td>0.7045</td>\n",
       "    </tr>\n",
       "    <tr>\n",
       "      <th>8</th>\n",
       "      <td>25000</td>\n",
       "      <td>0.9999</td>\n",
       "      <td>0.6069</td>\n",
       "      <td>0.6599</td>\n",
       "      <td>0.6751</td>\n",
       "      <td>0.6963</td>\n",
       "      <td>0.8241</td>\n",
       "      <td>0.8911</td>\n",
       "      <td>0.0089</td>\n",
       "      <td>0.0311</td>\n",
       "      <td>0.0400</td>\n",
       "      <td>0.1181</td>\n",
       "      <td>0.1402</td>\n",
       "      <td>0.1530</td>\n",
       "      <td>0.6995</td>\n",
       "      <td>0.7042</td>\n",
       "      <td>0.7042</td>\n",
       "    </tr>\n",
       "    <tr>\n",
       "      <th>9</th>\n",
       "      <td>30000</td>\n",
       "      <td>0.9999</td>\n",
       "      <td>0.6110</td>\n",
       "      <td>0.6661</td>\n",
       "      <td>0.6806</td>\n",
       "      <td>0.7037</td>\n",
       "      <td>0.8278</td>\n",
       "      <td>0.8937</td>\n",
       "      <td>0.0133</td>\n",
       "      <td>0.0400</td>\n",
       "      <td>0.0578</td>\n",
       "      <td>0.1413</td>\n",
       "      <td>0.1705</td>\n",
       "      <td>0.1837</td>\n",
       "      <td>0.7038</td>\n",
       "      <td>0.7089</td>\n",
       "      <td>0.7089</td>\n",
       "    </tr>\n",
       "  </tbody>\n",
       "</table>\n",
       "</div>"
      ],
      "text/plain": [
       "    iter     mAp  R @ 20  R @ 50 R @ 100 ngR @ 20 ngR @ 50 ngR @ 100 zR @ 20  \\\n",
       "0   2000  0.9999  0.6015  0.6554  0.6722   0.6856   0.8146    0.8774  0.0133   \n",
       "1   4000  0.9999  0.6032  0.6590  0.6737   0.6913   0.8168    0.8828  0.0133   \n",
       "2   6000  0.9999  0.6023  0.6577  0.6736   0.6929   0.8186    0.8849  0.0089   \n",
       "3   8000  0.9999  0.6083  0.6601  0.6759   0.6957   0.8224    0.8873  0.0133   \n",
       "4   9600  0.9999  0.6082  0.6603  0.6760   0.6954   0.8225    0.8873  0.0133   \n",
       "5  10000  0.9999  0.6004  0.6576  0.6735   0.6891   0.8209    0.8870  0.0133   \n",
       "6  15000  0.9999  0.6094  0.6626  0.6793   0.6966   0.8242    0.8894  0.0178   \n",
       "7  20000  0.9999  0.6015  0.6606  0.6759   0.6895   0.8207    0.8882  0.0178   \n",
       "8  25000  0.9999  0.6069  0.6599  0.6751   0.6963   0.8241    0.8911  0.0089   \n",
       "9  30000  0.9999  0.6110  0.6661  0.6806   0.7037   0.8278    0.8937  0.0133   \n",
       "\n",
       "  zR @ 50 zR @ 100 mR @ 20 mR @ 50 mR @ 100  A @ 20  A @ 50 A @ 100  \n",
       "0  0.0178   0.0356  0.1162  0.1411   0.1516  0.6970  0.7018  0.7018  \n",
       "1  0.0289   0.0467  0.1218  0.1520   0.1610  0.6985  0.7033  0.7033  \n",
       "2  0.0222   0.0267  0.1286  0.1578   0.1680  0.7001  0.7047  0.7047  \n",
       "3  0.0267   0.0400  0.1140  0.1395   0.1489  0.7014  0.7062  0.7062  \n",
       "4  0.0267   0.0400  0.1140  0.1396   0.1486  0.7016  0.7063  0.7063  \n",
       "5  0.0356   0.0533  0.1058  0.1302   0.1408  0.6979  0.7026  0.7026  \n",
       "6  0.0400   0.0511  0.1231  0.1459   0.1581  0.7017  0.7067  0.7067  \n",
       "7  0.0444   0.0622  0.1167  0.1445   0.1535  0.6996  0.7045  0.7045  \n",
       "8  0.0311   0.0400  0.1181  0.1402   0.1530  0.6995  0.7042  0.7042  \n",
       "9  0.0400   0.0578  0.1413  0.1705   0.1837  0.7038  0.7089  0.7089  "
      ]
     },
     "execution_count": 4,
     "metadata": {},
     "output_type": "execute_result"
    }
   ],
   "source": [
    "keys = ['iter', 'mAp',\n",
    "        'R @ 20', 'R @ 50', 'R @ 100',\n",
    "        'ngR @ 20', 'ngR @ 50', 'ngR @ 100',\n",
    "        'zR @ 20', 'zR @ 50', 'zR @ 100',\n",
    "        'mR @ 20', 'mR @ 50', 'mR @ 100',\n",
    "        'A @ 20', 'A @ 50', 'A @ 100',\n",
    "       ]\n",
    "matches = re.findall(patern_str, Tx,  re.MULTILINE | re.DOTALL)\n",
    "\n",
    "arr = []\n",
    "for match in matches:\n",
    "    _dict = {}\n",
    "    for key,val in zip(keys,match):\n",
    "        _dict[key] = val\n",
    "    arr.append(_dict)\n",
    "    \n",
    "df = pd.DataFrame(data=arr, columns=keys)\n",
    "df"
   ]
  },
  {
   "cell_type": "code",
   "execution_count": 6,
   "metadata": {
    "ExecuteTime": {
     "end_time": "2020-06-08T15:12:32.179299Z",
     "start_time": "2020-06-08T15:12:30.071729Z"
    }
   },
   "outputs": [
    {
     "data": {
      "text/html": [
       "        <script type=\"text/javascript\">\n",
       "        window.PlotlyConfig = {MathJaxConfig: 'local'};\n",
       "        if (window.MathJax) {MathJax.Hub.Config({SVG: {font: \"STIX-Web\"}});}\n",
       "        if (typeof require !== 'undefined') {\n",
       "        require.undef(\"plotly\");\n",
       "        requirejs.config({\n",
       "            paths: {\n",
       "                'plotly': ['https://cdn.plot.ly/plotly-latest.min']\n",
       "            }\n",
       "        });\n",
       "        require(['plotly'], function(Plotly) {\n",
       "            window._Plotly = Plotly;\n",
       "        });\n",
       "        }\n",
       "        </script>\n",
       "        "
      ]
     },
     "metadata": {},
     "output_type": "display_data"
    }
   ],
   "source": [
    "import cufflinks as cf\n",
    "import plotly.offline\n",
    "cf.go_offline()\n",
    "cf.set_config_file(offline=False, world_readable=True)"
   ]
  },
  {
   "cell_type": "code",
   "execution_count": 8,
   "metadata": {
    "ExecuteTime": {
     "end_time": "2020-06-08T15:12:58.493088Z",
     "start_time": "2020-06-08T15:12:58.439196Z"
    }
   },
   "outputs": [
    {
     "data": {
      "application/vnd.plotly.v1+json": {
       "config": {
        "linkText": "Export to plot.ly",
        "plotlyServerURL": "https://plot.ly",
        "showLink": true
       },
       "data": [
        {
         "line": {
          "color": "rgba(255, 153, 51, 1.0)",
          "dash": "solid",
          "shape": "linear",
          "width": 1.3
         },
         "mode": "lines",
         "name": "mAp",
         "text": "",
         "type": "scatter",
         "x": [
          "2000",
          "4000",
          "6000",
          "8000",
          "9600",
          "10000",
          "15000",
          "20000",
          "25000",
          "30000"
         ],
         "y": [
          "0.9999",
          "0.9999",
          "0.9999",
          "0.9999",
          "0.9999",
          "0.9999",
          "0.9999",
          "0.9999",
          "0.9999",
          "0.9999"
         ]
        },
        {
         "line": {
          "color": "rgba(55, 128, 191, 1.0)",
          "dash": "solid",
          "shape": "linear",
          "width": 1.3
         },
         "mode": "lines",
         "name": "R @ 20",
         "text": "",
         "type": "scatter",
         "x": [
          "2000",
          "4000",
          "6000",
          "8000",
          "9600",
          "10000",
          "15000",
          "20000",
          "25000",
          "30000"
         ],
         "y": [
          "0.6015",
          "0.6032",
          "0.6023",
          "0.6083",
          "0.6082",
          "0.6004",
          "0.6094",
          "0.6015",
          "0.6069",
          "0.6110"
         ]
        },
        {
         "line": {
          "color": "rgba(50, 171, 96, 1.0)",
          "dash": "solid",
          "shape": "linear",
          "width": 1.3
         },
         "mode": "lines",
         "name": "R @ 50",
         "text": "",
         "type": "scatter",
         "x": [
          "2000",
          "4000",
          "6000",
          "8000",
          "9600",
          "10000",
          "15000",
          "20000",
          "25000",
          "30000"
         ],
         "y": [
          "0.6554",
          "0.6590",
          "0.6577",
          "0.6601",
          "0.6603",
          "0.6576",
          "0.6626",
          "0.6606",
          "0.6599",
          "0.6661"
         ]
        },
        {
         "line": {
          "color": "rgba(128, 0, 128, 1.0)",
          "dash": "solid",
          "shape": "linear",
          "width": 1.3
         },
         "mode": "lines",
         "name": "R @ 100",
         "text": "",
         "type": "scatter",
         "x": [
          "2000",
          "4000",
          "6000",
          "8000",
          "9600",
          "10000",
          "15000",
          "20000",
          "25000",
          "30000"
         ],
         "y": [
          "0.6722",
          "0.6737",
          "0.6736",
          "0.6759",
          "0.6760",
          "0.6735",
          "0.6793",
          "0.6759",
          "0.6751",
          "0.6806"
         ]
        },
        {
         "line": {
          "color": "rgba(219, 64, 82, 1.0)",
          "dash": "solid",
          "shape": "linear",
          "width": 1.3
         },
         "mode": "lines",
         "name": "ngR @ 20",
         "text": "",
         "type": "scatter",
         "x": [
          "2000",
          "4000",
          "6000",
          "8000",
          "9600",
          "10000",
          "15000",
          "20000",
          "25000",
          "30000"
         ],
         "y": [
          "0.6856",
          "0.6913",
          "0.6929",
          "0.6957",
          "0.6954",
          "0.6891",
          "0.6966",
          "0.6895",
          "0.6963",
          "0.7037"
         ]
        },
        {
         "line": {
          "color": "rgba(0, 128, 128, 1.0)",
          "dash": "solid",
          "shape": "linear",
          "width": 1.3
         },
         "mode": "lines",
         "name": "ngR @ 50",
         "text": "",
         "type": "scatter",
         "x": [
          "2000",
          "4000",
          "6000",
          "8000",
          "9600",
          "10000",
          "15000",
          "20000",
          "25000",
          "30000"
         ],
         "y": [
          "0.8146",
          "0.8168",
          "0.8186",
          "0.8224",
          "0.8225",
          "0.8209",
          "0.8242",
          "0.8207",
          "0.8241",
          "0.8278"
         ]
        },
        {
         "line": {
          "color": "rgba(255, 255, 51, 1.0)",
          "dash": "solid",
          "shape": "linear",
          "width": 1.3
         },
         "mode": "lines",
         "name": "ngR @ 100",
         "text": "",
         "type": "scatter",
         "x": [
          "2000",
          "4000",
          "6000",
          "8000",
          "9600",
          "10000",
          "15000",
          "20000",
          "25000",
          "30000"
         ],
         "y": [
          "0.8774",
          "0.8828",
          "0.8849",
          "0.8873",
          "0.8873",
          "0.8870",
          "0.8894",
          "0.8882",
          "0.8911",
          "0.8937"
         ]
        },
        {
         "line": {
          "color": "rgba(128, 128, 0, 1.0)",
          "dash": "solid",
          "shape": "linear",
          "width": 1.3
         },
         "mode": "lines",
         "name": "zR @ 20",
         "text": "",
         "type": "scatter",
         "x": [
          "2000",
          "4000",
          "6000",
          "8000",
          "9600",
          "10000",
          "15000",
          "20000",
          "25000",
          "30000"
         ],
         "y": [
          "0.0133",
          "0.0133",
          "0.0089",
          "0.0133",
          "0.0133",
          "0.0133",
          "0.0178",
          "0.0178",
          "0.0089",
          "0.0133"
         ]
        },
        {
         "line": {
          "color": "rgba(251, 128, 114, 1.0)",
          "dash": "solid",
          "shape": "linear",
          "width": 1.3
         },
         "mode": "lines",
         "name": "zR @ 50",
         "text": "",
         "type": "scatter",
         "x": [
          "2000",
          "4000",
          "6000",
          "8000",
          "9600",
          "10000",
          "15000",
          "20000",
          "25000",
          "30000"
         ],
         "y": [
          "0.0178",
          "0.0289",
          "0.0222",
          "0.0267",
          "0.0267",
          "0.0356",
          "0.0400",
          "0.0444",
          "0.0311",
          "0.0400"
         ]
        },
        {
         "line": {
          "color": "rgba(128, 177, 211, 1.0)",
          "dash": "solid",
          "shape": "linear",
          "width": 1.3
         },
         "mode": "lines",
         "name": "zR @ 100",
         "text": "",
         "type": "scatter",
         "x": [
          "2000",
          "4000",
          "6000",
          "8000",
          "9600",
          "10000",
          "15000",
          "20000",
          "25000",
          "30000"
         ],
         "y": [
          "0.0356",
          "0.0467",
          "0.0267",
          "0.0400",
          "0.0400",
          "0.0533",
          "0.0511",
          "0.0622",
          "0.0400",
          "0.0578"
         ]
        },
        {
         "line": {
          "color": "rgba(128, 177, 211, 0.8999999999999999)",
          "dash": "solid",
          "shape": "linear",
          "width": 1.3
         },
         "mode": "lines",
         "name": "mR @ 20",
         "text": "",
         "type": "scatter",
         "x": [
          "2000",
          "4000",
          "6000",
          "8000",
          "9600",
          "10000",
          "15000",
          "20000",
          "25000",
          "30000"
         ],
         "y": [
          "0.1162",
          "0.1218",
          "0.1286",
          "0.1140",
          "0.1140",
          "0.1058",
          "0.1231",
          "0.1167",
          "0.1181",
          "0.1413"
         ]
        },
        {
         "line": {
          "color": "rgba(255, 153, 51, 0.8999999999999999)",
          "dash": "solid",
          "shape": "linear",
          "width": 1.3
         },
         "mode": "lines",
         "name": "mR @ 50",
         "text": "",
         "type": "scatter",
         "x": [
          "2000",
          "4000",
          "6000",
          "8000",
          "9600",
          "10000",
          "15000",
          "20000",
          "25000",
          "30000"
         ],
         "y": [
          "0.1411",
          "0.1520",
          "0.1578",
          "0.1395",
          "0.1396",
          "0.1302",
          "0.1459",
          "0.1445",
          "0.1402",
          "0.1705"
         ]
        },
        {
         "line": {
          "color": "rgba(55, 128, 191, 0.8999999999999999)",
          "dash": "solid",
          "shape": "linear",
          "width": 1.3
         },
         "mode": "lines",
         "name": "mR @ 100",
         "text": "",
         "type": "scatter",
         "x": [
          "2000",
          "4000",
          "6000",
          "8000",
          "9600",
          "10000",
          "15000",
          "20000",
          "25000",
          "30000"
         ],
         "y": [
          "0.1516",
          "0.1610",
          "0.1680",
          "0.1489",
          "0.1486",
          "0.1408",
          "0.1581",
          "0.1535",
          "0.1530",
          "0.1837"
         ]
        },
        {
         "line": {
          "color": "rgba(50, 171, 96, 0.8999999999999999)",
          "dash": "solid",
          "shape": "linear",
          "width": 1.3
         },
         "mode": "lines",
         "name": "A @ 20",
         "text": "",
         "type": "scatter",
         "x": [
          "2000",
          "4000",
          "6000",
          "8000",
          "9600",
          "10000",
          "15000",
          "20000",
          "25000",
          "30000"
         ],
         "y": [
          "0.6970",
          "0.6985",
          "0.7001",
          "0.7014",
          "0.7016",
          "0.6979",
          "0.7017",
          "0.6996",
          "0.6995",
          "0.7038"
         ]
        },
        {
         "line": {
          "color": "rgba(128, 0, 128, 0.8999999999999999)",
          "dash": "solid",
          "shape": "linear",
          "width": 1.3
         },
         "mode": "lines",
         "name": "A @ 50",
         "text": "",
         "type": "scatter",
         "x": [
          "2000",
          "4000",
          "6000",
          "8000",
          "9600",
          "10000",
          "15000",
          "20000",
          "25000",
          "30000"
         ],
         "y": [
          "0.7018",
          "0.7033",
          "0.7047",
          "0.7062",
          "0.7063",
          "0.7026",
          "0.7067",
          "0.7045",
          "0.7042",
          "0.7089"
         ]
        },
        {
         "line": {
          "color": "rgba(219, 64, 82, 0.8999999999999999)",
          "dash": "solid",
          "shape": "linear",
          "width": 1.3
         },
         "mode": "lines",
         "name": "A @ 100",
         "text": "",
         "type": "scatter",
         "x": [
          "2000",
          "4000",
          "6000",
          "8000",
          "9600",
          "10000",
          "15000",
          "20000",
          "25000",
          "30000"
         ],
         "y": [
          "0.7018",
          "0.7033",
          "0.7047",
          "0.7062",
          "0.7063",
          "0.7026",
          "0.7067",
          "0.7045",
          "0.7042",
          "0.7089"
         ]
        }
       ],
       "layout": {
        "legend": {
         "bgcolor": "#FFFFFF",
         "font": {
          "color": "#4D5663"
         }
        },
        "paper_bgcolor": "#FFFFFF",
        "plot_bgcolor": "#FFFFFF",
        "template": {
         "data": {
          "bar": [
           {
            "error_x": {
             "color": "#2a3f5f"
            },
            "error_y": {
             "color": "#2a3f5f"
            },
            "marker": {
             "line": {
              "color": "#E5ECF6",
              "width": 0.5
             }
            },
            "type": "bar"
           }
          ],
          "barpolar": [
           {
            "marker": {
             "line": {
              "color": "#E5ECF6",
              "width": 0.5
             }
            },
            "type": "barpolar"
           }
          ],
          "carpet": [
           {
            "aaxis": {
             "endlinecolor": "#2a3f5f",
             "gridcolor": "white",
             "linecolor": "white",
             "minorgridcolor": "white",
             "startlinecolor": "#2a3f5f"
            },
            "baxis": {
             "endlinecolor": "#2a3f5f",
             "gridcolor": "white",
             "linecolor": "white",
             "minorgridcolor": "white",
             "startlinecolor": "#2a3f5f"
            },
            "type": "carpet"
           }
          ],
          "choropleth": [
           {
            "colorbar": {
             "outlinewidth": 0,
             "ticks": ""
            },
            "type": "choropleth"
           }
          ],
          "contour": [
           {
            "colorbar": {
             "outlinewidth": 0,
             "ticks": ""
            },
            "colorscale": [
             [
              0,
              "#0d0887"
             ],
             [
              0.1111111111111111,
              "#46039f"
             ],
             [
              0.2222222222222222,
              "#7201a8"
             ],
             [
              0.3333333333333333,
              "#9c179e"
             ],
             [
              0.4444444444444444,
              "#bd3786"
             ],
             [
              0.5555555555555556,
              "#d8576b"
             ],
             [
              0.6666666666666666,
              "#ed7953"
             ],
             [
              0.7777777777777778,
              "#fb9f3a"
             ],
             [
              0.8888888888888888,
              "#fdca26"
             ],
             [
              1,
              "#f0f921"
             ]
            ],
            "type": "contour"
           }
          ],
          "contourcarpet": [
           {
            "colorbar": {
             "outlinewidth": 0,
             "ticks": ""
            },
            "type": "contourcarpet"
           }
          ],
          "heatmap": [
           {
            "colorbar": {
             "outlinewidth": 0,
             "ticks": ""
            },
            "colorscale": [
             [
              0,
              "#0d0887"
             ],
             [
              0.1111111111111111,
              "#46039f"
             ],
             [
              0.2222222222222222,
              "#7201a8"
             ],
             [
              0.3333333333333333,
              "#9c179e"
             ],
             [
              0.4444444444444444,
              "#bd3786"
             ],
             [
              0.5555555555555556,
              "#d8576b"
             ],
             [
              0.6666666666666666,
              "#ed7953"
             ],
             [
              0.7777777777777778,
              "#fb9f3a"
             ],
             [
              0.8888888888888888,
              "#fdca26"
             ],
             [
              1,
              "#f0f921"
             ]
            ],
            "type": "heatmap"
           }
          ],
          "heatmapgl": [
           {
            "colorbar": {
             "outlinewidth": 0,
             "ticks": ""
            },
            "colorscale": [
             [
              0,
              "#0d0887"
             ],
             [
              0.1111111111111111,
              "#46039f"
             ],
             [
              0.2222222222222222,
              "#7201a8"
             ],
             [
              0.3333333333333333,
              "#9c179e"
             ],
             [
              0.4444444444444444,
              "#bd3786"
             ],
             [
              0.5555555555555556,
              "#d8576b"
             ],
             [
              0.6666666666666666,
              "#ed7953"
             ],
             [
              0.7777777777777778,
              "#fb9f3a"
             ],
             [
              0.8888888888888888,
              "#fdca26"
             ],
             [
              1,
              "#f0f921"
             ]
            ],
            "type": "heatmapgl"
           }
          ],
          "histogram": [
           {
            "marker": {
             "colorbar": {
              "outlinewidth": 0,
              "ticks": ""
             }
            },
            "type": "histogram"
           }
          ],
          "histogram2d": [
           {
            "colorbar": {
             "outlinewidth": 0,
             "ticks": ""
            },
            "colorscale": [
             [
              0,
              "#0d0887"
             ],
             [
              0.1111111111111111,
              "#46039f"
             ],
             [
              0.2222222222222222,
              "#7201a8"
             ],
             [
              0.3333333333333333,
              "#9c179e"
             ],
             [
              0.4444444444444444,
              "#bd3786"
             ],
             [
              0.5555555555555556,
              "#d8576b"
             ],
             [
              0.6666666666666666,
              "#ed7953"
             ],
             [
              0.7777777777777778,
              "#fb9f3a"
             ],
             [
              0.8888888888888888,
              "#fdca26"
             ],
             [
              1,
              "#f0f921"
             ]
            ],
            "type": "histogram2d"
           }
          ],
          "histogram2dcontour": [
           {
            "colorbar": {
             "outlinewidth": 0,
             "ticks": ""
            },
            "colorscale": [
             [
              0,
              "#0d0887"
             ],
             [
              0.1111111111111111,
              "#46039f"
             ],
             [
              0.2222222222222222,
              "#7201a8"
             ],
             [
              0.3333333333333333,
              "#9c179e"
             ],
             [
              0.4444444444444444,
              "#bd3786"
             ],
             [
              0.5555555555555556,
              "#d8576b"
             ],
             [
              0.6666666666666666,
              "#ed7953"
             ],
             [
              0.7777777777777778,
              "#fb9f3a"
             ],
             [
              0.8888888888888888,
              "#fdca26"
             ],
             [
              1,
              "#f0f921"
             ]
            ],
            "type": "histogram2dcontour"
           }
          ],
          "mesh3d": [
           {
            "colorbar": {
             "outlinewidth": 0,
             "ticks": ""
            },
            "type": "mesh3d"
           }
          ],
          "parcoords": [
           {
            "line": {
             "colorbar": {
              "outlinewidth": 0,
              "ticks": ""
             }
            },
            "type": "parcoords"
           }
          ],
          "pie": [
           {
            "automargin": true,
            "type": "pie"
           }
          ],
          "scatter": [
           {
            "marker": {
             "colorbar": {
              "outlinewidth": 0,
              "ticks": ""
             }
            },
            "type": "scatter"
           }
          ],
          "scatter3d": [
           {
            "line": {
             "colorbar": {
              "outlinewidth": 0,
              "ticks": ""
             }
            },
            "marker": {
             "colorbar": {
              "outlinewidth": 0,
              "ticks": ""
             }
            },
            "type": "scatter3d"
           }
          ],
          "scattercarpet": [
           {
            "marker": {
             "colorbar": {
              "outlinewidth": 0,
              "ticks": ""
             }
            },
            "type": "scattercarpet"
           }
          ],
          "scattergeo": [
           {
            "marker": {
             "colorbar": {
              "outlinewidth": 0,
              "ticks": ""
             }
            },
            "type": "scattergeo"
           }
          ],
          "scattergl": [
           {
            "marker": {
             "colorbar": {
              "outlinewidth": 0,
              "ticks": ""
             }
            },
            "type": "scattergl"
           }
          ],
          "scattermapbox": [
           {
            "marker": {
             "colorbar": {
              "outlinewidth": 0,
              "ticks": ""
             }
            },
            "type": "scattermapbox"
           }
          ],
          "scatterpolar": [
           {
            "marker": {
             "colorbar": {
              "outlinewidth": 0,
              "ticks": ""
             }
            },
            "type": "scatterpolar"
           }
          ],
          "scatterpolargl": [
           {
            "marker": {
             "colorbar": {
              "outlinewidth": 0,
              "ticks": ""
             }
            },
            "type": "scatterpolargl"
           }
          ],
          "scatterternary": [
           {
            "marker": {
             "colorbar": {
              "outlinewidth": 0,
              "ticks": ""
             }
            },
            "type": "scatterternary"
           }
          ],
          "surface": [
           {
            "colorbar": {
             "outlinewidth": 0,
             "ticks": ""
            },
            "colorscale": [
             [
              0,
              "#0d0887"
             ],
             [
              0.1111111111111111,
              "#46039f"
             ],
             [
              0.2222222222222222,
              "#7201a8"
             ],
             [
              0.3333333333333333,
              "#9c179e"
             ],
             [
              0.4444444444444444,
              "#bd3786"
             ],
             [
              0.5555555555555556,
              "#d8576b"
             ],
             [
              0.6666666666666666,
              "#ed7953"
             ],
             [
              0.7777777777777778,
              "#fb9f3a"
             ],
             [
              0.8888888888888888,
              "#fdca26"
             ],
             [
              1,
              "#f0f921"
             ]
            ],
            "type": "surface"
           }
          ],
          "table": [
           {
            "cells": {
             "fill": {
              "color": "#EBF0F8"
             },
             "line": {
              "color": "white"
             }
            },
            "header": {
             "fill": {
              "color": "#C8D4E3"
             },
             "line": {
              "color": "white"
             }
            },
            "type": "table"
           }
          ]
         },
         "layout": {
          "annotationdefaults": {
           "arrowcolor": "#2a3f5f",
           "arrowhead": 0,
           "arrowwidth": 1
          },
          "coloraxis": {
           "colorbar": {
            "outlinewidth": 0,
            "ticks": ""
           }
          },
          "colorscale": {
           "diverging": [
            [
             0,
             "#8e0152"
            ],
            [
             0.1,
             "#c51b7d"
            ],
            [
             0.2,
             "#de77ae"
            ],
            [
             0.3,
             "#f1b6da"
            ],
            [
             0.4,
             "#fde0ef"
            ],
            [
             0.5,
             "#f7f7f7"
            ],
            [
             0.6,
             "#e6f5d0"
            ],
            [
             0.7,
             "#b8e186"
            ],
            [
             0.8,
             "#7fbc41"
            ],
            [
             0.9,
             "#4d9221"
            ],
            [
             1,
             "#276419"
            ]
           ],
           "sequential": [
            [
             0,
             "#0d0887"
            ],
            [
             0.1111111111111111,
             "#46039f"
            ],
            [
             0.2222222222222222,
             "#7201a8"
            ],
            [
             0.3333333333333333,
             "#9c179e"
            ],
            [
             0.4444444444444444,
             "#bd3786"
            ],
            [
             0.5555555555555556,
             "#d8576b"
            ],
            [
             0.6666666666666666,
             "#ed7953"
            ],
            [
             0.7777777777777778,
             "#fb9f3a"
            ],
            [
             0.8888888888888888,
             "#fdca26"
            ],
            [
             1,
             "#f0f921"
            ]
           ],
           "sequentialminus": [
            [
             0,
             "#0d0887"
            ],
            [
             0.1111111111111111,
             "#46039f"
            ],
            [
             0.2222222222222222,
             "#7201a8"
            ],
            [
             0.3333333333333333,
             "#9c179e"
            ],
            [
             0.4444444444444444,
             "#bd3786"
            ],
            [
             0.5555555555555556,
             "#d8576b"
            ],
            [
             0.6666666666666666,
             "#ed7953"
            ],
            [
             0.7777777777777778,
             "#fb9f3a"
            ],
            [
             0.8888888888888888,
             "#fdca26"
            ],
            [
             1,
             "#f0f921"
            ]
           ]
          },
          "colorway": [
           "#636efa",
           "#EF553B",
           "#00cc96",
           "#ab63fa",
           "#FFA15A",
           "#19d3f3",
           "#FF6692",
           "#B6E880",
           "#FF97FF",
           "#FECB52"
          ],
          "font": {
           "color": "#2a3f5f"
          },
          "geo": {
           "bgcolor": "white",
           "lakecolor": "white",
           "landcolor": "#E5ECF6",
           "showlakes": true,
           "showland": true,
           "subunitcolor": "white"
          },
          "hoverlabel": {
           "align": "left"
          },
          "hovermode": "closest",
          "mapbox": {
           "style": "light"
          },
          "paper_bgcolor": "white",
          "plot_bgcolor": "#E5ECF6",
          "polar": {
           "angularaxis": {
            "gridcolor": "white",
            "linecolor": "white",
            "ticks": ""
           },
           "bgcolor": "#E5ECF6",
           "radialaxis": {
            "gridcolor": "white",
            "linecolor": "white",
            "ticks": ""
           }
          },
          "scene": {
           "xaxis": {
            "backgroundcolor": "#E5ECF6",
            "gridcolor": "white",
            "gridwidth": 2,
            "linecolor": "white",
            "showbackground": true,
            "ticks": "",
            "zerolinecolor": "white"
           },
           "yaxis": {
            "backgroundcolor": "#E5ECF6",
            "gridcolor": "white",
            "gridwidth": 2,
            "linecolor": "white",
            "showbackground": true,
            "ticks": "",
            "zerolinecolor": "white"
           },
           "zaxis": {
            "backgroundcolor": "#E5ECF6",
            "gridcolor": "white",
            "gridwidth": 2,
            "linecolor": "white",
            "showbackground": true,
            "ticks": "",
            "zerolinecolor": "white"
           }
          },
          "shapedefaults": {
           "line": {
            "color": "#2a3f5f"
           }
          },
          "ternary": {
           "aaxis": {
            "gridcolor": "white",
            "linecolor": "white",
            "ticks": ""
           },
           "baxis": {
            "gridcolor": "white",
            "linecolor": "white",
            "ticks": ""
           },
           "bgcolor": "#E5ECF6",
           "caxis": {
            "gridcolor": "white",
            "linecolor": "white",
            "ticks": ""
           }
          },
          "title": {
           "x": 0.05
          },
          "xaxis": {
           "automargin": true,
           "gridcolor": "white",
           "linecolor": "white",
           "ticks": "",
           "title": {
            "standoff": 15
           },
           "zerolinecolor": "white",
           "zerolinewidth": 2
          },
          "yaxis": {
           "automargin": true,
           "gridcolor": "white",
           "linecolor": "white",
           "ticks": "",
           "title": {
            "standoff": 15
           },
           "zerolinecolor": "white",
           "zerolinewidth": 2
          }
         }
        },
        "title": {
         "font": {
          "color": "#4D5663"
         }
        },
        "xaxis": {
         "gridcolor": "#E1E5ED",
         "showgrid": true,
         "tickfont": {
          "color": "#4D5663"
         },
         "title": {
          "font": {
           "color": "#4D5663"
          },
          "text": ""
         },
         "zerolinecolor": "#E1E5ED"
        },
        "yaxis": {
         "gridcolor": "#E1E5ED",
         "showgrid": true,
         "tickfont": {
          "color": "#4D5663"
         },
         "title": {
          "font": {
           "color": "#4D5663"
          },
          "text": ""
         },
         "zerolinecolor": "#E1E5ED"
        }
       }
      },
      "text/html": [
       "<div>\n",
       "        \n",
       "        \n",
       "            <div id=\"e05d739d-265b-4009-a898-39ba9976894a\" class=\"plotly-graph-div\" style=\"height:525px; width:100%;\"></div>\n",
       "            <script type=\"text/javascript\">\n",
       "                require([\"plotly\"], function(Plotly) {\n",
       "                    window.PLOTLYENV=window.PLOTLYENV || {};\n",
       "                    window.PLOTLYENV.BASE_URL='https://plot.ly';\n",
       "                    \n",
       "                if (document.getElementById(\"e05d739d-265b-4009-a898-39ba9976894a\")) {\n",
       "                    Plotly.newPlot(\n",
       "                        'e05d739d-265b-4009-a898-39ba9976894a',\n",
       "                        [{\"line\": {\"color\": \"rgba(255, 153, 51, 1.0)\", \"dash\": \"solid\", \"shape\": \"linear\", \"width\": 1.3}, \"mode\": \"lines\", \"name\": \"mAp\", \"text\": \"\", \"type\": \"scatter\", \"x\": [\"2000\", \"4000\", \"6000\", \"8000\", \"9600\", \"10000\", \"15000\", \"20000\", \"25000\", \"30000\"], \"y\": [\"0.9999\", \"0.9999\", \"0.9999\", \"0.9999\", \"0.9999\", \"0.9999\", \"0.9999\", \"0.9999\", \"0.9999\", \"0.9999\"]}, {\"line\": {\"color\": \"rgba(55, 128, 191, 1.0)\", \"dash\": \"solid\", \"shape\": \"linear\", \"width\": 1.3}, \"mode\": \"lines\", \"name\": \"R @ 20\", \"text\": \"\", \"type\": \"scatter\", \"x\": [\"2000\", \"4000\", \"6000\", \"8000\", \"9600\", \"10000\", \"15000\", \"20000\", \"25000\", \"30000\"], \"y\": [\"0.6015\", \"0.6032\", \"0.6023\", \"0.6083\", \"0.6082\", \"0.6004\", \"0.6094\", \"0.6015\", \"0.6069\", \"0.6110\"]}, {\"line\": {\"color\": \"rgba(50, 171, 96, 1.0)\", \"dash\": \"solid\", \"shape\": \"linear\", \"width\": 1.3}, \"mode\": \"lines\", \"name\": \"R @ 50\", \"text\": \"\", \"type\": \"scatter\", \"x\": [\"2000\", \"4000\", \"6000\", \"8000\", \"9600\", \"10000\", \"15000\", \"20000\", \"25000\", \"30000\"], \"y\": [\"0.6554\", \"0.6590\", \"0.6577\", \"0.6601\", \"0.6603\", \"0.6576\", \"0.6626\", \"0.6606\", \"0.6599\", \"0.6661\"]}, {\"line\": {\"color\": \"rgba(128, 0, 128, 1.0)\", \"dash\": \"solid\", \"shape\": \"linear\", \"width\": 1.3}, \"mode\": \"lines\", \"name\": \"R @ 100\", \"text\": \"\", \"type\": \"scatter\", \"x\": [\"2000\", \"4000\", \"6000\", \"8000\", \"9600\", \"10000\", \"15000\", \"20000\", \"25000\", \"30000\"], \"y\": [\"0.6722\", \"0.6737\", \"0.6736\", \"0.6759\", \"0.6760\", \"0.6735\", \"0.6793\", \"0.6759\", \"0.6751\", \"0.6806\"]}, {\"line\": {\"color\": \"rgba(219, 64, 82, 1.0)\", \"dash\": \"solid\", \"shape\": \"linear\", \"width\": 1.3}, \"mode\": \"lines\", \"name\": \"ngR @ 20\", \"text\": \"\", \"type\": \"scatter\", \"x\": [\"2000\", \"4000\", \"6000\", \"8000\", \"9600\", \"10000\", \"15000\", \"20000\", \"25000\", \"30000\"], \"y\": [\"0.6856\", \"0.6913\", \"0.6929\", \"0.6957\", \"0.6954\", \"0.6891\", \"0.6966\", \"0.6895\", \"0.6963\", \"0.7037\"]}, {\"line\": {\"color\": \"rgba(0, 128, 128, 1.0)\", \"dash\": \"solid\", \"shape\": \"linear\", \"width\": 1.3}, \"mode\": \"lines\", \"name\": \"ngR @ 50\", \"text\": \"\", \"type\": \"scatter\", \"x\": [\"2000\", \"4000\", \"6000\", \"8000\", \"9600\", \"10000\", \"15000\", \"20000\", \"25000\", \"30000\"], \"y\": [\"0.8146\", \"0.8168\", \"0.8186\", \"0.8224\", \"0.8225\", \"0.8209\", \"0.8242\", \"0.8207\", \"0.8241\", \"0.8278\"]}, {\"line\": {\"color\": \"rgba(255, 255, 51, 1.0)\", \"dash\": \"solid\", \"shape\": \"linear\", \"width\": 1.3}, \"mode\": \"lines\", \"name\": \"ngR @ 100\", \"text\": \"\", \"type\": \"scatter\", \"x\": [\"2000\", \"4000\", \"6000\", \"8000\", \"9600\", \"10000\", \"15000\", \"20000\", \"25000\", \"30000\"], \"y\": [\"0.8774\", \"0.8828\", \"0.8849\", \"0.8873\", \"0.8873\", \"0.8870\", \"0.8894\", \"0.8882\", \"0.8911\", \"0.8937\"]}, {\"line\": {\"color\": \"rgba(128, 128, 0, 1.0)\", \"dash\": \"solid\", \"shape\": \"linear\", \"width\": 1.3}, \"mode\": \"lines\", \"name\": \"zR @ 20\", \"text\": \"\", \"type\": \"scatter\", \"x\": [\"2000\", \"4000\", \"6000\", \"8000\", \"9600\", \"10000\", \"15000\", \"20000\", \"25000\", \"30000\"], \"y\": [\"0.0133\", \"0.0133\", \"0.0089\", \"0.0133\", \"0.0133\", \"0.0133\", \"0.0178\", \"0.0178\", \"0.0089\", \"0.0133\"]}, {\"line\": {\"color\": \"rgba(251, 128, 114, 1.0)\", \"dash\": \"solid\", \"shape\": \"linear\", \"width\": 1.3}, \"mode\": \"lines\", \"name\": \"zR @ 50\", \"text\": \"\", \"type\": \"scatter\", \"x\": [\"2000\", \"4000\", \"6000\", \"8000\", \"9600\", \"10000\", \"15000\", \"20000\", \"25000\", \"30000\"], \"y\": [\"0.0178\", \"0.0289\", \"0.0222\", \"0.0267\", \"0.0267\", \"0.0356\", \"0.0400\", \"0.0444\", \"0.0311\", \"0.0400\"]}, {\"line\": {\"color\": \"rgba(128, 177, 211, 1.0)\", \"dash\": \"solid\", \"shape\": \"linear\", \"width\": 1.3}, \"mode\": \"lines\", \"name\": \"zR @ 100\", \"text\": \"\", \"type\": \"scatter\", \"x\": [\"2000\", \"4000\", \"6000\", \"8000\", \"9600\", \"10000\", \"15000\", \"20000\", \"25000\", \"30000\"], \"y\": [\"0.0356\", \"0.0467\", \"0.0267\", \"0.0400\", \"0.0400\", \"0.0533\", \"0.0511\", \"0.0622\", \"0.0400\", \"0.0578\"]}, {\"line\": {\"color\": \"rgba(128, 177, 211, 0.8999999999999999)\", \"dash\": \"solid\", \"shape\": \"linear\", \"width\": 1.3}, \"mode\": \"lines\", \"name\": \"mR @ 20\", \"text\": \"\", \"type\": \"scatter\", \"x\": [\"2000\", \"4000\", \"6000\", \"8000\", \"9600\", \"10000\", \"15000\", \"20000\", \"25000\", \"30000\"], \"y\": [\"0.1162\", \"0.1218\", \"0.1286\", \"0.1140\", \"0.1140\", \"0.1058\", \"0.1231\", \"0.1167\", \"0.1181\", \"0.1413\"]}, {\"line\": {\"color\": \"rgba(255, 153, 51, 0.8999999999999999)\", \"dash\": \"solid\", \"shape\": \"linear\", \"width\": 1.3}, \"mode\": \"lines\", \"name\": \"mR @ 50\", \"text\": \"\", \"type\": \"scatter\", \"x\": [\"2000\", \"4000\", \"6000\", \"8000\", \"9600\", \"10000\", \"15000\", \"20000\", \"25000\", \"30000\"], \"y\": [\"0.1411\", \"0.1520\", \"0.1578\", \"0.1395\", \"0.1396\", \"0.1302\", \"0.1459\", \"0.1445\", \"0.1402\", \"0.1705\"]}, {\"line\": {\"color\": \"rgba(55, 128, 191, 0.8999999999999999)\", \"dash\": \"solid\", \"shape\": \"linear\", \"width\": 1.3}, \"mode\": \"lines\", \"name\": \"mR @ 100\", \"text\": \"\", \"type\": \"scatter\", \"x\": [\"2000\", \"4000\", \"6000\", \"8000\", \"9600\", \"10000\", \"15000\", \"20000\", \"25000\", \"30000\"], \"y\": [\"0.1516\", \"0.1610\", \"0.1680\", \"0.1489\", \"0.1486\", \"0.1408\", \"0.1581\", \"0.1535\", \"0.1530\", \"0.1837\"]}, {\"line\": {\"color\": \"rgba(50, 171, 96, 0.8999999999999999)\", \"dash\": \"solid\", \"shape\": \"linear\", \"width\": 1.3}, \"mode\": \"lines\", \"name\": \"A @ 20\", \"text\": \"\", \"type\": \"scatter\", \"x\": [\"2000\", \"4000\", \"6000\", \"8000\", \"9600\", \"10000\", \"15000\", \"20000\", \"25000\", \"30000\"], \"y\": [\"0.6970\", \"0.6985\", \"0.7001\", \"0.7014\", \"0.7016\", \"0.6979\", \"0.7017\", \"0.6996\", \"0.6995\", \"0.7038\"]}, {\"line\": {\"color\": \"rgba(128, 0, 128, 0.8999999999999999)\", \"dash\": \"solid\", \"shape\": \"linear\", \"width\": 1.3}, \"mode\": \"lines\", \"name\": \"A @ 50\", \"text\": \"\", \"type\": \"scatter\", \"x\": [\"2000\", \"4000\", \"6000\", \"8000\", \"9600\", \"10000\", \"15000\", \"20000\", \"25000\", \"30000\"], \"y\": [\"0.7018\", \"0.7033\", \"0.7047\", \"0.7062\", \"0.7063\", \"0.7026\", \"0.7067\", \"0.7045\", \"0.7042\", \"0.7089\"]}, {\"line\": {\"color\": \"rgba(219, 64, 82, 0.8999999999999999)\", \"dash\": \"solid\", \"shape\": \"linear\", \"width\": 1.3}, \"mode\": \"lines\", \"name\": \"A @ 100\", \"text\": \"\", \"type\": \"scatter\", \"x\": [\"2000\", \"4000\", \"6000\", \"8000\", \"9600\", \"10000\", \"15000\", \"20000\", \"25000\", \"30000\"], \"y\": [\"0.7018\", \"0.7033\", \"0.7047\", \"0.7062\", \"0.7063\", \"0.7026\", \"0.7067\", \"0.7045\", \"0.7042\", \"0.7089\"]}],\n",
       "                        {\"legend\": {\"bgcolor\": \"#FFFFFF\", \"font\": {\"color\": \"#4D5663\"}}, \"paper_bgcolor\": \"#FFFFFF\", \"plot_bgcolor\": \"#FFFFFF\", \"template\": {\"data\": {\"bar\": [{\"error_x\": {\"color\": \"#2a3f5f\"}, \"error_y\": {\"color\": \"#2a3f5f\"}, \"marker\": {\"line\": {\"color\": \"#E5ECF6\", \"width\": 0.5}}, \"type\": \"bar\"}], \"barpolar\": [{\"marker\": {\"line\": {\"color\": \"#E5ECF6\", \"width\": 0.5}}, \"type\": \"barpolar\"}], \"carpet\": [{\"aaxis\": {\"endlinecolor\": \"#2a3f5f\", \"gridcolor\": \"white\", \"linecolor\": \"white\", \"minorgridcolor\": \"white\", \"startlinecolor\": \"#2a3f5f\"}, \"baxis\": {\"endlinecolor\": \"#2a3f5f\", \"gridcolor\": \"white\", \"linecolor\": \"white\", \"minorgridcolor\": \"white\", \"startlinecolor\": \"#2a3f5f\"}, \"type\": \"carpet\"}], \"choropleth\": [{\"colorbar\": {\"outlinewidth\": 0, \"ticks\": \"\"}, \"type\": \"choropleth\"}], \"contour\": [{\"colorbar\": {\"outlinewidth\": 0, \"ticks\": \"\"}, \"colorscale\": [[0.0, \"#0d0887\"], [0.1111111111111111, \"#46039f\"], [0.2222222222222222, \"#7201a8\"], [0.3333333333333333, \"#9c179e\"], [0.4444444444444444, \"#bd3786\"], [0.5555555555555556, \"#d8576b\"], [0.6666666666666666, \"#ed7953\"], [0.7777777777777778, \"#fb9f3a\"], [0.8888888888888888, \"#fdca26\"], [1.0, \"#f0f921\"]], \"type\": \"contour\"}], \"contourcarpet\": [{\"colorbar\": {\"outlinewidth\": 0, \"ticks\": \"\"}, \"type\": \"contourcarpet\"}], \"heatmap\": [{\"colorbar\": {\"outlinewidth\": 0, \"ticks\": \"\"}, \"colorscale\": [[0.0, \"#0d0887\"], [0.1111111111111111, \"#46039f\"], [0.2222222222222222, \"#7201a8\"], [0.3333333333333333, \"#9c179e\"], [0.4444444444444444, \"#bd3786\"], [0.5555555555555556, \"#d8576b\"], [0.6666666666666666, \"#ed7953\"], [0.7777777777777778, \"#fb9f3a\"], [0.8888888888888888, \"#fdca26\"], [1.0, \"#f0f921\"]], \"type\": \"heatmap\"}], \"heatmapgl\": [{\"colorbar\": {\"outlinewidth\": 0, \"ticks\": \"\"}, \"colorscale\": [[0.0, \"#0d0887\"], [0.1111111111111111, \"#46039f\"], [0.2222222222222222, \"#7201a8\"], [0.3333333333333333, \"#9c179e\"], [0.4444444444444444, \"#bd3786\"], [0.5555555555555556, \"#d8576b\"], [0.6666666666666666, \"#ed7953\"], [0.7777777777777778, \"#fb9f3a\"], [0.8888888888888888, \"#fdca26\"], [1.0, \"#f0f921\"]], \"type\": \"heatmapgl\"}], \"histogram\": [{\"marker\": {\"colorbar\": {\"outlinewidth\": 0, \"ticks\": \"\"}}, \"type\": \"histogram\"}], \"histogram2d\": [{\"colorbar\": {\"outlinewidth\": 0, \"ticks\": \"\"}, \"colorscale\": [[0.0, \"#0d0887\"], [0.1111111111111111, \"#46039f\"], [0.2222222222222222, \"#7201a8\"], [0.3333333333333333, \"#9c179e\"], [0.4444444444444444, \"#bd3786\"], [0.5555555555555556, \"#d8576b\"], [0.6666666666666666, \"#ed7953\"], [0.7777777777777778, \"#fb9f3a\"], [0.8888888888888888, \"#fdca26\"], [1.0, \"#f0f921\"]], \"type\": \"histogram2d\"}], \"histogram2dcontour\": [{\"colorbar\": {\"outlinewidth\": 0, \"ticks\": \"\"}, \"colorscale\": [[0.0, \"#0d0887\"], [0.1111111111111111, \"#46039f\"], [0.2222222222222222, \"#7201a8\"], [0.3333333333333333, \"#9c179e\"], [0.4444444444444444, \"#bd3786\"], [0.5555555555555556, \"#d8576b\"], [0.6666666666666666, \"#ed7953\"], [0.7777777777777778, \"#fb9f3a\"], [0.8888888888888888, \"#fdca26\"], [1.0, \"#f0f921\"]], \"type\": \"histogram2dcontour\"}], \"mesh3d\": [{\"colorbar\": {\"outlinewidth\": 0, \"ticks\": \"\"}, \"type\": \"mesh3d\"}], \"parcoords\": [{\"line\": {\"colorbar\": {\"outlinewidth\": 0, \"ticks\": \"\"}}, \"type\": \"parcoords\"}], \"pie\": [{\"automargin\": true, \"type\": \"pie\"}], \"scatter\": [{\"marker\": {\"colorbar\": {\"outlinewidth\": 0, \"ticks\": \"\"}}, \"type\": \"scatter\"}], \"scatter3d\": [{\"line\": {\"colorbar\": {\"outlinewidth\": 0, \"ticks\": \"\"}}, \"marker\": {\"colorbar\": {\"outlinewidth\": 0, \"ticks\": \"\"}}, \"type\": \"scatter3d\"}], \"scattercarpet\": [{\"marker\": {\"colorbar\": {\"outlinewidth\": 0, \"ticks\": \"\"}}, \"type\": \"scattercarpet\"}], \"scattergeo\": [{\"marker\": {\"colorbar\": {\"outlinewidth\": 0, \"ticks\": \"\"}}, \"type\": \"scattergeo\"}], \"scattergl\": [{\"marker\": {\"colorbar\": {\"outlinewidth\": 0, \"ticks\": \"\"}}, \"type\": \"scattergl\"}], \"scattermapbox\": [{\"marker\": {\"colorbar\": {\"outlinewidth\": 0, \"ticks\": \"\"}}, \"type\": \"scattermapbox\"}], \"scatterpolar\": [{\"marker\": {\"colorbar\": {\"outlinewidth\": 0, \"ticks\": \"\"}}, \"type\": \"scatterpolar\"}], \"scatterpolargl\": [{\"marker\": {\"colorbar\": {\"outlinewidth\": 0, \"ticks\": \"\"}}, \"type\": \"scatterpolargl\"}], \"scatterternary\": [{\"marker\": {\"colorbar\": {\"outlinewidth\": 0, \"ticks\": \"\"}}, \"type\": \"scatterternary\"}], \"surface\": [{\"colorbar\": {\"outlinewidth\": 0, \"ticks\": \"\"}, \"colorscale\": [[0.0, \"#0d0887\"], [0.1111111111111111, \"#46039f\"], [0.2222222222222222, \"#7201a8\"], [0.3333333333333333, \"#9c179e\"], [0.4444444444444444, \"#bd3786\"], [0.5555555555555556, \"#d8576b\"], [0.6666666666666666, \"#ed7953\"], [0.7777777777777778, \"#fb9f3a\"], [0.8888888888888888, \"#fdca26\"], [1.0, \"#f0f921\"]], \"type\": \"surface\"}], \"table\": [{\"cells\": {\"fill\": {\"color\": \"#EBF0F8\"}, \"line\": {\"color\": \"white\"}}, \"header\": {\"fill\": {\"color\": \"#C8D4E3\"}, \"line\": {\"color\": \"white\"}}, \"type\": \"table\"}]}, \"layout\": {\"annotationdefaults\": {\"arrowcolor\": \"#2a3f5f\", \"arrowhead\": 0, \"arrowwidth\": 1}, \"coloraxis\": {\"colorbar\": {\"outlinewidth\": 0, \"ticks\": \"\"}}, \"colorscale\": {\"diverging\": [[0, \"#8e0152\"], [0.1, \"#c51b7d\"], [0.2, \"#de77ae\"], [0.3, \"#f1b6da\"], [0.4, \"#fde0ef\"], [0.5, \"#f7f7f7\"], [0.6, \"#e6f5d0\"], [0.7, \"#b8e186\"], [0.8, \"#7fbc41\"], [0.9, \"#4d9221\"], [1, \"#276419\"]], \"sequential\": [[0.0, \"#0d0887\"], [0.1111111111111111, \"#46039f\"], [0.2222222222222222, \"#7201a8\"], [0.3333333333333333, \"#9c179e\"], [0.4444444444444444, \"#bd3786\"], [0.5555555555555556, \"#d8576b\"], [0.6666666666666666, \"#ed7953\"], [0.7777777777777778, \"#fb9f3a\"], [0.8888888888888888, \"#fdca26\"], [1.0, \"#f0f921\"]], \"sequentialminus\": [[0.0, \"#0d0887\"], [0.1111111111111111, \"#46039f\"], [0.2222222222222222, \"#7201a8\"], [0.3333333333333333, \"#9c179e\"], [0.4444444444444444, \"#bd3786\"], [0.5555555555555556, \"#d8576b\"], [0.6666666666666666, \"#ed7953\"], [0.7777777777777778, \"#fb9f3a\"], [0.8888888888888888, \"#fdca26\"], [1.0, \"#f0f921\"]]}, \"colorway\": [\"#636efa\", \"#EF553B\", \"#00cc96\", \"#ab63fa\", \"#FFA15A\", \"#19d3f3\", \"#FF6692\", \"#B6E880\", \"#FF97FF\", \"#FECB52\"], \"font\": {\"color\": \"#2a3f5f\"}, \"geo\": {\"bgcolor\": \"white\", \"lakecolor\": \"white\", \"landcolor\": \"#E5ECF6\", \"showlakes\": true, \"showland\": true, \"subunitcolor\": \"white\"}, \"hoverlabel\": {\"align\": \"left\"}, \"hovermode\": \"closest\", \"mapbox\": {\"style\": \"light\"}, \"paper_bgcolor\": \"white\", \"plot_bgcolor\": \"#E5ECF6\", \"polar\": {\"angularaxis\": {\"gridcolor\": \"white\", \"linecolor\": \"white\", \"ticks\": \"\"}, \"bgcolor\": \"#E5ECF6\", \"radialaxis\": {\"gridcolor\": \"white\", \"linecolor\": \"white\", \"ticks\": \"\"}}, \"scene\": {\"xaxis\": {\"backgroundcolor\": \"#E5ECF6\", \"gridcolor\": \"white\", \"gridwidth\": 2, \"linecolor\": \"white\", \"showbackground\": true, \"ticks\": \"\", \"zerolinecolor\": \"white\"}, \"yaxis\": {\"backgroundcolor\": \"#E5ECF6\", \"gridcolor\": \"white\", \"gridwidth\": 2, \"linecolor\": \"white\", \"showbackground\": true, \"ticks\": \"\", \"zerolinecolor\": \"white\"}, \"zaxis\": {\"backgroundcolor\": \"#E5ECF6\", \"gridcolor\": \"white\", \"gridwidth\": 2, \"linecolor\": \"white\", \"showbackground\": true, \"ticks\": \"\", \"zerolinecolor\": \"white\"}}, \"shapedefaults\": {\"line\": {\"color\": \"#2a3f5f\"}}, \"ternary\": {\"aaxis\": {\"gridcolor\": \"white\", \"linecolor\": \"white\", \"ticks\": \"\"}, \"baxis\": {\"gridcolor\": \"white\", \"linecolor\": \"white\", \"ticks\": \"\"}, \"bgcolor\": \"#E5ECF6\", \"caxis\": {\"gridcolor\": \"white\", \"linecolor\": \"white\", \"ticks\": \"\"}}, \"title\": {\"x\": 0.05}, \"xaxis\": {\"automargin\": true, \"gridcolor\": \"white\", \"linecolor\": \"white\", \"ticks\": \"\", \"title\": {\"standoff\": 15}, \"zerolinecolor\": \"white\", \"zerolinewidth\": 2}, \"yaxis\": {\"automargin\": true, \"gridcolor\": \"white\", \"linecolor\": \"white\", \"ticks\": \"\", \"title\": {\"standoff\": 15}, \"zerolinecolor\": \"white\", \"zerolinewidth\": 2}}}, \"title\": {\"font\": {\"color\": \"#4D5663\"}}, \"xaxis\": {\"gridcolor\": \"#E1E5ED\", \"showgrid\": true, \"tickfont\": {\"color\": \"#4D5663\"}, \"title\": {\"font\": {\"color\": \"#4D5663\"}, \"text\": \"\"}, \"zerolinecolor\": \"#E1E5ED\"}, \"yaxis\": {\"gridcolor\": \"#E1E5ED\", \"showgrid\": true, \"tickfont\": {\"color\": \"#4D5663\"}, \"title\": {\"font\": {\"color\": \"#4D5663\"}, \"text\": \"\"}, \"zerolinecolor\": \"#E1E5ED\"}},\n",
       "                        {\"showLink\": true, \"linkText\": \"Export to plot.ly\", \"plotlyServerURL\": \"https://plot.ly\", \"responsive\": true}\n",
       "                    ).then(function(){\n",
       "                            \n",
       "var gd = document.getElementById('e05d739d-265b-4009-a898-39ba9976894a');\n",
       "var x = new MutationObserver(function (mutations, observer) {{\n",
       "        var display = window.getComputedStyle(gd).display;\n",
       "        if (!display || display === 'none') {{\n",
       "            console.log([gd, 'removed!']);\n",
       "            Plotly.purge(gd);\n",
       "            observer.disconnect();\n",
       "        }}\n",
       "}});\n",
       "\n",
       "// Listen for the removal of the full notebook cells\n",
       "var notebookContainer = gd.closest('#notebook-container');\n",
       "if (notebookContainer) {{\n",
       "    x.observe(notebookContainer, {childList: true});\n",
       "}}\n",
       "\n",
       "// Listen for the clearing of the current output cell\n",
       "var outputEl = gd.closest('.output');\n",
       "if (outputEl) {{\n",
       "    x.observe(outputEl, {childList: true});\n",
       "}}\n",
       "\n",
       "                        })\n",
       "                };\n",
       "                });\n",
       "            </script>\n",
       "        </div>"
      ]
     },
     "metadata": {},
     "output_type": "display_data"
    }
   ],
   "source": [
    "df.iplot(kind=\"scatter\", theme=\"white\",x=\"iter\")"
   ]
  }
 ],
 "metadata": {
  "kernelspec": {
   "display_name": "Python [conda env:tensor-env] *",
   "language": "python",
   "name": "conda-env-tensor-env-py"
  },
  "language_info": {
   "codemirror_mode": {
    "name": "ipython",
    "version": 3
   },
   "file_extension": ".py",
   "mimetype": "text/x-python",
   "name": "python",
   "nbconvert_exporter": "python",
   "pygments_lexer": "ipython3",
   "version": "3.6.8"
  },
  "toc": {
   "base_numbering": 1,
   "nav_menu": {},
   "number_sections": true,
   "sideBar": true,
   "skip_h1_title": false,
   "title_cell": "Table of Contents",
   "title_sidebar": "Contents",
   "toc_cell": false,
   "toc_position": {},
   "toc_section_display": true,
   "toc_window_display": false
  }
 },
 "nbformat": 4,
 "nbformat_minor": 2
}
