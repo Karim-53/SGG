{
 "cells": [
  {
   "cell_type": "code",
   "execution_count": 1,
   "metadata": {
    "ExecuteTime": {
     "end_time": "2020-07-05T15:25:52.508447Z",
     "start_time": "2020-07-05T15:25:51.999776Z"
    }
   },
   "outputs": [],
   "source": [
    "import numpy as np\n",
    "import pandas as pd\n",
    "import re"
   ]
  },
  {
   "cell_type": "code",
   "execution_count": 2,
   "metadata": {
    "ExecuteTime": {
     "end_time": "2020-07-05T15:25:53.981567Z",
     "start_time": "2020-07-05T15:25:52.509439Z"
    }
   },
   "outputs": [
    {
     "data": {
      "text/html": [
       "        <script type=\"text/javascript\">\n",
       "        window.PlotlyConfig = {MathJaxConfig: 'local'};\n",
       "        if (window.MathJax) {MathJax.Hub.Config({SVG: {font: \"STIX-Web\"}});}\n",
       "        if (typeof require !== 'undefined') {\n",
       "        require.undef(\"plotly\");\n",
       "        requirejs.config({\n",
       "            paths: {\n",
       "                'plotly': ['https://cdn.plot.ly/plotly-latest.min']\n",
       "            }\n",
       "        });\n",
       "        require(['plotly'], function(Plotly) {\n",
       "            window._Plotly = Plotly;\n",
       "        });\n",
       "        }\n",
       "        </script>\n",
       "        "
      ]
     },
     "metadata": {},
     "output_type": "display_data"
    }
   ],
   "source": [
    "import cufflinks as cf\n",
    "import plotly.offline\n",
    "cf.go_offline()\n",
    "cf.set_config_file(offline=False, world_readable=True)"
   ]
  },
  {
   "cell_type": "code",
   "execution_count": 3,
   "metadata": {
    "ExecuteTime": {
     "end_time": "2020-07-05T15:25:53.986530Z",
     "start_time": "2020-07-05T15:25:53.982540Z"
    }
   },
   "outputs": [],
   "source": [
    "keys = ['iter', 'mAp',\n",
    "        'R @ 20', 'R @ 50', 'R @ 100',\n",
    "        'ngR @ 20', 'ngR @ 50', 'ngR @ 100',\n",
    "        'zR @ 20', 'zR @ 50', 'zR @ 100',\n",
    "        'mR @ 20', 'mR @ 50', 'mR @ 100',\n",
    "        'A @ 20', 'A @ 50', 'A @ 100',\n",
    "       ]\n",
    "patern_str_measure = 'mAp=([\\d\\.]+)(?:.|\\n)+?R @ 20: ([\\d\\.]+);   R @ 50: ([\\d\\.]+);   R @ 100: ([\\d\\.]+)(?:.|\\n)+?.+?@ 20: ([\\d\\.]+); .+?@ 50: ([\\d\\.]+); .+?@ 100: ([\\d\\.]+)(?:.|\\n)+?.+?@ 20: ([\\d\\.]+); .+?@ 50: ([\\d\\.]+); .+?@ 100: ([\\d\\.]+)(?:.|\\n)+?.+?@ 20: ([\\d\\.]+); .+?@ 50: ([\\d\\.]+); .+?@ 100: ([\\d\\.]+)(?:.|\\n)+?.+?@ 20: ([\\d\\.]+); .+?@ 50: ([\\d\\.]+); .+?@ 100: ([\\d\\.]+)'\n",
    "patern_str_validation = 'iter: (\\d+)(?:(?!iter).)*'+patern_str_measure\n",
    "patern_str_test =   'iteration (\\d+)(?:(?!iter).)*'+patern_str_measure\n",
    "\n",
    "# patern_compiled_patern_str_validation = re.compile(patern_str_validation, re.MULTILINE | re.DOTALL)"
   ]
  },
  {
   "cell_type": "code",
   "execution_count": 4,
   "metadata": {
    "ExecuteTime": {
     "end_time": "2020-07-05T15:25:54.001514Z",
     "start_time": "2020-07-05T15:25:53.987526Z"
    }
   },
   "outputs": [
    {
     "data": {
      "text/plain": [
       "{'dist1-TDE': './checkpoint/precls-CausalAnalysisPredictor-motifs-dist1-TDE/log.txt',\n",
       " 'dist2-TDE': './checkpoint/precls-CausalAnalysisPredictor-motifs-dist2-TDE/log.txt',\n",
       " 'gate-TDE': './checkpoint/precls-CausalAnalysisPredictor-motifs-gate-TDE/log.txt',\n",
       " 'mfb1-TDE': './checkpoint/precls-CausalAnalysisPredictor-motifs-mfb1-TDE/log.txt',\n",
       " 'mfb2-TDE': './checkpoint/precls-CausalAnalysisPredictor-motifs-mfb2-TDE/log.txt',\n",
       " 'mfb3-TDE': './checkpoint/precls-CausalAnalysisPredictor-motifs-mfb3-TDE/log.txt',\n",
       " 'sum-TDE': './checkpoint/precls-CausalAnalysisPredictor-motifs-sum-TDE/log.txt'}"
      ]
     },
     "execution_count": 4,
     "metadata": {},
     "output_type": "execute_result"
    }
   ],
   "source": [
    "\n",
    "import os\n",
    "import os.path\n",
    "\n",
    "log_files = {}\n",
    "for dirpath, dirnames, filenames in os.walk(\"./checkpoint/\"):\n",
    "    for filename in [f for f in filenames if f==\"log.txt\"]:\n",
    "        #print(os.path.join(dirpath, filename))\n",
    "        #print(dirpath, filename)\n",
    "        log_files[dirpath[51:]] =  dirpath+'/'+filename\n",
    "log_files"
   ]
  },
  {
   "cell_type": "code",
   "execution_count": 5,
   "metadata": {
    "ExecuteTime": {
     "end_time": "2020-07-05T15:25:54.008495Z",
     "start_time": "2020-07-05T15:25:54.002501Z"
    }
   },
   "outputs": [],
   "source": [
    "def matches_to_array(matches, _default_dict = {\"label\": None, \"eval_set\":\"validation\"}):\n",
    "    arr = []\n",
    "    for match in matches:\n",
    "        _dict = _default_dict\n",
    "        for key,val in zip(keys,match):\n",
    "            _dict[key] = val\n",
    "        arr.append(_dict)\n",
    "    return arr\n",
    "\n",
    "\n",
    "def log_to_array(Tx: str, label=None):\n",
    "    matches = re.findall(patern_str_validation, Tx,  re.MULTILINE | re.DOTALL)\n",
    "    arr = matches_to_array(matches, _default_dict = {\"label\": label, \"eval_set\":\"validation\"})\n",
    "    \n",
    "    matches = re.findall(patern_str_test, Tx,  re.MULTILINE | re.DOTALL)\n",
    "    arr2 = matches_to_array(matches, _default_dict = {\"label\": label, \"eval_set\":\"test\"})\n",
    "\n",
    "    return arr + arr2"
   ]
  },
  {
   "cell_type": "code",
   "execution_count": 6,
   "metadata": {
    "ExecuteTime": {
     "end_time": "2020-07-05T15:25:54.168043Z",
     "start_time": "2020-07-05T15:25:54.009468Z"
    }
   },
   "outputs": [
    {
     "data": {
      "text/html": [
       "<div>\n",
       "<style scoped>\n",
       "    .dataframe tbody tr th:only-of-type {\n",
       "        vertical-align: middle;\n",
       "    }\n",
       "\n",
       "    .dataframe tbody tr th {\n",
       "        vertical-align: top;\n",
       "    }\n",
       "\n",
       "    .dataframe thead th {\n",
       "        text-align: right;\n",
       "    }\n",
       "</style>\n",
       "<table border=\"1\" class=\"dataframe\">\n",
       "  <thead>\n",
       "    <tr style=\"text-align: right;\">\n",
       "      <th></th>\n",
       "      <th>label</th>\n",
       "      <th>eval_set</th>\n",
       "      <th>iter</th>\n",
       "      <th>mAp</th>\n",
       "      <th>R @ 20</th>\n",
       "      <th>R @ 50</th>\n",
       "      <th>R @ 100</th>\n",
       "      <th>ngR @ 20</th>\n",
       "      <th>ngR @ 50</th>\n",
       "      <th>ngR @ 100</th>\n",
       "      <th>zR @ 20</th>\n",
       "      <th>zR @ 50</th>\n",
       "      <th>zR @ 100</th>\n",
       "      <th>mR @ 20</th>\n",
       "      <th>mR @ 50</th>\n",
       "      <th>mR @ 100</th>\n",
       "      <th>A @ 20</th>\n",
       "      <th>A @ 50</th>\n",
       "      <th>A @ 100</th>\n",
       "    </tr>\n",
       "  </thead>\n",
       "  <tbody>\n",
       "    <tr>\n",
       "      <th>0</th>\n",
       "      <td>dist2-TDE</td>\n",
       "      <td>validation</td>\n",
       "      <td>24000</td>\n",
       "      <td>0.9999</td>\n",
       "      <td>0.5535</td>\n",
       "      <td>0.6057</td>\n",
       "      <td>0.6208</td>\n",
       "      <td>0.6228</td>\n",
       "      <td>0.7360</td>\n",
       "      <td>0.7974</td>\n",
       "      <td>0.0852</td>\n",
       "      <td>0.1600</td>\n",
       "      <td>0.1844</td>\n",
       "      <td>0.1262</td>\n",
       "      <td>0.1526</td>\n",
       "      <td>0.1700</td>\n",
       "      <td>0.6492</td>\n",
       "      <td>0.6531</td>\n",
       "      <td>0.6531</td>\n",
       "    </tr>\n",
       "    <tr>\n",
       "      <th>1</th>\n",
       "      <td>dist2-TDE</td>\n",
       "      <td>validation</td>\n",
       "      <td>24000</td>\n",
       "      <td>0.9999</td>\n",
       "      <td>0.5535</td>\n",
       "      <td>0.6057</td>\n",
       "      <td>0.6208</td>\n",
       "      <td>0.6228</td>\n",
       "      <td>0.7360</td>\n",
       "      <td>0.7974</td>\n",
       "      <td>0.0852</td>\n",
       "      <td>0.1600</td>\n",
       "      <td>0.1844</td>\n",
       "      <td>0.1262</td>\n",
       "      <td>0.1526</td>\n",
       "      <td>0.1700</td>\n",
       "      <td>0.6492</td>\n",
       "      <td>0.6531</td>\n",
       "      <td>0.6531</td>\n",
       "    </tr>\n",
       "    <tr>\n",
       "      <th>2</th>\n",
       "      <td>dist2-TDE</td>\n",
       "      <td>validation</td>\n",
       "      <td>24000</td>\n",
       "      <td>0.9999</td>\n",
       "      <td>0.5535</td>\n",
       "      <td>0.6057</td>\n",
       "      <td>0.6208</td>\n",
       "      <td>0.6228</td>\n",
       "      <td>0.7360</td>\n",
       "      <td>0.7974</td>\n",
       "      <td>0.0852</td>\n",
       "      <td>0.1600</td>\n",
       "      <td>0.1844</td>\n",
       "      <td>0.1262</td>\n",
       "      <td>0.1526</td>\n",
       "      <td>0.1700</td>\n",
       "      <td>0.6492</td>\n",
       "      <td>0.6531</td>\n",
       "      <td>0.6531</td>\n",
       "    </tr>\n",
       "    <tr>\n",
       "      <th>3</th>\n",
       "      <td>dist2-TDE</td>\n",
       "      <td>validation</td>\n",
       "      <td>24000</td>\n",
       "      <td>0.9999</td>\n",
       "      <td>0.5535</td>\n",
       "      <td>0.6057</td>\n",
       "      <td>0.6208</td>\n",
       "      <td>0.6228</td>\n",
       "      <td>0.7360</td>\n",
       "      <td>0.7974</td>\n",
       "      <td>0.0852</td>\n",
       "      <td>0.1600</td>\n",
       "      <td>0.1844</td>\n",
       "      <td>0.1262</td>\n",
       "      <td>0.1526</td>\n",
       "      <td>0.1700</td>\n",
       "      <td>0.6492</td>\n",
       "      <td>0.6531</td>\n",
       "      <td>0.6531</td>\n",
       "    </tr>\n",
       "    <tr>\n",
       "      <th>4</th>\n",
       "      <td>dist2-TDE</td>\n",
       "      <td>validation</td>\n",
       "      <td>24000</td>\n",
       "      <td>0.9999</td>\n",
       "      <td>0.5535</td>\n",
       "      <td>0.6057</td>\n",
       "      <td>0.6208</td>\n",
       "      <td>0.6228</td>\n",
       "      <td>0.7360</td>\n",
       "      <td>0.7974</td>\n",
       "      <td>0.0852</td>\n",
       "      <td>0.1600</td>\n",
       "      <td>0.1844</td>\n",
       "      <td>0.1262</td>\n",
       "      <td>0.1526</td>\n",
       "      <td>0.1700</td>\n",
       "      <td>0.6492</td>\n",
       "      <td>0.6531</td>\n",
       "      <td>0.6531</td>\n",
       "    </tr>\n",
       "    <tr>\n",
       "      <th>5</th>\n",
       "      <td>dist2-TDE</td>\n",
       "      <td>validation</td>\n",
       "      <td>24000</td>\n",
       "      <td>0.9999</td>\n",
       "      <td>0.5535</td>\n",
       "      <td>0.6057</td>\n",
       "      <td>0.6208</td>\n",
       "      <td>0.6228</td>\n",
       "      <td>0.7360</td>\n",
       "      <td>0.7974</td>\n",
       "      <td>0.0852</td>\n",
       "      <td>0.1600</td>\n",
       "      <td>0.1844</td>\n",
       "      <td>0.1262</td>\n",
       "      <td>0.1526</td>\n",
       "      <td>0.1700</td>\n",
       "      <td>0.6492</td>\n",
       "      <td>0.6531</td>\n",
       "      <td>0.6531</td>\n",
       "    </tr>\n",
       "    <tr>\n",
       "      <th>6</th>\n",
       "      <td>dist2-TDE</td>\n",
       "      <td>validation</td>\n",
       "      <td>24000</td>\n",
       "      <td>0.9999</td>\n",
       "      <td>0.5535</td>\n",
       "      <td>0.6057</td>\n",
       "      <td>0.6208</td>\n",
       "      <td>0.6228</td>\n",
       "      <td>0.7360</td>\n",
       "      <td>0.7974</td>\n",
       "      <td>0.0852</td>\n",
       "      <td>0.1600</td>\n",
       "      <td>0.1844</td>\n",
       "      <td>0.1262</td>\n",
       "      <td>0.1526</td>\n",
       "      <td>0.1700</td>\n",
       "      <td>0.6492</td>\n",
       "      <td>0.6531</td>\n",
       "      <td>0.6531</td>\n",
       "    </tr>\n",
       "    <tr>\n",
       "      <th>7</th>\n",
       "      <td>dist2-TDE</td>\n",
       "      <td>validation</td>\n",
       "      <td>24000</td>\n",
       "      <td>0.9999</td>\n",
       "      <td>0.5535</td>\n",
       "      <td>0.6057</td>\n",
       "      <td>0.6208</td>\n",
       "      <td>0.6228</td>\n",
       "      <td>0.7360</td>\n",
       "      <td>0.7974</td>\n",
       "      <td>0.0852</td>\n",
       "      <td>0.1600</td>\n",
       "      <td>0.1844</td>\n",
       "      <td>0.1262</td>\n",
       "      <td>0.1526</td>\n",
       "      <td>0.1700</td>\n",
       "      <td>0.6492</td>\n",
       "      <td>0.6531</td>\n",
       "      <td>0.6531</td>\n",
       "    </tr>\n",
       "    <tr>\n",
       "      <th>8</th>\n",
       "      <td>dist2-TDE</td>\n",
       "      <td>validation</td>\n",
       "      <td>24000</td>\n",
       "      <td>0.9999</td>\n",
       "      <td>0.5535</td>\n",
       "      <td>0.6057</td>\n",
       "      <td>0.6208</td>\n",
       "      <td>0.6228</td>\n",
       "      <td>0.7360</td>\n",
       "      <td>0.7974</td>\n",
       "      <td>0.0852</td>\n",
       "      <td>0.1600</td>\n",
       "      <td>0.1844</td>\n",
       "      <td>0.1262</td>\n",
       "      <td>0.1526</td>\n",
       "      <td>0.1700</td>\n",
       "      <td>0.6492</td>\n",
       "      <td>0.6531</td>\n",
       "      <td>0.6531</td>\n",
       "    </tr>\n",
       "    <tr>\n",
       "      <th>9</th>\n",
       "      <td>dist2-TDE</td>\n",
       "      <td>validation</td>\n",
       "      <td>24000</td>\n",
       "      <td>0.9999</td>\n",
       "      <td>0.5535</td>\n",
       "      <td>0.6057</td>\n",
       "      <td>0.6208</td>\n",
       "      <td>0.6228</td>\n",
       "      <td>0.7360</td>\n",
       "      <td>0.7974</td>\n",
       "      <td>0.0852</td>\n",
       "      <td>0.1600</td>\n",
       "      <td>0.1844</td>\n",
       "      <td>0.1262</td>\n",
       "      <td>0.1526</td>\n",
       "      <td>0.1700</td>\n",
       "      <td>0.6492</td>\n",
       "      <td>0.6531</td>\n",
       "      <td>0.6531</td>\n",
       "    </tr>\n",
       "    <tr>\n",
       "      <th>10</th>\n",
       "      <td>dist2-TDE</td>\n",
       "      <td>validation</td>\n",
       "      <td>24000</td>\n",
       "      <td>0.9999</td>\n",
       "      <td>0.5535</td>\n",
       "      <td>0.6057</td>\n",
       "      <td>0.6208</td>\n",
       "      <td>0.6228</td>\n",
       "      <td>0.7360</td>\n",
       "      <td>0.7974</td>\n",
       "      <td>0.0852</td>\n",
       "      <td>0.1600</td>\n",
       "      <td>0.1844</td>\n",
       "      <td>0.1262</td>\n",
       "      <td>0.1526</td>\n",
       "      <td>0.1700</td>\n",
       "      <td>0.6492</td>\n",
       "      <td>0.6531</td>\n",
       "      <td>0.6531</td>\n",
       "    </tr>\n",
       "    <tr>\n",
       "      <th>11</th>\n",
       "      <td>dist2-TDE</td>\n",
       "      <td>validation</td>\n",
       "      <td>24000</td>\n",
       "      <td>0.9999</td>\n",
       "      <td>0.5535</td>\n",
       "      <td>0.6057</td>\n",
       "      <td>0.6208</td>\n",
       "      <td>0.6228</td>\n",
       "      <td>0.7360</td>\n",
       "      <td>0.7974</td>\n",
       "      <td>0.0852</td>\n",
       "      <td>0.1600</td>\n",
       "      <td>0.1844</td>\n",
       "      <td>0.1262</td>\n",
       "      <td>0.1526</td>\n",
       "      <td>0.1700</td>\n",
       "      <td>0.6492</td>\n",
       "      <td>0.6531</td>\n",
       "      <td>0.6531</td>\n",
       "    </tr>\n",
       "    <tr>\n",
       "      <th>12</th>\n",
       "      <td>dist2-TDE</td>\n",
       "      <td>test</td>\n",
       "      <td>24000</td>\n",
       "      <td>0.9995</td>\n",
       "      <td>0.5354</td>\n",
       "      <td>0.6005</td>\n",
       "      <td>0.6206</td>\n",
       "      <td>0.6042</td>\n",
       "      <td>0.7359</td>\n",
       "      <td>0.8031</td>\n",
       "      <td>0.0624</td>\n",
       "      <td>0.1092</td>\n",
       "      <td>0.1362</td>\n",
       "      <td>0.1093</td>\n",
       "      <td>0.1429</td>\n",
       "      <td>0.1612</td>\n",
       "      <td>0.6391</td>\n",
       "      <td>0.6412</td>\n",
       "      <td>0.6412</td>\n",
       "    </tr>\n",
       "    <tr>\n",
       "      <th>13</th>\n",
       "      <td>gate-TDE</td>\n",
       "      <td>validation</td>\n",
       "      <td>20000</td>\n",
       "      <td>0.9999</td>\n",
       "      <td>0.3171</td>\n",
       "      <td>0.4319</td>\n",
       "      <td>0.4837</td>\n",
       "      <td>0.3617</td>\n",
       "      <td>0.5368</td>\n",
       "      <td>0.6637</td>\n",
       "      <td>0.0800</td>\n",
       "      <td>0.1467</td>\n",
       "      <td>0.1667</td>\n",
       "      <td>0.1999</td>\n",
       "      <td>0.2637</td>\n",
       "      <td>0.3005</td>\n",
       "      <td>0.5358</td>\n",
       "      <td>0.5398</td>\n",
       "      <td>0.5398</td>\n",
       "    </tr>\n",
       "    <tr>\n",
       "      <th>14</th>\n",
       "      <td>gate-TDE</td>\n",
       "      <td>validation</td>\n",
       "      <td>20000</td>\n",
       "      <td>0.9999</td>\n",
       "      <td>0.3171</td>\n",
       "      <td>0.4319</td>\n",
       "      <td>0.4837</td>\n",
       "      <td>0.3617</td>\n",
       "      <td>0.5368</td>\n",
       "      <td>0.6637</td>\n",
       "      <td>0.0800</td>\n",
       "      <td>0.1467</td>\n",
       "      <td>0.1667</td>\n",
       "      <td>0.1999</td>\n",
       "      <td>0.2637</td>\n",
       "      <td>0.3005</td>\n",
       "      <td>0.5358</td>\n",
       "      <td>0.5398</td>\n",
       "      <td>0.5398</td>\n",
       "    </tr>\n",
       "    <tr>\n",
       "      <th>15</th>\n",
       "      <td>gate-TDE</td>\n",
       "      <td>validation</td>\n",
       "      <td>20000</td>\n",
       "      <td>0.9999</td>\n",
       "      <td>0.3171</td>\n",
       "      <td>0.4319</td>\n",
       "      <td>0.4837</td>\n",
       "      <td>0.3617</td>\n",
       "      <td>0.5368</td>\n",
       "      <td>0.6637</td>\n",
       "      <td>0.0800</td>\n",
       "      <td>0.1467</td>\n",
       "      <td>0.1667</td>\n",
       "      <td>0.1999</td>\n",
       "      <td>0.2637</td>\n",
       "      <td>0.3005</td>\n",
       "      <td>0.5358</td>\n",
       "      <td>0.5398</td>\n",
       "      <td>0.5398</td>\n",
       "    </tr>\n",
       "    <tr>\n",
       "      <th>16</th>\n",
       "      <td>gate-TDE</td>\n",
       "      <td>validation</td>\n",
       "      <td>20000</td>\n",
       "      <td>0.9999</td>\n",
       "      <td>0.3171</td>\n",
       "      <td>0.4319</td>\n",
       "      <td>0.4837</td>\n",
       "      <td>0.3617</td>\n",
       "      <td>0.5368</td>\n",
       "      <td>0.6637</td>\n",
       "      <td>0.0800</td>\n",
       "      <td>0.1467</td>\n",
       "      <td>0.1667</td>\n",
       "      <td>0.1999</td>\n",
       "      <td>0.2637</td>\n",
       "      <td>0.3005</td>\n",
       "      <td>0.5358</td>\n",
       "      <td>0.5398</td>\n",
       "      <td>0.5398</td>\n",
       "    </tr>\n",
       "    <tr>\n",
       "      <th>17</th>\n",
       "      <td>gate-TDE</td>\n",
       "      <td>validation</td>\n",
       "      <td>20000</td>\n",
       "      <td>0.9999</td>\n",
       "      <td>0.3171</td>\n",
       "      <td>0.4319</td>\n",
       "      <td>0.4837</td>\n",
       "      <td>0.3617</td>\n",
       "      <td>0.5368</td>\n",
       "      <td>0.6637</td>\n",
       "      <td>0.0800</td>\n",
       "      <td>0.1467</td>\n",
       "      <td>0.1667</td>\n",
       "      <td>0.1999</td>\n",
       "      <td>0.2637</td>\n",
       "      <td>0.3005</td>\n",
       "      <td>0.5358</td>\n",
       "      <td>0.5398</td>\n",
       "      <td>0.5398</td>\n",
       "    </tr>\n",
       "    <tr>\n",
       "      <th>18</th>\n",
       "      <td>gate-TDE</td>\n",
       "      <td>validation</td>\n",
       "      <td>20000</td>\n",
       "      <td>0.9999</td>\n",
       "      <td>0.3171</td>\n",
       "      <td>0.4319</td>\n",
       "      <td>0.4837</td>\n",
       "      <td>0.3617</td>\n",
       "      <td>0.5368</td>\n",
       "      <td>0.6637</td>\n",
       "      <td>0.0800</td>\n",
       "      <td>0.1467</td>\n",
       "      <td>0.1667</td>\n",
       "      <td>0.1999</td>\n",
       "      <td>0.2637</td>\n",
       "      <td>0.3005</td>\n",
       "      <td>0.5358</td>\n",
       "      <td>0.5398</td>\n",
       "      <td>0.5398</td>\n",
       "    </tr>\n",
       "    <tr>\n",
       "      <th>19</th>\n",
       "      <td>gate-TDE</td>\n",
       "      <td>validation</td>\n",
       "      <td>20000</td>\n",
       "      <td>0.9999</td>\n",
       "      <td>0.3171</td>\n",
       "      <td>0.4319</td>\n",
       "      <td>0.4837</td>\n",
       "      <td>0.3617</td>\n",
       "      <td>0.5368</td>\n",
       "      <td>0.6637</td>\n",
       "      <td>0.0800</td>\n",
       "      <td>0.1467</td>\n",
       "      <td>0.1667</td>\n",
       "      <td>0.1999</td>\n",
       "      <td>0.2637</td>\n",
       "      <td>0.3005</td>\n",
       "      <td>0.5358</td>\n",
       "      <td>0.5398</td>\n",
       "      <td>0.5398</td>\n",
       "    </tr>\n",
       "    <tr>\n",
       "      <th>20</th>\n",
       "      <td>gate-TDE</td>\n",
       "      <td>validation</td>\n",
       "      <td>20000</td>\n",
       "      <td>0.9999</td>\n",
       "      <td>0.3171</td>\n",
       "      <td>0.4319</td>\n",
       "      <td>0.4837</td>\n",
       "      <td>0.3617</td>\n",
       "      <td>0.5368</td>\n",
       "      <td>0.6637</td>\n",
       "      <td>0.0800</td>\n",
       "      <td>0.1467</td>\n",
       "      <td>0.1667</td>\n",
       "      <td>0.1999</td>\n",
       "      <td>0.2637</td>\n",
       "      <td>0.3005</td>\n",
       "      <td>0.5358</td>\n",
       "      <td>0.5398</td>\n",
       "      <td>0.5398</td>\n",
       "    </tr>\n",
       "    <tr>\n",
       "      <th>21</th>\n",
       "      <td>gate-TDE</td>\n",
       "      <td>validation</td>\n",
       "      <td>20000</td>\n",
       "      <td>0.9999</td>\n",
       "      <td>0.3171</td>\n",
       "      <td>0.4319</td>\n",
       "      <td>0.4837</td>\n",
       "      <td>0.3617</td>\n",
       "      <td>0.5368</td>\n",
       "      <td>0.6637</td>\n",
       "      <td>0.0800</td>\n",
       "      <td>0.1467</td>\n",
       "      <td>0.1667</td>\n",
       "      <td>0.1999</td>\n",
       "      <td>0.2637</td>\n",
       "      <td>0.3005</td>\n",
       "      <td>0.5358</td>\n",
       "      <td>0.5398</td>\n",
       "      <td>0.5398</td>\n",
       "    </tr>\n",
       "    <tr>\n",
       "      <th>22</th>\n",
       "      <td>gate-TDE</td>\n",
       "      <td>validation</td>\n",
       "      <td>20000</td>\n",
       "      <td>0.9999</td>\n",
       "      <td>0.3171</td>\n",
       "      <td>0.4319</td>\n",
       "      <td>0.4837</td>\n",
       "      <td>0.3617</td>\n",
       "      <td>0.5368</td>\n",
       "      <td>0.6637</td>\n",
       "      <td>0.0800</td>\n",
       "      <td>0.1467</td>\n",
       "      <td>0.1667</td>\n",
       "      <td>0.1999</td>\n",
       "      <td>0.2637</td>\n",
       "      <td>0.3005</td>\n",
       "      <td>0.5358</td>\n",
       "      <td>0.5398</td>\n",
       "      <td>0.5398</td>\n",
       "    </tr>\n",
       "    <tr>\n",
       "      <th>23</th>\n",
       "      <td>gate-TDE</td>\n",
       "      <td>test</td>\n",
       "      <td>20000</td>\n",
       "      <td>0.9995</td>\n",
       "      <td>0.3310</td>\n",
       "      <td>0.4448</td>\n",
       "      <td>0.4940</td>\n",
       "      <td>0.3699</td>\n",
       "      <td>0.5500</td>\n",
       "      <td>0.6699</td>\n",
       "      <td>0.0546</td>\n",
       "      <td>0.0915</td>\n",
       "      <td>0.1196</td>\n",
       "      <td>0.1870</td>\n",
       "      <td>0.2586</td>\n",
       "      <td>0.2968</td>\n",
       "      <td>0.5303</td>\n",
       "      <td>0.5322</td>\n",
       "      <td>0.5322</td>\n",
       "    </tr>\n",
       "    <tr>\n",
       "      <th>24</th>\n",
       "      <td>mfb3-TDE</td>\n",
       "      <td>validation</td>\n",
       "      <td>16000</td>\n",
       "      <td>0.9999</td>\n",
       "      <td>0.0207</td>\n",
       "      <td>0.0265</td>\n",
       "      <td>0.0284</td>\n",
       "      <td>0.0277</td>\n",
       "      <td>0.0497</td>\n",
       "      <td>0.0970</td>\n",
       "      <td>0.0489</td>\n",
       "      <td>0.0800</td>\n",
       "      <td>0.0889</td>\n",
       "      <td>0.0546</td>\n",
       "      <td>0.0835</td>\n",
       "      <td>0.0959</td>\n",
       "      <td>0.0253</td>\n",
       "      <td>0.0255</td>\n",
       "      <td>0.0255</td>\n",
       "    </tr>\n",
       "    <tr>\n",
       "      <th>25</th>\n",
       "      <td>mfb3-TDE</td>\n",
       "      <td>validation</td>\n",
       "      <td>16000</td>\n",
       "      <td>0.9999</td>\n",
       "      <td>0.0207</td>\n",
       "      <td>0.0265</td>\n",
       "      <td>0.0284</td>\n",
       "      <td>0.0277</td>\n",
       "      <td>0.0497</td>\n",
       "      <td>0.0970</td>\n",
       "      <td>0.0489</td>\n",
       "      <td>0.0800</td>\n",
       "      <td>0.0889</td>\n",
       "      <td>0.0546</td>\n",
       "      <td>0.0835</td>\n",
       "      <td>0.0959</td>\n",
       "      <td>0.0253</td>\n",
       "      <td>0.0255</td>\n",
       "      <td>0.0255</td>\n",
       "    </tr>\n",
       "    <tr>\n",
       "      <th>26</th>\n",
       "      <td>mfb3-TDE</td>\n",
       "      <td>validation</td>\n",
       "      <td>16000</td>\n",
       "      <td>0.9999</td>\n",
       "      <td>0.0207</td>\n",
       "      <td>0.0265</td>\n",
       "      <td>0.0284</td>\n",
       "      <td>0.0277</td>\n",
       "      <td>0.0497</td>\n",
       "      <td>0.0970</td>\n",
       "      <td>0.0489</td>\n",
       "      <td>0.0800</td>\n",
       "      <td>0.0889</td>\n",
       "      <td>0.0546</td>\n",
       "      <td>0.0835</td>\n",
       "      <td>0.0959</td>\n",
       "      <td>0.0253</td>\n",
       "      <td>0.0255</td>\n",
       "      <td>0.0255</td>\n",
       "    </tr>\n",
       "    <tr>\n",
       "      <th>27</th>\n",
       "      <td>mfb3-TDE</td>\n",
       "      <td>validation</td>\n",
       "      <td>16000</td>\n",
       "      <td>0.9999</td>\n",
       "      <td>0.0207</td>\n",
       "      <td>0.0265</td>\n",
       "      <td>0.0284</td>\n",
       "      <td>0.0277</td>\n",
       "      <td>0.0497</td>\n",
       "      <td>0.0970</td>\n",
       "      <td>0.0489</td>\n",
       "      <td>0.0800</td>\n",
       "      <td>0.0889</td>\n",
       "      <td>0.0546</td>\n",
       "      <td>0.0835</td>\n",
       "      <td>0.0959</td>\n",
       "      <td>0.0253</td>\n",
       "      <td>0.0255</td>\n",
       "      <td>0.0255</td>\n",
       "    </tr>\n",
       "    <tr>\n",
       "      <th>28</th>\n",
       "      <td>mfb3-TDE</td>\n",
       "      <td>validation</td>\n",
       "      <td>16000</td>\n",
       "      <td>0.9999</td>\n",
       "      <td>0.0207</td>\n",
       "      <td>0.0265</td>\n",
       "      <td>0.0284</td>\n",
       "      <td>0.0277</td>\n",
       "      <td>0.0497</td>\n",
       "      <td>0.0970</td>\n",
       "      <td>0.0489</td>\n",
       "      <td>0.0800</td>\n",
       "      <td>0.0889</td>\n",
       "      <td>0.0546</td>\n",
       "      <td>0.0835</td>\n",
       "      <td>0.0959</td>\n",
       "      <td>0.0253</td>\n",
       "      <td>0.0255</td>\n",
       "      <td>0.0255</td>\n",
       "    </tr>\n",
       "    <tr>\n",
       "      <th>29</th>\n",
       "      <td>mfb3-TDE</td>\n",
       "      <td>validation</td>\n",
       "      <td>16000</td>\n",
       "      <td>0.9999</td>\n",
       "      <td>0.0207</td>\n",
       "      <td>0.0265</td>\n",
       "      <td>0.0284</td>\n",
       "      <td>0.0277</td>\n",
       "      <td>0.0497</td>\n",
       "      <td>0.0970</td>\n",
       "      <td>0.0489</td>\n",
       "      <td>0.0800</td>\n",
       "      <td>0.0889</td>\n",
       "      <td>0.0546</td>\n",
       "      <td>0.0835</td>\n",
       "      <td>0.0959</td>\n",
       "      <td>0.0253</td>\n",
       "      <td>0.0255</td>\n",
       "      <td>0.0255</td>\n",
       "    </tr>\n",
       "    <tr>\n",
       "      <th>30</th>\n",
       "      <td>mfb3-TDE</td>\n",
       "      <td>validation</td>\n",
       "      <td>16000</td>\n",
       "      <td>0.9999</td>\n",
       "      <td>0.0207</td>\n",
       "      <td>0.0265</td>\n",
       "      <td>0.0284</td>\n",
       "      <td>0.0277</td>\n",
       "      <td>0.0497</td>\n",
       "      <td>0.0970</td>\n",
       "      <td>0.0489</td>\n",
       "      <td>0.0800</td>\n",
       "      <td>0.0889</td>\n",
       "      <td>0.0546</td>\n",
       "      <td>0.0835</td>\n",
       "      <td>0.0959</td>\n",
       "      <td>0.0253</td>\n",
       "      <td>0.0255</td>\n",
       "      <td>0.0255</td>\n",
       "    </tr>\n",
       "    <tr>\n",
       "      <th>31</th>\n",
       "      <td>mfb3-TDE</td>\n",
       "      <td>validation</td>\n",
       "      <td>16000</td>\n",
       "      <td>0.9999</td>\n",
       "      <td>0.0207</td>\n",
       "      <td>0.0265</td>\n",
       "      <td>0.0284</td>\n",
       "      <td>0.0277</td>\n",
       "      <td>0.0497</td>\n",
       "      <td>0.0970</td>\n",
       "      <td>0.0489</td>\n",
       "      <td>0.0800</td>\n",
       "      <td>0.0889</td>\n",
       "      <td>0.0546</td>\n",
       "      <td>0.0835</td>\n",
       "      <td>0.0959</td>\n",
       "      <td>0.0253</td>\n",
       "      <td>0.0255</td>\n",
       "      <td>0.0255</td>\n",
       "    </tr>\n",
       "    <tr>\n",
       "      <th>32</th>\n",
       "      <td>sum-TDE</td>\n",
       "      <td>validation</td>\n",
       "      <td>22000</td>\n",
       "      <td>0.9999</td>\n",
       "      <td>0.2198</td>\n",
       "      <td>0.3194</td>\n",
       "      <td>0.3815</td>\n",
       "      <td>0.2645</td>\n",
       "      <td>0.4354</td>\n",
       "      <td>0.5853</td>\n",
       "      <td>0.1222</td>\n",
       "      <td>0.1637</td>\n",
       "      <td>0.1874</td>\n",
       "      <td>0.1922</td>\n",
       "      <td>0.2617</td>\n",
       "      <td>0.3048</td>\n",
       "      <td>0.4544</td>\n",
       "      <td>0.4585</td>\n",
       "      <td>0.4585</td>\n",
       "    </tr>\n",
       "    <tr>\n",
       "      <th>33</th>\n",
       "      <td>sum-TDE</td>\n",
       "      <td>validation</td>\n",
       "      <td>22000</td>\n",
       "      <td>0.9999</td>\n",
       "      <td>0.2198</td>\n",
       "      <td>0.3194</td>\n",
       "      <td>0.3815</td>\n",
       "      <td>0.2645</td>\n",
       "      <td>0.4354</td>\n",
       "      <td>0.5853</td>\n",
       "      <td>0.1222</td>\n",
       "      <td>0.1637</td>\n",
       "      <td>0.1874</td>\n",
       "      <td>0.1922</td>\n",
       "      <td>0.2617</td>\n",
       "      <td>0.3048</td>\n",
       "      <td>0.4544</td>\n",
       "      <td>0.4585</td>\n",
       "      <td>0.4585</td>\n",
       "    </tr>\n",
       "    <tr>\n",
       "      <th>34</th>\n",
       "      <td>sum-TDE</td>\n",
       "      <td>validation</td>\n",
       "      <td>22000</td>\n",
       "      <td>0.9999</td>\n",
       "      <td>0.2198</td>\n",
       "      <td>0.3194</td>\n",
       "      <td>0.3815</td>\n",
       "      <td>0.2645</td>\n",
       "      <td>0.4354</td>\n",
       "      <td>0.5853</td>\n",
       "      <td>0.1222</td>\n",
       "      <td>0.1637</td>\n",
       "      <td>0.1874</td>\n",
       "      <td>0.1922</td>\n",
       "      <td>0.2617</td>\n",
       "      <td>0.3048</td>\n",
       "      <td>0.4544</td>\n",
       "      <td>0.4585</td>\n",
       "      <td>0.4585</td>\n",
       "    </tr>\n",
       "    <tr>\n",
       "      <th>35</th>\n",
       "      <td>sum-TDE</td>\n",
       "      <td>validation</td>\n",
       "      <td>22000</td>\n",
       "      <td>0.9999</td>\n",
       "      <td>0.2198</td>\n",
       "      <td>0.3194</td>\n",
       "      <td>0.3815</td>\n",
       "      <td>0.2645</td>\n",
       "      <td>0.4354</td>\n",
       "      <td>0.5853</td>\n",
       "      <td>0.1222</td>\n",
       "      <td>0.1637</td>\n",
       "      <td>0.1874</td>\n",
       "      <td>0.1922</td>\n",
       "      <td>0.2617</td>\n",
       "      <td>0.3048</td>\n",
       "      <td>0.4544</td>\n",
       "      <td>0.4585</td>\n",
       "      <td>0.4585</td>\n",
       "    </tr>\n",
       "    <tr>\n",
       "      <th>36</th>\n",
       "      <td>sum-TDE</td>\n",
       "      <td>validation</td>\n",
       "      <td>22000</td>\n",
       "      <td>0.9999</td>\n",
       "      <td>0.2198</td>\n",
       "      <td>0.3194</td>\n",
       "      <td>0.3815</td>\n",
       "      <td>0.2645</td>\n",
       "      <td>0.4354</td>\n",
       "      <td>0.5853</td>\n",
       "      <td>0.1222</td>\n",
       "      <td>0.1637</td>\n",
       "      <td>0.1874</td>\n",
       "      <td>0.1922</td>\n",
       "      <td>0.2617</td>\n",
       "      <td>0.3048</td>\n",
       "      <td>0.4544</td>\n",
       "      <td>0.4585</td>\n",
       "      <td>0.4585</td>\n",
       "    </tr>\n",
       "    <tr>\n",
       "      <th>37</th>\n",
       "      <td>sum-TDE</td>\n",
       "      <td>validation</td>\n",
       "      <td>22000</td>\n",
       "      <td>0.9999</td>\n",
       "      <td>0.2198</td>\n",
       "      <td>0.3194</td>\n",
       "      <td>0.3815</td>\n",
       "      <td>0.2645</td>\n",
       "      <td>0.4354</td>\n",
       "      <td>0.5853</td>\n",
       "      <td>0.1222</td>\n",
       "      <td>0.1637</td>\n",
       "      <td>0.1874</td>\n",
       "      <td>0.1922</td>\n",
       "      <td>0.2617</td>\n",
       "      <td>0.3048</td>\n",
       "      <td>0.4544</td>\n",
       "      <td>0.4585</td>\n",
       "      <td>0.4585</td>\n",
       "    </tr>\n",
       "    <tr>\n",
       "      <th>38</th>\n",
       "      <td>sum-TDE</td>\n",
       "      <td>validation</td>\n",
       "      <td>22000</td>\n",
       "      <td>0.9999</td>\n",
       "      <td>0.2198</td>\n",
       "      <td>0.3194</td>\n",
       "      <td>0.3815</td>\n",
       "      <td>0.2645</td>\n",
       "      <td>0.4354</td>\n",
       "      <td>0.5853</td>\n",
       "      <td>0.1222</td>\n",
       "      <td>0.1637</td>\n",
       "      <td>0.1874</td>\n",
       "      <td>0.1922</td>\n",
       "      <td>0.2617</td>\n",
       "      <td>0.3048</td>\n",
       "      <td>0.4544</td>\n",
       "      <td>0.4585</td>\n",
       "      <td>0.4585</td>\n",
       "    </tr>\n",
       "    <tr>\n",
       "      <th>39</th>\n",
       "      <td>sum-TDE</td>\n",
       "      <td>validation</td>\n",
       "      <td>22000</td>\n",
       "      <td>0.9999</td>\n",
       "      <td>0.2198</td>\n",
       "      <td>0.3194</td>\n",
       "      <td>0.3815</td>\n",
       "      <td>0.2645</td>\n",
       "      <td>0.4354</td>\n",
       "      <td>0.5853</td>\n",
       "      <td>0.1222</td>\n",
       "      <td>0.1637</td>\n",
       "      <td>0.1874</td>\n",
       "      <td>0.1922</td>\n",
       "      <td>0.2617</td>\n",
       "      <td>0.3048</td>\n",
       "      <td>0.4544</td>\n",
       "      <td>0.4585</td>\n",
       "      <td>0.4585</td>\n",
       "    </tr>\n",
       "    <tr>\n",
       "      <th>40</th>\n",
       "      <td>sum-TDE</td>\n",
       "      <td>validation</td>\n",
       "      <td>22000</td>\n",
       "      <td>0.9999</td>\n",
       "      <td>0.2198</td>\n",
       "      <td>0.3194</td>\n",
       "      <td>0.3815</td>\n",
       "      <td>0.2645</td>\n",
       "      <td>0.4354</td>\n",
       "      <td>0.5853</td>\n",
       "      <td>0.1222</td>\n",
       "      <td>0.1637</td>\n",
       "      <td>0.1874</td>\n",
       "      <td>0.1922</td>\n",
       "      <td>0.2617</td>\n",
       "      <td>0.3048</td>\n",
       "      <td>0.4544</td>\n",
       "      <td>0.4585</td>\n",
       "      <td>0.4585</td>\n",
       "    </tr>\n",
       "    <tr>\n",
       "      <th>41</th>\n",
       "      <td>sum-TDE</td>\n",
       "      <td>validation</td>\n",
       "      <td>22000</td>\n",
       "      <td>0.9999</td>\n",
       "      <td>0.2198</td>\n",
       "      <td>0.3194</td>\n",
       "      <td>0.3815</td>\n",
       "      <td>0.2645</td>\n",
       "      <td>0.4354</td>\n",
       "      <td>0.5853</td>\n",
       "      <td>0.1222</td>\n",
       "      <td>0.1637</td>\n",
       "      <td>0.1874</td>\n",
       "      <td>0.1922</td>\n",
       "      <td>0.2617</td>\n",
       "      <td>0.3048</td>\n",
       "      <td>0.4544</td>\n",
       "      <td>0.4585</td>\n",
       "      <td>0.4585</td>\n",
       "    </tr>\n",
       "    <tr>\n",
       "      <th>42</th>\n",
       "      <td>sum-TDE</td>\n",
       "      <td>validation</td>\n",
       "      <td>22000</td>\n",
       "      <td>0.9999</td>\n",
       "      <td>0.2198</td>\n",
       "      <td>0.3194</td>\n",
       "      <td>0.3815</td>\n",
       "      <td>0.2645</td>\n",
       "      <td>0.4354</td>\n",
       "      <td>0.5853</td>\n",
       "      <td>0.1222</td>\n",
       "      <td>0.1637</td>\n",
       "      <td>0.1874</td>\n",
       "      <td>0.1922</td>\n",
       "      <td>0.2617</td>\n",
       "      <td>0.3048</td>\n",
       "      <td>0.4544</td>\n",
       "      <td>0.4585</td>\n",
       "      <td>0.4585</td>\n",
       "    </tr>\n",
       "    <tr>\n",
       "      <th>43</th>\n",
       "      <td>sum-TDE</td>\n",
       "      <td>validation</td>\n",
       "      <td>22000</td>\n",
       "      <td>0.9999</td>\n",
       "      <td>0.2198</td>\n",
       "      <td>0.3194</td>\n",
       "      <td>0.3815</td>\n",
       "      <td>0.2645</td>\n",
       "      <td>0.4354</td>\n",
       "      <td>0.5853</td>\n",
       "      <td>0.1222</td>\n",
       "      <td>0.1637</td>\n",
       "      <td>0.1874</td>\n",
       "      <td>0.1922</td>\n",
       "      <td>0.2617</td>\n",
       "      <td>0.3048</td>\n",
       "      <td>0.4544</td>\n",
       "      <td>0.4585</td>\n",
       "      <td>0.4585</td>\n",
       "    </tr>\n",
       "    <tr>\n",
       "      <th>44</th>\n",
       "      <td>sum-TDE</td>\n",
       "      <td>validation</td>\n",
       "      <td>22000</td>\n",
       "      <td>0.9999</td>\n",
       "      <td>0.2198</td>\n",
       "      <td>0.3194</td>\n",
       "      <td>0.3815</td>\n",
       "      <td>0.2645</td>\n",
       "      <td>0.4354</td>\n",
       "      <td>0.5853</td>\n",
       "      <td>0.1222</td>\n",
       "      <td>0.1637</td>\n",
       "      <td>0.1874</td>\n",
       "      <td>0.1922</td>\n",
       "      <td>0.2617</td>\n",
       "      <td>0.3048</td>\n",
       "      <td>0.4544</td>\n",
       "      <td>0.4585</td>\n",
       "      <td>0.4585</td>\n",
       "    </tr>\n",
       "    <tr>\n",
       "      <th>45</th>\n",
       "      <td>sum-TDE</td>\n",
       "      <td>test</td>\n",
       "      <td>22000</td>\n",
       "      <td>0.9995</td>\n",
       "      <td>0.2503</td>\n",
       "      <td>0.3583</td>\n",
       "      <td>0.4147</td>\n",
       "      <td>0.2947</td>\n",
       "      <td>0.4774</td>\n",
       "      <td>0.6148</td>\n",
       "      <td>0.0765</td>\n",
       "      <td>0.1217</td>\n",
       "      <td>0.1507</td>\n",
       "      <td>0.1735</td>\n",
       "      <td>0.2466</td>\n",
       "      <td>0.2881</td>\n",
       "      <td>0.4617</td>\n",
       "      <td>0.4634</td>\n",
       "      <td>0.4634</td>\n",
       "    </tr>\n",
       "  </tbody>\n",
       "</table>\n",
       "</div>"
      ],
      "text/plain": [
       "        label    eval_set   iter     mAp  R @ 20  R @ 50 R @ 100 ngR @ 20  \\\n",
       "0   dist2-TDE  validation  24000  0.9999  0.5535  0.6057  0.6208   0.6228   \n",
       "1   dist2-TDE  validation  24000  0.9999  0.5535  0.6057  0.6208   0.6228   \n",
       "2   dist2-TDE  validation  24000  0.9999  0.5535  0.6057  0.6208   0.6228   \n",
       "3   dist2-TDE  validation  24000  0.9999  0.5535  0.6057  0.6208   0.6228   \n",
       "4   dist2-TDE  validation  24000  0.9999  0.5535  0.6057  0.6208   0.6228   \n",
       "5   dist2-TDE  validation  24000  0.9999  0.5535  0.6057  0.6208   0.6228   \n",
       "6   dist2-TDE  validation  24000  0.9999  0.5535  0.6057  0.6208   0.6228   \n",
       "7   dist2-TDE  validation  24000  0.9999  0.5535  0.6057  0.6208   0.6228   \n",
       "8   dist2-TDE  validation  24000  0.9999  0.5535  0.6057  0.6208   0.6228   \n",
       "9   dist2-TDE  validation  24000  0.9999  0.5535  0.6057  0.6208   0.6228   \n",
       "10  dist2-TDE  validation  24000  0.9999  0.5535  0.6057  0.6208   0.6228   \n",
       "11  dist2-TDE  validation  24000  0.9999  0.5535  0.6057  0.6208   0.6228   \n",
       "12  dist2-TDE        test  24000  0.9995  0.5354  0.6005  0.6206   0.6042   \n",
       "13   gate-TDE  validation  20000  0.9999  0.3171  0.4319  0.4837   0.3617   \n",
       "14   gate-TDE  validation  20000  0.9999  0.3171  0.4319  0.4837   0.3617   \n",
       "15   gate-TDE  validation  20000  0.9999  0.3171  0.4319  0.4837   0.3617   \n",
       "16   gate-TDE  validation  20000  0.9999  0.3171  0.4319  0.4837   0.3617   \n",
       "17   gate-TDE  validation  20000  0.9999  0.3171  0.4319  0.4837   0.3617   \n",
       "18   gate-TDE  validation  20000  0.9999  0.3171  0.4319  0.4837   0.3617   \n",
       "19   gate-TDE  validation  20000  0.9999  0.3171  0.4319  0.4837   0.3617   \n",
       "20   gate-TDE  validation  20000  0.9999  0.3171  0.4319  0.4837   0.3617   \n",
       "21   gate-TDE  validation  20000  0.9999  0.3171  0.4319  0.4837   0.3617   \n",
       "22   gate-TDE  validation  20000  0.9999  0.3171  0.4319  0.4837   0.3617   \n",
       "23   gate-TDE        test  20000  0.9995  0.3310  0.4448  0.4940   0.3699   \n",
       "24   mfb3-TDE  validation  16000  0.9999  0.0207  0.0265  0.0284   0.0277   \n",
       "25   mfb3-TDE  validation  16000  0.9999  0.0207  0.0265  0.0284   0.0277   \n",
       "26   mfb3-TDE  validation  16000  0.9999  0.0207  0.0265  0.0284   0.0277   \n",
       "27   mfb3-TDE  validation  16000  0.9999  0.0207  0.0265  0.0284   0.0277   \n",
       "28   mfb3-TDE  validation  16000  0.9999  0.0207  0.0265  0.0284   0.0277   \n",
       "29   mfb3-TDE  validation  16000  0.9999  0.0207  0.0265  0.0284   0.0277   \n",
       "30   mfb3-TDE  validation  16000  0.9999  0.0207  0.0265  0.0284   0.0277   \n",
       "31   mfb3-TDE  validation  16000  0.9999  0.0207  0.0265  0.0284   0.0277   \n",
       "32    sum-TDE  validation  22000  0.9999  0.2198  0.3194  0.3815   0.2645   \n",
       "33    sum-TDE  validation  22000  0.9999  0.2198  0.3194  0.3815   0.2645   \n",
       "34    sum-TDE  validation  22000  0.9999  0.2198  0.3194  0.3815   0.2645   \n",
       "35    sum-TDE  validation  22000  0.9999  0.2198  0.3194  0.3815   0.2645   \n",
       "36    sum-TDE  validation  22000  0.9999  0.2198  0.3194  0.3815   0.2645   \n",
       "37    sum-TDE  validation  22000  0.9999  0.2198  0.3194  0.3815   0.2645   \n",
       "38    sum-TDE  validation  22000  0.9999  0.2198  0.3194  0.3815   0.2645   \n",
       "39    sum-TDE  validation  22000  0.9999  0.2198  0.3194  0.3815   0.2645   \n",
       "40    sum-TDE  validation  22000  0.9999  0.2198  0.3194  0.3815   0.2645   \n",
       "41    sum-TDE  validation  22000  0.9999  0.2198  0.3194  0.3815   0.2645   \n",
       "42    sum-TDE  validation  22000  0.9999  0.2198  0.3194  0.3815   0.2645   \n",
       "43    sum-TDE  validation  22000  0.9999  0.2198  0.3194  0.3815   0.2645   \n",
       "44    sum-TDE  validation  22000  0.9999  0.2198  0.3194  0.3815   0.2645   \n",
       "45    sum-TDE        test  22000  0.9995  0.2503  0.3583  0.4147   0.2947   \n",
       "\n",
       "   ngR @ 50 ngR @ 100 zR @ 20 zR @ 50 zR @ 100 mR @ 20 mR @ 50 mR @ 100  \\\n",
       "0    0.7360    0.7974  0.0852  0.1600   0.1844  0.1262  0.1526   0.1700   \n",
       "1    0.7360    0.7974  0.0852  0.1600   0.1844  0.1262  0.1526   0.1700   \n",
       "2    0.7360    0.7974  0.0852  0.1600   0.1844  0.1262  0.1526   0.1700   \n",
       "3    0.7360    0.7974  0.0852  0.1600   0.1844  0.1262  0.1526   0.1700   \n",
       "4    0.7360    0.7974  0.0852  0.1600   0.1844  0.1262  0.1526   0.1700   \n",
       "5    0.7360    0.7974  0.0852  0.1600   0.1844  0.1262  0.1526   0.1700   \n",
       "6    0.7360    0.7974  0.0852  0.1600   0.1844  0.1262  0.1526   0.1700   \n",
       "7    0.7360    0.7974  0.0852  0.1600   0.1844  0.1262  0.1526   0.1700   \n",
       "8    0.7360    0.7974  0.0852  0.1600   0.1844  0.1262  0.1526   0.1700   \n",
       "9    0.7360    0.7974  0.0852  0.1600   0.1844  0.1262  0.1526   0.1700   \n",
       "10   0.7360    0.7974  0.0852  0.1600   0.1844  0.1262  0.1526   0.1700   \n",
       "11   0.7360    0.7974  0.0852  0.1600   0.1844  0.1262  0.1526   0.1700   \n",
       "12   0.7359    0.8031  0.0624  0.1092   0.1362  0.1093  0.1429   0.1612   \n",
       "13   0.5368    0.6637  0.0800  0.1467   0.1667  0.1999  0.2637   0.3005   \n",
       "14   0.5368    0.6637  0.0800  0.1467   0.1667  0.1999  0.2637   0.3005   \n",
       "15   0.5368    0.6637  0.0800  0.1467   0.1667  0.1999  0.2637   0.3005   \n",
       "16   0.5368    0.6637  0.0800  0.1467   0.1667  0.1999  0.2637   0.3005   \n",
       "17   0.5368    0.6637  0.0800  0.1467   0.1667  0.1999  0.2637   0.3005   \n",
       "18   0.5368    0.6637  0.0800  0.1467   0.1667  0.1999  0.2637   0.3005   \n",
       "19   0.5368    0.6637  0.0800  0.1467   0.1667  0.1999  0.2637   0.3005   \n",
       "20   0.5368    0.6637  0.0800  0.1467   0.1667  0.1999  0.2637   0.3005   \n",
       "21   0.5368    0.6637  0.0800  0.1467   0.1667  0.1999  0.2637   0.3005   \n",
       "22   0.5368    0.6637  0.0800  0.1467   0.1667  0.1999  0.2637   0.3005   \n",
       "23   0.5500    0.6699  0.0546  0.0915   0.1196  0.1870  0.2586   0.2968   \n",
       "24   0.0497    0.0970  0.0489  0.0800   0.0889  0.0546  0.0835   0.0959   \n",
       "25   0.0497    0.0970  0.0489  0.0800   0.0889  0.0546  0.0835   0.0959   \n",
       "26   0.0497    0.0970  0.0489  0.0800   0.0889  0.0546  0.0835   0.0959   \n",
       "27   0.0497    0.0970  0.0489  0.0800   0.0889  0.0546  0.0835   0.0959   \n",
       "28   0.0497    0.0970  0.0489  0.0800   0.0889  0.0546  0.0835   0.0959   \n",
       "29   0.0497    0.0970  0.0489  0.0800   0.0889  0.0546  0.0835   0.0959   \n",
       "30   0.0497    0.0970  0.0489  0.0800   0.0889  0.0546  0.0835   0.0959   \n",
       "31   0.0497    0.0970  0.0489  0.0800   0.0889  0.0546  0.0835   0.0959   \n",
       "32   0.4354    0.5853  0.1222  0.1637   0.1874  0.1922  0.2617   0.3048   \n",
       "33   0.4354    0.5853  0.1222  0.1637   0.1874  0.1922  0.2617   0.3048   \n",
       "34   0.4354    0.5853  0.1222  0.1637   0.1874  0.1922  0.2617   0.3048   \n",
       "35   0.4354    0.5853  0.1222  0.1637   0.1874  0.1922  0.2617   0.3048   \n",
       "36   0.4354    0.5853  0.1222  0.1637   0.1874  0.1922  0.2617   0.3048   \n",
       "37   0.4354    0.5853  0.1222  0.1637   0.1874  0.1922  0.2617   0.3048   \n",
       "38   0.4354    0.5853  0.1222  0.1637   0.1874  0.1922  0.2617   0.3048   \n",
       "39   0.4354    0.5853  0.1222  0.1637   0.1874  0.1922  0.2617   0.3048   \n",
       "40   0.4354    0.5853  0.1222  0.1637   0.1874  0.1922  0.2617   0.3048   \n",
       "41   0.4354    0.5853  0.1222  0.1637   0.1874  0.1922  0.2617   0.3048   \n",
       "42   0.4354    0.5853  0.1222  0.1637   0.1874  0.1922  0.2617   0.3048   \n",
       "43   0.4354    0.5853  0.1222  0.1637   0.1874  0.1922  0.2617   0.3048   \n",
       "44   0.4354    0.5853  0.1222  0.1637   0.1874  0.1922  0.2617   0.3048   \n",
       "45   0.4774    0.6148  0.0765  0.1217   0.1507  0.1735  0.2466   0.2881   \n",
       "\n",
       "    A @ 20  A @ 50 A @ 100  \n",
       "0   0.6492  0.6531  0.6531  \n",
       "1   0.6492  0.6531  0.6531  \n",
       "2   0.6492  0.6531  0.6531  \n",
       "3   0.6492  0.6531  0.6531  \n",
       "4   0.6492  0.6531  0.6531  \n",
       "5   0.6492  0.6531  0.6531  \n",
       "6   0.6492  0.6531  0.6531  \n",
       "7   0.6492  0.6531  0.6531  \n",
       "8   0.6492  0.6531  0.6531  \n",
       "9   0.6492  0.6531  0.6531  \n",
       "10  0.6492  0.6531  0.6531  \n",
       "11  0.6492  0.6531  0.6531  \n",
       "12  0.6391  0.6412  0.6412  \n",
       "13  0.5358  0.5398  0.5398  \n",
       "14  0.5358  0.5398  0.5398  \n",
       "15  0.5358  0.5398  0.5398  \n",
       "16  0.5358  0.5398  0.5398  \n",
       "17  0.5358  0.5398  0.5398  \n",
       "18  0.5358  0.5398  0.5398  \n",
       "19  0.5358  0.5398  0.5398  \n",
       "20  0.5358  0.5398  0.5398  \n",
       "21  0.5358  0.5398  0.5398  \n",
       "22  0.5358  0.5398  0.5398  \n",
       "23  0.5303  0.5322  0.5322  \n",
       "24  0.0253  0.0255  0.0255  \n",
       "25  0.0253  0.0255  0.0255  \n",
       "26  0.0253  0.0255  0.0255  \n",
       "27  0.0253  0.0255  0.0255  \n",
       "28  0.0253  0.0255  0.0255  \n",
       "29  0.0253  0.0255  0.0255  \n",
       "30  0.0253  0.0255  0.0255  \n",
       "31  0.0253  0.0255  0.0255  \n",
       "32  0.4544  0.4585  0.4585  \n",
       "33  0.4544  0.4585  0.4585  \n",
       "34  0.4544  0.4585  0.4585  \n",
       "35  0.4544  0.4585  0.4585  \n",
       "36  0.4544  0.4585  0.4585  \n",
       "37  0.4544  0.4585  0.4585  \n",
       "38  0.4544  0.4585  0.4585  \n",
       "39  0.4544  0.4585  0.4585  \n",
       "40  0.4544  0.4585  0.4585  \n",
       "41  0.4544  0.4585  0.4585  \n",
       "42  0.4544  0.4585  0.4585  \n",
       "43  0.4544  0.4585  0.4585  \n",
       "44  0.4544  0.4585  0.4585  \n",
       "45  0.4617  0.4634  0.4634  "
      ]
     },
     "execution_count": 6,
     "metadata": {},
     "output_type": "execute_result"
    }
   ],
   "source": [
    "arr = []\n",
    "for label,log_file in log_files.items():\n",
    "    #log_files = r'C:\\Inn\\Github\\SGG\\checkpoint\\precls-CausalAnalysisPredictor-motifs-dist2-TDE\\log.txt'\n",
    "    f = open(log_file,mode='r') \n",
    "    Tx = f.read()\n",
    "    f.close()\n",
    "\n",
    "    arr += log_to_array(Tx, label=label)\n",
    "\n",
    "df = pd.DataFrame(data=arr)#, columns=keys\n",
    "df"
   ]
  },
  {
   "cell_type": "code",
   "execution_count": 7,
   "metadata": {
    "ExecuteTime": {
     "end_time": "2020-07-05T15:25:54.184027Z",
     "start_time": "2020-07-05T15:25:54.169040Z"
    }
   },
   "outputs": [
    {
     "data": {
      "text/html": [
       "<div>\n",
       "<style scoped>\n",
       "    .dataframe tbody tr th:only-of-type {\n",
       "        vertical-align: middle;\n",
       "    }\n",
       "\n",
       "    .dataframe tbody tr th {\n",
       "        vertical-align: top;\n",
       "    }\n",
       "\n",
       "    .dataframe thead th {\n",
       "        text-align: right;\n",
       "    }\n",
       "</style>\n",
       "<table border=\"1\" class=\"dataframe\">\n",
       "  <thead>\n",
       "    <tr style=\"text-align: right;\">\n",
       "      <th></th>\n",
       "      <th>label</th>\n",
       "      <th>dist2-TDE</th>\n",
       "      <th>gate-TDE</th>\n",
       "      <th>sum-TDE</th>\n",
       "    </tr>\n",
       "  </thead>\n",
       "  <tbody>\n",
       "    <tr>\n",
       "      <th>3</th>\n",
       "      <td>mAp</td>\n",
       "      <td>0.9995</td>\n",
       "      <td>0.9995</td>\n",
       "      <td>0.9995</td>\n",
       "    </tr>\n",
       "    <tr>\n",
       "      <th>4</th>\n",
       "      <td>R @ 20</td>\n",
       "      <td>0.5354</td>\n",
       "      <td>0.3310</td>\n",
       "      <td>0.2503</td>\n",
       "    </tr>\n",
       "    <tr>\n",
       "      <th>5</th>\n",
       "      <td>R @ 50</td>\n",
       "      <td>0.6005</td>\n",
       "      <td>0.4448</td>\n",
       "      <td>0.3583</td>\n",
       "    </tr>\n",
       "    <tr>\n",
       "      <th>6</th>\n",
       "      <td>R @ 100</td>\n",
       "      <td>0.6206</td>\n",
       "      <td>0.4940</td>\n",
       "      <td>0.4147</td>\n",
       "    </tr>\n",
       "    <tr>\n",
       "      <th>7</th>\n",
       "      <td>ngR @ 20</td>\n",
       "      <td>0.6042</td>\n",
       "      <td>0.3699</td>\n",
       "      <td>0.2947</td>\n",
       "    </tr>\n",
       "    <tr>\n",
       "      <th>8</th>\n",
       "      <td>ngR @ 50</td>\n",
       "      <td>0.7359</td>\n",
       "      <td>0.5500</td>\n",
       "      <td>0.4774</td>\n",
       "    </tr>\n",
       "    <tr>\n",
       "      <th>9</th>\n",
       "      <td>ngR @ 100</td>\n",
       "      <td>0.8031</td>\n",
       "      <td>0.6699</td>\n",
       "      <td>0.6148</td>\n",
       "    </tr>\n",
       "    <tr>\n",
       "      <th>10</th>\n",
       "      <td>zR @ 20</td>\n",
       "      <td>0.0624</td>\n",
       "      <td>0.0546</td>\n",
       "      <td>0.0765</td>\n",
       "    </tr>\n",
       "    <tr>\n",
       "      <th>11</th>\n",
       "      <td>zR @ 50</td>\n",
       "      <td>0.1092</td>\n",
       "      <td>0.0915</td>\n",
       "      <td>0.1217</td>\n",
       "    </tr>\n",
       "    <tr>\n",
       "      <th>12</th>\n",
       "      <td>zR @ 100</td>\n",
       "      <td>0.1362</td>\n",
       "      <td>0.1196</td>\n",
       "      <td>0.1507</td>\n",
       "    </tr>\n",
       "    <tr>\n",
       "      <th>13</th>\n",
       "      <td>mR @ 20</td>\n",
       "      <td>0.1093</td>\n",
       "      <td>0.1870</td>\n",
       "      <td>0.1735</td>\n",
       "    </tr>\n",
       "    <tr>\n",
       "      <th>14</th>\n",
       "      <td>mR @ 50</td>\n",
       "      <td>0.1429</td>\n",
       "      <td>0.2586</td>\n",
       "      <td>0.2466</td>\n",
       "    </tr>\n",
       "    <tr>\n",
       "      <th>15</th>\n",
       "      <td>mR @ 100</td>\n",
       "      <td>0.1612</td>\n",
       "      <td>0.2968</td>\n",
       "      <td>0.2881</td>\n",
       "    </tr>\n",
       "    <tr>\n",
       "      <th>16</th>\n",
       "      <td>A @ 20</td>\n",
       "      <td>0.6391</td>\n",
       "      <td>0.5303</td>\n",
       "      <td>0.4617</td>\n",
       "    </tr>\n",
       "    <tr>\n",
       "      <th>17</th>\n",
       "      <td>A @ 50</td>\n",
       "      <td>0.6412</td>\n",
       "      <td>0.5322</td>\n",
       "      <td>0.4634</td>\n",
       "    </tr>\n",
       "    <tr>\n",
       "      <th>18</th>\n",
       "      <td>A @ 100</td>\n",
       "      <td>0.6412</td>\n",
       "      <td>0.5322</td>\n",
       "      <td>0.4634</td>\n",
       "    </tr>\n",
       "  </tbody>\n",
       "</table>\n",
       "</div>"
      ],
      "text/plain": [
       "0       label dist2-TDE gate-TDE sum-TDE\n",
       "3         mAp    0.9995   0.9995  0.9995\n",
       "4      R @ 20    0.5354   0.3310  0.2503\n",
       "5      R @ 50    0.6005   0.4448  0.3583\n",
       "6     R @ 100    0.6206   0.4940  0.4147\n",
       "7    ngR @ 20    0.6042   0.3699  0.2947\n",
       "8    ngR @ 50    0.7359   0.5500  0.4774\n",
       "9   ngR @ 100    0.8031   0.6699  0.6148\n",
       "10    zR @ 20    0.0624   0.0546  0.0765\n",
       "11    zR @ 50    0.1092   0.0915  0.1217\n",
       "12   zR @ 100    0.1362   0.1196  0.1507\n",
       "13    mR @ 20    0.1093   0.1870  0.1735\n",
       "14    mR @ 50    0.1429   0.2586  0.2466\n",
       "15   mR @ 100    0.1612   0.2968  0.2881\n",
       "16     A @ 20    0.6391   0.5303  0.4617\n",
       "17     A @ 50    0.6412   0.5322  0.4634\n",
       "18    A @ 100    0.6412   0.5322  0.4634"
      ]
     },
     "execution_count": 7,
     "metadata": {},
     "output_type": "execute_result"
    }
   ],
   "source": [
    "_df = df[ df['eval_set'] == \"test\" ]\n",
    "#_df= _df.set_index('label')\n",
    "_df=_df.T.reset_index()\n",
    "_df.columns = _df.iloc[0]\n",
    "_df = _df.drop([0,1,2])\n",
    "_df\n",
    "#list(_df.iloc[0])"
   ]
  },
  {
   "cell_type": "code",
   "execution_count": 8,
   "metadata": {
    "ExecuteTime": {
     "end_time": "2020-07-05T15:25:57.740263Z",
     "start_time": "2020-07-05T15:25:54.185995Z"
    }
   },
   "outputs": [
    {
     "data": {
      "application/vnd.plotly.v1+json": {
       "config": {
        "linkText": "Export to plot.ly",
        "plotlyServerURL": "https://plot.ly",
        "showLink": true
       },
       "data": [
        {
         "marker": {
          "color": "rgba(255, 153, 51, 0.8)",
          "line": {
           "color": "rgba(255, 153, 51, 1.0)",
           "width": 1
          }
         },
         "name": "dist2-TDE",
         "orientation": "v",
         "text": "",
         "type": "bar",
         "x": [
          "mAp",
          "R @ 20",
          "R @ 50",
          "R @ 100",
          "ngR @ 20",
          "ngR @ 50",
          "ngR @ 100",
          "zR @ 20",
          "zR @ 50",
          "zR @ 100",
          "mR @ 20",
          "mR @ 50",
          "mR @ 100",
          "A @ 20",
          "A @ 50",
          "A @ 100"
         ],
         "y": [
          "0.9995",
          "0.5354",
          "0.6005",
          "0.6206",
          "0.6042",
          "0.7359",
          "0.8031",
          "0.0624",
          "0.1092",
          "0.1362",
          "0.1093",
          "0.1429",
          "0.1612",
          "0.6391",
          "0.6412",
          "0.6412"
         ]
        },
        {
         "marker": {
          "color": "rgba(55, 128, 191, 0.8)",
          "line": {
           "color": "rgba(55, 128, 191, 1.0)",
           "width": 1
          }
         },
         "name": "gate-TDE",
         "orientation": "v",
         "text": "",
         "type": "bar",
         "x": [
          "mAp",
          "R @ 20",
          "R @ 50",
          "R @ 100",
          "ngR @ 20",
          "ngR @ 50",
          "ngR @ 100",
          "zR @ 20",
          "zR @ 50",
          "zR @ 100",
          "mR @ 20",
          "mR @ 50",
          "mR @ 100",
          "A @ 20",
          "A @ 50",
          "A @ 100"
         ],
         "y": [
          "0.9995",
          "0.3310",
          "0.4448",
          "0.4940",
          "0.3699",
          "0.5500",
          "0.6699",
          "0.0546",
          "0.0915",
          "0.1196",
          "0.1870",
          "0.2586",
          "0.2968",
          "0.5303",
          "0.5322",
          "0.5322"
         ]
        },
        {
         "marker": {
          "color": "rgba(50, 171, 96, 0.8)",
          "line": {
           "color": "rgba(50, 171, 96, 1.0)",
           "width": 1
          }
         },
         "name": "sum-TDE",
         "orientation": "v",
         "text": "",
         "type": "bar",
         "x": [
          "mAp",
          "R @ 20",
          "R @ 50",
          "R @ 100",
          "ngR @ 20",
          "ngR @ 50",
          "ngR @ 100",
          "zR @ 20",
          "zR @ 50",
          "zR @ 100",
          "mR @ 20",
          "mR @ 50",
          "mR @ 100",
          "A @ 20",
          "A @ 50",
          "A @ 100"
         ],
         "y": [
          "0.9995",
          "0.2503",
          "0.3583",
          "0.4147",
          "0.2947",
          "0.4774",
          "0.6148",
          "0.0765",
          "0.1217",
          "0.1507",
          "0.1735",
          "0.2466",
          "0.2881",
          "0.4617",
          "0.4634",
          "0.4634"
         ]
        }
       ],
       "layout": {
        "legend": {
         "bgcolor": "#F5F6F9",
         "font": {
          "color": "#4D5663"
         }
        },
        "paper_bgcolor": "#F5F6F9",
        "plot_bgcolor": "#F5F6F9",
        "template": {
         "data": {
          "bar": [
           {
            "error_x": {
             "color": "#2a3f5f"
            },
            "error_y": {
             "color": "#2a3f5f"
            },
            "marker": {
             "line": {
              "color": "#E5ECF6",
              "width": 0.5
             }
            },
            "type": "bar"
           }
          ],
          "barpolar": [
           {
            "marker": {
             "line": {
              "color": "#E5ECF6",
              "width": 0.5
             }
            },
            "type": "barpolar"
           }
          ],
          "carpet": [
           {
            "aaxis": {
             "endlinecolor": "#2a3f5f",
             "gridcolor": "white",
             "linecolor": "white",
             "minorgridcolor": "white",
             "startlinecolor": "#2a3f5f"
            },
            "baxis": {
             "endlinecolor": "#2a3f5f",
             "gridcolor": "white",
             "linecolor": "white",
             "minorgridcolor": "white",
             "startlinecolor": "#2a3f5f"
            },
            "type": "carpet"
           }
          ],
          "choropleth": [
           {
            "colorbar": {
             "outlinewidth": 0,
             "ticks": ""
            },
            "type": "choropleth"
           }
          ],
          "contour": [
           {
            "colorbar": {
             "outlinewidth": 0,
             "ticks": ""
            },
            "colorscale": [
             [
              0,
              "#0d0887"
             ],
             [
              0.1111111111111111,
              "#46039f"
             ],
             [
              0.2222222222222222,
              "#7201a8"
             ],
             [
              0.3333333333333333,
              "#9c179e"
             ],
             [
              0.4444444444444444,
              "#bd3786"
             ],
             [
              0.5555555555555556,
              "#d8576b"
             ],
             [
              0.6666666666666666,
              "#ed7953"
             ],
             [
              0.7777777777777778,
              "#fb9f3a"
             ],
             [
              0.8888888888888888,
              "#fdca26"
             ],
             [
              1,
              "#f0f921"
             ]
            ],
            "type": "contour"
           }
          ],
          "contourcarpet": [
           {
            "colorbar": {
             "outlinewidth": 0,
             "ticks": ""
            },
            "type": "contourcarpet"
           }
          ],
          "heatmap": [
           {
            "colorbar": {
             "outlinewidth": 0,
             "ticks": ""
            },
            "colorscale": [
             [
              0,
              "#0d0887"
             ],
             [
              0.1111111111111111,
              "#46039f"
             ],
             [
              0.2222222222222222,
              "#7201a8"
             ],
             [
              0.3333333333333333,
              "#9c179e"
             ],
             [
              0.4444444444444444,
              "#bd3786"
             ],
             [
              0.5555555555555556,
              "#d8576b"
             ],
             [
              0.6666666666666666,
              "#ed7953"
             ],
             [
              0.7777777777777778,
              "#fb9f3a"
             ],
             [
              0.8888888888888888,
              "#fdca26"
             ],
             [
              1,
              "#f0f921"
             ]
            ],
            "type": "heatmap"
           }
          ],
          "heatmapgl": [
           {
            "colorbar": {
             "outlinewidth": 0,
             "ticks": ""
            },
            "colorscale": [
             [
              0,
              "#0d0887"
             ],
             [
              0.1111111111111111,
              "#46039f"
             ],
             [
              0.2222222222222222,
              "#7201a8"
             ],
             [
              0.3333333333333333,
              "#9c179e"
             ],
             [
              0.4444444444444444,
              "#bd3786"
             ],
             [
              0.5555555555555556,
              "#d8576b"
             ],
             [
              0.6666666666666666,
              "#ed7953"
             ],
             [
              0.7777777777777778,
              "#fb9f3a"
             ],
             [
              0.8888888888888888,
              "#fdca26"
             ],
             [
              1,
              "#f0f921"
             ]
            ],
            "type": "heatmapgl"
           }
          ],
          "histogram": [
           {
            "marker": {
             "colorbar": {
              "outlinewidth": 0,
              "ticks": ""
             }
            },
            "type": "histogram"
           }
          ],
          "histogram2d": [
           {
            "colorbar": {
             "outlinewidth": 0,
             "ticks": ""
            },
            "colorscale": [
             [
              0,
              "#0d0887"
             ],
             [
              0.1111111111111111,
              "#46039f"
             ],
             [
              0.2222222222222222,
              "#7201a8"
             ],
             [
              0.3333333333333333,
              "#9c179e"
             ],
             [
              0.4444444444444444,
              "#bd3786"
             ],
             [
              0.5555555555555556,
              "#d8576b"
             ],
             [
              0.6666666666666666,
              "#ed7953"
             ],
             [
              0.7777777777777778,
              "#fb9f3a"
             ],
             [
              0.8888888888888888,
              "#fdca26"
             ],
             [
              1,
              "#f0f921"
             ]
            ],
            "type": "histogram2d"
           }
          ],
          "histogram2dcontour": [
           {
            "colorbar": {
             "outlinewidth": 0,
             "ticks": ""
            },
            "colorscale": [
             [
              0,
              "#0d0887"
             ],
             [
              0.1111111111111111,
              "#46039f"
             ],
             [
              0.2222222222222222,
              "#7201a8"
             ],
             [
              0.3333333333333333,
              "#9c179e"
             ],
             [
              0.4444444444444444,
              "#bd3786"
             ],
             [
              0.5555555555555556,
              "#d8576b"
             ],
             [
              0.6666666666666666,
              "#ed7953"
             ],
             [
              0.7777777777777778,
              "#fb9f3a"
             ],
             [
              0.8888888888888888,
              "#fdca26"
             ],
             [
              1,
              "#f0f921"
             ]
            ],
            "type": "histogram2dcontour"
           }
          ],
          "mesh3d": [
           {
            "colorbar": {
             "outlinewidth": 0,
             "ticks": ""
            },
            "type": "mesh3d"
           }
          ],
          "parcoords": [
           {
            "line": {
             "colorbar": {
              "outlinewidth": 0,
              "ticks": ""
             }
            },
            "type": "parcoords"
           }
          ],
          "pie": [
           {
            "automargin": true,
            "type": "pie"
           }
          ],
          "scatter": [
           {
            "marker": {
             "colorbar": {
              "outlinewidth": 0,
              "ticks": ""
             }
            },
            "type": "scatter"
           }
          ],
          "scatter3d": [
           {
            "line": {
             "colorbar": {
              "outlinewidth": 0,
              "ticks": ""
             }
            },
            "marker": {
             "colorbar": {
              "outlinewidth": 0,
              "ticks": ""
             }
            },
            "type": "scatter3d"
           }
          ],
          "scattercarpet": [
           {
            "marker": {
             "colorbar": {
              "outlinewidth": 0,
              "ticks": ""
             }
            },
            "type": "scattercarpet"
           }
          ],
          "scattergeo": [
           {
            "marker": {
             "colorbar": {
              "outlinewidth": 0,
              "ticks": ""
             }
            },
            "type": "scattergeo"
           }
          ],
          "scattergl": [
           {
            "marker": {
             "colorbar": {
              "outlinewidth": 0,
              "ticks": ""
             }
            },
            "type": "scattergl"
           }
          ],
          "scattermapbox": [
           {
            "marker": {
             "colorbar": {
              "outlinewidth": 0,
              "ticks": ""
             }
            },
            "type": "scattermapbox"
           }
          ],
          "scatterpolar": [
           {
            "marker": {
             "colorbar": {
              "outlinewidth": 0,
              "ticks": ""
             }
            },
            "type": "scatterpolar"
           }
          ],
          "scatterpolargl": [
           {
            "marker": {
             "colorbar": {
              "outlinewidth": 0,
              "ticks": ""
             }
            },
            "type": "scatterpolargl"
           }
          ],
          "scatterternary": [
           {
            "marker": {
             "colorbar": {
              "outlinewidth": 0,
              "ticks": ""
             }
            },
            "type": "scatterternary"
           }
          ],
          "surface": [
           {
            "colorbar": {
             "outlinewidth": 0,
             "ticks": ""
            },
            "colorscale": [
             [
              0,
              "#0d0887"
             ],
             [
              0.1111111111111111,
              "#46039f"
             ],
             [
              0.2222222222222222,
              "#7201a8"
             ],
             [
              0.3333333333333333,
              "#9c179e"
             ],
             [
              0.4444444444444444,
              "#bd3786"
             ],
             [
              0.5555555555555556,
              "#d8576b"
             ],
             [
              0.6666666666666666,
              "#ed7953"
             ],
             [
              0.7777777777777778,
              "#fb9f3a"
             ],
             [
              0.8888888888888888,
              "#fdca26"
             ],
             [
              1,
              "#f0f921"
             ]
            ],
            "type": "surface"
           }
          ],
          "table": [
           {
            "cells": {
             "fill": {
              "color": "#EBF0F8"
             },
             "line": {
              "color": "white"
             }
            },
            "header": {
             "fill": {
              "color": "#C8D4E3"
             },
             "line": {
              "color": "white"
             }
            },
            "type": "table"
           }
          ]
         },
         "layout": {
          "annotationdefaults": {
           "arrowcolor": "#2a3f5f",
           "arrowhead": 0,
           "arrowwidth": 1
          },
          "coloraxis": {
           "colorbar": {
            "outlinewidth": 0,
            "ticks": ""
           }
          },
          "colorscale": {
           "diverging": [
            [
             0,
             "#8e0152"
            ],
            [
             0.1,
             "#c51b7d"
            ],
            [
             0.2,
             "#de77ae"
            ],
            [
             0.3,
             "#f1b6da"
            ],
            [
             0.4,
             "#fde0ef"
            ],
            [
             0.5,
             "#f7f7f7"
            ],
            [
             0.6,
             "#e6f5d0"
            ],
            [
             0.7,
             "#b8e186"
            ],
            [
             0.8,
             "#7fbc41"
            ],
            [
             0.9,
             "#4d9221"
            ],
            [
             1,
             "#276419"
            ]
           ],
           "sequential": [
            [
             0,
             "#0d0887"
            ],
            [
             0.1111111111111111,
             "#46039f"
            ],
            [
             0.2222222222222222,
             "#7201a8"
            ],
            [
             0.3333333333333333,
             "#9c179e"
            ],
            [
             0.4444444444444444,
             "#bd3786"
            ],
            [
             0.5555555555555556,
             "#d8576b"
            ],
            [
             0.6666666666666666,
             "#ed7953"
            ],
            [
             0.7777777777777778,
             "#fb9f3a"
            ],
            [
             0.8888888888888888,
             "#fdca26"
            ],
            [
             1,
             "#f0f921"
            ]
           ],
           "sequentialminus": [
            [
             0,
             "#0d0887"
            ],
            [
             0.1111111111111111,
             "#46039f"
            ],
            [
             0.2222222222222222,
             "#7201a8"
            ],
            [
             0.3333333333333333,
             "#9c179e"
            ],
            [
             0.4444444444444444,
             "#bd3786"
            ],
            [
             0.5555555555555556,
             "#d8576b"
            ],
            [
             0.6666666666666666,
             "#ed7953"
            ],
            [
             0.7777777777777778,
             "#fb9f3a"
            ],
            [
             0.8888888888888888,
             "#fdca26"
            ],
            [
             1,
             "#f0f921"
            ]
           ]
          },
          "colorway": [
           "#636efa",
           "#EF553B",
           "#00cc96",
           "#ab63fa",
           "#FFA15A",
           "#19d3f3",
           "#FF6692",
           "#B6E880",
           "#FF97FF",
           "#FECB52"
          ],
          "font": {
           "color": "#2a3f5f"
          },
          "geo": {
           "bgcolor": "white",
           "lakecolor": "white",
           "landcolor": "#E5ECF6",
           "showlakes": true,
           "showland": true,
           "subunitcolor": "white"
          },
          "hoverlabel": {
           "align": "left"
          },
          "hovermode": "closest",
          "mapbox": {
           "style": "light"
          },
          "paper_bgcolor": "white",
          "plot_bgcolor": "#E5ECF6",
          "polar": {
           "angularaxis": {
            "gridcolor": "white",
            "linecolor": "white",
            "ticks": ""
           },
           "bgcolor": "#E5ECF6",
           "radialaxis": {
            "gridcolor": "white",
            "linecolor": "white",
            "ticks": ""
           }
          },
          "scene": {
           "xaxis": {
            "backgroundcolor": "#E5ECF6",
            "gridcolor": "white",
            "gridwidth": 2,
            "linecolor": "white",
            "showbackground": true,
            "ticks": "",
            "zerolinecolor": "white"
           },
           "yaxis": {
            "backgroundcolor": "#E5ECF6",
            "gridcolor": "white",
            "gridwidth": 2,
            "linecolor": "white",
            "showbackground": true,
            "ticks": "",
            "zerolinecolor": "white"
           },
           "zaxis": {
            "backgroundcolor": "#E5ECF6",
            "gridcolor": "white",
            "gridwidth": 2,
            "linecolor": "white",
            "showbackground": true,
            "ticks": "",
            "zerolinecolor": "white"
           }
          },
          "shapedefaults": {
           "line": {
            "color": "#2a3f5f"
           }
          },
          "ternary": {
           "aaxis": {
            "gridcolor": "white",
            "linecolor": "white",
            "ticks": ""
           },
           "baxis": {
            "gridcolor": "white",
            "linecolor": "white",
            "ticks": ""
           },
           "bgcolor": "#E5ECF6",
           "caxis": {
            "gridcolor": "white",
            "linecolor": "white",
            "ticks": ""
           }
          },
          "title": {
           "x": 0.05
          },
          "xaxis": {
           "automargin": true,
           "gridcolor": "white",
           "linecolor": "white",
           "ticks": "",
           "title": {
            "standoff": 15
           },
           "zerolinecolor": "white",
           "zerolinewidth": 2
          },
          "yaxis": {
           "automargin": true,
           "gridcolor": "white",
           "linecolor": "white",
           "ticks": "",
           "title": {
            "standoff": 15
           },
           "zerolinecolor": "white",
           "zerolinewidth": 2
          }
         }
        },
        "title": {
         "font": {
          "color": "#4D5663"
         }
        },
        "xaxis": {
         "gridcolor": "#E1E5ED",
         "showgrid": true,
         "tickfont": {
          "color": "#4D5663"
         },
         "title": {
          "font": {
           "color": "#4D5663"
          },
          "text": ""
         },
         "zerolinecolor": "#E1E5ED"
        },
        "yaxis": {
         "gridcolor": "#E1E5ED",
         "showgrid": true,
         "tickfont": {
          "color": "#4D5663"
         },
         "title": {
          "font": {
           "color": "#4D5663"
          },
          "text": ""
         },
         "zerolinecolor": "#E1E5ED"
        }
       }
      },
      "text/html": [
       "<div>\n",
       "        \n",
       "        \n",
       "            <div id=\"fa0c2662-c334-44d2-94e7-d59b3a5162ad\" class=\"plotly-graph-div\" style=\"height:525px; width:100%;\"></div>\n",
       "            <script type=\"text/javascript\">\n",
       "                require([\"plotly\"], function(Plotly) {\n",
       "                    window.PLOTLYENV=window.PLOTLYENV || {};\n",
       "                    window.PLOTLYENV.BASE_URL='https://plot.ly';\n",
       "                    \n",
       "                if (document.getElementById(\"fa0c2662-c334-44d2-94e7-d59b3a5162ad\")) {\n",
       "                    Plotly.newPlot(\n",
       "                        'fa0c2662-c334-44d2-94e7-d59b3a5162ad',\n",
       "                        [{\"marker\": {\"color\": \"rgba(255, 153, 51, 0.8)\", \"line\": {\"color\": \"rgba(255, 153, 51, 1.0)\", \"width\": 1}}, \"name\": \"dist2-TDE\", \"orientation\": \"v\", \"text\": \"\", \"type\": \"bar\", \"x\": [\"mAp\", \"R @ 20\", \"R @ 50\", \"R @ 100\", \"ngR @ 20\", \"ngR @ 50\", \"ngR @ 100\", \"zR @ 20\", \"zR @ 50\", \"zR @ 100\", \"mR @ 20\", \"mR @ 50\", \"mR @ 100\", \"A @ 20\", \"A @ 50\", \"A @ 100\"], \"y\": [\"0.9995\", \"0.5354\", \"0.6005\", \"0.6206\", \"0.6042\", \"0.7359\", \"0.8031\", \"0.0624\", \"0.1092\", \"0.1362\", \"0.1093\", \"0.1429\", \"0.1612\", \"0.6391\", \"0.6412\", \"0.6412\"]}, {\"marker\": {\"color\": \"rgba(55, 128, 191, 0.8)\", \"line\": {\"color\": \"rgba(55, 128, 191, 1.0)\", \"width\": 1}}, \"name\": \"gate-TDE\", \"orientation\": \"v\", \"text\": \"\", \"type\": \"bar\", \"x\": [\"mAp\", \"R @ 20\", \"R @ 50\", \"R @ 100\", \"ngR @ 20\", \"ngR @ 50\", \"ngR @ 100\", \"zR @ 20\", \"zR @ 50\", \"zR @ 100\", \"mR @ 20\", \"mR @ 50\", \"mR @ 100\", \"A @ 20\", \"A @ 50\", \"A @ 100\"], \"y\": [\"0.9995\", \"0.3310\", \"0.4448\", \"0.4940\", \"0.3699\", \"0.5500\", \"0.6699\", \"0.0546\", \"0.0915\", \"0.1196\", \"0.1870\", \"0.2586\", \"0.2968\", \"0.5303\", \"0.5322\", \"0.5322\"]}, {\"marker\": {\"color\": \"rgba(50, 171, 96, 0.8)\", \"line\": {\"color\": \"rgba(50, 171, 96, 1.0)\", \"width\": 1}}, \"name\": \"sum-TDE\", \"orientation\": \"v\", \"text\": \"\", \"type\": \"bar\", \"x\": [\"mAp\", \"R @ 20\", \"R @ 50\", \"R @ 100\", \"ngR @ 20\", \"ngR @ 50\", \"ngR @ 100\", \"zR @ 20\", \"zR @ 50\", \"zR @ 100\", \"mR @ 20\", \"mR @ 50\", \"mR @ 100\", \"A @ 20\", \"A @ 50\", \"A @ 100\"], \"y\": [\"0.9995\", \"0.2503\", \"0.3583\", \"0.4147\", \"0.2947\", \"0.4774\", \"0.6148\", \"0.0765\", \"0.1217\", \"0.1507\", \"0.1735\", \"0.2466\", \"0.2881\", \"0.4617\", \"0.4634\", \"0.4634\"]}],\n",
       "                        {\"legend\": {\"bgcolor\": \"#F5F6F9\", \"font\": {\"color\": \"#4D5663\"}}, \"paper_bgcolor\": \"#F5F6F9\", \"plot_bgcolor\": \"#F5F6F9\", \"template\": {\"data\": {\"bar\": [{\"error_x\": {\"color\": \"#2a3f5f\"}, \"error_y\": {\"color\": \"#2a3f5f\"}, \"marker\": {\"line\": {\"color\": \"#E5ECF6\", \"width\": 0.5}}, \"type\": \"bar\"}], \"barpolar\": [{\"marker\": {\"line\": {\"color\": \"#E5ECF6\", \"width\": 0.5}}, \"type\": \"barpolar\"}], \"carpet\": [{\"aaxis\": {\"endlinecolor\": \"#2a3f5f\", \"gridcolor\": \"white\", \"linecolor\": \"white\", \"minorgridcolor\": \"white\", \"startlinecolor\": \"#2a3f5f\"}, \"baxis\": {\"endlinecolor\": \"#2a3f5f\", \"gridcolor\": \"white\", \"linecolor\": \"white\", \"minorgridcolor\": \"white\", \"startlinecolor\": \"#2a3f5f\"}, \"type\": \"carpet\"}], \"choropleth\": [{\"colorbar\": {\"outlinewidth\": 0, \"ticks\": \"\"}, \"type\": \"choropleth\"}], \"contour\": [{\"colorbar\": {\"outlinewidth\": 0, \"ticks\": \"\"}, \"colorscale\": [[0.0, \"#0d0887\"], [0.1111111111111111, \"#46039f\"], [0.2222222222222222, \"#7201a8\"], [0.3333333333333333, \"#9c179e\"], [0.4444444444444444, \"#bd3786\"], [0.5555555555555556, \"#d8576b\"], [0.6666666666666666, \"#ed7953\"], [0.7777777777777778, \"#fb9f3a\"], [0.8888888888888888, \"#fdca26\"], [1.0, \"#f0f921\"]], \"type\": \"contour\"}], \"contourcarpet\": [{\"colorbar\": {\"outlinewidth\": 0, \"ticks\": \"\"}, \"type\": \"contourcarpet\"}], \"heatmap\": [{\"colorbar\": {\"outlinewidth\": 0, \"ticks\": \"\"}, \"colorscale\": [[0.0, \"#0d0887\"], [0.1111111111111111, \"#46039f\"], [0.2222222222222222, \"#7201a8\"], [0.3333333333333333, \"#9c179e\"], [0.4444444444444444, \"#bd3786\"], [0.5555555555555556, \"#d8576b\"], [0.6666666666666666, \"#ed7953\"], [0.7777777777777778, \"#fb9f3a\"], [0.8888888888888888, \"#fdca26\"], [1.0, \"#f0f921\"]], \"type\": \"heatmap\"}], \"heatmapgl\": [{\"colorbar\": {\"outlinewidth\": 0, \"ticks\": \"\"}, \"colorscale\": [[0.0, \"#0d0887\"], [0.1111111111111111, \"#46039f\"], [0.2222222222222222, \"#7201a8\"], [0.3333333333333333, \"#9c179e\"], [0.4444444444444444, \"#bd3786\"], [0.5555555555555556, \"#d8576b\"], [0.6666666666666666, \"#ed7953\"], [0.7777777777777778, \"#fb9f3a\"], [0.8888888888888888, \"#fdca26\"], [1.0, \"#f0f921\"]], \"type\": \"heatmapgl\"}], \"histogram\": [{\"marker\": {\"colorbar\": {\"outlinewidth\": 0, \"ticks\": \"\"}}, \"type\": \"histogram\"}], \"histogram2d\": [{\"colorbar\": {\"outlinewidth\": 0, \"ticks\": \"\"}, \"colorscale\": [[0.0, \"#0d0887\"], [0.1111111111111111, \"#46039f\"], [0.2222222222222222, \"#7201a8\"], [0.3333333333333333, \"#9c179e\"], [0.4444444444444444, \"#bd3786\"], [0.5555555555555556, \"#d8576b\"], [0.6666666666666666, \"#ed7953\"], [0.7777777777777778, \"#fb9f3a\"], [0.8888888888888888, \"#fdca26\"], [1.0, \"#f0f921\"]], \"type\": \"histogram2d\"}], \"histogram2dcontour\": [{\"colorbar\": {\"outlinewidth\": 0, \"ticks\": \"\"}, \"colorscale\": [[0.0, \"#0d0887\"], [0.1111111111111111, \"#46039f\"], [0.2222222222222222, \"#7201a8\"], [0.3333333333333333, \"#9c179e\"], [0.4444444444444444, \"#bd3786\"], [0.5555555555555556, \"#d8576b\"], [0.6666666666666666, \"#ed7953\"], [0.7777777777777778, \"#fb9f3a\"], [0.8888888888888888, \"#fdca26\"], [1.0, \"#f0f921\"]], \"type\": \"histogram2dcontour\"}], \"mesh3d\": [{\"colorbar\": {\"outlinewidth\": 0, \"ticks\": \"\"}, \"type\": \"mesh3d\"}], \"parcoords\": [{\"line\": {\"colorbar\": {\"outlinewidth\": 0, \"ticks\": \"\"}}, \"type\": \"parcoords\"}], \"pie\": [{\"automargin\": true, \"type\": \"pie\"}], \"scatter\": [{\"marker\": {\"colorbar\": {\"outlinewidth\": 0, \"ticks\": \"\"}}, \"type\": \"scatter\"}], \"scatter3d\": [{\"line\": {\"colorbar\": {\"outlinewidth\": 0, \"ticks\": \"\"}}, \"marker\": {\"colorbar\": {\"outlinewidth\": 0, \"ticks\": \"\"}}, \"type\": \"scatter3d\"}], \"scattercarpet\": [{\"marker\": {\"colorbar\": {\"outlinewidth\": 0, \"ticks\": \"\"}}, \"type\": \"scattercarpet\"}], \"scattergeo\": [{\"marker\": {\"colorbar\": {\"outlinewidth\": 0, \"ticks\": \"\"}}, \"type\": \"scattergeo\"}], \"scattergl\": [{\"marker\": {\"colorbar\": {\"outlinewidth\": 0, \"ticks\": \"\"}}, \"type\": \"scattergl\"}], \"scattermapbox\": [{\"marker\": {\"colorbar\": {\"outlinewidth\": 0, \"ticks\": \"\"}}, \"type\": \"scattermapbox\"}], \"scatterpolar\": [{\"marker\": {\"colorbar\": {\"outlinewidth\": 0, \"ticks\": \"\"}}, \"type\": \"scatterpolar\"}], \"scatterpolargl\": [{\"marker\": {\"colorbar\": {\"outlinewidth\": 0, \"ticks\": \"\"}}, \"type\": \"scatterpolargl\"}], \"scatterternary\": [{\"marker\": {\"colorbar\": {\"outlinewidth\": 0, \"ticks\": \"\"}}, \"type\": \"scatterternary\"}], \"surface\": [{\"colorbar\": {\"outlinewidth\": 0, \"ticks\": \"\"}, \"colorscale\": [[0.0, \"#0d0887\"], [0.1111111111111111, \"#46039f\"], [0.2222222222222222, \"#7201a8\"], [0.3333333333333333, \"#9c179e\"], [0.4444444444444444, \"#bd3786\"], [0.5555555555555556, \"#d8576b\"], [0.6666666666666666, \"#ed7953\"], [0.7777777777777778, \"#fb9f3a\"], [0.8888888888888888, \"#fdca26\"], [1.0, \"#f0f921\"]], \"type\": \"surface\"}], \"table\": [{\"cells\": {\"fill\": {\"color\": \"#EBF0F8\"}, \"line\": {\"color\": \"white\"}}, \"header\": {\"fill\": {\"color\": \"#C8D4E3\"}, \"line\": {\"color\": \"white\"}}, \"type\": \"table\"}]}, \"layout\": {\"annotationdefaults\": {\"arrowcolor\": \"#2a3f5f\", \"arrowhead\": 0, \"arrowwidth\": 1}, \"coloraxis\": {\"colorbar\": {\"outlinewidth\": 0, \"ticks\": \"\"}}, \"colorscale\": {\"diverging\": [[0, \"#8e0152\"], [0.1, \"#c51b7d\"], [0.2, \"#de77ae\"], [0.3, \"#f1b6da\"], [0.4, \"#fde0ef\"], [0.5, \"#f7f7f7\"], [0.6, \"#e6f5d0\"], [0.7, \"#b8e186\"], [0.8, \"#7fbc41\"], [0.9, \"#4d9221\"], [1, \"#276419\"]], \"sequential\": [[0.0, \"#0d0887\"], [0.1111111111111111, \"#46039f\"], [0.2222222222222222, \"#7201a8\"], [0.3333333333333333, \"#9c179e\"], [0.4444444444444444, \"#bd3786\"], [0.5555555555555556, \"#d8576b\"], [0.6666666666666666, \"#ed7953\"], [0.7777777777777778, \"#fb9f3a\"], [0.8888888888888888, \"#fdca26\"], [1.0, \"#f0f921\"]], \"sequentialminus\": [[0.0, \"#0d0887\"], [0.1111111111111111, \"#46039f\"], [0.2222222222222222, \"#7201a8\"], [0.3333333333333333, \"#9c179e\"], [0.4444444444444444, \"#bd3786\"], [0.5555555555555556, \"#d8576b\"], [0.6666666666666666, \"#ed7953\"], [0.7777777777777778, \"#fb9f3a\"], [0.8888888888888888, \"#fdca26\"], [1.0, \"#f0f921\"]]}, \"colorway\": [\"#636efa\", \"#EF553B\", \"#00cc96\", \"#ab63fa\", \"#FFA15A\", \"#19d3f3\", \"#FF6692\", \"#B6E880\", \"#FF97FF\", \"#FECB52\"], \"font\": {\"color\": \"#2a3f5f\"}, \"geo\": {\"bgcolor\": \"white\", \"lakecolor\": \"white\", \"landcolor\": \"#E5ECF6\", \"showlakes\": true, \"showland\": true, \"subunitcolor\": \"white\"}, \"hoverlabel\": {\"align\": \"left\"}, \"hovermode\": \"closest\", \"mapbox\": {\"style\": \"light\"}, \"paper_bgcolor\": \"white\", \"plot_bgcolor\": \"#E5ECF6\", \"polar\": {\"angularaxis\": {\"gridcolor\": \"white\", \"linecolor\": \"white\", \"ticks\": \"\"}, \"bgcolor\": \"#E5ECF6\", \"radialaxis\": {\"gridcolor\": \"white\", \"linecolor\": \"white\", \"ticks\": \"\"}}, \"scene\": {\"xaxis\": {\"backgroundcolor\": \"#E5ECF6\", \"gridcolor\": \"white\", \"gridwidth\": 2, \"linecolor\": \"white\", \"showbackground\": true, \"ticks\": \"\", \"zerolinecolor\": \"white\"}, \"yaxis\": {\"backgroundcolor\": \"#E5ECF6\", \"gridcolor\": \"white\", \"gridwidth\": 2, \"linecolor\": \"white\", \"showbackground\": true, \"ticks\": \"\", \"zerolinecolor\": \"white\"}, \"zaxis\": {\"backgroundcolor\": \"#E5ECF6\", \"gridcolor\": \"white\", \"gridwidth\": 2, \"linecolor\": \"white\", \"showbackground\": true, \"ticks\": \"\", \"zerolinecolor\": \"white\"}}, \"shapedefaults\": {\"line\": {\"color\": \"#2a3f5f\"}}, \"ternary\": {\"aaxis\": {\"gridcolor\": \"white\", \"linecolor\": \"white\", \"ticks\": \"\"}, \"baxis\": {\"gridcolor\": \"white\", \"linecolor\": \"white\", \"ticks\": \"\"}, \"bgcolor\": \"#E5ECF6\", \"caxis\": {\"gridcolor\": \"white\", \"linecolor\": \"white\", \"ticks\": \"\"}}, \"title\": {\"x\": 0.05}, \"xaxis\": {\"automargin\": true, \"gridcolor\": \"white\", \"linecolor\": \"white\", \"ticks\": \"\", \"title\": {\"standoff\": 15}, \"zerolinecolor\": \"white\", \"zerolinewidth\": 2}, \"yaxis\": {\"automargin\": true, \"gridcolor\": \"white\", \"linecolor\": \"white\", \"ticks\": \"\", \"title\": {\"standoff\": 15}, \"zerolinecolor\": \"white\", \"zerolinewidth\": 2}}}, \"title\": {\"font\": {\"color\": \"#4D5663\"}}, \"xaxis\": {\"gridcolor\": \"#E1E5ED\", \"showgrid\": true, \"tickfont\": {\"color\": \"#4D5663\"}, \"title\": {\"font\": {\"color\": \"#4D5663\"}, \"text\": \"\"}, \"zerolinecolor\": \"#E1E5ED\"}, \"yaxis\": {\"gridcolor\": \"#E1E5ED\", \"showgrid\": true, \"tickfont\": {\"color\": \"#4D5663\"}, \"title\": {\"font\": {\"color\": \"#4D5663\"}, \"text\": \"\"}, \"zerolinecolor\": \"#E1E5ED\"}},\n",
       "                        {\"showLink\": true, \"linkText\": \"Export to plot.ly\", \"plotlyServerURL\": \"https://plot.ly\", \"responsive\": true}\n",
       "                    ).then(function(){\n",
       "                            \n",
       "var gd = document.getElementById('fa0c2662-c334-44d2-94e7-d59b3a5162ad');\n",
       "var x = new MutationObserver(function (mutations, observer) {{\n",
       "        var display = window.getComputedStyle(gd).display;\n",
       "        if (!display || display === 'none') {{\n",
       "            console.log([gd, 'removed!']);\n",
       "            Plotly.purge(gd);\n",
       "            observer.disconnect();\n",
       "        }}\n",
       "}});\n",
       "\n",
       "// Listen for the removal of the full notebook cells\n",
       "var notebookContainer = gd.closest('#notebook-container');\n",
       "if (notebookContainer) {{\n",
       "    x.observe(notebookContainer, {childList: true});\n",
       "}}\n",
       "\n",
       "// Listen for the clearing of the current output cell\n",
       "var outputEl = gd.closest('.output');\n",
       "if (outputEl) {{\n",
       "    x.observe(outputEl, {childList: true});\n",
       "}}\n",
       "\n",
       "                        })\n",
       "                };\n",
       "                });\n",
       "            </script>\n",
       "        </div>"
      ]
     },
     "metadata": {},
     "output_type": "display_data"
    }
   ],
   "source": [
    "fig = _df.iplot(kind=\"bar\", x=keys, categories='label')"
   ]
  },
  {
   "cell_type": "code",
   "execution_count": 9,
   "metadata": {
    "ExecuteTime": {
     "end_time": "2020-07-05T15:25:57.821080Z",
     "start_time": "2020-07-05T15:25:57.742257Z"
    }
   },
   "outputs": [
    {
     "data": {
      "application/vnd.plotly.v1+json": {
       "config": {
        "linkText": "Export to plot.ly",
        "plotlyServerURL": "https://plot.ly",
        "showLink": true
       },
       "data": [
        {
         "line": {
          "color": "rgba(255, 153, 51, 1.0)",
          "dash": "solid",
          "shape": "linear",
          "width": 1.3
         },
         "mode": "lines",
         "name": "label",
         "text": "",
         "type": "scatter",
         "x": [
          "24000",
          "24000",
          "24000",
          "24000",
          "24000",
          "24000",
          "24000",
          "24000",
          "24000",
          "24000",
          "24000",
          "24000",
          "24000",
          "20000",
          "20000",
          "20000",
          "20000",
          "20000",
          "20000",
          "20000",
          "20000",
          "20000",
          "20000",
          "20000",
          "16000",
          "16000",
          "16000",
          "16000",
          "16000",
          "16000",
          "16000",
          "16000",
          "22000",
          "22000",
          "22000",
          "22000",
          "22000",
          "22000",
          "22000",
          "22000",
          "22000",
          "22000",
          "22000",
          "22000",
          "22000",
          "22000"
         ],
         "y": [
          "dist2-TDE",
          "dist2-TDE",
          "dist2-TDE",
          "dist2-TDE",
          "dist2-TDE",
          "dist2-TDE",
          "dist2-TDE",
          "dist2-TDE",
          "dist2-TDE",
          "dist2-TDE",
          "dist2-TDE",
          "dist2-TDE",
          "dist2-TDE",
          "gate-TDE",
          "gate-TDE",
          "gate-TDE",
          "gate-TDE",
          "gate-TDE",
          "gate-TDE",
          "gate-TDE",
          "gate-TDE",
          "gate-TDE",
          "gate-TDE",
          "gate-TDE",
          "mfb3-TDE",
          "mfb3-TDE",
          "mfb3-TDE",
          "mfb3-TDE",
          "mfb3-TDE",
          "mfb3-TDE",
          "mfb3-TDE",
          "mfb3-TDE",
          "sum-TDE",
          "sum-TDE",
          "sum-TDE",
          "sum-TDE",
          "sum-TDE",
          "sum-TDE",
          "sum-TDE",
          "sum-TDE",
          "sum-TDE",
          "sum-TDE",
          "sum-TDE",
          "sum-TDE",
          "sum-TDE",
          "sum-TDE"
         ]
        },
        {
         "line": {
          "color": "rgba(55, 128, 191, 1.0)",
          "dash": "solid",
          "shape": "linear",
          "width": 1.3
         },
         "mode": "lines",
         "name": "eval_set",
         "text": "",
         "type": "scatter",
         "x": [
          "24000",
          "24000",
          "24000",
          "24000",
          "24000",
          "24000",
          "24000",
          "24000",
          "24000",
          "24000",
          "24000",
          "24000",
          "24000",
          "20000",
          "20000",
          "20000",
          "20000",
          "20000",
          "20000",
          "20000",
          "20000",
          "20000",
          "20000",
          "20000",
          "16000",
          "16000",
          "16000",
          "16000",
          "16000",
          "16000",
          "16000",
          "16000",
          "22000",
          "22000",
          "22000",
          "22000",
          "22000",
          "22000",
          "22000",
          "22000",
          "22000",
          "22000",
          "22000",
          "22000",
          "22000",
          "22000"
         ],
         "y": [
          "validation",
          "validation",
          "validation",
          "validation",
          "validation",
          "validation",
          "validation",
          "validation",
          "validation",
          "validation",
          "validation",
          "validation",
          "test",
          "validation",
          "validation",
          "validation",
          "validation",
          "validation",
          "validation",
          "validation",
          "validation",
          "validation",
          "validation",
          "test",
          "validation",
          "validation",
          "validation",
          "validation",
          "validation",
          "validation",
          "validation",
          "validation",
          "validation",
          "validation",
          "validation",
          "validation",
          "validation",
          "validation",
          "validation",
          "validation",
          "validation",
          "validation",
          "validation",
          "validation",
          "validation",
          "test"
         ]
        },
        {
         "line": {
          "color": "rgba(50, 171, 96, 1.0)",
          "dash": "solid",
          "shape": "linear",
          "width": 1.3
         },
         "mode": "lines",
         "name": "mAp",
         "text": "",
         "type": "scatter",
         "x": [
          "24000",
          "24000",
          "24000",
          "24000",
          "24000",
          "24000",
          "24000",
          "24000",
          "24000",
          "24000",
          "24000",
          "24000",
          "24000",
          "20000",
          "20000",
          "20000",
          "20000",
          "20000",
          "20000",
          "20000",
          "20000",
          "20000",
          "20000",
          "20000",
          "16000",
          "16000",
          "16000",
          "16000",
          "16000",
          "16000",
          "16000",
          "16000",
          "22000",
          "22000",
          "22000",
          "22000",
          "22000",
          "22000",
          "22000",
          "22000",
          "22000",
          "22000",
          "22000",
          "22000",
          "22000",
          "22000"
         ],
         "y": [
          "0.9999",
          "0.9999",
          "0.9999",
          "0.9999",
          "0.9999",
          "0.9999",
          "0.9999",
          "0.9999",
          "0.9999",
          "0.9999",
          "0.9999",
          "0.9999",
          "0.9995",
          "0.9999",
          "0.9999",
          "0.9999",
          "0.9999",
          "0.9999",
          "0.9999",
          "0.9999",
          "0.9999",
          "0.9999",
          "0.9999",
          "0.9995",
          "0.9999",
          "0.9999",
          "0.9999",
          "0.9999",
          "0.9999",
          "0.9999",
          "0.9999",
          "0.9999",
          "0.9999",
          "0.9999",
          "0.9999",
          "0.9999",
          "0.9999",
          "0.9999",
          "0.9999",
          "0.9999",
          "0.9999",
          "0.9999",
          "0.9999",
          "0.9999",
          "0.9999",
          "0.9995"
         ]
        },
        {
         "line": {
          "color": "rgba(128, 0, 128, 1.0)",
          "dash": "solid",
          "shape": "linear",
          "width": 1.3
         },
         "mode": "lines",
         "name": "R @ 20",
         "text": "",
         "type": "scatter",
         "x": [
          "24000",
          "24000",
          "24000",
          "24000",
          "24000",
          "24000",
          "24000",
          "24000",
          "24000",
          "24000",
          "24000",
          "24000",
          "24000",
          "20000",
          "20000",
          "20000",
          "20000",
          "20000",
          "20000",
          "20000",
          "20000",
          "20000",
          "20000",
          "20000",
          "16000",
          "16000",
          "16000",
          "16000",
          "16000",
          "16000",
          "16000",
          "16000",
          "22000",
          "22000",
          "22000",
          "22000",
          "22000",
          "22000",
          "22000",
          "22000",
          "22000",
          "22000",
          "22000",
          "22000",
          "22000",
          "22000"
         ],
         "y": [
          "0.5535",
          "0.5535",
          "0.5535",
          "0.5535",
          "0.5535",
          "0.5535",
          "0.5535",
          "0.5535",
          "0.5535",
          "0.5535",
          "0.5535",
          "0.5535",
          "0.5354",
          "0.3171",
          "0.3171",
          "0.3171",
          "0.3171",
          "0.3171",
          "0.3171",
          "0.3171",
          "0.3171",
          "0.3171",
          "0.3171",
          "0.3310",
          "0.0207",
          "0.0207",
          "0.0207",
          "0.0207",
          "0.0207",
          "0.0207",
          "0.0207",
          "0.0207",
          "0.2198",
          "0.2198",
          "0.2198",
          "0.2198",
          "0.2198",
          "0.2198",
          "0.2198",
          "0.2198",
          "0.2198",
          "0.2198",
          "0.2198",
          "0.2198",
          "0.2198",
          "0.2503"
         ]
        },
        {
         "line": {
          "color": "rgba(219, 64, 82, 1.0)",
          "dash": "solid",
          "shape": "linear",
          "width": 1.3
         },
         "mode": "lines",
         "name": "R @ 50",
         "text": "",
         "type": "scatter",
         "x": [
          "24000",
          "24000",
          "24000",
          "24000",
          "24000",
          "24000",
          "24000",
          "24000",
          "24000",
          "24000",
          "24000",
          "24000",
          "24000",
          "20000",
          "20000",
          "20000",
          "20000",
          "20000",
          "20000",
          "20000",
          "20000",
          "20000",
          "20000",
          "20000",
          "16000",
          "16000",
          "16000",
          "16000",
          "16000",
          "16000",
          "16000",
          "16000",
          "22000",
          "22000",
          "22000",
          "22000",
          "22000",
          "22000",
          "22000",
          "22000",
          "22000",
          "22000",
          "22000",
          "22000",
          "22000",
          "22000"
         ],
         "y": [
          "0.6057",
          "0.6057",
          "0.6057",
          "0.6057",
          "0.6057",
          "0.6057",
          "0.6057",
          "0.6057",
          "0.6057",
          "0.6057",
          "0.6057",
          "0.6057",
          "0.6005",
          "0.4319",
          "0.4319",
          "0.4319",
          "0.4319",
          "0.4319",
          "0.4319",
          "0.4319",
          "0.4319",
          "0.4319",
          "0.4319",
          "0.4448",
          "0.0265",
          "0.0265",
          "0.0265",
          "0.0265",
          "0.0265",
          "0.0265",
          "0.0265",
          "0.0265",
          "0.3194",
          "0.3194",
          "0.3194",
          "0.3194",
          "0.3194",
          "0.3194",
          "0.3194",
          "0.3194",
          "0.3194",
          "0.3194",
          "0.3194",
          "0.3194",
          "0.3194",
          "0.3583"
         ]
        },
        {
         "line": {
          "color": "rgba(0, 128, 128, 1.0)",
          "dash": "solid",
          "shape": "linear",
          "width": 1.3
         },
         "mode": "lines",
         "name": "R @ 100",
         "text": "",
         "type": "scatter",
         "x": [
          "24000",
          "24000",
          "24000",
          "24000",
          "24000",
          "24000",
          "24000",
          "24000",
          "24000",
          "24000",
          "24000",
          "24000",
          "24000",
          "20000",
          "20000",
          "20000",
          "20000",
          "20000",
          "20000",
          "20000",
          "20000",
          "20000",
          "20000",
          "20000",
          "16000",
          "16000",
          "16000",
          "16000",
          "16000",
          "16000",
          "16000",
          "16000",
          "22000",
          "22000",
          "22000",
          "22000",
          "22000",
          "22000",
          "22000",
          "22000",
          "22000",
          "22000",
          "22000",
          "22000",
          "22000",
          "22000"
         ],
         "y": [
          "0.6208",
          "0.6208",
          "0.6208",
          "0.6208",
          "0.6208",
          "0.6208",
          "0.6208",
          "0.6208",
          "0.6208",
          "0.6208",
          "0.6208",
          "0.6208",
          "0.6206",
          "0.4837",
          "0.4837",
          "0.4837",
          "0.4837",
          "0.4837",
          "0.4837",
          "0.4837",
          "0.4837",
          "0.4837",
          "0.4837",
          "0.4940",
          "0.0284",
          "0.0284",
          "0.0284",
          "0.0284",
          "0.0284",
          "0.0284",
          "0.0284",
          "0.0284",
          "0.3815",
          "0.3815",
          "0.3815",
          "0.3815",
          "0.3815",
          "0.3815",
          "0.3815",
          "0.3815",
          "0.3815",
          "0.3815",
          "0.3815",
          "0.3815",
          "0.3815",
          "0.4147"
         ]
        },
        {
         "line": {
          "color": "rgba(255, 255, 51, 1.0)",
          "dash": "solid",
          "shape": "linear",
          "width": 1.3
         },
         "mode": "lines",
         "name": "ngR @ 20",
         "text": "",
         "type": "scatter",
         "x": [
          "24000",
          "24000",
          "24000",
          "24000",
          "24000",
          "24000",
          "24000",
          "24000",
          "24000",
          "24000",
          "24000",
          "24000",
          "24000",
          "20000",
          "20000",
          "20000",
          "20000",
          "20000",
          "20000",
          "20000",
          "20000",
          "20000",
          "20000",
          "20000",
          "16000",
          "16000",
          "16000",
          "16000",
          "16000",
          "16000",
          "16000",
          "16000",
          "22000",
          "22000",
          "22000",
          "22000",
          "22000",
          "22000",
          "22000",
          "22000",
          "22000",
          "22000",
          "22000",
          "22000",
          "22000",
          "22000"
         ],
         "y": [
          "0.6228",
          "0.6228",
          "0.6228",
          "0.6228",
          "0.6228",
          "0.6228",
          "0.6228",
          "0.6228",
          "0.6228",
          "0.6228",
          "0.6228",
          "0.6228",
          "0.6042",
          "0.3617",
          "0.3617",
          "0.3617",
          "0.3617",
          "0.3617",
          "0.3617",
          "0.3617",
          "0.3617",
          "0.3617",
          "0.3617",
          "0.3699",
          "0.0277",
          "0.0277",
          "0.0277",
          "0.0277",
          "0.0277",
          "0.0277",
          "0.0277",
          "0.0277",
          "0.2645",
          "0.2645",
          "0.2645",
          "0.2645",
          "0.2645",
          "0.2645",
          "0.2645",
          "0.2645",
          "0.2645",
          "0.2645",
          "0.2645",
          "0.2645",
          "0.2645",
          "0.2947"
         ]
        },
        {
         "line": {
          "color": "rgba(128, 128, 0, 1.0)",
          "dash": "solid",
          "shape": "linear",
          "width": 1.3
         },
         "mode": "lines",
         "name": "ngR @ 50",
         "text": "",
         "type": "scatter",
         "x": [
          "24000",
          "24000",
          "24000",
          "24000",
          "24000",
          "24000",
          "24000",
          "24000",
          "24000",
          "24000",
          "24000",
          "24000",
          "24000",
          "20000",
          "20000",
          "20000",
          "20000",
          "20000",
          "20000",
          "20000",
          "20000",
          "20000",
          "20000",
          "20000",
          "16000",
          "16000",
          "16000",
          "16000",
          "16000",
          "16000",
          "16000",
          "16000",
          "22000",
          "22000",
          "22000",
          "22000",
          "22000",
          "22000",
          "22000",
          "22000",
          "22000",
          "22000",
          "22000",
          "22000",
          "22000",
          "22000"
         ],
         "y": [
          "0.7360",
          "0.7360",
          "0.7360",
          "0.7360",
          "0.7360",
          "0.7360",
          "0.7360",
          "0.7360",
          "0.7360",
          "0.7360",
          "0.7360",
          "0.7360",
          "0.7359",
          "0.5368",
          "0.5368",
          "0.5368",
          "0.5368",
          "0.5368",
          "0.5368",
          "0.5368",
          "0.5368",
          "0.5368",
          "0.5368",
          "0.5500",
          "0.0497",
          "0.0497",
          "0.0497",
          "0.0497",
          "0.0497",
          "0.0497",
          "0.0497",
          "0.0497",
          "0.4354",
          "0.4354",
          "0.4354",
          "0.4354",
          "0.4354",
          "0.4354",
          "0.4354",
          "0.4354",
          "0.4354",
          "0.4354",
          "0.4354",
          "0.4354",
          "0.4354",
          "0.4774"
         ]
        },
        {
         "line": {
          "color": "rgba(251, 128, 114, 1.0)",
          "dash": "solid",
          "shape": "linear",
          "width": 1.3
         },
         "mode": "lines",
         "name": "ngR @ 100",
         "text": "",
         "type": "scatter",
         "x": [
          "24000",
          "24000",
          "24000",
          "24000",
          "24000",
          "24000",
          "24000",
          "24000",
          "24000",
          "24000",
          "24000",
          "24000",
          "24000",
          "20000",
          "20000",
          "20000",
          "20000",
          "20000",
          "20000",
          "20000",
          "20000",
          "20000",
          "20000",
          "20000",
          "16000",
          "16000",
          "16000",
          "16000",
          "16000",
          "16000",
          "16000",
          "16000",
          "22000",
          "22000",
          "22000",
          "22000",
          "22000",
          "22000",
          "22000",
          "22000",
          "22000",
          "22000",
          "22000",
          "22000",
          "22000",
          "22000"
         ],
         "y": [
          "0.7974",
          "0.7974",
          "0.7974",
          "0.7974",
          "0.7974",
          "0.7974",
          "0.7974",
          "0.7974",
          "0.7974",
          "0.7974",
          "0.7974",
          "0.7974",
          "0.8031",
          "0.6637",
          "0.6637",
          "0.6637",
          "0.6637",
          "0.6637",
          "0.6637",
          "0.6637",
          "0.6637",
          "0.6637",
          "0.6637",
          "0.6699",
          "0.0970",
          "0.0970",
          "0.0970",
          "0.0970",
          "0.0970",
          "0.0970",
          "0.0970",
          "0.0970",
          "0.5853",
          "0.5853",
          "0.5853",
          "0.5853",
          "0.5853",
          "0.5853",
          "0.5853",
          "0.5853",
          "0.5853",
          "0.5853",
          "0.5853",
          "0.5853",
          "0.5853",
          "0.6148"
         ]
        },
        {
         "line": {
          "color": "rgba(128, 177, 211, 1.0)",
          "dash": "solid",
          "shape": "linear",
          "width": 1.3
         },
         "mode": "lines",
         "name": "zR @ 20",
         "text": "",
         "type": "scatter",
         "x": [
          "24000",
          "24000",
          "24000",
          "24000",
          "24000",
          "24000",
          "24000",
          "24000",
          "24000",
          "24000",
          "24000",
          "24000",
          "24000",
          "20000",
          "20000",
          "20000",
          "20000",
          "20000",
          "20000",
          "20000",
          "20000",
          "20000",
          "20000",
          "20000",
          "16000",
          "16000",
          "16000",
          "16000",
          "16000",
          "16000",
          "16000",
          "16000",
          "22000",
          "22000",
          "22000",
          "22000",
          "22000",
          "22000",
          "22000",
          "22000",
          "22000",
          "22000",
          "22000",
          "22000",
          "22000",
          "22000"
         ],
         "y": [
          "0.0852",
          "0.0852",
          "0.0852",
          "0.0852",
          "0.0852",
          "0.0852",
          "0.0852",
          "0.0852",
          "0.0852",
          "0.0852",
          "0.0852",
          "0.0852",
          "0.0624",
          "0.0800",
          "0.0800",
          "0.0800",
          "0.0800",
          "0.0800",
          "0.0800",
          "0.0800",
          "0.0800",
          "0.0800",
          "0.0800",
          "0.0546",
          "0.0489",
          "0.0489",
          "0.0489",
          "0.0489",
          "0.0489",
          "0.0489",
          "0.0489",
          "0.0489",
          "0.1222",
          "0.1222",
          "0.1222",
          "0.1222",
          "0.1222",
          "0.1222",
          "0.1222",
          "0.1222",
          "0.1222",
          "0.1222",
          "0.1222",
          "0.1222",
          "0.1222",
          "0.0765"
         ]
        },
        {
         "line": {
          "color": "rgba(128, 177, 211, 0.8999999999999999)",
          "dash": "solid",
          "shape": "linear",
          "width": 1.3
         },
         "mode": "lines",
         "name": "zR @ 50",
         "text": "",
         "type": "scatter",
         "x": [
          "24000",
          "24000",
          "24000",
          "24000",
          "24000",
          "24000",
          "24000",
          "24000",
          "24000",
          "24000",
          "24000",
          "24000",
          "24000",
          "20000",
          "20000",
          "20000",
          "20000",
          "20000",
          "20000",
          "20000",
          "20000",
          "20000",
          "20000",
          "20000",
          "16000",
          "16000",
          "16000",
          "16000",
          "16000",
          "16000",
          "16000",
          "16000",
          "22000",
          "22000",
          "22000",
          "22000",
          "22000",
          "22000",
          "22000",
          "22000",
          "22000",
          "22000",
          "22000",
          "22000",
          "22000",
          "22000"
         ],
         "y": [
          "0.1600",
          "0.1600",
          "0.1600",
          "0.1600",
          "0.1600",
          "0.1600",
          "0.1600",
          "0.1600",
          "0.1600",
          "0.1600",
          "0.1600",
          "0.1600",
          "0.1092",
          "0.1467",
          "0.1467",
          "0.1467",
          "0.1467",
          "0.1467",
          "0.1467",
          "0.1467",
          "0.1467",
          "0.1467",
          "0.1467",
          "0.0915",
          "0.0800",
          "0.0800",
          "0.0800",
          "0.0800",
          "0.0800",
          "0.0800",
          "0.0800",
          "0.0800",
          "0.1637",
          "0.1637",
          "0.1637",
          "0.1637",
          "0.1637",
          "0.1637",
          "0.1637",
          "0.1637",
          "0.1637",
          "0.1637",
          "0.1637",
          "0.1637",
          "0.1637",
          "0.1217"
         ]
        },
        {
         "line": {
          "color": "rgba(255, 153, 51, 0.8999999999999999)",
          "dash": "solid",
          "shape": "linear",
          "width": 1.3
         },
         "mode": "lines",
         "name": "zR @ 100",
         "text": "",
         "type": "scatter",
         "x": [
          "24000",
          "24000",
          "24000",
          "24000",
          "24000",
          "24000",
          "24000",
          "24000",
          "24000",
          "24000",
          "24000",
          "24000",
          "24000",
          "20000",
          "20000",
          "20000",
          "20000",
          "20000",
          "20000",
          "20000",
          "20000",
          "20000",
          "20000",
          "20000",
          "16000",
          "16000",
          "16000",
          "16000",
          "16000",
          "16000",
          "16000",
          "16000",
          "22000",
          "22000",
          "22000",
          "22000",
          "22000",
          "22000",
          "22000",
          "22000",
          "22000",
          "22000",
          "22000",
          "22000",
          "22000",
          "22000"
         ],
         "y": [
          "0.1844",
          "0.1844",
          "0.1844",
          "0.1844",
          "0.1844",
          "0.1844",
          "0.1844",
          "0.1844",
          "0.1844",
          "0.1844",
          "0.1844",
          "0.1844",
          "0.1362",
          "0.1667",
          "0.1667",
          "0.1667",
          "0.1667",
          "0.1667",
          "0.1667",
          "0.1667",
          "0.1667",
          "0.1667",
          "0.1667",
          "0.1196",
          "0.0889",
          "0.0889",
          "0.0889",
          "0.0889",
          "0.0889",
          "0.0889",
          "0.0889",
          "0.0889",
          "0.1874",
          "0.1874",
          "0.1874",
          "0.1874",
          "0.1874",
          "0.1874",
          "0.1874",
          "0.1874",
          "0.1874",
          "0.1874",
          "0.1874",
          "0.1874",
          "0.1874",
          "0.1507"
         ]
        },
        {
         "line": {
          "color": "rgba(55, 128, 191, 0.8999999999999999)",
          "dash": "solid",
          "shape": "linear",
          "width": 1.3
         },
         "mode": "lines",
         "name": "mR @ 20",
         "text": "",
         "type": "scatter",
         "x": [
          "24000",
          "24000",
          "24000",
          "24000",
          "24000",
          "24000",
          "24000",
          "24000",
          "24000",
          "24000",
          "24000",
          "24000",
          "24000",
          "20000",
          "20000",
          "20000",
          "20000",
          "20000",
          "20000",
          "20000",
          "20000",
          "20000",
          "20000",
          "20000",
          "16000",
          "16000",
          "16000",
          "16000",
          "16000",
          "16000",
          "16000",
          "16000",
          "22000",
          "22000",
          "22000",
          "22000",
          "22000",
          "22000",
          "22000",
          "22000",
          "22000",
          "22000",
          "22000",
          "22000",
          "22000",
          "22000"
         ],
         "y": [
          "0.1262",
          "0.1262",
          "0.1262",
          "0.1262",
          "0.1262",
          "0.1262",
          "0.1262",
          "0.1262",
          "0.1262",
          "0.1262",
          "0.1262",
          "0.1262",
          "0.1093",
          "0.1999",
          "0.1999",
          "0.1999",
          "0.1999",
          "0.1999",
          "0.1999",
          "0.1999",
          "0.1999",
          "0.1999",
          "0.1999",
          "0.1870",
          "0.0546",
          "0.0546",
          "0.0546",
          "0.0546",
          "0.0546",
          "0.0546",
          "0.0546",
          "0.0546",
          "0.1922",
          "0.1922",
          "0.1922",
          "0.1922",
          "0.1922",
          "0.1922",
          "0.1922",
          "0.1922",
          "0.1922",
          "0.1922",
          "0.1922",
          "0.1922",
          "0.1922",
          "0.1735"
         ]
        },
        {
         "line": {
          "color": "rgba(50, 171, 96, 0.8999999999999999)",
          "dash": "solid",
          "shape": "linear",
          "width": 1.3
         },
         "mode": "lines",
         "name": "mR @ 50",
         "text": "",
         "type": "scatter",
         "x": [
          "24000",
          "24000",
          "24000",
          "24000",
          "24000",
          "24000",
          "24000",
          "24000",
          "24000",
          "24000",
          "24000",
          "24000",
          "24000",
          "20000",
          "20000",
          "20000",
          "20000",
          "20000",
          "20000",
          "20000",
          "20000",
          "20000",
          "20000",
          "20000",
          "16000",
          "16000",
          "16000",
          "16000",
          "16000",
          "16000",
          "16000",
          "16000",
          "22000",
          "22000",
          "22000",
          "22000",
          "22000",
          "22000",
          "22000",
          "22000",
          "22000",
          "22000",
          "22000",
          "22000",
          "22000",
          "22000"
         ],
         "y": [
          "0.1526",
          "0.1526",
          "0.1526",
          "0.1526",
          "0.1526",
          "0.1526",
          "0.1526",
          "0.1526",
          "0.1526",
          "0.1526",
          "0.1526",
          "0.1526",
          "0.1429",
          "0.2637",
          "0.2637",
          "0.2637",
          "0.2637",
          "0.2637",
          "0.2637",
          "0.2637",
          "0.2637",
          "0.2637",
          "0.2637",
          "0.2586",
          "0.0835",
          "0.0835",
          "0.0835",
          "0.0835",
          "0.0835",
          "0.0835",
          "0.0835",
          "0.0835",
          "0.2617",
          "0.2617",
          "0.2617",
          "0.2617",
          "0.2617",
          "0.2617",
          "0.2617",
          "0.2617",
          "0.2617",
          "0.2617",
          "0.2617",
          "0.2617",
          "0.2617",
          "0.2466"
         ]
        },
        {
         "line": {
          "color": "rgba(128, 0, 128, 0.8999999999999999)",
          "dash": "solid",
          "shape": "linear",
          "width": 1.3
         },
         "mode": "lines",
         "name": "mR @ 100",
         "text": "",
         "type": "scatter",
         "x": [
          "24000",
          "24000",
          "24000",
          "24000",
          "24000",
          "24000",
          "24000",
          "24000",
          "24000",
          "24000",
          "24000",
          "24000",
          "24000",
          "20000",
          "20000",
          "20000",
          "20000",
          "20000",
          "20000",
          "20000",
          "20000",
          "20000",
          "20000",
          "20000",
          "16000",
          "16000",
          "16000",
          "16000",
          "16000",
          "16000",
          "16000",
          "16000",
          "22000",
          "22000",
          "22000",
          "22000",
          "22000",
          "22000",
          "22000",
          "22000",
          "22000",
          "22000",
          "22000",
          "22000",
          "22000",
          "22000"
         ],
         "y": [
          "0.1700",
          "0.1700",
          "0.1700",
          "0.1700",
          "0.1700",
          "0.1700",
          "0.1700",
          "0.1700",
          "0.1700",
          "0.1700",
          "0.1700",
          "0.1700",
          "0.1612",
          "0.3005",
          "0.3005",
          "0.3005",
          "0.3005",
          "0.3005",
          "0.3005",
          "0.3005",
          "0.3005",
          "0.3005",
          "0.3005",
          "0.2968",
          "0.0959",
          "0.0959",
          "0.0959",
          "0.0959",
          "0.0959",
          "0.0959",
          "0.0959",
          "0.0959",
          "0.3048",
          "0.3048",
          "0.3048",
          "0.3048",
          "0.3048",
          "0.3048",
          "0.3048",
          "0.3048",
          "0.3048",
          "0.3048",
          "0.3048",
          "0.3048",
          "0.3048",
          "0.2881"
         ]
        },
        {
         "line": {
          "color": "rgba(219, 64, 82, 0.8999999999999999)",
          "dash": "solid",
          "shape": "linear",
          "width": 1.3
         },
         "mode": "lines",
         "name": "A @ 20",
         "text": "",
         "type": "scatter",
         "x": [
          "24000",
          "24000",
          "24000",
          "24000",
          "24000",
          "24000",
          "24000",
          "24000",
          "24000",
          "24000",
          "24000",
          "24000",
          "24000",
          "20000",
          "20000",
          "20000",
          "20000",
          "20000",
          "20000",
          "20000",
          "20000",
          "20000",
          "20000",
          "20000",
          "16000",
          "16000",
          "16000",
          "16000",
          "16000",
          "16000",
          "16000",
          "16000",
          "22000",
          "22000",
          "22000",
          "22000",
          "22000",
          "22000",
          "22000",
          "22000",
          "22000",
          "22000",
          "22000",
          "22000",
          "22000",
          "22000"
         ],
         "y": [
          "0.6492",
          "0.6492",
          "0.6492",
          "0.6492",
          "0.6492",
          "0.6492",
          "0.6492",
          "0.6492",
          "0.6492",
          "0.6492",
          "0.6492",
          "0.6492",
          "0.6391",
          "0.5358",
          "0.5358",
          "0.5358",
          "0.5358",
          "0.5358",
          "0.5358",
          "0.5358",
          "0.5358",
          "0.5358",
          "0.5358",
          "0.5303",
          "0.0253",
          "0.0253",
          "0.0253",
          "0.0253",
          "0.0253",
          "0.0253",
          "0.0253",
          "0.0253",
          "0.4544",
          "0.4544",
          "0.4544",
          "0.4544",
          "0.4544",
          "0.4544",
          "0.4544",
          "0.4544",
          "0.4544",
          "0.4544",
          "0.4544",
          "0.4544",
          "0.4544",
          "0.4617"
         ]
        },
        {
         "line": {
          "color": "rgba(0, 128, 128, 0.8999999999999999)",
          "dash": "solid",
          "shape": "linear",
          "width": 1.3
         },
         "mode": "lines",
         "name": "A @ 50",
         "text": "",
         "type": "scatter",
         "x": [
          "24000",
          "24000",
          "24000",
          "24000",
          "24000",
          "24000",
          "24000",
          "24000",
          "24000",
          "24000",
          "24000",
          "24000",
          "24000",
          "20000",
          "20000",
          "20000",
          "20000",
          "20000",
          "20000",
          "20000",
          "20000",
          "20000",
          "20000",
          "20000",
          "16000",
          "16000",
          "16000",
          "16000",
          "16000",
          "16000",
          "16000",
          "16000",
          "22000",
          "22000",
          "22000",
          "22000",
          "22000",
          "22000",
          "22000",
          "22000",
          "22000",
          "22000",
          "22000",
          "22000",
          "22000",
          "22000"
         ],
         "y": [
          "0.6531",
          "0.6531",
          "0.6531",
          "0.6531",
          "0.6531",
          "0.6531",
          "0.6531",
          "0.6531",
          "0.6531",
          "0.6531",
          "0.6531",
          "0.6531",
          "0.6412",
          "0.5398",
          "0.5398",
          "0.5398",
          "0.5398",
          "0.5398",
          "0.5398",
          "0.5398",
          "0.5398",
          "0.5398",
          "0.5398",
          "0.5322",
          "0.0255",
          "0.0255",
          "0.0255",
          "0.0255",
          "0.0255",
          "0.0255",
          "0.0255",
          "0.0255",
          "0.4585",
          "0.4585",
          "0.4585",
          "0.4585",
          "0.4585",
          "0.4585",
          "0.4585",
          "0.4585",
          "0.4585",
          "0.4585",
          "0.4585",
          "0.4585",
          "0.4585",
          "0.4634"
         ]
        },
        {
         "line": {
          "color": "rgba(255, 255, 51, 0.8999999999999999)",
          "dash": "solid",
          "shape": "linear",
          "width": 1.3
         },
         "mode": "lines",
         "name": "A @ 100",
         "text": "",
         "type": "scatter",
         "x": [
          "24000",
          "24000",
          "24000",
          "24000",
          "24000",
          "24000",
          "24000",
          "24000",
          "24000",
          "24000",
          "24000",
          "24000",
          "24000",
          "20000",
          "20000",
          "20000",
          "20000",
          "20000",
          "20000",
          "20000",
          "20000",
          "20000",
          "20000",
          "20000",
          "16000",
          "16000",
          "16000",
          "16000",
          "16000",
          "16000",
          "16000",
          "16000",
          "22000",
          "22000",
          "22000",
          "22000",
          "22000",
          "22000",
          "22000",
          "22000",
          "22000",
          "22000",
          "22000",
          "22000",
          "22000",
          "22000"
         ],
         "y": [
          "0.6531",
          "0.6531",
          "0.6531",
          "0.6531",
          "0.6531",
          "0.6531",
          "0.6531",
          "0.6531",
          "0.6531",
          "0.6531",
          "0.6531",
          "0.6531",
          "0.6412",
          "0.5398",
          "0.5398",
          "0.5398",
          "0.5398",
          "0.5398",
          "0.5398",
          "0.5398",
          "0.5398",
          "0.5398",
          "0.5398",
          "0.5322",
          "0.0255",
          "0.0255",
          "0.0255",
          "0.0255",
          "0.0255",
          "0.0255",
          "0.0255",
          "0.0255",
          "0.4585",
          "0.4585",
          "0.4585",
          "0.4585",
          "0.4585",
          "0.4585",
          "0.4585",
          "0.4585",
          "0.4585",
          "0.4585",
          "0.4585",
          "0.4585",
          "0.4585",
          "0.4634"
         ]
        }
       ],
       "layout": {
        "legend": {
         "bgcolor": "#FFFFFF",
         "font": {
          "color": "#4D5663"
         }
        },
        "paper_bgcolor": "#FFFFFF",
        "plot_bgcolor": "#FFFFFF",
        "template": {
         "data": {
          "bar": [
           {
            "error_x": {
             "color": "#2a3f5f"
            },
            "error_y": {
             "color": "#2a3f5f"
            },
            "marker": {
             "line": {
              "color": "#E5ECF6",
              "width": 0.5
             }
            },
            "type": "bar"
           }
          ],
          "barpolar": [
           {
            "marker": {
             "line": {
              "color": "#E5ECF6",
              "width": 0.5
             }
            },
            "type": "barpolar"
           }
          ],
          "carpet": [
           {
            "aaxis": {
             "endlinecolor": "#2a3f5f",
             "gridcolor": "white",
             "linecolor": "white",
             "minorgridcolor": "white",
             "startlinecolor": "#2a3f5f"
            },
            "baxis": {
             "endlinecolor": "#2a3f5f",
             "gridcolor": "white",
             "linecolor": "white",
             "minorgridcolor": "white",
             "startlinecolor": "#2a3f5f"
            },
            "type": "carpet"
           }
          ],
          "choropleth": [
           {
            "colorbar": {
             "outlinewidth": 0,
             "ticks": ""
            },
            "type": "choropleth"
           }
          ],
          "contour": [
           {
            "colorbar": {
             "outlinewidth": 0,
             "ticks": ""
            },
            "colorscale": [
             [
              0,
              "#0d0887"
             ],
             [
              0.1111111111111111,
              "#46039f"
             ],
             [
              0.2222222222222222,
              "#7201a8"
             ],
             [
              0.3333333333333333,
              "#9c179e"
             ],
             [
              0.4444444444444444,
              "#bd3786"
             ],
             [
              0.5555555555555556,
              "#d8576b"
             ],
             [
              0.6666666666666666,
              "#ed7953"
             ],
             [
              0.7777777777777778,
              "#fb9f3a"
             ],
             [
              0.8888888888888888,
              "#fdca26"
             ],
             [
              1,
              "#f0f921"
             ]
            ],
            "type": "contour"
           }
          ],
          "contourcarpet": [
           {
            "colorbar": {
             "outlinewidth": 0,
             "ticks": ""
            },
            "type": "contourcarpet"
           }
          ],
          "heatmap": [
           {
            "colorbar": {
             "outlinewidth": 0,
             "ticks": ""
            },
            "colorscale": [
             [
              0,
              "#0d0887"
             ],
             [
              0.1111111111111111,
              "#46039f"
             ],
             [
              0.2222222222222222,
              "#7201a8"
             ],
             [
              0.3333333333333333,
              "#9c179e"
             ],
             [
              0.4444444444444444,
              "#bd3786"
             ],
             [
              0.5555555555555556,
              "#d8576b"
             ],
             [
              0.6666666666666666,
              "#ed7953"
             ],
             [
              0.7777777777777778,
              "#fb9f3a"
             ],
             [
              0.8888888888888888,
              "#fdca26"
             ],
             [
              1,
              "#f0f921"
             ]
            ],
            "type": "heatmap"
           }
          ],
          "heatmapgl": [
           {
            "colorbar": {
             "outlinewidth": 0,
             "ticks": ""
            },
            "colorscale": [
             [
              0,
              "#0d0887"
             ],
             [
              0.1111111111111111,
              "#46039f"
             ],
             [
              0.2222222222222222,
              "#7201a8"
             ],
             [
              0.3333333333333333,
              "#9c179e"
             ],
             [
              0.4444444444444444,
              "#bd3786"
             ],
             [
              0.5555555555555556,
              "#d8576b"
             ],
             [
              0.6666666666666666,
              "#ed7953"
             ],
             [
              0.7777777777777778,
              "#fb9f3a"
             ],
             [
              0.8888888888888888,
              "#fdca26"
             ],
             [
              1,
              "#f0f921"
             ]
            ],
            "type": "heatmapgl"
           }
          ],
          "histogram": [
           {
            "marker": {
             "colorbar": {
              "outlinewidth": 0,
              "ticks": ""
             }
            },
            "type": "histogram"
           }
          ],
          "histogram2d": [
           {
            "colorbar": {
             "outlinewidth": 0,
             "ticks": ""
            },
            "colorscale": [
             [
              0,
              "#0d0887"
             ],
             [
              0.1111111111111111,
              "#46039f"
             ],
             [
              0.2222222222222222,
              "#7201a8"
             ],
             [
              0.3333333333333333,
              "#9c179e"
             ],
             [
              0.4444444444444444,
              "#bd3786"
             ],
             [
              0.5555555555555556,
              "#d8576b"
             ],
             [
              0.6666666666666666,
              "#ed7953"
             ],
             [
              0.7777777777777778,
              "#fb9f3a"
             ],
             [
              0.8888888888888888,
              "#fdca26"
             ],
             [
              1,
              "#f0f921"
             ]
            ],
            "type": "histogram2d"
           }
          ],
          "histogram2dcontour": [
           {
            "colorbar": {
             "outlinewidth": 0,
             "ticks": ""
            },
            "colorscale": [
             [
              0,
              "#0d0887"
             ],
             [
              0.1111111111111111,
              "#46039f"
             ],
             [
              0.2222222222222222,
              "#7201a8"
             ],
             [
              0.3333333333333333,
              "#9c179e"
             ],
             [
              0.4444444444444444,
              "#bd3786"
             ],
             [
              0.5555555555555556,
              "#d8576b"
             ],
             [
              0.6666666666666666,
              "#ed7953"
             ],
             [
              0.7777777777777778,
              "#fb9f3a"
             ],
             [
              0.8888888888888888,
              "#fdca26"
             ],
             [
              1,
              "#f0f921"
             ]
            ],
            "type": "histogram2dcontour"
           }
          ],
          "mesh3d": [
           {
            "colorbar": {
             "outlinewidth": 0,
             "ticks": ""
            },
            "type": "mesh3d"
           }
          ],
          "parcoords": [
           {
            "line": {
             "colorbar": {
              "outlinewidth": 0,
              "ticks": ""
             }
            },
            "type": "parcoords"
           }
          ],
          "pie": [
           {
            "automargin": true,
            "type": "pie"
           }
          ],
          "scatter": [
           {
            "marker": {
             "colorbar": {
              "outlinewidth": 0,
              "ticks": ""
             }
            },
            "type": "scatter"
           }
          ],
          "scatter3d": [
           {
            "line": {
             "colorbar": {
              "outlinewidth": 0,
              "ticks": ""
             }
            },
            "marker": {
             "colorbar": {
              "outlinewidth": 0,
              "ticks": ""
             }
            },
            "type": "scatter3d"
           }
          ],
          "scattercarpet": [
           {
            "marker": {
             "colorbar": {
              "outlinewidth": 0,
              "ticks": ""
             }
            },
            "type": "scattercarpet"
           }
          ],
          "scattergeo": [
           {
            "marker": {
             "colorbar": {
              "outlinewidth": 0,
              "ticks": ""
             }
            },
            "type": "scattergeo"
           }
          ],
          "scattergl": [
           {
            "marker": {
             "colorbar": {
              "outlinewidth": 0,
              "ticks": ""
             }
            },
            "type": "scattergl"
           }
          ],
          "scattermapbox": [
           {
            "marker": {
             "colorbar": {
              "outlinewidth": 0,
              "ticks": ""
             }
            },
            "type": "scattermapbox"
           }
          ],
          "scatterpolar": [
           {
            "marker": {
             "colorbar": {
              "outlinewidth": 0,
              "ticks": ""
             }
            },
            "type": "scatterpolar"
           }
          ],
          "scatterpolargl": [
           {
            "marker": {
             "colorbar": {
              "outlinewidth": 0,
              "ticks": ""
             }
            },
            "type": "scatterpolargl"
           }
          ],
          "scatterternary": [
           {
            "marker": {
             "colorbar": {
              "outlinewidth": 0,
              "ticks": ""
             }
            },
            "type": "scatterternary"
           }
          ],
          "surface": [
           {
            "colorbar": {
             "outlinewidth": 0,
             "ticks": ""
            },
            "colorscale": [
             [
              0,
              "#0d0887"
             ],
             [
              0.1111111111111111,
              "#46039f"
             ],
             [
              0.2222222222222222,
              "#7201a8"
             ],
             [
              0.3333333333333333,
              "#9c179e"
             ],
             [
              0.4444444444444444,
              "#bd3786"
             ],
             [
              0.5555555555555556,
              "#d8576b"
             ],
             [
              0.6666666666666666,
              "#ed7953"
             ],
             [
              0.7777777777777778,
              "#fb9f3a"
             ],
             [
              0.8888888888888888,
              "#fdca26"
             ],
             [
              1,
              "#f0f921"
             ]
            ],
            "type": "surface"
           }
          ],
          "table": [
           {
            "cells": {
             "fill": {
              "color": "#EBF0F8"
             },
             "line": {
              "color": "white"
             }
            },
            "header": {
             "fill": {
              "color": "#C8D4E3"
             },
             "line": {
              "color": "white"
             }
            },
            "type": "table"
           }
          ]
         },
         "layout": {
          "annotationdefaults": {
           "arrowcolor": "#2a3f5f",
           "arrowhead": 0,
           "arrowwidth": 1
          },
          "coloraxis": {
           "colorbar": {
            "outlinewidth": 0,
            "ticks": ""
           }
          },
          "colorscale": {
           "diverging": [
            [
             0,
             "#8e0152"
            ],
            [
             0.1,
             "#c51b7d"
            ],
            [
             0.2,
             "#de77ae"
            ],
            [
             0.3,
             "#f1b6da"
            ],
            [
             0.4,
             "#fde0ef"
            ],
            [
             0.5,
             "#f7f7f7"
            ],
            [
             0.6,
             "#e6f5d0"
            ],
            [
             0.7,
             "#b8e186"
            ],
            [
             0.8,
             "#7fbc41"
            ],
            [
             0.9,
             "#4d9221"
            ],
            [
             1,
             "#276419"
            ]
           ],
           "sequential": [
            [
             0,
             "#0d0887"
            ],
            [
             0.1111111111111111,
             "#46039f"
            ],
            [
             0.2222222222222222,
             "#7201a8"
            ],
            [
             0.3333333333333333,
             "#9c179e"
            ],
            [
             0.4444444444444444,
             "#bd3786"
            ],
            [
             0.5555555555555556,
             "#d8576b"
            ],
            [
             0.6666666666666666,
             "#ed7953"
            ],
            [
             0.7777777777777778,
             "#fb9f3a"
            ],
            [
             0.8888888888888888,
             "#fdca26"
            ],
            [
             1,
             "#f0f921"
            ]
           ],
           "sequentialminus": [
            [
             0,
             "#0d0887"
            ],
            [
             0.1111111111111111,
             "#46039f"
            ],
            [
             0.2222222222222222,
             "#7201a8"
            ],
            [
             0.3333333333333333,
             "#9c179e"
            ],
            [
             0.4444444444444444,
             "#bd3786"
            ],
            [
             0.5555555555555556,
             "#d8576b"
            ],
            [
             0.6666666666666666,
             "#ed7953"
            ],
            [
             0.7777777777777778,
             "#fb9f3a"
            ],
            [
             0.8888888888888888,
             "#fdca26"
            ],
            [
             1,
             "#f0f921"
            ]
           ]
          },
          "colorway": [
           "#636efa",
           "#EF553B",
           "#00cc96",
           "#ab63fa",
           "#FFA15A",
           "#19d3f3",
           "#FF6692",
           "#B6E880",
           "#FF97FF",
           "#FECB52"
          ],
          "font": {
           "color": "#2a3f5f"
          },
          "geo": {
           "bgcolor": "white",
           "lakecolor": "white",
           "landcolor": "#E5ECF6",
           "showlakes": true,
           "showland": true,
           "subunitcolor": "white"
          },
          "hoverlabel": {
           "align": "left"
          },
          "hovermode": "closest",
          "mapbox": {
           "style": "light"
          },
          "paper_bgcolor": "white",
          "plot_bgcolor": "#E5ECF6",
          "polar": {
           "angularaxis": {
            "gridcolor": "white",
            "linecolor": "white",
            "ticks": ""
           },
           "bgcolor": "#E5ECF6",
           "radialaxis": {
            "gridcolor": "white",
            "linecolor": "white",
            "ticks": ""
           }
          },
          "scene": {
           "xaxis": {
            "backgroundcolor": "#E5ECF6",
            "gridcolor": "white",
            "gridwidth": 2,
            "linecolor": "white",
            "showbackground": true,
            "ticks": "",
            "zerolinecolor": "white"
           },
           "yaxis": {
            "backgroundcolor": "#E5ECF6",
            "gridcolor": "white",
            "gridwidth": 2,
            "linecolor": "white",
            "showbackground": true,
            "ticks": "",
            "zerolinecolor": "white"
           },
           "zaxis": {
            "backgroundcolor": "#E5ECF6",
            "gridcolor": "white",
            "gridwidth": 2,
            "linecolor": "white",
            "showbackground": true,
            "ticks": "",
            "zerolinecolor": "white"
           }
          },
          "shapedefaults": {
           "line": {
            "color": "#2a3f5f"
           }
          },
          "ternary": {
           "aaxis": {
            "gridcolor": "white",
            "linecolor": "white",
            "ticks": ""
           },
           "baxis": {
            "gridcolor": "white",
            "linecolor": "white",
            "ticks": ""
           },
           "bgcolor": "#E5ECF6",
           "caxis": {
            "gridcolor": "white",
            "linecolor": "white",
            "ticks": ""
           }
          },
          "title": {
           "x": 0.05
          },
          "xaxis": {
           "automargin": true,
           "gridcolor": "white",
           "linecolor": "white",
           "ticks": "",
           "title": {
            "standoff": 15
           },
           "zerolinecolor": "white",
           "zerolinewidth": 2
          },
          "yaxis": {
           "automargin": true,
           "gridcolor": "white",
           "linecolor": "white",
           "ticks": "",
           "title": {
            "standoff": 15
           },
           "zerolinecolor": "white",
           "zerolinewidth": 2
          }
         }
        },
        "title": {
         "font": {
          "color": "#4D5663"
         },
         "text": "precls-CausalAnalysisPredictor-motifs-dist2-TDE"
        },
        "xaxis": {
         "gridcolor": "#E1E5ED",
         "showgrid": true,
         "tickfont": {
          "color": "#4D5663"
         },
         "title": {
          "font": {
           "color": "#4D5663"
          },
          "text": ""
         },
         "zerolinecolor": "#E1E5ED"
        },
        "yaxis": {
         "gridcolor": "#E1E5ED",
         "showgrid": true,
         "tickfont": {
          "color": "#4D5663"
         },
         "title": {
          "font": {
           "color": "#4D5663"
          },
          "text": ""
         },
         "zerolinecolor": "#E1E5ED"
        }
       }
      },
      "text/html": [
       "<div>\n",
       "        \n",
       "        \n",
       "            <div id=\"59b06496-ad2f-41ea-ba2b-c92748868733\" class=\"plotly-graph-div\" style=\"height:525px; width:100%;\"></div>\n",
       "            <script type=\"text/javascript\">\n",
       "                require([\"plotly\"], function(Plotly) {\n",
       "                    window.PLOTLYENV=window.PLOTLYENV || {};\n",
       "                    window.PLOTLYENV.BASE_URL='https://plot.ly';\n",
       "                    \n",
       "                if (document.getElementById(\"59b06496-ad2f-41ea-ba2b-c92748868733\")) {\n",
       "                    Plotly.newPlot(\n",
       "                        '59b06496-ad2f-41ea-ba2b-c92748868733',\n",
       "                        [{\"line\": {\"color\": \"rgba(255, 153, 51, 1.0)\", \"dash\": \"solid\", \"shape\": \"linear\", \"width\": 1.3}, \"mode\": \"lines\", \"name\": \"label\", \"text\": \"\", \"type\": \"scatter\", \"x\": [\"24000\", \"24000\", \"24000\", \"24000\", \"24000\", \"24000\", \"24000\", \"24000\", \"24000\", \"24000\", \"24000\", \"24000\", \"24000\", \"20000\", \"20000\", \"20000\", \"20000\", \"20000\", \"20000\", \"20000\", \"20000\", \"20000\", \"20000\", \"20000\", \"16000\", \"16000\", \"16000\", \"16000\", \"16000\", \"16000\", \"16000\", \"16000\", \"22000\", \"22000\", \"22000\", \"22000\", \"22000\", \"22000\", \"22000\", \"22000\", \"22000\", \"22000\", \"22000\", \"22000\", \"22000\", \"22000\"], \"y\": [\"dist2-TDE\", \"dist2-TDE\", \"dist2-TDE\", \"dist2-TDE\", \"dist2-TDE\", \"dist2-TDE\", \"dist2-TDE\", \"dist2-TDE\", \"dist2-TDE\", \"dist2-TDE\", \"dist2-TDE\", \"dist2-TDE\", \"dist2-TDE\", \"gate-TDE\", \"gate-TDE\", \"gate-TDE\", \"gate-TDE\", \"gate-TDE\", \"gate-TDE\", \"gate-TDE\", \"gate-TDE\", \"gate-TDE\", \"gate-TDE\", \"gate-TDE\", \"mfb3-TDE\", \"mfb3-TDE\", \"mfb3-TDE\", \"mfb3-TDE\", \"mfb3-TDE\", \"mfb3-TDE\", \"mfb3-TDE\", \"mfb3-TDE\", \"sum-TDE\", \"sum-TDE\", \"sum-TDE\", \"sum-TDE\", \"sum-TDE\", \"sum-TDE\", \"sum-TDE\", \"sum-TDE\", \"sum-TDE\", \"sum-TDE\", \"sum-TDE\", \"sum-TDE\", \"sum-TDE\", \"sum-TDE\"]}, {\"line\": {\"color\": \"rgba(55, 128, 191, 1.0)\", \"dash\": \"solid\", \"shape\": \"linear\", \"width\": 1.3}, \"mode\": \"lines\", \"name\": \"eval_set\", \"text\": \"\", \"type\": \"scatter\", \"x\": [\"24000\", \"24000\", \"24000\", \"24000\", \"24000\", \"24000\", \"24000\", \"24000\", \"24000\", \"24000\", \"24000\", \"24000\", \"24000\", \"20000\", \"20000\", \"20000\", \"20000\", \"20000\", \"20000\", \"20000\", \"20000\", \"20000\", \"20000\", \"20000\", \"16000\", \"16000\", \"16000\", \"16000\", \"16000\", \"16000\", \"16000\", \"16000\", \"22000\", \"22000\", \"22000\", \"22000\", \"22000\", \"22000\", \"22000\", \"22000\", \"22000\", \"22000\", \"22000\", \"22000\", \"22000\", \"22000\"], \"y\": [\"validation\", \"validation\", \"validation\", \"validation\", \"validation\", \"validation\", \"validation\", \"validation\", \"validation\", \"validation\", \"validation\", \"validation\", \"test\", \"validation\", \"validation\", \"validation\", \"validation\", \"validation\", \"validation\", \"validation\", \"validation\", \"validation\", \"validation\", \"test\", \"validation\", \"validation\", \"validation\", \"validation\", \"validation\", \"validation\", \"validation\", \"validation\", \"validation\", \"validation\", \"validation\", \"validation\", \"validation\", \"validation\", \"validation\", \"validation\", \"validation\", \"validation\", \"validation\", \"validation\", \"validation\", \"test\"]}, {\"line\": {\"color\": \"rgba(50, 171, 96, 1.0)\", \"dash\": \"solid\", \"shape\": \"linear\", \"width\": 1.3}, \"mode\": \"lines\", \"name\": \"mAp\", \"text\": \"\", \"type\": \"scatter\", \"x\": [\"24000\", \"24000\", \"24000\", \"24000\", \"24000\", \"24000\", \"24000\", \"24000\", \"24000\", \"24000\", \"24000\", \"24000\", \"24000\", \"20000\", \"20000\", \"20000\", \"20000\", \"20000\", \"20000\", \"20000\", \"20000\", \"20000\", \"20000\", \"20000\", \"16000\", \"16000\", \"16000\", \"16000\", \"16000\", \"16000\", \"16000\", \"16000\", \"22000\", \"22000\", \"22000\", \"22000\", \"22000\", \"22000\", \"22000\", \"22000\", \"22000\", \"22000\", \"22000\", \"22000\", \"22000\", \"22000\"], \"y\": [\"0.9999\", \"0.9999\", \"0.9999\", \"0.9999\", \"0.9999\", \"0.9999\", \"0.9999\", \"0.9999\", \"0.9999\", \"0.9999\", \"0.9999\", \"0.9999\", \"0.9995\", \"0.9999\", \"0.9999\", \"0.9999\", \"0.9999\", \"0.9999\", \"0.9999\", \"0.9999\", \"0.9999\", \"0.9999\", \"0.9999\", \"0.9995\", \"0.9999\", \"0.9999\", \"0.9999\", \"0.9999\", \"0.9999\", \"0.9999\", \"0.9999\", \"0.9999\", \"0.9999\", \"0.9999\", \"0.9999\", \"0.9999\", \"0.9999\", \"0.9999\", \"0.9999\", \"0.9999\", \"0.9999\", \"0.9999\", \"0.9999\", \"0.9999\", \"0.9999\", \"0.9995\"]}, {\"line\": {\"color\": \"rgba(128, 0, 128, 1.0)\", \"dash\": \"solid\", \"shape\": \"linear\", \"width\": 1.3}, \"mode\": \"lines\", \"name\": \"R @ 20\", \"text\": \"\", \"type\": \"scatter\", \"x\": [\"24000\", \"24000\", \"24000\", \"24000\", \"24000\", \"24000\", \"24000\", \"24000\", \"24000\", \"24000\", \"24000\", \"24000\", \"24000\", \"20000\", \"20000\", \"20000\", \"20000\", \"20000\", \"20000\", \"20000\", \"20000\", \"20000\", \"20000\", \"20000\", \"16000\", \"16000\", \"16000\", \"16000\", \"16000\", \"16000\", \"16000\", \"16000\", \"22000\", \"22000\", \"22000\", \"22000\", \"22000\", \"22000\", \"22000\", \"22000\", \"22000\", \"22000\", \"22000\", \"22000\", \"22000\", \"22000\"], \"y\": [\"0.5535\", \"0.5535\", \"0.5535\", \"0.5535\", \"0.5535\", \"0.5535\", \"0.5535\", \"0.5535\", \"0.5535\", \"0.5535\", \"0.5535\", \"0.5535\", \"0.5354\", \"0.3171\", \"0.3171\", \"0.3171\", \"0.3171\", \"0.3171\", \"0.3171\", \"0.3171\", \"0.3171\", \"0.3171\", \"0.3171\", \"0.3310\", \"0.0207\", \"0.0207\", \"0.0207\", \"0.0207\", \"0.0207\", \"0.0207\", \"0.0207\", \"0.0207\", \"0.2198\", \"0.2198\", \"0.2198\", \"0.2198\", \"0.2198\", \"0.2198\", \"0.2198\", \"0.2198\", \"0.2198\", \"0.2198\", \"0.2198\", \"0.2198\", \"0.2198\", \"0.2503\"]}, {\"line\": {\"color\": \"rgba(219, 64, 82, 1.0)\", \"dash\": \"solid\", \"shape\": \"linear\", \"width\": 1.3}, \"mode\": \"lines\", \"name\": \"R @ 50\", \"text\": \"\", \"type\": \"scatter\", \"x\": [\"24000\", \"24000\", \"24000\", \"24000\", \"24000\", \"24000\", \"24000\", \"24000\", \"24000\", \"24000\", \"24000\", \"24000\", \"24000\", \"20000\", \"20000\", \"20000\", \"20000\", \"20000\", \"20000\", \"20000\", \"20000\", \"20000\", \"20000\", \"20000\", \"16000\", \"16000\", \"16000\", \"16000\", \"16000\", \"16000\", \"16000\", \"16000\", \"22000\", \"22000\", \"22000\", \"22000\", \"22000\", \"22000\", \"22000\", \"22000\", \"22000\", \"22000\", \"22000\", \"22000\", \"22000\", \"22000\"], \"y\": [\"0.6057\", \"0.6057\", \"0.6057\", \"0.6057\", \"0.6057\", \"0.6057\", \"0.6057\", \"0.6057\", \"0.6057\", \"0.6057\", \"0.6057\", \"0.6057\", \"0.6005\", \"0.4319\", \"0.4319\", \"0.4319\", \"0.4319\", \"0.4319\", \"0.4319\", \"0.4319\", \"0.4319\", \"0.4319\", \"0.4319\", \"0.4448\", \"0.0265\", \"0.0265\", \"0.0265\", \"0.0265\", \"0.0265\", \"0.0265\", \"0.0265\", \"0.0265\", \"0.3194\", \"0.3194\", \"0.3194\", \"0.3194\", \"0.3194\", \"0.3194\", \"0.3194\", \"0.3194\", \"0.3194\", \"0.3194\", \"0.3194\", \"0.3194\", \"0.3194\", \"0.3583\"]}, {\"line\": {\"color\": \"rgba(0, 128, 128, 1.0)\", \"dash\": \"solid\", \"shape\": \"linear\", \"width\": 1.3}, \"mode\": \"lines\", \"name\": \"R @ 100\", \"text\": \"\", \"type\": \"scatter\", \"x\": [\"24000\", \"24000\", \"24000\", \"24000\", \"24000\", \"24000\", \"24000\", \"24000\", \"24000\", \"24000\", \"24000\", \"24000\", \"24000\", \"20000\", \"20000\", \"20000\", \"20000\", \"20000\", \"20000\", \"20000\", \"20000\", \"20000\", \"20000\", \"20000\", \"16000\", \"16000\", \"16000\", \"16000\", \"16000\", \"16000\", \"16000\", \"16000\", \"22000\", \"22000\", \"22000\", \"22000\", \"22000\", \"22000\", \"22000\", \"22000\", \"22000\", \"22000\", \"22000\", \"22000\", \"22000\", \"22000\"], \"y\": [\"0.6208\", \"0.6208\", \"0.6208\", \"0.6208\", \"0.6208\", \"0.6208\", \"0.6208\", \"0.6208\", \"0.6208\", \"0.6208\", \"0.6208\", \"0.6208\", \"0.6206\", \"0.4837\", \"0.4837\", \"0.4837\", \"0.4837\", \"0.4837\", \"0.4837\", \"0.4837\", \"0.4837\", \"0.4837\", \"0.4837\", \"0.4940\", \"0.0284\", \"0.0284\", \"0.0284\", \"0.0284\", \"0.0284\", \"0.0284\", \"0.0284\", \"0.0284\", \"0.3815\", \"0.3815\", \"0.3815\", \"0.3815\", \"0.3815\", \"0.3815\", \"0.3815\", \"0.3815\", \"0.3815\", \"0.3815\", \"0.3815\", \"0.3815\", \"0.3815\", \"0.4147\"]}, {\"line\": {\"color\": \"rgba(255, 255, 51, 1.0)\", \"dash\": \"solid\", \"shape\": \"linear\", \"width\": 1.3}, \"mode\": \"lines\", \"name\": \"ngR @ 20\", \"text\": \"\", \"type\": \"scatter\", \"x\": [\"24000\", \"24000\", \"24000\", \"24000\", \"24000\", \"24000\", \"24000\", \"24000\", \"24000\", \"24000\", \"24000\", \"24000\", \"24000\", \"20000\", \"20000\", \"20000\", \"20000\", \"20000\", \"20000\", \"20000\", \"20000\", \"20000\", \"20000\", \"20000\", \"16000\", \"16000\", \"16000\", \"16000\", \"16000\", \"16000\", \"16000\", \"16000\", \"22000\", \"22000\", \"22000\", \"22000\", \"22000\", \"22000\", \"22000\", \"22000\", \"22000\", \"22000\", \"22000\", \"22000\", \"22000\", \"22000\"], \"y\": [\"0.6228\", \"0.6228\", \"0.6228\", \"0.6228\", \"0.6228\", \"0.6228\", \"0.6228\", \"0.6228\", \"0.6228\", \"0.6228\", \"0.6228\", \"0.6228\", \"0.6042\", \"0.3617\", \"0.3617\", \"0.3617\", \"0.3617\", \"0.3617\", \"0.3617\", \"0.3617\", \"0.3617\", \"0.3617\", \"0.3617\", \"0.3699\", \"0.0277\", \"0.0277\", \"0.0277\", \"0.0277\", \"0.0277\", \"0.0277\", \"0.0277\", \"0.0277\", \"0.2645\", \"0.2645\", \"0.2645\", \"0.2645\", \"0.2645\", \"0.2645\", \"0.2645\", \"0.2645\", \"0.2645\", \"0.2645\", \"0.2645\", \"0.2645\", \"0.2645\", \"0.2947\"]}, {\"line\": {\"color\": \"rgba(128, 128, 0, 1.0)\", \"dash\": \"solid\", \"shape\": \"linear\", \"width\": 1.3}, \"mode\": \"lines\", \"name\": \"ngR @ 50\", \"text\": \"\", \"type\": \"scatter\", \"x\": [\"24000\", \"24000\", \"24000\", \"24000\", \"24000\", \"24000\", \"24000\", \"24000\", \"24000\", \"24000\", \"24000\", \"24000\", \"24000\", \"20000\", \"20000\", \"20000\", \"20000\", \"20000\", \"20000\", \"20000\", \"20000\", \"20000\", \"20000\", \"20000\", \"16000\", \"16000\", \"16000\", \"16000\", \"16000\", \"16000\", \"16000\", \"16000\", \"22000\", \"22000\", \"22000\", \"22000\", \"22000\", \"22000\", \"22000\", \"22000\", \"22000\", \"22000\", \"22000\", \"22000\", \"22000\", \"22000\"], \"y\": [\"0.7360\", \"0.7360\", \"0.7360\", \"0.7360\", \"0.7360\", \"0.7360\", \"0.7360\", \"0.7360\", \"0.7360\", \"0.7360\", \"0.7360\", \"0.7360\", \"0.7359\", \"0.5368\", \"0.5368\", \"0.5368\", \"0.5368\", \"0.5368\", \"0.5368\", \"0.5368\", \"0.5368\", \"0.5368\", \"0.5368\", \"0.5500\", \"0.0497\", \"0.0497\", \"0.0497\", \"0.0497\", \"0.0497\", \"0.0497\", \"0.0497\", \"0.0497\", \"0.4354\", \"0.4354\", \"0.4354\", \"0.4354\", \"0.4354\", \"0.4354\", \"0.4354\", \"0.4354\", \"0.4354\", \"0.4354\", \"0.4354\", \"0.4354\", \"0.4354\", \"0.4774\"]}, {\"line\": {\"color\": \"rgba(251, 128, 114, 1.0)\", \"dash\": \"solid\", \"shape\": \"linear\", \"width\": 1.3}, \"mode\": \"lines\", \"name\": \"ngR @ 100\", \"text\": \"\", \"type\": \"scatter\", \"x\": [\"24000\", \"24000\", \"24000\", \"24000\", \"24000\", \"24000\", \"24000\", \"24000\", \"24000\", \"24000\", \"24000\", \"24000\", \"24000\", \"20000\", \"20000\", \"20000\", \"20000\", \"20000\", \"20000\", \"20000\", \"20000\", \"20000\", \"20000\", \"20000\", \"16000\", \"16000\", \"16000\", \"16000\", \"16000\", \"16000\", \"16000\", \"16000\", \"22000\", \"22000\", \"22000\", \"22000\", \"22000\", \"22000\", \"22000\", \"22000\", \"22000\", \"22000\", \"22000\", \"22000\", \"22000\", \"22000\"], \"y\": [\"0.7974\", \"0.7974\", \"0.7974\", \"0.7974\", \"0.7974\", \"0.7974\", \"0.7974\", \"0.7974\", \"0.7974\", \"0.7974\", \"0.7974\", \"0.7974\", \"0.8031\", \"0.6637\", \"0.6637\", \"0.6637\", \"0.6637\", \"0.6637\", \"0.6637\", \"0.6637\", \"0.6637\", \"0.6637\", \"0.6637\", \"0.6699\", \"0.0970\", \"0.0970\", \"0.0970\", \"0.0970\", \"0.0970\", \"0.0970\", \"0.0970\", \"0.0970\", \"0.5853\", \"0.5853\", \"0.5853\", \"0.5853\", \"0.5853\", \"0.5853\", \"0.5853\", \"0.5853\", \"0.5853\", \"0.5853\", \"0.5853\", \"0.5853\", \"0.5853\", \"0.6148\"]}, {\"line\": {\"color\": \"rgba(128, 177, 211, 1.0)\", \"dash\": \"solid\", \"shape\": \"linear\", \"width\": 1.3}, \"mode\": \"lines\", \"name\": \"zR @ 20\", \"text\": \"\", \"type\": \"scatter\", \"x\": [\"24000\", \"24000\", \"24000\", \"24000\", \"24000\", \"24000\", \"24000\", \"24000\", \"24000\", \"24000\", \"24000\", \"24000\", \"24000\", \"20000\", \"20000\", \"20000\", \"20000\", \"20000\", \"20000\", \"20000\", \"20000\", \"20000\", \"20000\", \"20000\", \"16000\", \"16000\", \"16000\", \"16000\", \"16000\", \"16000\", \"16000\", \"16000\", \"22000\", \"22000\", \"22000\", \"22000\", \"22000\", \"22000\", \"22000\", \"22000\", \"22000\", \"22000\", \"22000\", \"22000\", \"22000\", \"22000\"], \"y\": [\"0.0852\", \"0.0852\", \"0.0852\", \"0.0852\", \"0.0852\", \"0.0852\", \"0.0852\", \"0.0852\", \"0.0852\", \"0.0852\", \"0.0852\", \"0.0852\", \"0.0624\", \"0.0800\", \"0.0800\", \"0.0800\", \"0.0800\", \"0.0800\", \"0.0800\", \"0.0800\", \"0.0800\", \"0.0800\", \"0.0800\", \"0.0546\", \"0.0489\", \"0.0489\", \"0.0489\", \"0.0489\", \"0.0489\", \"0.0489\", \"0.0489\", \"0.0489\", \"0.1222\", \"0.1222\", \"0.1222\", \"0.1222\", \"0.1222\", \"0.1222\", \"0.1222\", \"0.1222\", \"0.1222\", \"0.1222\", \"0.1222\", \"0.1222\", \"0.1222\", \"0.0765\"]}, {\"line\": {\"color\": \"rgba(128, 177, 211, 0.8999999999999999)\", \"dash\": \"solid\", \"shape\": \"linear\", \"width\": 1.3}, \"mode\": \"lines\", \"name\": \"zR @ 50\", \"text\": \"\", \"type\": \"scatter\", \"x\": [\"24000\", \"24000\", \"24000\", \"24000\", \"24000\", \"24000\", \"24000\", \"24000\", \"24000\", \"24000\", \"24000\", \"24000\", \"24000\", \"20000\", \"20000\", \"20000\", \"20000\", \"20000\", \"20000\", \"20000\", \"20000\", \"20000\", \"20000\", \"20000\", \"16000\", \"16000\", \"16000\", \"16000\", \"16000\", \"16000\", \"16000\", \"16000\", \"22000\", \"22000\", \"22000\", \"22000\", \"22000\", \"22000\", \"22000\", \"22000\", \"22000\", \"22000\", \"22000\", \"22000\", \"22000\", \"22000\"], \"y\": [\"0.1600\", \"0.1600\", \"0.1600\", \"0.1600\", \"0.1600\", \"0.1600\", \"0.1600\", \"0.1600\", \"0.1600\", \"0.1600\", \"0.1600\", \"0.1600\", \"0.1092\", \"0.1467\", \"0.1467\", \"0.1467\", \"0.1467\", \"0.1467\", \"0.1467\", \"0.1467\", \"0.1467\", \"0.1467\", \"0.1467\", \"0.0915\", \"0.0800\", \"0.0800\", \"0.0800\", \"0.0800\", \"0.0800\", \"0.0800\", \"0.0800\", \"0.0800\", \"0.1637\", \"0.1637\", \"0.1637\", \"0.1637\", \"0.1637\", \"0.1637\", \"0.1637\", \"0.1637\", \"0.1637\", \"0.1637\", \"0.1637\", \"0.1637\", \"0.1637\", \"0.1217\"]}, {\"line\": {\"color\": \"rgba(255, 153, 51, 0.8999999999999999)\", \"dash\": \"solid\", \"shape\": \"linear\", \"width\": 1.3}, \"mode\": \"lines\", \"name\": \"zR @ 100\", \"text\": \"\", \"type\": \"scatter\", \"x\": [\"24000\", \"24000\", \"24000\", \"24000\", \"24000\", \"24000\", \"24000\", \"24000\", \"24000\", \"24000\", \"24000\", \"24000\", \"24000\", \"20000\", \"20000\", \"20000\", \"20000\", \"20000\", \"20000\", \"20000\", \"20000\", \"20000\", \"20000\", \"20000\", \"16000\", \"16000\", \"16000\", \"16000\", \"16000\", \"16000\", \"16000\", \"16000\", \"22000\", \"22000\", \"22000\", \"22000\", \"22000\", \"22000\", \"22000\", \"22000\", \"22000\", \"22000\", \"22000\", \"22000\", \"22000\", \"22000\"], \"y\": [\"0.1844\", \"0.1844\", \"0.1844\", \"0.1844\", \"0.1844\", \"0.1844\", \"0.1844\", \"0.1844\", \"0.1844\", \"0.1844\", \"0.1844\", \"0.1844\", \"0.1362\", \"0.1667\", \"0.1667\", \"0.1667\", \"0.1667\", \"0.1667\", \"0.1667\", \"0.1667\", \"0.1667\", \"0.1667\", \"0.1667\", \"0.1196\", \"0.0889\", \"0.0889\", \"0.0889\", \"0.0889\", \"0.0889\", \"0.0889\", \"0.0889\", \"0.0889\", \"0.1874\", \"0.1874\", \"0.1874\", \"0.1874\", \"0.1874\", \"0.1874\", \"0.1874\", \"0.1874\", \"0.1874\", \"0.1874\", \"0.1874\", \"0.1874\", \"0.1874\", \"0.1507\"]}, {\"line\": {\"color\": \"rgba(55, 128, 191, 0.8999999999999999)\", \"dash\": \"solid\", \"shape\": \"linear\", \"width\": 1.3}, \"mode\": \"lines\", \"name\": \"mR @ 20\", \"text\": \"\", \"type\": \"scatter\", \"x\": [\"24000\", \"24000\", \"24000\", \"24000\", \"24000\", \"24000\", \"24000\", \"24000\", \"24000\", \"24000\", \"24000\", \"24000\", \"24000\", \"20000\", \"20000\", \"20000\", \"20000\", \"20000\", \"20000\", \"20000\", \"20000\", \"20000\", \"20000\", \"20000\", \"16000\", \"16000\", \"16000\", \"16000\", \"16000\", \"16000\", \"16000\", \"16000\", \"22000\", \"22000\", \"22000\", \"22000\", \"22000\", \"22000\", \"22000\", \"22000\", \"22000\", \"22000\", \"22000\", \"22000\", \"22000\", \"22000\"], \"y\": [\"0.1262\", \"0.1262\", \"0.1262\", \"0.1262\", \"0.1262\", \"0.1262\", \"0.1262\", \"0.1262\", \"0.1262\", \"0.1262\", \"0.1262\", \"0.1262\", \"0.1093\", \"0.1999\", \"0.1999\", \"0.1999\", \"0.1999\", \"0.1999\", \"0.1999\", \"0.1999\", \"0.1999\", \"0.1999\", \"0.1999\", \"0.1870\", \"0.0546\", \"0.0546\", \"0.0546\", \"0.0546\", \"0.0546\", \"0.0546\", \"0.0546\", \"0.0546\", \"0.1922\", \"0.1922\", \"0.1922\", \"0.1922\", \"0.1922\", \"0.1922\", \"0.1922\", \"0.1922\", \"0.1922\", \"0.1922\", \"0.1922\", \"0.1922\", \"0.1922\", \"0.1735\"]}, {\"line\": {\"color\": \"rgba(50, 171, 96, 0.8999999999999999)\", \"dash\": \"solid\", \"shape\": \"linear\", \"width\": 1.3}, \"mode\": \"lines\", \"name\": \"mR @ 50\", \"text\": \"\", \"type\": \"scatter\", \"x\": [\"24000\", \"24000\", \"24000\", \"24000\", \"24000\", \"24000\", \"24000\", \"24000\", \"24000\", \"24000\", \"24000\", \"24000\", \"24000\", \"20000\", \"20000\", \"20000\", \"20000\", \"20000\", \"20000\", \"20000\", \"20000\", \"20000\", \"20000\", \"20000\", \"16000\", \"16000\", \"16000\", \"16000\", \"16000\", \"16000\", \"16000\", \"16000\", \"22000\", \"22000\", \"22000\", \"22000\", \"22000\", \"22000\", \"22000\", \"22000\", \"22000\", \"22000\", \"22000\", \"22000\", \"22000\", \"22000\"], \"y\": [\"0.1526\", \"0.1526\", \"0.1526\", \"0.1526\", \"0.1526\", \"0.1526\", \"0.1526\", \"0.1526\", \"0.1526\", \"0.1526\", \"0.1526\", \"0.1526\", \"0.1429\", \"0.2637\", \"0.2637\", \"0.2637\", \"0.2637\", \"0.2637\", \"0.2637\", \"0.2637\", \"0.2637\", \"0.2637\", \"0.2637\", \"0.2586\", \"0.0835\", \"0.0835\", \"0.0835\", \"0.0835\", \"0.0835\", \"0.0835\", \"0.0835\", \"0.0835\", \"0.2617\", \"0.2617\", \"0.2617\", \"0.2617\", \"0.2617\", \"0.2617\", \"0.2617\", \"0.2617\", \"0.2617\", \"0.2617\", \"0.2617\", \"0.2617\", \"0.2617\", \"0.2466\"]}, {\"line\": {\"color\": \"rgba(128, 0, 128, 0.8999999999999999)\", \"dash\": \"solid\", \"shape\": \"linear\", \"width\": 1.3}, \"mode\": \"lines\", \"name\": \"mR @ 100\", \"text\": \"\", \"type\": \"scatter\", \"x\": [\"24000\", \"24000\", \"24000\", \"24000\", \"24000\", \"24000\", \"24000\", \"24000\", \"24000\", \"24000\", \"24000\", \"24000\", \"24000\", \"20000\", \"20000\", \"20000\", \"20000\", \"20000\", \"20000\", \"20000\", \"20000\", \"20000\", \"20000\", \"20000\", \"16000\", \"16000\", \"16000\", \"16000\", \"16000\", \"16000\", \"16000\", \"16000\", \"22000\", \"22000\", \"22000\", \"22000\", \"22000\", \"22000\", \"22000\", \"22000\", \"22000\", \"22000\", \"22000\", \"22000\", \"22000\", \"22000\"], \"y\": [\"0.1700\", \"0.1700\", \"0.1700\", \"0.1700\", \"0.1700\", \"0.1700\", \"0.1700\", \"0.1700\", \"0.1700\", \"0.1700\", \"0.1700\", \"0.1700\", \"0.1612\", \"0.3005\", \"0.3005\", \"0.3005\", \"0.3005\", \"0.3005\", \"0.3005\", \"0.3005\", \"0.3005\", \"0.3005\", \"0.3005\", \"0.2968\", \"0.0959\", \"0.0959\", \"0.0959\", \"0.0959\", \"0.0959\", \"0.0959\", \"0.0959\", \"0.0959\", \"0.3048\", \"0.3048\", \"0.3048\", \"0.3048\", \"0.3048\", \"0.3048\", \"0.3048\", \"0.3048\", \"0.3048\", \"0.3048\", \"0.3048\", \"0.3048\", \"0.3048\", \"0.2881\"]}, {\"line\": {\"color\": \"rgba(219, 64, 82, 0.8999999999999999)\", \"dash\": \"solid\", \"shape\": \"linear\", \"width\": 1.3}, \"mode\": \"lines\", \"name\": \"A @ 20\", \"text\": \"\", \"type\": \"scatter\", \"x\": [\"24000\", \"24000\", \"24000\", \"24000\", \"24000\", \"24000\", \"24000\", \"24000\", \"24000\", \"24000\", \"24000\", \"24000\", \"24000\", \"20000\", \"20000\", \"20000\", \"20000\", \"20000\", \"20000\", \"20000\", \"20000\", \"20000\", \"20000\", \"20000\", \"16000\", \"16000\", \"16000\", \"16000\", \"16000\", \"16000\", \"16000\", \"16000\", \"22000\", \"22000\", \"22000\", \"22000\", \"22000\", \"22000\", \"22000\", \"22000\", \"22000\", \"22000\", \"22000\", \"22000\", \"22000\", \"22000\"], \"y\": [\"0.6492\", \"0.6492\", \"0.6492\", \"0.6492\", \"0.6492\", \"0.6492\", \"0.6492\", \"0.6492\", \"0.6492\", \"0.6492\", \"0.6492\", \"0.6492\", \"0.6391\", \"0.5358\", \"0.5358\", \"0.5358\", \"0.5358\", \"0.5358\", \"0.5358\", \"0.5358\", \"0.5358\", \"0.5358\", \"0.5358\", \"0.5303\", \"0.0253\", \"0.0253\", \"0.0253\", \"0.0253\", \"0.0253\", \"0.0253\", \"0.0253\", \"0.0253\", \"0.4544\", \"0.4544\", \"0.4544\", \"0.4544\", \"0.4544\", \"0.4544\", \"0.4544\", \"0.4544\", \"0.4544\", \"0.4544\", \"0.4544\", \"0.4544\", \"0.4544\", \"0.4617\"]}, {\"line\": {\"color\": \"rgba(0, 128, 128, 0.8999999999999999)\", \"dash\": \"solid\", \"shape\": \"linear\", \"width\": 1.3}, \"mode\": \"lines\", \"name\": \"A @ 50\", \"text\": \"\", \"type\": \"scatter\", \"x\": [\"24000\", \"24000\", \"24000\", \"24000\", \"24000\", \"24000\", \"24000\", \"24000\", \"24000\", \"24000\", \"24000\", \"24000\", \"24000\", \"20000\", \"20000\", \"20000\", \"20000\", \"20000\", \"20000\", \"20000\", \"20000\", \"20000\", \"20000\", \"20000\", \"16000\", \"16000\", \"16000\", \"16000\", \"16000\", \"16000\", \"16000\", \"16000\", \"22000\", \"22000\", \"22000\", \"22000\", \"22000\", \"22000\", \"22000\", \"22000\", \"22000\", \"22000\", \"22000\", \"22000\", \"22000\", \"22000\"], \"y\": [\"0.6531\", \"0.6531\", \"0.6531\", \"0.6531\", \"0.6531\", \"0.6531\", \"0.6531\", \"0.6531\", \"0.6531\", \"0.6531\", \"0.6531\", \"0.6531\", \"0.6412\", \"0.5398\", \"0.5398\", \"0.5398\", \"0.5398\", \"0.5398\", \"0.5398\", \"0.5398\", \"0.5398\", \"0.5398\", \"0.5398\", \"0.5322\", \"0.0255\", \"0.0255\", \"0.0255\", \"0.0255\", \"0.0255\", \"0.0255\", \"0.0255\", \"0.0255\", \"0.4585\", \"0.4585\", \"0.4585\", \"0.4585\", \"0.4585\", \"0.4585\", \"0.4585\", \"0.4585\", \"0.4585\", \"0.4585\", \"0.4585\", \"0.4585\", \"0.4585\", \"0.4634\"]}, {\"line\": {\"color\": \"rgba(255, 255, 51, 0.8999999999999999)\", \"dash\": \"solid\", \"shape\": \"linear\", \"width\": 1.3}, \"mode\": \"lines\", \"name\": \"A @ 100\", \"text\": \"\", \"type\": \"scatter\", \"x\": [\"24000\", \"24000\", \"24000\", \"24000\", \"24000\", \"24000\", \"24000\", \"24000\", \"24000\", \"24000\", \"24000\", \"24000\", \"24000\", \"20000\", \"20000\", \"20000\", \"20000\", \"20000\", \"20000\", \"20000\", \"20000\", \"20000\", \"20000\", \"20000\", \"16000\", \"16000\", \"16000\", \"16000\", \"16000\", \"16000\", \"16000\", \"16000\", \"22000\", \"22000\", \"22000\", \"22000\", \"22000\", \"22000\", \"22000\", \"22000\", \"22000\", \"22000\", \"22000\", \"22000\", \"22000\", \"22000\"], \"y\": [\"0.6531\", \"0.6531\", \"0.6531\", \"0.6531\", \"0.6531\", \"0.6531\", \"0.6531\", \"0.6531\", \"0.6531\", \"0.6531\", \"0.6531\", \"0.6531\", \"0.6412\", \"0.5398\", \"0.5398\", \"0.5398\", \"0.5398\", \"0.5398\", \"0.5398\", \"0.5398\", \"0.5398\", \"0.5398\", \"0.5398\", \"0.5322\", \"0.0255\", \"0.0255\", \"0.0255\", \"0.0255\", \"0.0255\", \"0.0255\", \"0.0255\", \"0.0255\", \"0.4585\", \"0.4585\", \"0.4585\", \"0.4585\", \"0.4585\", \"0.4585\", \"0.4585\", \"0.4585\", \"0.4585\", \"0.4585\", \"0.4585\", \"0.4585\", \"0.4585\", \"0.4634\"]}],\n",
       "                        {\"legend\": {\"bgcolor\": \"#FFFFFF\", \"font\": {\"color\": \"#4D5663\"}}, \"paper_bgcolor\": \"#FFFFFF\", \"plot_bgcolor\": \"#FFFFFF\", \"template\": {\"data\": {\"bar\": [{\"error_x\": {\"color\": \"#2a3f5f\"}, \"error_y\": {\"color\": \"#2a3f5f\"}, \"marker\": {\"line\": {\"color\": \"#E5ECF6\", \"width\": 0.5}}, \"type\": \"bar\"}], \"barpolar\": [{\"marker\": {\"line\": {\"color\": \"#E5ECF6\", \"width\": 0.5}}, \"type\": \"barpolar\"}], \"carpet\": [{\"aaxis\": {\"endlinecolor\": \"#2a3f5f\", \"gridcolor\": \"white\", \"linecolor\": \"white\", \"minorgridcolor\": \"white\", \"startlinecolor\": \"#2a3f5f\"}, \"baxis\": {\"endlinecolor\": \"#2a3f5f\", \"gridcolor\": \"white\", \"linecolor\": \"white\", \"minorgridcolor\": \"white\", \"startlinecolor\": \"#2a3f5f\"}, \"type\": \"carpet\"}], \"choropleth\": [{\"colorbar\": {\"outlinewidth\": 0, \"ticks\": \"\"}, \"type\": \"choropleth\"}], \"contour\": [{\"colorbar\": {\"outlinewidth\": 0, \"ticks\": \"\"}, \"colorscale\": [[0.0, \"#0d0887\"], [0.1111111111111111, \"#46039f\"], [0.2222222222222222, \"#7201a8\"], [0.3333333333333333, \"#9c179e\"], [0.4444444444444444, \"#bd3786\"], [0.5555555555555556, \"#d8576b\"], [0.6666666666666666, \"#ed7953\"], [0.7777777777777778, \"#fb9f3a\"], [0.8888888888888888, \"#fdca26\"], [1.0, \"#f0f921\"]], \"type\": \"contour\"}], \"contourcarpet\": [{\"colorbar\": {\"outlinewidth\": 0, \"ticks\": \"\"}, \"type\": \"contourcarpet\"}], \"heatmap\": [{\"colorbar\": {\"outlinewidth\": 0, \"ticks\": \"\"}, \"colorscale\": [[0.0, \"#0d0887\"], [0.1111111111111111, \"#46039f\"], [0.2222222222222222, \"#7201a8\"], [0.3333333333333333, \"#9c179e\"], [0.4444444444444444, \"#bd3786\"], [0.5555555555555556, \"#d8576b\"], [0.6666666666666666, \"#ed7953\"], [0.7777777777777778, \"#fb9f3a\"], [0.8888888888888888, \"#fdca26\"], [1.0, \"#f0f921\"]], \"type\": \"heatmap\"}], \"heatmapgl\": [{\"colorbar\": {\"outlinewidth\": 0, \"ticks\": \"\"}, \"colorscale\": [[0.0, \"#0d0887\"], [0.1111111111111111, \"#46039f\"], [0.2222222222222222, \"#7201a8\"], [0.3333333333333333, \"#9c179e\"], [0.4444444444444444, \"#bd3786\"], [0.5555555555555556, \"#d8576b\"], [0.6666666666666666, \"#ed7953\"], [0.7777777777777778, \"#fb9f3a\"], [0.8888888888888888, \"#fdca26\"], [1.0, \"#f0f921\"]], \"type\": \"heatmapgl\"}], \"histogram\": [{\"marker\": {\"colorbar\": {\"outlinewidth\": 0, \"ticks\": \"\"}}, \"type\": \"histogram\"}], \"histogram2d\": [{\"colorbar\": {\"outlinewidth\": 0, \"ticks\": \"\"}, \"colorscale\": [[0.0, \"#0d0887\"], [0.1111111111111111, \"#46039f\"], [0.2222222222222222, \"#7201a8\"], [0.3333333333333333, \"#9c179e\"], [0.4444444444444444, \"#bd3786\"], [0.5555555555555556, \"#d8576b\"], [0.6666666666666666, \"#ed7953\"], [0.7777777777777778, \"#fb9f3a\"], [0.8888888888888888, \"#fdca26\"], [1.0, \"#f0f921\"]], \"type\": \"histogram2d\"}], \"histogram2dcontour\": [{\"colorbar\": {\"outlinewidth\": 0, \"ticks\": \"\"}, \"colorscale\": [[0.0, \"#0d0887\"], [0.1111111111111111, \"#46039f\"], [0.2222222222222222, \"#7201a8\"], [0.3333333333333333, \"#9c179e\"], [0.4444444444444444, \"#bd3786\"], [0.5555555555555556, \"#d8576b\"], [0.6666666666666666, \"#ed7953\"], [0.7777777777777778, \"#fb9f3a\"], [0.8888888888888888, \"#fdca26\"], [1.0, \"#f0f921\"]], \"type\": \"histogram2dcontour\"}], \"mesh3d\": [{\"colorbar\": {\"outlinewidth\": 0, \"ticks\": \"\"}, \"type\": \"mesh3d\"}], \"parcoords\": [{\"line\": {\"colorbar\": {\"outlinewidth\": 0, \"ticks\": \"\"}}, \"type\": \"parcoords\"}], \"pie\": [{\"automargin\": true, \"type\": \"pie\"}], \"scatter\": [{\"marker\": {\"colorbar\": {\"outlinewidth\": 0, \"ticks\": \"\"}}, \"type\": \"scatter\"}], \"scatter3d\": [{\"line\": {\"colorbar\": {\"outlinewidth\": 0, \"ticks\": \"\"}}, \"marker\": {\"colorbar\": {\"outlinewidth\": 0, \"ticks\": \"\"}}, \"type\": \"scatter3d\"}], \"scattercarpet\": [{\"marker\": {\"colorbar\": {\"outlinewidth\": 0, \"ticks\": \"\"}}, \"type\": \"scattercarpet\"}], \"scattergeo\": [{\"marker\": {\"colorbar\": {\"outlinewidth\": 0, \"ticks\": \"\"}}, \"type\": \"scattergeo\"}], \"scattergl\": [{\"marker\": {\"colorbar\": {\"outlinewidth\": 0, \"ticks\": \"\"}}, \"type\": \"scattergl\"}], \"scattermapbox\": [{\"marker\": {\"colorbar\": {\"outlinewidth\": 0, \"ticks\": \"\"}}, \"type\": \"scattermapbox\"}], \"scatterpolar\": [{\"marker\": {\"colorbar\": {\"outlinewidth\": 0, \"ticks\": \"\"}}, \"type\": \"scatterpolar\"}], \"scatterpolargl\": [{\"marker\": {\"colorbar\": {\"outlinewidth\": 0, \"ticks\": \"\"}}, \"type\": \"scatterpolargl\"}], \"scatterternary\": [{\"marker\": {\"colorbar\": {\"outlinewidth\": 0, \"ticks\": \"\"}}, \"type\": \"scatterternary\"}], \"surface\": [{\"colorbar\": {\"outlinewidth\": 0, \"ticks\": \"\"}, \"colorscale\": [[0.0, \"#0d0887\"], [0.1111111111111111, \"#46039f\"], [0.2222222222222222, \"#7201a8\"], [0.3333333333333333, \"#9c179e\"], [0.4444444444444444, \"#bd3786\"], [0.5555555555555556, \"#d8576b\"], [0.6666666666666666, \"#ed7953\"], [0.7777777777777778, \"#fb9f3a\"], [0.8888888888888888, \"#fdca26\"], [1.0, \"#f0f921\"]], \"type\": \"surface\"}], \"table\": [{\"cells\": {\"fill\": {\"color\": \"#EBF0F8\"}, \"line\": {\"color\": \"white\"}}, \"header\": {\"fill\": {\"color\": \"#C8D4E3\"}, \"line\": {\"color\": \"white\"}}, \"type\": \"table\"}]}, \"layout\": {\"annotationdefaults\": {\"arrowcolor\": \"#2a3f5f\", \"arrowhead\": 0, \"arrowwidth\": 1}, \"coloraxis\": {\"colorbar\": {\"outlinewidth\": 0, \"ticks\": \"\"}}, \"colorscale\": {\"diverging\": [[0, \"#8e0152\"], [0.1, \"#c51b7d\"], [0.2, \"#de77ae\"], [0.3, \"#f1b6da\"], [0.4, \"#fde0ef\"], [0.5, \"#f7f7f7\"], [0.6, \"#e6f5d0\"], [0.7, \"#b8e186\"], [0.8, \"#7fbc41\"], [0.9, \"#4d9221\"], [1, \"#276419\"]], \"sequential\": [[0.0, \"#0d0887\"], [0.1111111111111111, \"#46039f\"], [0.2222222222222222, \"#7201a8\"], [0.3333333333333333, \"#9c179e\"], [0.4444444444444444, \"#bd3786\"], [0.5555555555555556, \"#d8576b\"], [0.6666666666666666, \"#ed7953\"], [0.7777777777777778, \"#fb9f3a\"], [0.8888888888888888, \"#fdca26\"], [1.0, \"#f0f921\"]], \"sequentialminus\": [[0.0, \"#0d0887\"], [0.1111111111111111, \"#46039f\"], [0.2222222222222222, \"#7201a8\"], [0.3333333333333333, \"#9c179e\"], [0.4444444444444444, \"#bd3786\"], [0.5555555555555556, \"#d8576b\"], [0.6666666666666666, \"#ed7953\"], [0.7777777777777778, \"#fb9f3a\"], [0.8888888888888888, \"#fdca26\"], [1.0, \"#f0f921\"]]}, \"colorway\": [\"#636efa\", \"#EF553B\", \"#00cc96\", \"#ab63fa\", \"#FFA15A\", \"#19d3f3\", \"#FF6692\", \"#B6E880\", \"#FF97FF\", \"#FECB52\"], \"font\": {\"color\": \"#2a3f5f\"}, \"geo\": {\"bgcolor\": \"white\", \"lakecolor\": \"white\", \"landcolor\": \"#E5ECF6\", \"showlakes\": true, \"showland\": true, \"subunitcolor\": \"white\"}, \"hoverlabel\": {\"align\": \"left\"}, \"hovermode\": \"closest\", \"mapbox\": {\"style\": \"light\"}, \"paper_bgcolor\": \"white\", \"plot_bgcolor\": \"#E5ECF6\", \"polar\": {\"angularaxis\": {\"gridcolor\": \"white\", \"linecolor\": \"white\", \"ticks\": \"\"}, \"bgcolor\": \"#E5ECF6\", \"radialaxis\": {\"gridcolor\": \"white\", \"linecolor\": \"white\", \"ticks\": \"\"}}, \"scene\": {\"xaxis\": {\"backgroundcolor\": \"#E5ECF6\", \"gridcolor\": \"white\", \"gridwidth\": 2, \"linecolor\": \"white\", \"showbackground\": true, \"ticks\": \"\", \"zerolinecolor\": \"white\"}, \"yaxis\": {\"backgroundcolor\": \"#E5ECF6\", \"gridcolor\": \"white\", \"gridwidth\": 2, \"linecolor\": \"white\", \"showbackground\": true, \"ticks\": \"\", \"zerolinecolor\": \"white\"}, \"zaxis\": {\"backgroundcolor\": \"#E5ECF6\", \"gridcolor\": \"white\", \"gridwidth\": 2, \"linecolor\": \"white\", \"showbackground\": true, \"ticks\": \"\", \"zerolinecolor\": \"white\"}}, \"shapedefaults\": {\"line\": {\"color\": \"#2a3f5f\"}}, \"ternary\": {\"aaxis\": {\"gridcolor\": \"white\", \"linecolor\": \"white\", \"ticks\": \"\"}, \"baxis\": {\"gridcolor\": \"white\", \"linecolor\": \"white\", \"ticks\": \"\"}, \"bgcolor\": \"#E5ECF6\", \"caxis\": {\"gridcolor\": \"white\", \"linecolor\": \"white\", \"ticks\": \"\"}}, \"title\": {\"x\": 0.05}, \"xaxis\": {\"automargin\": true, \"gridcolor\": \"white\", \"linecolor\": \"white\", \"ticks\": \"\", \"title\": {\"standoff\": 15}, \"zerolinecolor\": \"white\", \"zerolinewidth\": 2}, \"yaxis\": {\"automargin\": true, \"gridcolor\": \"white\", \"linecolor\": \"white\", \"ticks\": \"\", \"title\": {\"standoff\": 15}, \"zerolinecolor\": \"white\", \"zerolinewidth\": 2}}}, \"title\": {\"font\": {\"color\": \"#4D5663\"}, \"text\": \"precls-CausalAnalysisPredictor-motifs-dist2-TDE\"}, \"xaxis\": {\"gridcolor\": \"#E1E5ED\", \"showgrid\": true, \"tickfont\": {\"color\": \"#4D5663\"}, \"title\": {\"font\": {\"color\": \"#4D5663\"}, \"text\": \"\"}, \"zerolinecolor\": \"#E1E5ED\"}, \"yaxis\": {\"gridcolor\": \"#E1E5ED\", \"showgrid\": true, \"tickfont\": {\"color\": \"#4D5663\"}, \"title\": {\"font\": {\"color\": \"#4D5663\"}, \"text\": \"\"}, \"zerolinecolor\": \"#E1E5ED\"}},\n",
       "                        {\"showLink\": true, \"linkText\": \"Export to plot.ly\", \"plotlyServerURL\": \"https://plot.ly\", \"responsive\": true}\n",
       "                    ).then(function(){\n",
       "                            \n",
       "var gd = document.getElementById('59b06496-ad2f-41ea-ba2b-c92748868733');\n",
       "var x = new MutationObserver(function (mutations, observer) {{\n",
       "        var display = window.getComputedStyle(gd).display;\n",
       "        if (!display || display === 'none') {{\n",
       "            console.log([gd, 'removed!']);\n",
       "            Plotly.purge(gd);\n",
       "            observer.disconnect();\n",
       "        }}\n",
       "}});\n",
       "\n",
       "// Listen for the removal of the full notebook cells\n",
       "var notebookContainer = gd.closest('#notebook-container');\n",
       "if (notebookContainer) {{\n",
       "    x.observe(notebookContainer, {childList: true});\n",
       "}}\n",
       "\n",
       "// Listen for the clearing of the current output cell\n",
       "var outputEl = gd.closest('.output');\n",
       "if (outputEl) {{\n",
       "    x.observe(outputEl, {childList: true});\n",
       "}}\n",
       "\n",
       "                        })\n",
       "                };\n",
       "                });\n",
       "            </script>\n",
       "        </div>"
      ]
     },
     "metadata": {},
     "output_type": "display_data"
    }
   ],
   "source": [
    "df.iplot(kind=\"scatter\", theme=\"white\",x=\"iter\",title=\"precls-CausalAnalysisPredictor-motifs-dist2-TDE\")"
   ]
  },
  {
   "cell_type": "code",
   "execution_count": null,
   "metadata": {},
   "outputs": [],
   "source": []
  }
 ],
 "metadata": {
  "kernelspec": {
   "display_name": "Python 3",
   "language": "python",
   "name": "python3"
  },
  "language_info": {
   "codemirror_mode": {
    "name": "ipython",
    "version": 3
   },
   "file_extension": ".py",
   "mimetype": "text/x-python",
   "name": "python",
   "nbconvert_exporter": "python",
   "pygments_lexer": "ipython3",
   "version": "3.6.8"
  },
  "toc": {
   "base_numbering": 1,
   "nav_menu": {},
   "number_sections": true,
   "sideBar": true,
   "skip_h1_title": false,
   "title_cell": "Table of Contents",
   "title_sidebar": "Contents",
   "toc_cell": false,
   "toc_position": {},
   "toc_section_display": true,
   "toc_window_display": false
  }
 },
 "nbformat": 4,
 "nbformat_minor": 2
}
